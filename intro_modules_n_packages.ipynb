{
 "cells": [
  {
   "cell_type": "markdown",
   "metadata": {},
   "source": [
    "(1) Create a virtual environment.  Activate the virtual environment. Check that the \"rich\" package\n",
    "    is not available, and cannot be imported.\n",
    "\n",
    "(2) Install the \"rich\" package from PyPI.  Check in your venv's \"site-packages\" directory that it has\n",
    "    been installed.  Double check this with \"python3 -m rich\".\n",
    "\n",
    "(3) Try to use \"rich\" to add color to printed text.  For example:\n",
    "\n",
    "    from rich import print\n",
    "    print('Hello, [green]world[/green].')\n",
    "\n",
    "(4) Create a requirements.txt file.  Double check that \"rich\" is in there.\n",
    "\n",
    "(5) Create a new venv, copy the requirements.txt file there, use \"pip\"\n",
    "    to install it, and then double check that \"rich\" is available in the\n",
    "    new venv.\n"
   ]
  },
  {
   "cell_type": "code",
   "execution_count": null,
   "metadata": {},
   "outputs": [],
   "source": [
    "'''\n",
    "to do task 1:  \n",
    "- create a virtual environment in the same folder of this file \n",
    "- using terminal build-in in Visual Studio Code \n",
    "\n",
    "python3 -m venv modules_n_package_exercise4 \n",
    "\n",
    "'''"
   ]
  },
  {
   "cell_type": "code",
   "execution_count": null,
   "metadata": {},
   "outputs": [],
   "source": [
    "# check for items that is within this new virtual environmnet by taking two steps: \n",
    "# 1) getting into the environment = cd \n",
    "# 2) display list of items  = ls  "
   ]
  },
  {
   "cell_type": "markdown",
   "metadata": {},
   "source": [
    " Directory: C:\\Users\\dqthi\\OneDrive\\Coding_Journey\\CodeBreakThrough\\Beginner_Python_Programming_All-in-One_Tutorial_Series\\modules_n_package_exercise4\n",
    "\n",
    "\n",
    "Mode                 LastWriteTime         Length Name\n",
    "----                 -------------         ------ ----\n",
    "d-----         8/21/2024   3:37 PM                Include\n",
    "d-----         8/21/2024   3:37 PM                Lib\n",
    "d-----         8/21/2024   3:37 PM                Scripts\n",
    "-a----         8/21/2024   3:37 PM            564 pyvenv.cfg"
   ]
  },
  {
   "cell_type": "code",
   "execution_count": null,
   "metadata": {},
   "outputs": [],
   "source": [
    "'''\n",
    "to check for whether \"rich\" package, activate python3 of the environment. \n",
    "=> my expectation is probably not, as this is a brand new environment, there is nothing in there except for 4 files named as above cell \n",
    " \n",
    "=> interesting: when I run python3, it still let me into python coding environment  \n",
    "    => the reason is because I am physically located inside the environment folder, yet the environment cell has not been activiated yet. the python able to activated because it is using GLOBAL access\n",
    "    which is at my laptop level. To test this, lets try to activate the environment \n",
    "    \n",
    "'Scripts\\activate' \n",
    "PS C:\\Users\\dqthi\\OneDrive\\Coding_Journey\\CodeBreakThrough\\Beginner_Python_Programming_All-in-One_Tutorial_Series\\modules_n_package_exercise4> Scripts\\activate\n",
    "(modules_n_package_exercise4) PS C:\\Users\\dqthi\\OneDrive\\Coding_Journey\\CodeBreakThrough\\Beginner_Python_Programming_All-in-One_Tutorial_Series\\modules_n_package_exercise4>\n",
    "'''\n"
   ]
  },
  {
   "cell_type": "code",
   "execution_count": null,
   "metadata": {},
   "outputs": [],
   "source": [
    "# now this is time to check for \"rich\" package\n",
    "\n",
    "'''\n",
    "(modules_n_package_exercise4) PS C:\\Users\\dqthi\\OneDrive\\Coding_Journey\\CodeBreakThrough\\Beginner_Python_Programming_All-in-One_Tutorial_Series\\modules_n_package_exercise4> python3 \n",
    "Python 3.11.9 (tags/v3.11.9:de54cf5, Apr  2 2024, 10:12:12) [MSC v.1938 64 bit (AMD64)] on win32\n",
    "Type \"help\", \"copyright\", \"credits\" or \"license\" for more information.\n",
    ">>> import rich \n",
    "Traceback (most recent call last):\n",
    "  File \"<stdin>\", line 1, in <module>\n",
    "ModuleNotFoundError: No module named 'rich'\n",
    "'''\n",
    "# apparently, there is no module named 'rich' as it said  \n",
    "\n",
    "\n"
   ]
  },
  {
   "cell_type": "code",
   "execution_count": null,
   "metadata": {},
   "outputs": [],
   "source": [
    "# tried to install rich package using \n",
    "python3 -m rich \n",
    "# but it did not work. the system said: \n",
    "C:\\Users\\dqthi\\AppData\\Local\\Microsoft\\WindowsApps\\PythonSoftwareFoundation.Python.3.11_qbz5n2kfra8p0\\python.exe: No module named rich\n",
    "\n",
    "# then I tried \n",
    "pip install rich\n",
    "# it works pretty well \\ "
   ]
  },
  {
   "cell_type": "code",
   "execution_count": null,
   "metadata": {},
   "outputs": [],
   "source": [
    "why i cannt use rich package despite that I already install rich package through pip install -r requirment.txt \n",
    "when I check using pip3 freeze, it shows that there an exist of such package "
   ]
  },
  {
   "cell_type": "code",
   "execution_count": null,
   "metadata": {},
   "outputs": [],
   "source": [
    "!!! interesting, why? \n",
    "python3 -m rich result\n",
    "(virtual_environment_test_2) PS C:\\Users\\dqthi\\OneDrive\\Coding_Journey\\CodeBreakThrough\\Beginner_Python_Programming_All-in-One_Tutorial_Series\\modules_n_package_exercise4\\virtual_environment_test_2> python3 -m rich\n",
    "C:\\Users\\dqthi\\AppData\\Local\\Microsoft\\WindowsApps\\PythonSoftwareFoundation.Python.3.11_qbz5n2kfra8p0\\python.exe: No module named rich\n",
    "\n",
    "while, python -m rich works beautifully \n",
    "?\n",
    "\n",
    "this also appy for using the module as well. using python3, I am able to access python environment but there is no rich packge there, yet if I use the python only, the module is there ready to be used \n",
    "\n"
   ]
  },
  {
   "cell_type": "code",
   "execution_count": null,
   "metadata": {},
   "outputs": [],
   "source": [
    "I guess it was because i used \n",
    "pip install rich ,, which lead to installment in python (general environment - i guess), then I tried pip3 install rich \n",
    "but the reasult is the same "
   ]
  }
 ],
 "metadata": {
  "language_info": {
   "name": "python"
  }
 },
 "nbformat": 4,
 "nbformat_minor": 2
}
