{
 "cells": [
  {
   "cell_type": "code",
   "execution_count": null,
   "metadata": {},
   "outputs": [],
   "source": [
    "def hello(name):\n",
    "    return f'Hello, {name}'\n",
    "\n",
    "hello('world')"
   ]
  },
  {
   "cell_type": "code",
   "execution_count": null,
   "metadata": {},
   "outputs": [],
   "source": [
    "name"
   ]
  },
  {
   "cell_type": "code",
   "execution_count": null,
   "metadata": {},
   "outputs": [],
   "source": [
    "if True:\n",
    "    x = 100\n",
    "    print(\"I am in the clause for True\")"
   ]
  },
  {
   "cell_type": "code",
   "execution_count": null,
   "metadata": {},
   "outputs": [],
   "source": [
    "x"
   ]
  },
  {
   "cell_type": "code",
   "execution_count": null,
   "metadata": {},
   "outputs": [],
   "source": [
    "for i in range(10):\n",
    "    print(i, end=' ')"
   ]
  },
  {
   "cell_type": "code",
   "execution_count": null,
   "metadata": {},
   "outputs": [],
   "source": [
    "i"
   ]
  },
  {
   "cell_type": "code",
   "execution_count": null,
   "metadata": {},
   "outputs": [],
   "source": [
    "[i*i\n",
    "for i in range(20)]"
   ]
  },
  {
   "cell_type": "code",
   "execution_count": null,
   "metadata": {},
   "outputs": [],
   "source": [
    "i"
   ]
  },
  {
   "cell_type": "code",
   "execution_count": null,
   "metadata": {},
   "outputs": [],
   "source": [
    "x = 100\n",
    "\n",
    "print(f'x = {x}')"
   ]
  },
  {
   "cell_type": "code",
   "execution_count": null,
   "metadata": {},
   "outputs": [],
   "source": [
    "# start here if you're in a function\n",
    "# L -- local\n",
    "# E -- enclosing function\n",
    "\n",
    "# start here if you're not in a function\n",
    "# G -- global\n",
    "# B -- builtin"
   ]
  },
  {
   "cell_type": "code",
   "execution_count": null,
   "metadata": {},
   "outputs": [],
   "source": [
    "print(abcd)"
   ]
  },
  {
   "cell_type": "code",
   "execution_count": null,
   "metadata": {},
   "outputs": [],
   "source": [
    "globals() "
   ]
  },
  {
   "cell_type": "code",
   "execution_count": null,
   "metadata": {},
   "outputs": [],
   "source": [
    "x = 200\n",
    "globals()['x']"
   ]
  },
  {
   "cell_type": "code",
   "execution_count": null,
   "metadata": {},
   "outputs": [],
   "source": [
    "globals()['x'] = 300"
   ]
  },
  {
   "cell_type": "code",
   "execution_count": null,
   "metadata": {},
   "outputs": [],
   "source": [
    "x"
   ]
  },
  {
   "cell_type": "code",
   "execution_count": null,
   "metadata": {},
   "outputs": [],
   "source": [
    "'x' in globals()"
   ]
  },
  {
   "cell_type": "code",
   "execution_count": null,
   "metadata": {},
   "outputs": [],
   "source": [
    "# L (E) G B\n",
    "\n",
    "x = 100\n",
    "\n",
    "def bar():\n",
    "    print(\"I'm in bar!\")\n",
    "\n",
    "def foo():\n",
    "    bar() \n",
    "    print(f'Inside of foo, x = {x}')\n",
    "    \n",
    "print(f'Before, x = {x}')\n",
    "foo()\n",
    "print(f'After, x = {x}')"
   ]
  },
  {
   "cell_type": "code",
   "execution_count": null,
   "metadata": {},
   "outputs": [],
   "source": [
    "# L (E) G B\n",
    "\n",
    "x = 100\n",
    "\n",
    "def foo():\n",
    "    x = 200   # local variable\n",
    "    print(f'Inside of foo, x = {x}')\n",
    "    \n",
    "print(f'Before, x = {x}')\n",
    "foo()\n",
    "print(f'After, x = {x}')"
   ]
  },
  {
   "cell_type": "code",
   "execution_count": null,
   "metadata": {},
   "outputs": [],
   "source": [
    "foo.__code__.co_varnames"
   ]
  },
  {
   "cell_type": "code",
   "execution_count": null,
   "metadata": {},
   "outputs": [],
   "source": [
    "'x' in foo.__code__.co_varnames"
   ]
  },
  {
   "cell_type": "code",
   "execution_count": null,
   "metadata": {},
   "outputs": [],
   "source": [
    "def foo():\n",
    "    x = 200   # local variable\n",
    "    y = 300\n",
    "    print(f'Inside of foo, x = {x}')\n",
    "\n",
    "foo.__code__.co_varnames    "
   ]
  },
  {
   "cell_type": "code",
   "execution_count": null,
   "metadata": {},
   "outputs": [],
   "source": [
    "# L (E) G B\n",
    "\n",
    "x = 100\n",
    "\n",
    "def foo():\n",
    "    print(f'Inside of foo, x = {x}')\n",
    "    x = 200   # local variable   -- hosting problem\n",
    "    \n",
    "print(f'Before, x = {x}')\n",
    "foo()\n",
    "print(f'After, x = {x}')"
   ]
  },
  {
   "cell_type": "code",
   "execution_count": null,
   "metadata": {},
   "outputs": [],
   "source": [
    "\n",
    "def foo():\n",
    "    print(f'Inside of foo, x = {x}')\n",
    "    x = 200   # local variable\n",
    "    \n",
    "foo.__code__.co_varnames    "
   ]
  },
  {
   "cell_type": "code",
   "execution_count": null,
   "metadata": {},
   "outputs": [],
   "source": [
    "def foo():\n",
    "    x = x + 1\n",
    "    print(f'Inside of foo, x = {x}')\n",
    "\n",
    "print(foo.__code__.co_varnames)\n",
    "\n",
    "foo()"
   ]
  },
  {
   "cell_type": "code",
   "execution_count": null,
   "metadata": {},
   "outputs": [],
   "source": [
    "# L (E) G B\n",
    "\n",
    "x = 100\n",
    "\n",
    "def foo():\n",
    "    global x\n",
    "    x = 200  \n",
    "    print(f'Inside of foo, x = {x}')\n",
    "    \n",
    "print(f'Before, x = {x}')\n",
    "foo()\n",
    "print(f'After, x = {x}')"
   ]
  },
  {
   "cell_type": "code",
   "execution_count": null,
   "metadata": {},
   "outputs": [],
   "source": [
    "\n",
    "\n",
    "def foo():\n",
    "    global x\n",
    "    x = 200  \n",
    "    print(f'Inside of foo, x = {x}')\n",
    "    "
   ]
  },
  {
   "cell_type": "code",
   "execution_count": null,
   "metadata": {},
   "outputs": [],
   "source": [
    "foo.__code__.co_varnames"
   ]
  },
  {
   "cell_type": "code",
   "execution_count": null,
   "metadata": {},
   "outputs": [],
   "source": [
    "def foo():\n",
    "    global abcde\n",
    "    abcde = 200  \n",
    "    print(f'Inside of foo, abcde = {abcde}')\n",
    "\n",
    "foo()"
   ]
  },
  {
   "cell_type": "code",
   "execution_count": null,
   "metadata": {},
   "outputs": [],
   "source": [
    "abcde"
   ]
  },
  {
   "cell_type": "code",
   "execution_count": null,
   "metadata": {},
   "outputs": [],
   "source": [
    "import __main__   # adds the __main__ namespace to my system\n",
    "\n",
    "def foo():\n",
    "    __main__.abcde = 200  \n",
    "    print(f'Inside of foo, abcde = {__main__.abcde}')\n",
    "\n",
    "abcde = 100\n",
    "print(f\"Before, abcde = {abcde}\")\n",
    "foo()\n",
    "print(f\"After, abcde = {abcde}\")\n"
   ]
  },
  {
   "cell_type": "code",
   "execution_count": null,
   "metadata": {},
   "outputs": [],
   "source": [
    "__name__ #  variable containing the current module name"
   ]
  },
  {
   "cell_type": "code",
   "execution_count": null,
   "metadata": {},
   "outputs": [],
   "source": [
    "d = {'a':1, 'b':2, 'c':3}\n",
    "mylist = [10, 20, 30, 40, 50]\n",
    "\n",
    "def foo():\n",
    "    d['x'] = 100    # d.__setitem__('x', 100)\n",
    "    mylist.append(100)\n",
    "    \n",
    "foo()"
   ]
  },
  {
   "cell_type": "code",
   "execution_count": null,
   "metadata": {},
   "outputs": [],
   "source": [
    "d"
   ]
  },
  {
   "cell_type": "code",
   "execution_count": null,
   "metadata": {},
   "outputs": [],
   "source": [
    "mylist"
   ]
  },
  {
   "cell_type": "code",
   "execution_count": null,
   "metadata": {},
   "outputs": [],
   "source": [
    "import sys"
   ]
  },
  {
   "cell_type": "code",
   "execution_count": null,
   "metadata": {},
   "outputs": [],
   "source": [
    "sys.version"
   ]
  },
  {
   "cell_type": "code",
   "execution_count": null,
   "metadata": {},
   "outputs": [],
   "source": [
    "sys.version = '4'"
   ]
  },
  {
   "cell_type": "code",
   "execution_count": null,
   "metadata": {},
   "outputs": [],
   "source": [
    "sys.version"
   ]
  },
  {
   "cell_type": "code",
   "execution_count": null,
   "metadata": {},
   "outputs": [],
   "source": [
    "def foo():\n",
    "    sys.version = '5.1'"
   ]
  },
  {
   "cell_type": "code",
   "execution_count": null,
   "metadata": {},
   "outputs": [],
   "source": [
    "foo()"
   ]
  },
  {
   "cell_type": "code",
   "execution_count": null,
   "metadata": {},
   "outputs": [],
   "source": [
    "sys.version"
   ]
  },
  {
   "cell_type": "code",
   "execution_count": null,
   "metadata": {},
   "outputs": [],
   "source": [
    "# L E G B \n",
    "\n",
    "if True:\n",
    "    print(\"Hello\")"
   ]
  },
  {
   "cell_type": "code",
   "execution_count": null,
   "metadata": {},
   "outputs": [],
   "source": [
    "if = 5"
   ]
  },
  {
   "cell_type": "code",
   "execution_count": null,
   "metadata": {},
   "outputs": [],
   "source": [
    "s = 'abcd'\n",
    "len(s)"
   ]
  },
  {
   "cell_type": "code",
   "execution_count": null,
   "metadata": {},
   "outputs": [],
   "source": [
    "list(s)"
   ]
  },
  {
   "cell_type": "code",
   "execution_count": null,
   "metadata": {},
   "outputs": [],
   "source": [
    "type(list)"
   ]
  },
  {
   "cell_type": "code",
   "execution_count": null,
   "metadata": {},
   "outputs": [],
   "source": [
    "list = [100, 200, 300, 400, 500]"
   ]
  },
  {
   "cell_type": "code",
   "execution_count": null,
   "metadata": {},
   "outputs": [],
   "source": [
    "list(s)"
   ]
  },
  {
   "cell_type": "code",
   "execution_count": null,
   "metadata": {},
   "outputs": [],
   "source": [
    "type(list)"
   ]
  },
  {
   "cell_type": "code",
   "execution_count": null,
   "metadata": {},
   "outputs": [],
   "source": [
    "list = 5\n",
    "list(s)"
   ]
  },
  {
   "cell_type": "code",
   "execution_count": null,
   "metadata": {},
   "outputs": [],
   "source": [
    "type(list)"
   ]
  },
  {
   "cell_type": "code",
   "execution_count": null,
   "metadata": {},
   "outputs": [],
   "source": [
    "del(list)  # removes \"list\" as a global variable"
   ]
  },
  {
   "cell_type": "code",
   "execution_count": null,
   "metadata": {},
   "outputs": [],
   "source": [
    "type(list)"
   ]
  },
  {
   "cell_type": "code",
   "execution_count": null,
   "metadata": {},
   "outputs": [],
   "source": [
    "list(s)"
   ]
  },
  {
   "cell_type": "code",
   "execution_count": null,
   "metadata": {},
   "outputs": [],
   "source": [
    "sum([10, 20, 30])"
   ]
  },
  {
   "cell_type": "code",
   "execution_count": null,
   "metadata": {},
   "outputs": [],
   "source": [
    "sum = 100\n",
    "sum += 20\n",
    "sum += 30\n",
    "sum"
   ]
  },
  {
   "cell_type": "code",
   "execution_count": null,
   "metadata": {},
   "outputs": [],
   "source": [
    "sum([10, 20, 30])"
   ]
  },
  {
   "cell_type": "code",
   "execution_count": null,
   "metadata": {},
   "outputs": [],
   "source": [
    "del(sum)"
   ]
  },
  {
   "cell_type": "code",
   "execution_count": null,
   "metadata": {},
   "outputs": [],
   "source": [
    "dir(__builtins__)"
   ]
  },
  {
   "cell_type": "code",
   "execution_count": null,
   "metadata": {},
   "outputs": [],
   "source": [
    "xyz = 'abcd'"
   ]
  },
  {
   "cell_type": "code",
   "execution_count": null,
   "metadata": {},
   "outputs": [],
   "source": [
    "xyz"
   ]
  },
  {
   "cell_type": "code",
   "execution_count": null,
   "metadata": {},
   "outputs": [],
   "source": [
    "# (1) Consider this code:\n",
    "\n",
    "x = 3     # global variable x\n",
    "\n",
    "def foo(x):   # local variable x\n",
    "    return bar(x) * 10\n",
    "\n",
    "def bar(x):   # local variable x\n",
    "    return baz(x) * 10\n",
    "\n",
    "def baz(x):   # local variable x\n",
    "    return x * 5\n",
    "\n",
    "\n",
    "print(foo(x))\n",
    "\n",
    "#     First: What will be printed?\n",
    "#     Second: How many different variables are in this code?  Which are local, and which are global?\n",
    "#     Third: Why don't the various \"x\" variables conflict with one another?"
   ]
  },
  {
   "cell_type": "code",
   "execution_count": null,
   "metadata": {},
   "outputs": [],
   "source": [
    "x = 3     # global variable x\n",
    "\n",
    "def foo(x):   # local variable x\n",
    "    return bar(x) * 10\n",
    "\n",
    "def bar(x):   # local variable x\n",
    "    return baz(x) * 10\n",
    "\n",
    "def baz(x):   # local variable x\n",
    "    x = 100\n",
    "    return x * 5\n",
    "\n",
    "print(foo(9))"
   ]
  },
  {
   "cell_type": "code",
   "execution_count": null,
   "metadata": {},
   "outputs": [],
   "source": [
    "# (2) Write an \"add\" function that takes two numeric arguments, and\n",
    "#     returns the sum of those arguments.  Before returning the sum, the\n",
    "#     function should append that value to a global list, called \"results\".  Now write a function,\n",
    "#     \"reset_results\", which resets all of the values in the \"results\" list.\n",
    "\n",
    "results = [ ]\n",
    "\n",
    "def add(a, b):\n",
    "    total = a + b\n",
    "    results.append(total)\n",
    "    return total\n",
    "\n",
    "add(5, 10)\n",
    "add(7, 3)\n",
    "add(2, 5)\n",
    "add(6, 1)\n",
    "\n",
    "results"
   ]
  },
  {
   "cell_type": "code",
   "execution_count": null,
   "metadata": {},
   "outputs": [],
   "source": [
    "def reset_results():\n",
    "    global results\n",
    "    results = []\n",
    "    \n",
    "reset_results()\n",
    "add(6, 3)\n",
    "add(2, 7)\n",
    "print(results)"
   ]
  },
  {
   "cell_type": "code",
   "execution_count": null,
   "metadata": {},
   "outputs": [],
   "source": [
    "import __main__\n",
    "\n",
    "def reset_results():\n",
    "    __main__.results = []\n",
    "    \n",
    "reset_results()\n",
    "add(6, 4)\n",
    "add(2, 2)\n",
    "print(results)"
   ]
  },
  {
   "cell_type": "code",
   "execution_count": null,
   "metadata": {},
   "outputs": [],
   "source": [
    "def reset_results():\n",
    "    results.clear()   # results[:] = []\n",
    "    \n",
    "reset_results()\n",
    "add(6, 4)\n",
    "add(2, 2)\n",
    "print(results)"
   ]
  },
  {
   "cell_type": "markdown",
   "metadata": {},
   "source": [
    "Suppose that you’re in the habit of making a list of items you need from the grocery store.\n",
    "\n",
    "In a file called grocery.py, implement a program that prompts the user for items, one per line, until the user inputs control-d (which is a common way of ending one’s input to a program). Then output the user’s grocery list in all uppercase, sorted alphabetically by item, prefixing each line with the number of times the user inputted that item. No need to pluralize the items. Treat the user’s input case-insensitively."
   ]
  },
  {
   "cell_type": "code",
   "execution_count": 2,
   "metadata": {},
   "outputs": [
    {
     "name": "stdout",
     "output_type": "stream",
     "text": [
      "['apple']\n",
      "['apple', 'apple']\n",
      "['apple', 'apple', 'banana']\n",
      "['apple', 'apple', 'banana', 'banana']\n",
      "['apple', 'apple', 'banana', 'banana', 'pine apple']\n"
     ]
    }
   ],
   "source": [
    "# requirement breakdown:\n",
    "# 1) prompts the user for items, one per line, until the user inputs control -D \n",
    "    # while True: try, except \n",
    "result = [] # create an empty list that will subsequently stored the value of inputs from users \n",
    "while True:\n",
    "    grocery_list =  input().strip()\n",
    "    if not grocery_list:\n",
    "        break \n",
    "    #except EOFError:\n",
    "    result.append(grocery_list) \n",
    "    print (result)  \n",
    "        \n",
    " \n",
    "# 2) return user output with: \n",
    "    # input list that is\n",
    "    #   uppercase: \n",
    "    #   sorted alphabetically:   \n",
    "    # prefixing each:\n",
    "# treat the user's input case-insensitively means can be in any format     "
   ]
  },
  {
   "cell_type": "code",
   "execution_count": 10,
   "metadata": {},
   "outputs": [
    {
     "name": "stdout",
     "output_type": "stream",
     "text": [
      "2 APPLE\n",
      "1 NHO\n",
      "2 TAO\n"
     ]
    }
   ],
   "source": [
    "# this time try with an empty dictionary \n",
    "result = {} \n",
    "while True:\n",
    "    grocery_list =  input().strip()\n",
    "    if not grocery_list:\n",
    "        break \n",
    "    #except EOFError:\n",
    "    # how to add input as key in dictionary? \n",
    "    if grocery_list in result: \n",
    "        result[grocery_list] += 1\n",
    "    else:\n",
    "        result[grocery_list] = 1 \n",
    "\n",
    "for key, value in result.items():\n",
    "    key = key.upper()\n",
    "    print (f'{value} {key}')\n",
    "        \n",
    " \n",
    "# 2) return user output with: \n",
    "    # input list that is\n",
    "    #   uppercase: \n",
    "    #   sorted alphabetically:   \n",
    "    # prefixing each:\n",
    "# treat the user's input case-insensitively means can be in any format     "
   ]
  },
  {
   "cell_type": "code",
   "execution_count": 1,
   "metadata": {},
   "outputs": [],
   "source": [
    "'''\n",
    "result = {}\n",
    "while True:\n",
    "    try:\n",
    "        grocery_list =  input()\n",
    "        if grocery_list in result:\n",
    "            result[grocery_list] += 1\n",
    "        else:\n",
    "            result[grocery_list] = 1\n",
    "\n",
    "    except EOFError:\n",
    "        for keys, values in sorted(result.items()):\n",
    "            keys = keys.upper()\n",
    "            print (f'{values} {keys}')\n",
    "        break\n",
    "'''\n",
    "    \n",
    "# DO NOT RUN THIS COD "
   ]
  },
  {
   "cell_type": "markdown",
   "metadata": {},
   "source": [
    "is there a timer add in for coding in vsc extension "
   ]
  },
  {
   "cell_type": "code",
   "execution_count": 2,
   "metadata": {},
   "outputs": [
    {
     "name": "stdout",
     "output_type": "stream",
     "text": [
      "1500\n"
     ]
    }
   ],
   "source": [
    "x = 5 \n",
    "def foo(x):\n",
    "    return bar(x) * 10  \n",
    "\n",
    "def bar(x):\n",
    "    return baz(x) * 10\n",
    "\n",
    "def baz(x):\n",
    "    return x * 5 \n",
    "\n",
    "print(foo(3))\n",
    "\n",
    "# What will be printed? \n",
    "# print 1500 because: \n",
    "    #  global frame: x = 3 \n",
    "    #  global frame: foo                objects: function foo(x)\n",
    "    #  global frame: bar                objects: function bar(x)\n",
    "    #  global frame: baz                objects: function baz(x)\n",
    "    # foo: x = 3\n",
    "    # bar: x = 3 \n",
    "    # baz: x = 3 => return value = 15 \n",
    "    # => return value of function bar(x) = 15 * 10 = 150\n",
    "    # => return value of function foo(x) = 150 * 10 = 1500 \n",
    "      \n",
    "# How many different variables are in this code? Which are local. which are global? \n",
    "    # Answer: 4 variables are global, 1 variable with is the argument assigned to foo() is local (only callable within foo function) \n",
    "\n",
    "# Why dont the various \"x\" variables conflict with one another?  \n",
    "    # Answer: because print function calling for variable assigned as argument of foo function, which does not impacted on the global variable name 'X'  \n"
   ]
  },
  {
   "cell_type": "code",
   "execution_count": 14,
   "metadata": {},
   "outputs": [
    {
     "name": "stdout",
     "output_type": "stream",
     "text": [
      "[9, 9, 7, 7]\n",
      "[]\n"
     ]
    }
   ],
   "source": [
    "# write an 'add' function that takes two numeric arguments, and returns the sume of those arguments. Before returning the sume, the function should append that value to a global list, called \"results\"\n",
    "# Now write a function, 'reset_results', which rests all of the values in the 'results' list.  \n",
    "\n",
    "results = []\n",
    "def add (a,b): \n",
    "    result = a + b \n",
    "    results.append(result)\n",
    "    return result\n",
    "\n",
    "def reset_result(results):\n",
    "    results.clear()\n",
    "\n",
    "add(5, 4)\n",
    "add(4, 5)\n",
    "add(2, 5)\n",
    "add(6, 1)\n",
    "print (results)\n",
    "reset_result(results)\n",
    "print (results)\n",
    "\n",
    "# line 15 executed the reset_results function => the output of line 16 is an empty list  "
   ]
  },
  {
   "cell_type": "code",
   "execution_count": null,
   "metadata": {},
   "outputs": [],
   "source": [
    "\n",
    "# short cut to turn all lines in comment and non-comment "
   ]
  },
  {
   "cell_type": "code",
   "execution_count": null,
   "metadata": {},
   "outputs": [],
   "source": []
  }
 ],
 "metadata": {
  "kernelspec": {
   "display_name": "Python 3",
   "language": "python",
   "name": "python3"
  },
  "language_info": {
   "codemirror_mode": {
    "name": "ipython",
    "version": 3
   },
   "file_extension": ".py",
   "mimetype": "text/x-python",
   "name": "python",
   "nbconvert_exporter": "python",
   "pygments_lexer": "ipython3",
   "version": "3.11.9"
  }
 },
 "nbformat": 4,
 "nbformat_minor": 2
}
