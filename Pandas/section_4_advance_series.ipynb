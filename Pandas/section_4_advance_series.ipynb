{
 "cells": [
  {
   "cell_type": "code",
   "execution_count": 1,
   "metadata": {},
   "outputs": [
    {
     "name": "stdout",
     "output_type": "stream",
     "text": [
      "%pylab is deprecated, use %matplotlib inline and import the required libraries.\n",
      "Populating the interactive namespace from numpy and matplotlib\n"
     ]
    }
   ],
   "source": [
    "%pylab inline\n",
    "import pandas as pd\n",
    "from pandas import Series, DataFrame\n",
    "import numpy as np\n",
    "\n"
   ]
  },
  {
   "cell_type": "code",
   "execution_count": 12,
   "metadata": {},
   "outputs": [
    {
     "data": {
      "text/plain": [
       "0     29\n",
       "1     23\n",
       "2     18\n",
       "3      0\n",
       "4     53\n",
       "5     91\n",
       "6     73\n",
       "7     15\n",
       "8      2\n",
       "9      9\n",
       "10    42\n",
       "11    24\n",
       "12    73\n",
       "13    98\n",
       "14    10\n",
       "15    19\n",
       "16    25\n",
       "17    15\n",
       "18    96\n",
       "19    43\n",
       "20     4\n",
       "21    66\n",
       "22    94\n",
       "23    24\n",
       "24    18\n",
       "25    60\n",
       "26    41\n",
       "27    48\n",
       "28    24\n",
       "29    69\n",
       "30    64\n",
       "31    10\n",
       "32    23\n",
       "33    28\n",
       "34    48\n",
       "35     5\n",
       "36    18\n",
       "37    69\n",
       "38    69\n",
       "39    91\n",
       "40     6\n",
       "41    42\n",
       "42     5\n",
       "43    33\n",
       "44    20\n",
       "45    76\n",
       "46    65\n",
       "47    89\n",
       "48    89\n",
       "49    83\n",
       "dtype: int32"
      ]
     },
     "execution_count": 12,
     "metadata": {},
     "output_type": "execute_result"
    }
   ],
   "source": [
    "s = Series(np.random.randint(0, 100, 50))\n",
    "s"
   ]
  },
  {
   "cell_type": "code",
   "execution_count": 13,
   "metadata": {},
   "outputs": [
    {
     "data": {
      "text/plain": [
       "count    50.000000\n",
       "mean     42.780000\n",
       "std      30.508139\n",
       "min       0.000000\n",
       "25%      18.000000\n",
       "50%      37.000000\n",
       "75%      69.000000\n",
       "max      98.000000\n",
       "dtype: float64"
      ]
     },
     "execution_count": 13,
     "metadata": {},
     "output_type": "execute_result"
    }
   ],
   "source": [
    "s.describe()"
   ]
  },
  {
   "cell_type": "code",
   "execution_count": 14,
   "metadata": {},
   "outputs": [
    {
     "data": {
      "text/plain": [
       "2    0.18\n",
       "1    0.16\n",
       "0    0.14\n",
       "6    0.14\n",
       "4    0.12\n",
       "9    0.10\n",
       "7    0.06\n",
       "8    0.06\n",
       "5    0.02\n",
       "3    0.02\n",
       "Name: proportion, dtype: float64"
      ]
     },
     "execution_count": 14,
     "metadata": {},
     "output_type": "execute_result"
    }
   ],
   "source": [
    "(s/10).astype(np.int64).value_counts(normalize=True)"
   ]
  },
  {
   "cell_type": "code",
   "execution_count": 16,
   "metadata": {},
   "outputs": [
    {
     "data": {
      "text/plain": [
       "count    50.000000\n",
       "mean     42.780000\n",
       "std      30.508139\n",
       "min       0.000000\n",
       "25%      18.000000\n",
       "50%      37.000000\n",
       "75%      69.000000\n",
       "max      98.000000\n",
       "dtype: float64"
      ]
     },
     "execution_count": 16,
     "metadata": {},
     "output_type": "execute_result"
    }
   ],
   "source": [
    "s.describe()"
   ]
  },
  {
   "cell_type": "code",
   "execution_count": null,
   "metadata": {},
   "outputs": [],
   "source": []
  },
  {
   "cell_type": "code",
   "execution_count": 17,
   "metadata": {},
   "outputs": [],
   "source": [
    "def increase_std(x):\n",
    "    if x < 5:\n",
    "        return -50\n",
    "    elif x > 95:\n",
    "        return 150\n",
    "    return x\n",
    "\n",
    "s = s.apply(increase_std)"
   ]
  },
  {
   "cell_type": "code",
   "execution_count": 18,
   "metadata": {},
   "outputs": [
    {
     "data": {
      "text/plain": [
       "count     50.000000\n",
       "mean      41.780000\n",
       "std       41.279184\n",
       "min      -50.000000\n",
       "25%       18.000000\n",
       "50%       37.000000\n",
       "75%       69.000000\n",
       "max      150.000000\n",
       "dtype: float64"
      ]
     },
     "execution_count": 18,
     "metadata": {},
     "output_type": "execute_result"
    }
   ],
   "source": [
    "s.describe()"
   ]
  },
  {
   "cell_type": "code",
   "execution_count": null,
   "metadata": {},
   "outputs": [],
   "source": []
  }
 ],
 "metadata": {
  "kernelspec": {
   "display_name": "Python 3",
   "language": "python",
   "name": "python3"
  },
  "language_info": {
   "codemirror_mode": {
    "name": "ipython",
    "version": 3
   },
   "file_extension": ".py",
   "mimetype": "text/x-python",
   "name": "python",
   "nbconvert_exporter": "python",
   "pygments_lexer": "ipython3",
   "version": "3.11.9"
  }
 },
 "nbformat": 4,
 "nbformat_minor": 2
}
