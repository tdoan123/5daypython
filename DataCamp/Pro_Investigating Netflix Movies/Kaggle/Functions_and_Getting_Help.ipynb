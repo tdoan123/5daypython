{
 "cells": [
  {
   "cell_type": "code",
   "execution_count": 1,
   "metadata": {},
   "outputs": [],
   "source": [
    "def least_difference(a, b, c):\n",
    "    diff1 = abs(a - b)\n",
    "    diff2 = abs(b - c)\n",
    "    diff3 = abs(a - c)\n",
    "    return min(diff1, diff2, diff3)\n",
    "\n",
    "# this code is without string => when generate help, it does not provide helpful information about the code"
   ]
  },
  {
   "cell_type": "code",
   "execution_count": 2,
   "metadata": {},
   "outputs": [
    {
     "name": "stdout",
     "output_type": "stream",
     "text": [
      "Help on function least_difference in module __main__:\n",
      "\n",
      "least_difference(a, b, c)\n",
      "\n"
     ]
    }
   ],
   "source": [
    "help(least_difference)"
   ]
  },
  {
   "cell_type": "code",
   "execution_count": 3,
   "metadata": {},
   "outputs": [],
   "source": [
    "def least_difference(a, b, c):\n",
    "    \"\"\"_summary_\n",
    "\n",
    "    Args:\n",
    "        a (_type_): _description_\n",
    "        b (_type_): _description_\n",
    "        c (_type_): _description_\n",
    "\n",
    "    Returns:\n",
    "        _type_: _description_\n",
    "    \"\"\"\n",
    "\n",
    "    diff1 = abs(a - b)\n",
    "    diff2 = abs(b - c)\n",
    "    diff3 = abs(a - c)\n",
    "    return min(diff1, diff2, diff3)\n"
   ]
  },
  {
   "cell_type": "code",
   "execution_count": 4,
   "metadata": {},
   "outputs": [
    {
     "name": "stdout",
     "output_type": "stream",
     "text": [
      "Help on function least_difference in module __main__:\n",
      "\n",
      "least_difference(a, b, c)\n",
      "    _summary_\n",
      "    \n",
      "    Args:\n",
      "        a (_type_): _description_\n",
      "        b (_type_): _description_\n",
      "        c (_type_): _description_\n",
      "    \n",
      "    Returns:\n",
      "        _type_: _description_\n",
      "\n"
     ]
    }
   ],
   "source": [
    "help(least_difference)"
   ]
  },
  {
   "cell_type": "code",
   "execution_count": 5,
   "metadata": {},
   "outputs": [
    {
     "data": {
      "text/plain": [
       "3"
      ]
     },
     "execution_count": 5,
     "metadata": {},
     "output_type": "execute_result"
    }
   ],
   "source": [
    "least_difference(2, 5, 8)"
   ]
  },
  {
   "cell_type": "code",
   "execution_count": 25,
   "metadata": {},
   "outputs": [
    {
     "name": "stdout",
     "output_type": "stream",
     "text": [
      "10\n",
      "50\n",
      "15\n",
      "10\n",
      "250\n"
     ]
    }
   ],
   "source": [
    "# functions applied to functions \n",
    "def mult_by_five(x):\n",
    "    return 5 * x \n",
    "\n",
    "def call (fn, arg):\n",
    "    \"\"\"_summary_:\n",
    "    call fn on arg \n",
    "\n",
    "    Args:\n",
    "        fn (function): _description_    \n",
    "        arg (_type_): _description_\n",
    "    \"\"\"\n",
    "    return fn(arg)\n",
    "\n",
    "def squared_call (fn, arg):\n",
    "    \"\"\" \n",
    "    call fn on the result of calling fn on arg\n",
    "    \"\"\"    \n",
    "    return fn(fn(arg))\n",
    "    \n",
    "print(\n",
    "    call(mult_by_five, 2),\n",
    "    squared_call(mult_by_five, 2),\n",
    "    sep='\\n'\n",
    ")\n",
    "\n",
    "print (call(mult_by_five, 3))\n",
    "\n",
    "abc = call(mult_by_five, 2)\n",
    "print (abc)\n",
    "print(\n",
    "    squared_call(mult_by_five, abc),\n",
    "    sep='\\n'    \n",
    ")\n"
   ]
  },
  {
   "cell_type": "code",
   "execution_count": 27,
   "metadata": {},
   "outputs": [
    {
     "name": "stdout",
     "output_type": "stream",
     "text": [
      "which number is biggest?\n",
      "100\n",
      "which number is the biggest modulo 5?\n",
      "14\n"
     ]
    }
   ],
   "source": [
    "def mod_5(x):\n",
    "    return x % 5\n",
    "\n",
    "print (\n",
    "    'which number is biggest?',\n",
    "    max(100, 51, 14), \n",
    "    'which number is the biggest modulo 5?',\n",
    "    max(100, 51, 14, key = mod_5 ),\n",
    "    sep= '\\n',\n",
    ")"
   ]
  },
  {
   "cell_type": "code",
   "execution_count": null,
   "metadata": {},
   "outputs": [],
   "source": []
  }
 ],
 "metadata": {
  "kernelspec": {
   "display_name": "Python 3",
   "language": "python",
   "name": "python3"
  },
  "language_info": {
   "codemirror_mode": {
    "name": "ipython",
    "version": 3
   },
   "file_extension": ".py",
   "mimetype": "text/x-python",
   "name": "python",
   "nbconvert_exporter": "python",
   "pygments_lexer": "ipython3",
   "version": "3.11.9"
  }
 },
 "nbformat": 4,
 "nbformat_minor": 2
}
