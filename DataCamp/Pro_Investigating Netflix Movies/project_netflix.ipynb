{
 "cells": [
  {
   "cell_type": "code",
   "execution_count": 1,
   "metadata": {},
   "outputs": [],
   "source": [
    "import pandas as pd\n",
    "import matplotlib.pyplot as plt "
   ]
  },
  {
   "cell_type": "code",
   "execution_count": 2,
   "metadata": {},
   "outputs": [],
   "source": [
    "netflix_df = pd.read_csv('netflix_data.csv')"
   ]
  },
  {
   "cell_type": "code",
   "execution_count": 4,
   "metadata": {},
   "outputs": [
    {
     "data": {
      "text/html": [
       "<div>\n",
       "<style scoped>\n",
       "    .dataframe tbody tr th:only-of-type {\n",
       "        vertical-align: middle;\n",
       "    }\n",
       "\n",
       "    .dataframe tbody tr th {\n",
       "        vertical-align: top;\n",
       "    }\n",
       "\n",
       "    .dataframe thead th {\n",
       "        text-align: right;\n",
       "    }\n",
       "</style>\n",
       "<table border=\"1\" class=\"dataframe\">\n",
       "  <thead>\n",
       "    <tr style=\"text-align: right;\">\n",
       "      <th></th>\n",
       "      <th>show_id</th>\n",
       "      <th>type</th>\n",
       "      <th>title</th>\n",
       "      <th>director</th>\n",
       "      <th>cast</th>\n",
       "      <th>country</th>\n",
       "      <th>date_added</th>\n",
       "      <th>release_year</th>\n",
       "      <th>duration</th>\n",
       "      <th>description</th>\n",
       "      <th>genre</th>\n",
       "    </tr>\n",
       "  </thead>\n",
       "  <tbody>\n",
       "    <tr>\n",
       "      <th>0</th>\n",
       "      <td>s2</td>\n",
       "      <td>Movie</td>\n",
       "      <td>7:19</td>\n",
       "      <td>Jorge Michel Grau</td>\n",
       "      <td>Demián Bichir, Héctor Bonilla, Oscar Serrano, ...</td>\n",
       "      <td>Mexico</td>\n",
       "      <td>December 23, 2016</td>\n",
       "      <td>2016</td>\n",
       "      <td>93</td>\n",
       "      <td>After a devastating earthquake hits Mexico Cit...</td>\n",
       "      <td>Dramas</td>\n",
       "    </tr>\n",
       "    <tr>\n",
       "      <th>1</th>\n",
       "      <td>s3</td>\n",
       "      <td>Movie</td>\n",
       "      <td>23:59</td>\n",
       "      <td>Gilbert Chan</td>\n",
       "      <td>Tedd Chan, Stella Chung, Henley Hii, Lawrence ...</td>\n",
       "      <td>Singapore</td>\n",
       "      <td>December 20, 2018</td>\n",
       "      <td>2011</td>\n",
       "      <td>78</td>\n",
       "      <td>When an army recruit is found dead, his fellow...</td>\n",
       "      <td>Horror Movies</td>\n",
       "    </tr>\n",
       "    <tr>\n",
       "      <th>2</th>\n",
       "      <td>s4</td>\n",
       "      <td>Movie</td>\n",
       "      <td>9</td>\n",
       "      <td>Shane Acker</td>\n",
       "      <td>Elijah Wood, John C. Reilly, Jennifer Connelly...</td>\n",
       "      <td>United States</td>\n",
       "      <td>November 16, 2017</td>\n",
       "      <td>2009</td>\n",
       "      <td>80</td>\n",
       "      <td>In a postapocalyptic world, rag-doll robots hi...</td>\n",
       "      <td>Action</td>\n",
       "    </tr>\n",
       "    <tr>\n",
       "      <th>3</th>\n",
       "      <td>s5</td>\n",
       "      <td>Movie</td>\n",
       "      <td>21</td>\n",
       "      <td>Robert Luketic</td>\n",
       "      <td>Jim Sturgess, Kevin Spacey, Kate Bosworth, Aar...</td>\n",
       "      <td>United States</td>\n",
       "      <td>January 1, 2020</td>\n",
       "      <td>2008</td>\n",
       "      <td>123</td>\n",
       "      <td>A brilliant group of students become card-coun...</td>\n",
       "      <td>Dramas</td>\n",
       "    </tr>\n",
       "    <tr>\n",
       "      <th>4</th>\n",
       "      <td>s6</td>\n",
       "      <td>TV Show</td>\n",
       "      <td>46</td>\n",
       "      <td>Serdar Akar</td>\n",
       "      <td>Erdal Beşikçioğlu, Yasemin Allen, Melis Birkan...</td>\n",
       "      <td>Turkey</td>\n",
       "      <td>July 1, 2017</td>\n",
       "      <td>2016</td>\n",
       "      <td>1</td>\n",
       "      <td>A genetics professor experiments with a treatm...</td>\n",
       "      <td>International TV</td>\n",
       "    </tr>\n",
       "  </tbody>\n",
       "</table>\n",
       "</div>"
      ],
      "text/plain": [
       "  show_id     type  title           director  \\\n",
       "0      s2    Movie   7:19  Jorge Michel Grau   \n",
       "1      s3    Movie  23:59       Gilbert Chan   \n",
       "2      s4    Movie      9        Shane Acker   \n",
       "3      s5    Movie     21     Robert Luketic   \n",
       "4      s6  TV Show     46        Serdar Akar   \n",
       "\n",
       "                                                cast        country  \\\n",
       "0  Demián Bichir, Héctor Bonilla, Oscar Serrano, ...         Mexico   \n",
       "1  Tedd Chan, Stella Chung, Henley Hii, Lawrence ...      Singapore   \n",
       "2  Elijah Wood, John C. Reilly, Jennifer Connelly...  United States   \n",
       "3  Jim Sturgess, Kevin Spacey, Kate Bosworth, Aar...  United States   \n",
       "4  Erdal Beşikçioğlu, Yasemin Allen, Melis Birkan...         Turkey   \n",
       "\n",
       "          date_added  release_year  duration  \\\n",
       "0  December 23, 2016          2016        93   \n",
       "1  December 20, 2018          2011        78   \n",
       "2  November 16, 2017          2009        80   \n",
       "3    January 1, 2020          2008       123   \n",
       "4       July 1, 2017          2016         1   \n",
       "\n",
       "                                         description             genre  \n",
       "0  After a devastating earthquake hits Mexico Cit...            Dramas  \n",
       "1  When an army recruit is found dead, his fellow...     Horror Movies  \n",
       "2  In a postapocalyptic world, rag-doll robots hi...            Action  \n",
       "3  A brilliant group of students become card-coun...            Dramas  \n",
       "4  A genetics professor experiments with a treatm...  International TV  "
      ]
     },
     "execution_count": 4,
     "metadata": {},
     "output_type": "execute_result"
    }
   ],
   "source": [
    "netflix_df.head()"
   ]
  },
  {
   "cell_type": "code",
   "execution_count": 5,
   "metadata": {},
   "outputs": [
    {
     "data": {
      "text/plain": [
       "(4812, 11)"
      ]
     },
     "execution_count": 5,
     "metadata": {},
     "output_type": "execute_result"
    }
   ],
   "source": [
    "netflix_df.shape"
   ]
  },
  {
   "cell_type": "markdown",
   "metadata": {},
   "source": [
    "# Steps:\n",
    "1) Data clearning: \n",
    "    - check for consistency between values and rows \n",
    "    - check for missing value in any row \n",
    "    - check for data formating \n",
    "\n",
    "2) Analysis: \n",
    "    - Column Type: \n",
    "        - how many type of movies in this column \n",
    "        - what are the percentage contribution between the types \n",
    "        - what are the product components based on the release year\n",
    "        - what are the genre per each type  \n",
    "\n",
    "    - Column Director: \n",
    "        - What are the top director by the number of type producted?  \n",
    "        - How frequent top director release a product \n",
    "    \n",
    "    - Column Cast:  \n",
    "        - Who appear the most? top ten 20 casts and where are they from  \n",
    "\n",
    "    - Column Country:  \n",
    "        - Top production country per year\n",
    "        - Top production country by type and genre \n",
    "\n",
    "    - Column Date_added: to double check on the meaning of this value \n",
    "        - Assume this is when the movie being added to netflix, then check check for the gap of between date_add versus the time is being realeased \n",
    "        - How offen a show is add into the platform? \n",
    "        - What are the period of date_added (min, max)\n",
    "        - Check for monthly trend by year\n",
    "            => most month being upload  \n",
    "        - Check for daily trend by year.  \n",
    "            => most day being upload\n",
    "\n",
    "    - Column Release year:  \n",
    "        - what are the most popular type and gen for each period of year \n",
    "\n",
    "    - Column Duration: \n",
    "        - by type, \n",
    "        - by gen \n",
    "    \n",
    "    3) Write up a summary based on the finding\n",
    "        - What are the observations? \n",
    "        - What can be done/research further to make dataset make more sense? \n"
   ]
  },
  {
   "cell_type": "markdown",
   "metadata": {},
   "source": [
    "### Data Clearning\n"
   ]
  },
  {
   "cell_type": "code",
   "execution_count": 60,
   "metadata": {},
   "outputs": [
    {
     "name": "stdout",
     "output_type": "stream",
     "text": [
      "<class 'pandas.core.frame.DataFrame'>\n",
      "RangeIndex: 4812 entries, 0 to 4811\n",
      "Data columns (total 13 columns):\n",
      " #   Column          Non-Null Count  Dtype         \n",
      "---  ------          --------------  -----         \n",
      " 0   show_id         4812 non-null   object        \n",
      " 1   type            4812 non-null   object        \n",
      " 2   title           4812 non-null   object        \n",
      " 3   director        4812 non-null   object        \n",
      " 4   cast            4812 non-null   object        \n",
      " 5   country         4812 non-null   object        \n",
      " 6   date_added      4808 non-null   datetime64[ns]\n",
      " 7   release_year    4812 non-null   int64         \n",
      " 8   duration        4812 non-null   int64         \n",
      " 9   description     4812 non-null   object        \n",
      " 10  genre           4812 non-null   object        \n",
      " 11  movie_duration  0 non-null      object        \n",
      " 12  tv_seasons      0 non-null      object        \n",
      "dtypes: datetime64[ns](1), int64(2), object(10)\n",
      "memory usage: 488.8+ KB\n"
     ]
    }
   ],
   "source": [
    "netflix_df.info() "
   ]
  },
  {
   "cell_type": "markdown",
   "metadata": {},
   "source": [
    "1) there is no missing value in the data\n",
    "2) the data_added data is object instead of date time => to adjust the format "
   ]
  },
  {
   "cell_type": "code",
   "execution_count": 61,
   "metadata": {},
   "outputs": [],
   "source": [
    "# Convert the 'date_added' column to datetime format\n",
    "netflix_df['date_added'] = pd.to_datetime(netflix_df['date_added'], errors='coerce')\n"
   ]
  },
  {
   "cell_type": "code",
   "execution_count": 62,
   "metadata": {},
   "outputs": [
    {
     "name": "stdout",
     "output_type": "stream",
     "text": [
      "<class 'pandas.core.frame.DataFrame'>\n",
      "RangeIndex: 4812 entries, 0 to 4811\n",
      "Data columns (total 13 columns):\n",
      " #   Column          Non-Null Count  Dtype         \n",
      "---  ------          --------------  -----         \n",
      " 0   show_id         4812 non-null   object        \n",
      " 1   type            4812 non-null   object        \n",
      " 2   title           4812 non-null   object        \n",
      " 3   director        4812 non-null   object        \n",
      " 4   cast            4812 non-null   object        \n",
      " 5   country         4812 non-null   object        \n",
      " 6   date_added      4808 non-null   datetime64[ns]\n",
      " 7   release_year    4812 non-null   int64         \n",
      " 8   duration        4812 non-null   int64         \n",
      " 9   description     4812 non-null   object        \n",
      " 10  genre           4812 non-null   object        \n",
      " 11  movie_duration  0 non-null      object        \n",
      " 12  tv_seasons      0 non-null      object        \n",
      "dtypes: datetime64[ns](1), int64(2), object(10)\n",
      "memory usage: 488.8+ KB\n"
     ]
    }
   ],
   "source": [
    "netflix_df.info() "
   ]
  },
  {
   "cell_type": "code",
   "execution_count": 63,
   "metadata": {},
   "outputs": [
    {
     "name": "stdout",
     "output_type": "stream",
     "text": [
      "0   2016-12-23\n",
      "1   2018-12-20\n",
      "2   2017-11-16\n",
      "3   2020-01-01\n",
      "4   2017-07-01\n",
      "Name: date_added, dtype: datetime64[ns]\n"
     ]
    }
   ],
   "source": [
    "print(netflix_df['date_added'].head())\n"
   ]
  },
  {
   "cell_type": "code",
   "execution_count": 64,
   "metadata": {},
   "outputs": [
    {
     "name": "stdout",
     "output_type": "stream",
     "text": [
      "     show_id     type            title                 director  \\\n",
      "203     s285  TV Show  Abnormal Summit  Jung-ah Im, Seung-uk Jo   \n",
      "1339   s2131  TV Show     Father Brown               Ian Barber   \n",
      "2477   s3952  TV Show             Mars            Everardo Gout   \n",
      "3292   s5292  TV Show      Royal Pains        Jay Chandrasekhar   \n",
      "\n",
      "                                                   cast         country  \\\n",
      "203            Hyun-moo Jun, Si-kyung Sung, Se-yoon Yoo     South Korea   \n",
      "1339  Mark Williams, Sorcha Cusack, Nancy Carroll, A...  United Kingdom   \n",
      "2477  Jihae, Alberto Ammann, Clémentine Poidatz, Ana...   United States   \n",
      "3292  Mark Feuerstein, Paulo Costanzo, Reshma Shetty...   United States   \n",
      "\n",
      "     date_added  release_year  duration  \\\n",
      "203         NaT          2017         2   \n",
      "1339        NaT          2017         6   \n",
      "2477        NaT          2018         2   \n",
      "3292        NaT          2016         8   \n",
      "\n",
      "                                            description             genre  \\\n",
      "203   Led by a trio of Korean celebs, a multinationa...  International TV   \n",
      "1339  A modest, compassionate priest doubles as an e...        British TV   \n",
      "2477  Fact meets fiction in this docudrama chronicli...        Docuseries   \n",
      "3292  Dr. Hank Lawson unexpectedly gets a career upg...       TV Comedies   \n",
      "\n",
      "     movie_duration tv_seasons  \n",
      "203            None       None  \n",
      "1339           None       None  \n",
      "2477           None       None  \n",
      "3292           None       None  \n"
     ]
    }
   ],
   "source": [
    "# the data has 4812 entries, but data_added only has 4808 value \n",
    "\n",
    "# Find and print the rows where 'date_added' is missing (NaT)\n",
    "missing_date_added = netflix_df[netflix_df['date_added'].isna()]\n",
    "\n",
    "# Print the rows with missing 'date_added' values\n",
    "print(missing_date_added)\n",
    "\n",
    "# after reviewing the missing date value in excel file. I learn that these rows do have value, yet the formatting of these value is different, that what cause the function to remove the value.\n",
    "# one way that I think of is: update the formating of the file in inside excel, then rerun the workbook  \n"
   ]
  },
  {
   "cell_type": "code",
   "execution_count": 65,
   "metadata": {},
   "outputs": [],
   "source": [
    "# learn that the file has 11 columns and 4812 rows  "
   ]
  },
  {
   "cell_type": "code",
   "execution_count": 66,
   "metadata": {},
   "outputs": [
    {
     "ename": "",
     "evalue": "",
     "output_type": "error",
     "traceback": [
      "\u001b[1;31mThe Kernel crashed while executing code in the current cell or a previous cell. \n",
      "\u001b[1;31mPlease review the code in the cell(s) to identify a possible cause of the failure. \n",
      "\u001b[1;31mClick <a href='https://aka.ms/vscodeJupyterKernelCrash'>here</a> for more info. \n",
      "\u001b[1;31mView Jupyter <a href='command:jupyter.viewOutput'>log</a> for further details."
     ]
    }
   ],
   "source": [
    "# I want to learn how many values are available for each column, and what are the values of them  "
   ]
  },
  {
   "cell_type": "markdown",
   "metadata": {},
   "source": [
    "### check for duration format of each row's type "
   ]
  },
  {
   "cell_type": "code",
   "execution_count": 31,
   "metadata": {},
   "outputs": [
    {
     "name": "stdout",
     "output_type": "stream",
     "text": [
      "      type  duration\n",
      "0    Movie        93\n",
      "1    Movie        78\n",
      "2    Movie        80\n",
      "3    Movie       123\n",
      "4  TV Show         1\n"
     ]
    }
   ],
   "source": [
    "# Inspect the 'duration' column to understand its structure\n",
    "print(netflix_df[['type', 'duration']].head())\n"
   ]
  },
  {
   "cell_type": "markdown",
   "metadata": {},
   "source": [
    "note: question is, what if the first 5 rows only contain type: Movie => therefore it is not able to tell the different in duration. \n",
    "=> getting samples for 'Movies' and  'TV Show' "
   ]
  },
  {
   "cell_type": "code",
   "execution_count": 41,
   "metadata": {},
   "outputs": [
    {
     "name": "stdout",
     "output_type": "stream",
     "text": [
      "Movies Sample:\n",
      "     type  duration\n",
      "0   Movie        93\n",
      "1   Movie        78\n",
      "2   Movie        80\n",
      "3   Movie       123\n",
      "5   Movie        95\n",
      "6   Movie       119\n",
      "7   Movie       118\n",
      "8   Movie       143\n",
      "9   Movie       103\n",
      "10  Movie        89\n",
      "\n",
      "Movies Statistics:\n",
      "count    4677.000000\n",
      "mean      102.384648\n",
      "std        26.428435\n",
      "min         8.000000\n",
      "25%        89.000000\n",
      "50%       100.000000\n",
      "75%       117.000000\n",
      "max       253.000000\n",
      "Name: duration, dtype: float64\n"
     ]
    }
   ],
   "source": [
    "# Check a few rows where the content type is 'Movie'\n",
    "movies_sample = netflix_df[netflix_df['type'] == 'Movie'][['type', 'duration']].head(10)\n",
    "print(\"Movies Sample:\")\n",
    "print(movies_sample)\n",
    "\n",
    "# Calculate statistics for movie durations\n",
    "movies_stats = netflix_df[netflix_df['type'] == 'Movie']['duration'].describe()\n",
    "\n",
    "print(\"\\nMovies Statistics:\")\n",
    "print(movies_stats)\n"
   ]
  },
  {
   "cell_type": "code",
   "execution_count": 52,
   "metadata": {},
   "outputs": [
    {
     "ename": "TypeError",
     "evalue": "boxplot() missing 1 required positional argument: 'x'",
     "output_type": "error",
     "traceback": [
      "\u001b[1;31m---------------------------------------------------------------------------\u001b[0m",
      "\u001b[1;31mTypeError\u001b[0m                                 Traceback (most recent call last)",
      "Cell \u001b[1;32mIn[52], line 3\u001b[0m\n\u001b[0;32m      1\u001b[0m \u001b[38;5;66;03m# Draw a box plot for movie durations\u001b[39;00m\n\u001b[0;32m      2\u001b[0m plt\u001b[38;5;241m.\u001b[39mfigure(figsize\u001b[38;5;241m=\u001b[39m(\u001b[38;5;241m8\u001b[39m, \u001b[38;5;241m6\u001b[39m))\n\u001b[1;32m----> 3\u001b[0m \u001b[43mplt\u001b[49m\u001b[38;5;241;43m.\u001b[39;49m\u001b[43mboxplot\u001b[49m\u001b[43m(\u001b[49m\u001b[43mvert\u001b[49m\u001b[38;5;241;43m=\u001b[39;49m\u001b[38;5;28;43;01mFalse\u001b[39;49;00m\u001b[43m,\u001b[49m\u001b[43m \u001b[49m\u001b[43mpatch_artist\u001b[49m\u001b[38;5;241;43m=\u001b[39;49m\u001b[38;5;28;43;01mTrue\u001b[39;49;00m\u001b[43m,\u001b[49m\u001b[43m \u001b[49m\u001b[43mboxprops\u001b[49m\u001b[38;5;241;43m=\u001b[39;49m\u001b[38;5;28;43mdict\u001b[39;49m\u001b[43m(\u001b[49m\u001b[43mfacecolor\u001b[49m\u001b[38;5;241;43m=\u001b[39;49m\u001b[38;5;124;43m'\u001b[39;49m\u001b[38;5;124;43mlightblue\u001b[39;49m\u001b[38;5;124;43m'\u001b[39;49m\u001b[43m)\u001b[49m\u001b[43m)\u001b[49m\n\u001b[0;32m      5\u001b[0m \u001b[38;5;66;03m# Set title and labels\u001b[39;00m\n\u001b[0;32m      6\u001b[0m plt\u001b[38;5;241m.\u001b[39mtitle(\u001b[38;5;124m'\u001b[39m\u001b[38;5;124mBox Plot of Movie Durations\u001b[39m\u001b[38;5;124m'\u001b[39m, fontsize\u001b[38;5;241m=\u001b[39m\u001b[38;5;241m16\u001b[39m)\n",
      "\u001b[1;31mTypeError\u001b[0m: boxplot() missing 1 required positional argument: 'x'"
     ]
    },
    {
     "data": {
      "text/plain": [
       "<Figure size 800x600 with 0 Axes>"
      ]
     },
     "metadata": {},
     "output_type": "display_data"
    }
   ],
   "source": [
    "# Draw a box plot for movie durations\n",
    "plt.figure(figsize=(8, 6))\n",
    "plt.boxplot(vert=False, patch_artist=True, boxprops=dict(facecolor='lightblue'))\n",
    "\n",
    "# Set title and labels\n",
    "plt.title('Box Plot of Movie Durations', fontsize=16)\n",
    "plt.xlabel('Duration (minutes)', fontsize=12)\n",
    "\n",
    "# Show the plot\n",
    "plt.grid(True)\n",
    "plt.show()\n"
   ]
  },
  {
   "cell_type": "code",
   "execution_count": null,
   "metadata": {},
   "outputs": [],
   "source": [
    "import matplotlib.pyplot as plt\n",
    "\n",
    "# Convert 'duration' column for movies to numeric (in case it's still in string format)\n",
    "netflix_df['duration_numeric'] = netflix_df.apply(\n",
    "    lambda row: int(row['duration'].replace(' min', '')) if isinstance(row['duration'], str) and row['type'] == 'Movie' else None, axis=1\n",
    ")\n",
    "\n",
    "# Filter the movie durations for visualization\n",
    "movies_durations = netflix_df[netflix_df['type'] == 'Movie']['duration_numeric']\n",
    "\n",
    "# Plot a histogram for movie durations\n",
    "plt.figure(figsize=(10, 6))\n",
    "plt.hist(movies_durations.dropna(), bins=20, color='skyblue', edgecolor='black')\n",
    "plt.title('Distribution of Movie Durations (in minutes)', fontsize=16)\n",
    "plt.xlabel('Duration (minutes)', fontsize=12)\n",
    "plt.ylabel('Frequency', fontsize=12)\n",
    "plt.grid(True)\n",
    "\n",
    "# Show the plot\n",
    "plt.show()\n"
   ]
  },
  {
   "cell_type": "code",
   "execution_count": 38,
   "metadata": {},
   "outputs": [
    {
     "name": "stdout",
     "output_type": "stream",
     "text": [
      "\n",
      "TV Shows Sample:\n",
      "        type  duration\n",
      "4    TV Show         1\n",
      "94   TV Show         1\n",
      "151  TV Show         1\n",
      "181  TV Show         1\n",
      "197  TV Show         1\n",
      "203  TV Show         2\n",
      "231  TV Show         1\n",
      "238  TV Show         1\n",
      "296  TV Show         1\n",
      "371  TV Show         1\n",
      "\n",
      "TV Shows Statistics:\n",
      "count    135.000000\n",
      "mean       1.940741\n",
      "std        2.118726\n",
      "min        1.000000\n",
      "25%        1.000000\n",
      "50%        1.000000\n",
      "75%        2.000000\n",
      "max       15.000000\n",
      "Name: duration, dtype: float64\n"
     ]
    }
   ],
   "source": [
    "# Check a few rows where the content type is 'TV Show'\n",
    "tv_shows_sample = netflix_df[netflix_df['type'] == 'TV Show'][['type', 'duration']].head(10)\n",
    "print(\"\\nTV Shows Sample:\")\n",
    "print(tv_shows_sample)\n",
    "\n",
    "# Calculate statistics for TV show seasons\n",
    "tv_shows_stats = netflix_df[netflix_df['type'] == 'TV Show']['duration'].describe()\n",
    "\n",
    "print(\"\\nTV Shows Statistics:\")\n",
    "print(tv_shows_stats)\n"
   ]
  },
  {
   "cell_type": "code",
   "execution_count": 48,
   "metadata": {},
   "outputs": [],
   "source": [
    "# Extract movie duration in minutes for rows where type is 'Movie'\n",
    "netflix_df['movie_duration'] = netflix_df.apply(\n",
    "    lambda row: int(row['duration'].replace(' min', '')) if isinstance(row['duration'], str) and row['type'] == 'Movie' else None, axis=1\n",
    ")\n"
   ]
  },
  {
   "cell_type": "code",
   "execution_count": 49,
   "metadata": {},
   "outputs": [],
   "source": [
    "# Extract TV show seasons for rows where type is 'TV Show'\n",
    "netflix_df['tv_seasons'] = netflix_df.apply(\n",
    "    lambda row: int(row['duration'].replace(' Season', '').replace('s', '')) if isinstance(row['duration'], str) and row['type'] == 'TV Show' else None, axis=1\n",
    ")\n"
   ]
  },
  {
   "cell_type": "code",
   "execution_count": 50,
   "metadata": {},
   "outputs": [
    {
     "name": "stdout",
     "output_type": "stream",
     "text": [
      "      type  duration movie_duration tv_seasons\n",
      "0    Movie        93           None       None\n",
      "1    Movie        78           None       None\n",
      "2    Movie        80           None       None\n",
      "3    Movie       123           None       None\n",
      "4  TV Show         1           None       None\n",
      "5    Movie        95           None       None\n",
      "6    Movie       119           None       None\n",
      "7    Movie       118           None       None\n",
      "8    Movie       143           None       None\n",
      "9    Movie       103           None       None\n"
     ]
    }
   ],
   "source": [
    "# Display a few rows to verify the new columns\n",
    "print(netflix_df[['type', 'duration', 'movie_duration', 'tv_seasons']].head(10))\n"
   ]
  },
  {
   "cell_type": "code",
   "execution_count": null,
   "metadata": {},
   "outputs": [],
   "source": []
  },
  {
   "cell_type": "code",
   "execution_count": null,
   "metadata": {},
   "outputs": [],
   "source": []
  },
  {
   "cell_type": "code",
   "execution_count": 39,
   "metadata": {},
   "outputs": [
    {
     "name": "stdout",
     "output_type": "stream",
     "text": [
      "{'Movie': 4677, 'TV Show': 135}\n"
     ]
    }
   ],
   "source": [
    "cols_type = {} \n",
    "for item in netflix_df['type']:\n",
    "    if item not in cols_type: \n",
    "        cols_type[item] = 1\n",
    "    else: \n",
    "        cols_type[item] += 1\n",
    "print (cols_type)"
   ]
  },
  {
   "cell_type": "code",
   "execution_count": 40,
   "metadata": {},
   "outputs": [
    {
     "name": "stdout",
     "output_type": "stream",
     "text": [
      "[('United States', 1886), ('India', 864), ('United Kingdom', 311), ('Canada', 155), ('France', 133), ('Spain', 112), ('Egypt', 91), ('Turkey', 81), ('Japan', 81), ('Mexico', 74), ('Philippines', 74), ('Indonesia', 73), ('Hong Kong', 73), ('Nigeria', 65), ('Germany', 60), ('Australia', 50), ('South Korea', 48), ('China', 47), ('Brazil', 47), ('Argentina', 46), ('Thailand', 40), ('Italy', 38), ('South Africa', 29), ('Poland', 19), ('Pakistan', 18), ('Taiwan', 18), ('Netherlands', 17), ('United Arab', 17), ('Ireland', 17), ('Chile', 17), ('Denmark', 16), ('Malaysia', 16), ('New Zealand', 13), ('Colombia', 13), ('Lebanon', 13), ('Israel', 11), ('Singapore', 10), ('Norway', 10), ('Romania', 9), ('Uruguay', 7), ('Saudi Arabia', 7), ('Sweden', 6), ('Belgium', 6), ('Switzerland', 6), ('Bulgaria', 5), ('Vietnam', 5), ('Russia', 5), ('Austria', 5), ('Peru', 4), ('Ghana', 4), ('Kuwait', 4), ('Hungary', 4), ('Iceland', 3), ('Kenya', 3), ('Serbia', 3), ('Czech Republic', 3), ('Portugal', 2), ('Finland', 2), ('Cambodia', 2), ('Bangladesh', 2), ('Iran', 1), ('Soviet Union', 1), ('Namibia', 1), ('Zimbabwe', 1), ('Venezuela', 1), ('Slovenia', 1), ('Georgia', 1), ('Guatemala', 1), ('Jamaica', 1), ('Paraguay', 1), ('Somalia', 1), ('Croatia', 1)]\n"
     ]
    }
   ],
   "source": [
    "cols_country = {} \n",
    "for item in netflix_df['country']:\n",
    "    if item not in cols_country: \n",
    "        cols_country[item] = 1\n",
    "    else:\n",
    "        cols_country[item] += 1\n",
    "        \n",
    "sorted_cols_country = sorted(cols_country.items(), key=lambda x: x[1], reverse=True)\n",
    "    \n",
    "print(sorted_cols_country)"
   ]
  },
  {
   "cell_type": "code",
   "execution_count": 15,
   "metadata": {},
   "outputs": [],
   "source": [
    "# Extract top 20 countries and their counts\n",
    "top_20_countries = sorted_cols_country[:20]\n",
    "countries = [x[0] for x in top_20_countries]\n",
    "movie_counts = [x[1] for x in top_20_countries]\n"
   ]
  },
  {
   "cell_type": "code",
   "execution_count": 19,
   "metadata": {},
   "outputs": [
    {
     "data": {
      "image/png": "[encoded data removed]",
      "text/plain": [
       "<Figure size 1200x800 with 1 Axes>"
      ]
     },
     "metadata": {},
     "output_type": "display_data"
    }
   ],
   "source": [
    "# Create a bar plot for top 20 countries\n",
    "plt.figure(figsize=(12, 8))\n",
    "plt.barh(countries, movie_counts, color='skyblue')\n",
    "\n",
    "# Add titles and labels\n",
    "plt.title('Top 20 Countries by Number of Movies', fontsize=16)\n",
    "plt.xlabel('Number of Movies', fontsize=10)\n",
    "plt.ylabel('Country', fontsize=10)\n",
    "\n",
    "# Invert the y-axis to have the highest bar at the top\n",
    "plt.gca().invert_yaxis()\n",
    "\n",
    "# Display the plot\n",
    "plt.tight_layout()\n",
    "plt.show()"
   ]
  },
  {
   "cell_type": "code",
   "execution_count": null,
   "metadata": {},
   "outputs": [],
   "source": []
  },
  {
   "cell_type": "code",
   "execution_count": null,
   "metadata": {},
   "outputs": [],
   "source": []
  },
  {
   "cell_type": "code",
   "execution_count": null,
   "metadata": {},
   "outputs": [],
   "source": []
  },
  {
   "cell_type": "code",
   "execution_count": null,
   "metadata": {},
   "outputs": [],
   "source": []
  },
  {
   "cell_type": "code",
   "execution_count": 17,
   "metadata": {},
   "outputs": [
    {
     "data": {
      "text/plain": [
       "Text(0, 0.5, 'Country')"
      ]
     },
     "execution_count": 17,
     "metadata": {},
     "output_type": "execute_result"
    },
    {
     "data": {
      "image/png": "[encoded data removed]",
      "text/plain": [
       "<Figure size 640x480 with 1 Axes>"
      ]
     },
     "metadata": {},
     "output_type": "display_data"
    }
   ],
   "source": [
    "# Add titles and labels\n",
    "plt.title('Top 20 Countries by Number of Movies', fontsize=16)\n",
    "plt.xlabel('Number of Movies', fontsize=10)\n",
    "plt.ylabel('Country', fontsize=10)"
   ]
  },
  {
   "cell_type": "code",
   "execution_count": 18,
   "metadata": {},
   "outputs": [
    {
     "data": {
      "image/png": "[encoded data removed]",
      "text/plain": [
       "<Figure size 640x480 with 1 Axes>"
      ]
     },
     "metadata": {},
     "output_type": "display_data"
    }
   ],
   "source": []
  },
  {
   "cell_type": "code",
   "execution_count": null,
   "metadata": {},
   "outputs": [],
   "source": []
  }
 ],
 "metadata": {
  "kernelspec": {
   "display_name": "Python 3",
   "language": "python",
   "name": "python3"
  },
  "language_info": {
   "codemirror_mode": {
    "name": "ipython",
    "version": 3
   },
   "file_extension": ".py",
   "mimetype": "text/x-python",
   "name": "python",
   "nbconvert_exporter": "python",
   "pygments_lexer": "ipython3",
   "version": "3.11.9"
  }
 },
 "nbformat": 4,
 "nbformat_minor": 2
}
