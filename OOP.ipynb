{
 "cells": [
  {
   "cell_type": "markdown",
   "metadata": {},
   "source": [
    "# what are Python objects\n"
   ]
  },
  {
   "cell_type": "markdown",
   "metadata": {},
   "source": [
    "### Introduction to OOP  "
   ]
  },
  {
   "cell_type": "code",
   "execution_count": null,
   "metadata": {},
   "outputs": [],
   "source": [
    "# everything is an object means: \n",
    "# (1) everything a a type/class\n",
    "    # different datastructure has different characters. know what is the reason type it is   \n",
    "# (2) everything has attribute \n"
   ]
  },
  {
   "cell_type": "code",
   "execution_count": null,
   "metadata": {},
   "outputs": [],
   "source": [
    "x = 100 \n",
    "type(x)"
   ]
  },
  {
   "cell_type": "code",
   "execution_count": null,
   "metadata": {},
   "outputs": [],
   "source": [
    "x = 'abcd'\n",
    "type(x)"
   ]
  },
  {
   "cell_type": "code",
   "execution_count": null,
   "metadata": {},
   "outputs": [],
   "source": [
    "x = [10, 20, 30]\n",
    "type(x)"
   ]
  },
  {
   "cell_type": "code",
   "execution_count": null,
   "metadata": {},
   "outputs": [],
   "source": [
    "# when asking what type of x, the question is to ask the type of value that 'x' is pointing to. Not the type of 'x' itself. \n",
    "# for example: x  = 100, type(x) is a int because the type of '100' is an integer. On the other hand, type(x) return list as the value within [ ] is a list that 'x' is pointing to. "
   ]
  },
  {
   "cell_type": "code",
   "execution_count": null,
   "metadata": {},
   "outputs": [],
   "source": [
    "\n",
    "# int is the class => the manufacture that make 'int'    \n",
    "type(int)"
   ]
  },
  {
   "cell_type": "code",
   "execution_count": null,
   "metadata": {},
   "outputs": [],
   "source": [
    "# the type of class is type. \n",
    "# factory's factory = type -- every class' type is 'type' "
   ]
  },
  {
   "cell_type": "code",
   "execution_count": null,
   "metadata": {},
   "outputs": [],
   "source": [
    "type(type)"
   ]
  },
  {
   "cell_type": "code",
   "execution_count": null,
   "metadata": {},
   "outputs": [],
   "source": [
    "# the above as the sample to illustrate how every single thing in python has it own type  "
   ]
  },
  {
   "cell_type": "code",
   "execution_count": null,
   "metadata": {},
   "outputs": [],
   "source": [
    "\n",
    "a # identifier = name = variable or function . an object of some sort \n",
    "    # search is LEGB \n",
    "    \n",
    "a.b # .b means: look for the name (\"attrubute\") b inside of the object a \n",
    "  \n",
    "# how to know how many attributes that is exits?  \n",
    "# => dir(a)"
   ]
  },
  {
   "cell_type": "code",
   "execution_count": null,
   "metadata": {},
   "outputs": [],
   "source": [
    "a = 'abcd'\n",
    "type(a) # to understand the type of a\n",
    "\n"
   ]
  },
  {
   "cell_type": "code",
   "execution_count": null,
   "metadata": {},
   "outputs": [],
   "source": [
    "dir(a) # to access all of the attributes available to the type of 'a' => given 'a' is a stir type. the output of this code will lead to all of the attributes available to stir data type value "
   ]
  },
  {
   "cell_type": "code",
   "execution_count": null,
   "metadata": {},
   "outputs": [],
   "source": [
    "a.upper()\n",
    "\n",
    "# hey, do you have a method called upper? if yes, revoke this method and give back the new value \n",
    "# methods are attributes. a particular type of artribute. when you are looking at \".\" in python, it means i am looking for attribute of the type of the name on the right side inside the object on the left side "
   ]
  },
  {
   "cell_type": "code",
   "execution_count": null,
   "metadata": {},
   "outputs": [],
   "source": [
    "import os"
   ]
  },
  {
   "cell_type": "code",
   "execution_count": null,
   "metadata": {},
   "outputs": [],
   "source": [
    "os.sep"
   ]
  },
  {
   "cell_type": "code",
   "execution_count": null,
   "metadata": {},
   "outputs": [],
   "source": [
    "dir(sep)"
   ]
  },
  {
   "cell_type": "code",
   "execution_count": null,
   "metadata": {},
   "outputs": [],
   "source": [
    "os.sep"
   ]
  },
  {
   "cell_type": "code",
   "execution_count": null,
   "metadata": {},
   "outputs": [],
   "source": [
    "os.sep = 'jjajaj'"
   ]
  },
  {
   "cell_type": "code",
   "execution_count": null,
   "metadata": {},
   "outputs": [],
   "source": [
    "os.sep"
   ]
  },
  {
   "cell_type": "code",
   "execution_count": null,
   "metadata": {},
   "outputs": [],
   "source": [
    "# i can go to any object that I want and then change any attribute that I want or I can add a new attribute "
   ]
  },
  {
   "cell_type": "code",
   "execution_count": null,
   "metadata": {},
   "outputs": [],
   "source": [
    "os.my_testing_atribute = \"set my own atribute\""
   ]
  },
  {
   "cell_type": "code",
   "execution_count": null,
   "metadata": {},
   "outputs": [],
   "source": [
    "os.my_testing_atribute"
   ]
  },
  {
   "cell_type": "markdown",
   "metadata": {},
   "source": [
    "### Methods vs. functions "
   ]
  },
  {
   "cell_type": "code",
   "execution_count": null,
   "metadata": {},
   "outputs": [],
   "source": [
    "myList = [10, 20, 30]\n",
    "sum(myList) # \"sum\" is a function, takes a list as an argument "
   ]
  },
  {
   "cell_type": "code",
   "execution_count": null,
   "metadata": {},
   "outputs": [],
   "source": [
    "# f(x) "
   ]
  },
  {
   "cell_type": "code",
   "execution_count": null,
   "metadata": {},
   "outputs": [],
   "source": [
    "myList.sum()  # this will not work!"
   ]
  },
  {
   "cell_type": "code",
   "execution_count": null,
   "metadata": {},
   "outputs": [],
   "source": [
    "myList.pop() # this is a method   "
   ]
  },
  {
   "cell_type": "code",
   "execution_count": null,
   "metadata": {},
   "outputs": [],
   "source": [
    "myList"
   ]
  },
  {
   "cell_type": "code",
   "execution_count": null,
   "metadata": {},
   "outputs": [],
   "source": [
    "# o.m()  => method systex \n",
    "# o = object \n",
    "# .m = is a attribute  \n",
    " "
   ]
  },
  {
   "cell_type": "code",
   "execution_count": null,
   "metadata": {},
   "outputs": [],
   "source": [
    "len(myList)"
   ]
  },
  {
   "cell_type": "code",
   "execution_count": null,
   "metadata": {},
   "outputs": [],
   "source": [
    "# why not myList.len()?  cause it is designed by the python creators \n",
    "\n",
    "# how to know whether something is a function or an attribute?  \n",
    "    # look for '.' sign before them \n",
    "    # use help function to read the docstring and have better understanding of it  \n",
    "\n",
    "# how to use help function to understand an attribute? \n",
    "    # use help(data_type.[method_name])   "
   ]
  },
  {
   "cell_type": "code",
   "execution_count": null,
   "metadata": {},
   "outputs": [],
   "source": [
    "help(myList)"
   ]
  },
  {
   "cell_type": "code",
   "execution_count": null,
   "metadata": {},
   "outputs": [],
   "source": [
    "help(list.pop)"
   ]
  },
  {
   "cell_type": "markdown",
   "metadata": {},
   "source": [
    "### The simplest Python class\n"
   ]
  },
  {
   "cell_type": "code",
   "execution_count": null,
   "metadata": {},
   "outputs": [],
   "source": [
    "class Foo(object):\n",
    "    pass\n",
    "\n",
    "# python3: 'object' is optional => do not have to write it here  \n",
    "# python2: 'object' is required "
   ]
  },
  {
   "cell_type": "code",
   "execution_count": null,
   "metadata": {},
   "outputs": [],
   "source": [
    "type(Foo) # the type of all classes in python will by type "
   ]
  },
  {
   "cell_type": "code",
   "execution_count": null,
   "metadata": {},
   "outputs": [],
   "source": [
    "Foo()"
   ]
  },
  {
   "cell_type": "code",
   "execution_count": null,
   "metadata": {},
   "outputs": [],
   "source": [
    "Foo('1234')"
   ]
  },
  {
   "cell_type": "code",
   "execution_count": null,
   "metadata": {},
   "outputs": [],
   "source": [
    "f = Foo()"
   ]
  },
  {
   "cell_type": "code",
   "execution_count": null,
   "metadata": {},
   "outputs": [],
   "source": [
    "type(f)"
   ]
  },
  {
   "cell_type": "code",
   "execution_count": null,
   "metadata": {},
   "outputs": [],
   "source": [
    "dir(f)"
   ]
  },
  {
   "cell_type": "code",
   "execution_count": null,
   "metadata": {},
   "outputs": [],
   "source": [
    "# f is an object of type foo. "
   ]
  },
  {
   "cell_type": "code",
   "execution_count": null,
   "metadata": {},
   "outputs": [],
   "source": [
    "dir(Foo)"
   ]
  },
  {
   "cell_type": "code",
   "execution_count": null,
   "metadata": {},
   "outputs": [],
   "source": [
    "# this is the attribute of general \"Foo\"\n"
   ]
  },
  {
   "cell_type": "code",
   "execution_count": null,
   "metadata": {},
   "outputs": [],
   "source": [
    "type(str)"
   ]
  },
  {
   "cell_type": "code",
   "execution_count": null,
   "metadata": {},
   "outputs": [],
   "source": [
    "dir(str)"
   ]
  },
  {
   "cell_type": "markdown",
   "metadata": {},
   "source": [
    "### Adding attributes "
   ]
  },
  {
   "cell_type": "code",
   "execution_count": null,
   "metadata": {},
   "outputs": [],
   "source": [
    "f"
   ]
  },
  {
   "cell_type": "code",
   "execution_count": null,
   "metadata": {},
   "outputs": [],
   "source": [
    "vars()"
   ]
  },
  {
   "cell_type": "code",
   "execution_count": null,
   "metadata": {},
   "outputs": [],
   "source": [
    "vars() # globals()  \n",
    "def bar(): \n",
    "    vars()  # local() "
   ]
  },
  {
   "cell_type": "code",
   "execution_count": null,
   "metadata": {},
   "outputs": [],
   "source": [
    "vars(f) "
   ]
  },
  {
   "cell_type": "code",
   "execution_count": null,
   "metadata": {},
   "outputs": [],
   "source": [
    "dir(f)"
   ]
  },
  {
   "cell_type": "code",
   "execution_count": null,
   "metadata": {},
   "outputs": [],
   "source": [
    "f.x = 20 \n",
    "f.y = [20, 30, 40]"
   ]
  },
  {
   "cell_type": "code",
   "execution_count": null,
   "metadata": {},
   "outputs": [],
   "source": [
    "dir(f)"
   ]
  },
  {
   "cell_type": "code",
   "execution_count": null,
   "metadata": {},
   "outputs": [],
   "source": [
    "type(f.x)"
   ]
  },
  {
   "cell_type": "code",
   "execution_count": null,
   "metadata": {},
   "outputs": [],
   "source": [
    "vars(f)"
   ]
  },
  {
   "cell_type": "code",
   "execution_count": null,
   "metadata": {},
   "outputs": [],
   "source": [
    "type(f.y) # after being add into function f the type of f.y is equal to the type of value that f.y is assigned to  "
   ]
  },
  {
   "cell_type": "code",
   "execution_count": null,
   "metadata": {},
   "outputs": [],
   "source": [
    "vars(f)"
   ]
  },
  {
   "cell_type": "code",
   "execution_count": null,
   "metadata": {},
   "outputs": [],
   "source": [
    "vars(list)"
   ]
  },
  {
   "cell_type": "code",
   "execution_count": null,
   "metadata": {},
   "outputs": [],
   "source": [
    "myList.count"
   ]
  },
  {
   "cell_type": "code",
   "execution_count": null,
   "metadata": {},
   "outputs": [],
   "source": [
    "myList.count()"
   ]
  },
  {
   "cell_type": "code",
   "execution_count": null,
   "metadata": {},
   "outputs": [],
   "source": [
    "myList.reverse"
   ]
  },
  {
   "cell_type": "code",
   "execution_count": null,
   "metadata": {},
   "outputs": [],
   "source": [
    "myList"
   ]
  },
  {
   "cell_type": "code",
   "execution_count": null,
   "metadata": {},
   "outputs": [],
   "source": [
    "myList.pop"
   ]
  },
  {
   "cell_type": "code",
   "execution_count": null,
   "metadata": {},
   "outputs": [],
   "source": [
    "myList.pop()"
   ]
  },
  {
   "cell_type": "code",
   "execution_count": null,
   "metadata": {},
   "outputs": [],
   "source": [
    "myList"
   ]
  },
  {
   "cell_type": "code",
   "execution_count": null,
   "metadata": {},
   "outputs": [],
   "source": [
    "myList.count('10')"
   ]
  },
  {
   "cell_type": "code",
   "execution_count": null,
   "metadata": {},
   "outputs": [],
   "source": [
    "help(list.count)"
   ]
  },
  {
   "cell_type": "code",
   "execution_count": null,
   "metadata": {},
   "outputs": [],
   "source": [
    "help(list.pop)"
   ]
  },
  {
   "cell_type": "code",
   "execution_count": null,
   "metadata": {},
   "outputs": [],
   "source": [
    "help(list.reverse)"
   ]
  },
  {
   "cell_type": "code",
   "execution_count": null,
   "metadata": {},
   "outputs": [],
   "source": [
    "myList.append('20', '30')"
   ]
  },
  {
   "cell_type": "code",
   "execution_count": null,
   "metadata": {},
   "outputs": [],
   "source": [
    "list.append('20')"
   ]
  },
  {
   "cell_type": "code",
   "execution_count": null,
   "metadata": {},
   "outputs": [],
   "source": [
    "myList.append('20')"
   ]
  },
  {
   "cell_type": "code",
   "execution_count": null,
   "metadata": {},
   "outputs": [],
   "source": [
    "myList"
   ]
  },
  {
   "cell_type": "code",
   "execution_count": null,
   "metadata": {},
   "outputs": [],
   "source": [
    "myList.append('30')"
   ]
  },
  {
   "cell_type": "code",
   "execution_count": null,
   "metadata": {},
   "outputs": [],
   "source": [
    "vars(myList)"
   ]
  },
  {
   "cell_type": "code",
   "execution_count": null,
   "metadata": {},
   "outputs": [],
   "source": [
    "type(Foo)"
   ]
  },
  {
   "cell_type": "code",
   "execution_count": null,
   "metadata": {},
   "outputs": [],
   "source": [
    "type(myList)"
   ]
  },
  {
   "cell_type": "code",
   "execution_count": null,
   "metadata": {},
   "outputs": [],
   "source": [
    "myList.count('20')"
   ]
  },
  {
   "cell_type": "code",
   "execution_count": null,
   "metadata": {},
   "outputs": [],
   "source": [
    "g = Foo()"
   ]
  },
  {
   "cell_type": "code",
   "execution_count": null,
   "metadata": {},
   "outputs": [],
   "source": [
    "g.a = {'a': 1, 'b':2, 'c':3 },\n",
    "g.b = {10, 20, 30, 40, 50}\n",
    "\n",
    "vars(g)"
   ]
  },
  {
   "cell_type": "code",
   "execution_count": null,
   "metadata": {},
   "outputs": [],
   "source": [
    "vars(f)"
   ]
  },
  {
   "cell_type": "code",
   "execution_count": null,
   "metadata": {},
   "outputs": [],
   "source": [
    "# 2 sepeate instances of Foo() f and g. they are both object of type Foo. has two completely different attriubtes with different types and values. \n",
    "# however, this is not a good idea as this provide inconsistency "
   ]
  },
  {
   "cell_type": "markdown",
   "metadata": {},
   "source": [
    "### \" __init__ \"\n",
    "\n",
    "interesting, why __ does not show in markup "
   ]
  },
  {
   "cell_type": "code",
   "execution_count": null,
   "metadata": {},
   "outputs": [],
   "source": [
    "class Foo (object):\n",
    "    def __init__ (self): \n",
    "        self.x = 100 \n",
    "        self.y = [10, 20, 30]"
   ]
  },
  {
   "cell_type": "code",
   "execution_count": null,
   "metadata": {},
   "outputs": [],
   "source": [
    "f = Foo() \n",
    "vars(f)"
   ]
  },
  {
   "cell_type": "code",
   "execution_count": null,
   "metadata": {},
   "outputs": [],
   "source": [
    "g = Foo() \n",
    "vars(g)"
   ]
  },
  {
   "cell_type": "code",
   "execution_count": null,
   "metadata": {},
   "outputs": [],
   "source": [
    "# adding __init__ with self.x => allow both f and g variables with the same arttribute  "
   ]
  },
  {
   "cell_type": "code",
   "execution_count": null,
   "metadata": {},
   "outputs": [],
   "source": [
    "# self is convention, that need to use as the first argument  \n",
    "# self is the instance of Foo as self. \n",
    "# of course developer can add attribute outside of object, but not suggested as this will cause everything to be messy "
   ]
  },
  {
   "cell_type": "markdown",
   "metadata": {},
   "source": [
    "### __init__ and parameters  "
   ]
  },
  {
   "cell_type": "code",
   "execution_count": null,
   "metadata": {},
   "outputs": [],
   "source": [
    "class Foo (object):\n",
    "    def __init__ (self, x, y ):  \n",
    "        self.x = x\n",
    "        self.c = y\n",
    "    # what this mean is: \n",
    "    # 'self.x' and 'self.y' are attributes on 'self'\n",
    "    #  take the local variable x and y, then add them as attribute 'x' and 'y' "
   ]
  },
  {
   "cell_type": "code",
   "execution_count": null,
   "metadata": {},
   "outputs": [],
   "source": [
    "f = Foo(10, 30) # this is to create a new instance of 'foo' called 'f' => the value of '10' and '30' were added after 'self'\n",
    "                # __init__ automaticly get self.10 and self.30  "
   ]
  },
  {
   "cell_type": "code",
   "execution_count": null,
   "metadata": {},
   "outputs": [],
   "source": [
    "vars(f)"
   ]
  },
  {
   "cell_type": "code",
   "execution_count": null,
   "metadata": {},
   "outputs": [],
   "source": [
    "f.c"
   ]
  },
  {
   "cell_type": "code",
   "execution_count": null,
   "metadata": {},
   "outputs": [],
   "source": [
    "# this is to create a default argumment\n",
    "class Foo (object):\n",
    "    def __init__ (self, x = 800, y = 000 ):  \n",
    "        self.x = x\n",
    "        self.c = y"
   ]
  },
  {
   "cell_type": "code",
   "execution_count": null,
   "metadata": {},
   "outputs": [],
   "source": [
    "f = Foo()"
   ]
  },
  {
   "cell_type": "code",
   "execution_count": null,
   "metadata": {},
   "outputs": [],
   "source": [
    "vars(f)"
   ]
  },
  {
   "cell_type": "code",
   "execution_count": null,
   "metadata": {},
   "outputs": [],
   "source": [
    "# this is to create multiple arguements  \n",
    "class Foo (object):\n",
    "    def __init__ (self, x, *args ):  \n",
    "        self.x = x\n",
    "        self.args = args  "
   ]
  },
  {
   "cell_type": "code",
   "execution_count": null,
   "metadata": {},
   "outputs": [],
   "source": [
    "f = Foo(10, 20, 30, 40, 50)  "
   ]
  },
  {
   "cell_type": "code",
   "execution_count": null,
   "metadata": {},
   "outputs": [],
   "source": [
    "vars(f)"
   ]
  },
  {
   "cell_type": "markdown",
   "metadata": {},
   "source": [
    "### Exercise "
   ]
  },
  {
   "cell_type": "code",
   "execution_count": null,
   "metadata": {},
   "outputs": [],
   "source": [
    "class Scoop():\n",
    "    def __init__ (self, favor):\n",
    "        self.favor = favor  \n",
    "        \n",
    "s1 = Scoop('chocolate')\n",
    "s2 = Scoop('vanilla')\n",
    "s3 = Scoop('coffee')\n",
    "\n",
    "print(s1.favor)"
   ]
  },
  {
   "cell_type": "code",
   "execution_count": null,
   "metadata": {},
   "outputs": [],
   "source": [
    "for one_scoop in [s1, s2, s3]: \n",
    "    print(one_scoop.favor) \n",
    "\n",
    "# what this function does is go to every single attribute of s1,s2,s3 and display the attribute "
   ]
  },
  {
   "cell_type": "code",
   "execution_count": null,
   "metadata": {},
   "outputs": [],
   "source": [
    "class Person():\n",
    "    def __init__ (self, name, email, phone_number):\n",
    "        self.name = name \n",
    "        self.email = email  \n",
    "        self.phone_number = phone_number \n",
    "\n",
    "#p1 = {'name' : name, 'email' : email, 'phone_number' : phone_number} # this seem to not correct when I am trying to create a dictionary \n",
    "\n",
    "p1 = Person('alex','alex@gmail', '123456789')\n",
    "p2 = Person('tom','tom@gmail', '234567891')\n",
    "p3 = Person('tim','tim@gmail', '345678912')\n",
    "p4 = Person('david','david@gmail', '456789123')\n",
    "\n",
    "print (p1)"
   ]
  },
  {
   "cell_type": "code",
   "execution_count": null,
   "metadata": {},
   "outputs": [],
   "source": [
    "p4.email = 'herry@hotmail'"
   ]
  },
  {
   "cell_type": "code",
   "execution_count": null,
   "metadata": {},
   "outputs": [],
   "source": [
    "print (p1.name)\n",
    "print (p1.email)\n",
    "print (p1.phone_number)"
   ]
  },
  {
   "cell_type": "code",
   "execution_count": null,
   "metadata": {},
   "outputs": [],
   "source": [
    "\n",
    "print (p1)\n",
    "\n",
    "# why printing 'p1' does not work. but when I called for 'p1' attribute, it show the answer "
   ]
  },
  {
   "cell_type": "code",
   "execution_count": null,
   "metadata": {},
   "outputs": [],
   "source": [
    "type (p1)"
   ]
  },
  {
   "cell_type": "code",
   "execution_count": null,
   "metadata": {},
   "outputs": [],
   "source": [
    "type (Person)"
   ]
  },
  {
   "cell_type": "code",
   "execution_count": null,
   "metadata": {},
   "outputs": [],
   "source": [
    "for info in [p1, p2, p3, p4]: \n",
    "    print (f' {info.name} - {info.email} - {info.phone_number}')"
   ]
  },
  {
   "cell_type": "code",
   "execution_count": null,
   "metadata": {},
   "outputs": [],
   "source": [
    "p4.email = 'aasdasdfasd@hotmail'"
   ]
  },
  {
   "cell_type": "code",
   "execution_count": null,
   "metadata": {},
   "outputs": [],
   "source": [
    "for info in [p1, p2, p3, p4]: \n",
    "    print (f' {info.name} - {info.email} - {info.phone_number}')"
   ]
  },
  {
   "cell_type": "code",
   "execution_count": null,
   "metadata": {},
   "outputs": [],
   "source": [
    "# solution from the lecture:  \n",
    "# to create a new phonebook list that putting all the name into the list \n",
    "# then access the information inside the list: \n",
    "phone_book = [p1, p2, p3, p4]\n",
    "\n",
    "for one_person in phone_book: \n",
    "    print (f' name: {one_person.name} - email:{one_person.email} - phone:{one_person.phone_number}')"
   ]
  },
  {
   "cell_type": "code",
   "execution_count": null,
   "metadata": {},
   "outputs": [],
   "source": [
    "# my solution and the class solution is about the same, as mine already a shortcut to put the people info into a list "
   ]
  },
  {
   "cell_type": "code",
   "execution_count": null,
   "metadata": {},
   "outputs": [],
   "source": [
    "class BankAccount ():\n",
    "    def __init__ (self, transaction):\n",
    "        self.transaction = float(transaction) \n",
    "\n",
    "# create two different accounts\n",
    "account_1 = BankAccount(0) \n",
    "account_2 = BankAccount(0) \n",
    "\n",
    "# add a number of transactions +/- to each account \n",
    "print (f'Begining_balance = {account_1.transaction}') \n",
    "\n",
    "\n",
    "deposit = BankAccount(0)\n",
    "withdraw = BankAccount(-110)\n",
    "\n",
    "# add a number of transactions +/- to each account \n",
    "\n",
    "print(deposit.transaction) \n",
    "print(withdraw.transaction)\n",
    "\n",
    "# for each account, show the number of transactions and the average amount per transaction, and the current balance  \n",
    "\n",
    "\n"
   ]
  },
  {
   "cell_type": "code",
   "execution_count": null,
   "metadata": {},
   "outputs": [],
   "source": [
    "type(account_1)"
   ]
  },
  {
   "cell_type": "code",
   "execution_count": null,
   "metadata": {},
   "outputs": [],
   "source": [
    "account_1 = 1\n",
    "type(account_1)\n",
    "#print (f'Ending_balance = {account_1.transaction}')\n"
   ]
  },
  {
   "cell_type": "markdown",
   "metadata": {},
   "source": [
    "interesting: initially I thought that adding an interger into  account_1 will perform the operation, but actually it is not, it change the variable from type '__main__.BankAccount' into 'int'  "
   ]
  },
  {
   "cell_type": "code",
   "execution_count": null,
   "metadata": {},
   "outputs": [],
   "source": [
    "account_1 = BankAccount(0)"
   ]
  },
  {
   "cell_type": "markdown",
   "metadata": {},
   "source": [
    "How to a number of transactions +/- to each account? "
   ]
  },
  {
   "cell_type": "code",
   "execution_count": null,
   "metadata": {},
   "outputs": [],
   "source": [
    "account_1.transaction += 3\n",
    "account_1.transaction += 5\n",
    "account_1.transaction -= 2\n",
    "account_1.transaction += 4\n",
    "account_1.transaction -= 5\n",
    "print(f'Closing_balance = {account_1.transaction}')"
   ]
  },
  {
   "cell_type": "code",
   "execution_count": null,
   "metadata": {},
   "outputs": [],
   "source": [
    "# this one i get stuck at how to count the number of transaction, calculate the average "
   ]
  },
  {
   "cell_type": "code",
   "execution_count": null,
   "metadata": {},
   "outputs": [],
   "source": [
    "average_amount_per_transaction = sum(account_1.transaction) / len(account_1.transaction) "
   ]
  },
  {
   "cell_type": "code",
   "execution_count": null,
   "metadata": {},
   "outputs": [],
   "source": [
    "account_2.transaction = [] "
   ]
  },
  {
   "cell_type": "code",
   "execution_count": null,
   "metadata": {},
   "outputs": [],
   "source": [
    "type(account_2.transaction)"
   ]
  },
  {
   "cell_type": "code",
   "execution_count": null,
   "metadata": {},
   "outputs": [],
   "source": [
    "print(account_2.transaction)"
   ]
  },
  {
   "cell_type": "code",
   "execution_count": null,
   "metadata": {},
   "outputs": [],
   "source": [
    "while True:  \n",
    "    transaction_info = float(input('transaction: ').strip())  \n",
    "    if not transaction_info:\n",
    "        break \n",
    "    account_2.transaction.append(transaction_info)\n",
    "        \n",
    "for item in account_2.transaction:\n",
    "    number_of_transaction = len(account_2.transaction)\n",
    "    total_value_transaction = sum(account_2.transaction)\n",
    "    average_amount_per_transaction = total_value_transaction / number_of_transaction\n",
    "\n",
    "print(f'number of transaction: {number_of_transaction}')\n",
    "print(f'average amount per transaction: {average_amount_per_transaction}')\n",
    "print(f'the current balance: {total_value_transaction}')    "
   ]
  },
  {
   "cell_type": "code",
   "execution_count": null,
   "metadata": {},
   "outputs": [],
   "source": [
    "# this approach I get stuck at the part where the system try to break the loop with <enter> which cause \n",
    "# the recognition of an empty string  \n",
    "\n",
    "'''\n",
    "---------------------------------------------------------------------------\n",
    "ValueError                                Traceback (most recent call last)\n",
    "Cell In[266], line 2\n",
    "      1 while True:  \n",
    "----> 2     transaction_info = float(input('transaction: ').strip())  \n",
    "      3     if not transaction_info:\n",
    "      4         break \n",
    "\n",
    "ValueError: could not convert string to float: ''\n",
    "'''\n",
    "\n"
   ]
  },
  {
   "cell_type": "code",
   "execution_count": null,
   "metadata": {},
   "outputs": [],
   "source": [
    "deposit_account_2 = [1, 2, 3, 4, 5, 6, 7 , 8, 9, 10]\n",
    "withdraw_account_2 = [-3 , -4, -5 ]\n",
    "\n",
    "account_2.transaction = deposit_account_2 + withdraw_account_2\n",
    "print(account_2.transaction)\n",
    "number_of_transaction = len(account_2.transaction)\n",
    "total_value_transaction = sum(account_2.transaction)\n",
    "average_amount_per_transaction = total_value_transaction / number_of_transaction\n",
    "\n",
    "print(f'number of transaction: {number_of_transaction}')\n",
    "print(f'average amount per transaction: {average_amount_per_transaction:.2f}')\n",
    "print(f'the current balance: {total_value_transaction}')    "
   ]
  },
  {
   "cell_type": "code",
   "execution_count": null,
   "metadata": {},
   "outputs": [],
   "source": [
    "# for the purpose of this exercise, I will put the transaction value manually into the code instead of letting the user to input"
   ]
  },
  {
   "cell_type": "code",
   "execution_count": null,
   "metadata": {},
   "outputs": [],
   "source": [
    "# the solution from the lecture is much more simplier than I thought :)  \n",
    "class Account():\n",
    "    def __init__(self):\n",
    "        self.transaction = [] # this is the crucial point => this create an attribubte name 'transaction' with value is an emplty list \n",
    "\n",
    "checking = Account()\n",
    "saving = Account()\n",
    "        "
   ]
  },
  {
   "cell_type": "code",
   "execution_count": null,
   "metadata": {},
   "outputs": [],
   "source": [
    "print (checking.transaction)\n",
    "print (saving.transaction)"
   ]
  },
  {
   "cell_type": "code",
   "execution_count": null,
   "metadata": {},
   "outputs": [],
   "source": [
    "checking.transaction.append(100)\n",
    "print(checking.transaction)"
   ]
  },
  {
   "cell_type": "code",
   "execution_count": null,
   "metadata": {},
   "outputs": [],
   "source": [
    "checking.transaction.append(200)\n",
    "checking.transaction.append(300)\n",
    "checking.transaction.append(400)\n",
    "checking.transaction.append(-100)\n",
    "\n"
   ]
  },
  {
   "cell_type": "code",
   "execution_count": null,
   "metadata": {},
   "outputs": [],
   "source": [
    "print(checking.transaction)"
   ]
  },
  {
   "cell_type": "code",
   "execution_count": null,
   "metadata": {},
   "outputs": [],
   "source": [
    "total_checking = sum(checking.transaction)\n",
    "number_checking = len(checking.transaction)\n",
    "average_checking = total_checking / number_checking \n",
    "\n",
    "print (f'total_checking = {total_checking}')\n",
    "print (f'number_checking = {number_checking}')\n",
    "print (f'average_checking = {average_checking:.2f}')\n"
   ]
  },
  {
   "cell_type": "markdown",
   "metadata": {},
   "source": [
    "# Section 3: Methods  "
   ]
  },
  {
   "cell_type": "markdown",
   "metadata": {},
   "source": [
    "### Methods"
   ]
  },
  {
   "cell_type": "code",
   "execution_count": null,
   "metadata": {},
   "outputs": [],
   "source": [
    "class Foo(object):\n",
    "    def __init__ (self, x):\n",
    "        self.x = x  \n",
    "    \n",
    "    def x2(self): \n",
    "        return self.x *2  "
   ]
  },
  {
   "cell_type": "code",
   "execution_count": null,
   "metadata": {},
   "outputs": [],
   "source": [
    "f = Foo(10)\n",
    "print (f)"
   ]
  },
  {
   "cell_type": "code",
   "execution_count": null,
   "metadata": {},
   "outputs": [],
   "source": [
    "print (f.x)"
   ]
  },
  {
   "cell_type": "code",
   "execution_count": null,
   "metadata": {},
   "outputs": [],
   "source": [
    "print (f.x2)\n",
    "f.x2"
   ]
  },
  {
   "cell_type": "code",
   "execution_count": null,
   "metadata": {},
   "outputs": [],
   "source": [
    "f.x2() # invokes the method x2 on our f object  "
   ]
  },
  {
   "cell_type": "code",
   "execution_count": null,
   "metadata": {},
   "outputs": [],
   "source": [
    "Foo.x2(f) # f.x2() is secretly rewritten in the background "
   ]
  },
  {
   "cell_type": "code",
   "execution_count": null,
   "metadata": {},
   "outputs": [],
   "source": [
    "vars(f)"
   ]
  },
  {
   "cell_type": "code",
   "execution_count": null,
   "metadata": {},
   "outputs": [],
   "source": [
    "vers(Foo())"
   ]
  },
  {
   "cell_type": "code",
   "execution_count": null,
   "metadata": {},
   "outputs": [],
   "source": [
    "vars(Foo)"
   ]
  },
  {
   "cell_type": "code",
   "execution_count": null,
   "metadata": {},
   "outputs": [],
   "source": [
    "# making sure that I am not using local variable inside a method. rather I should be using 'self.'"
   ]
  },
  {
   "cell_type": "code",
   "execution_count": null,
   "metadata": {},
   "outputs": [],
   "source": [
    "class Book(object):\n",
    "    def __init__(self, title, author, price = 30 ):\n",
    "        self.title = title \n",
    "        self.author = author\n",
    "        self.price = price   \n",
    "    \n",
    "    # to create a new method:  \n",
    "    def \n",
    "\n",
    "b1 = Book('Titile1', 'Author1')\n",
    "b2 = Book('Titile2', 'Author2')\n",
    "b3 = Book('Titile3', 'Author2', 25)\n",
    "\n",
    "type(b1)\n"
   ]
  },
  {
   "cell_type": "code",
   "execution_count": null,
   "metadata": {},
   "outputs": [],
   "source": [
    "print(f' {b1.title} - {b1.author} - {b1.price}')\n",
    "print(f' {b2.title} - {b2.author} - {b2.price}')\n",
    "print(f' {b3.title} - {b3.author} - {b3.price}')      "
   ]
  },
  {
   "cell_type": "code",
   "execution_count": null,
   "metadata": {},
   "outputs": [],
   "source": [
    "# __init__ is to set the attribute and associated value   "
   ]
  },
  {
   "cell_type": "code",
   "execution_count": null,
   "metadata": {},
   "outputs": [],
   "source": [
    "class BookShelf(object):\n",
    "    def __init__(self):\n",
    "        self.books = [] \n",
    "        \n",
    "    def add_book(self, *args):\n",
    "        self.books += args\n",
    "        \n",
    "    def total_value_books(self): \n",
    "        return sum([one_book.price\n",
    "                    for one_book in shelf.books])\n",
    "\n",
    "shelf = BookShelf() \n",
    "shelf.add_book(b1, b2, b3)\n",
    "shelf.total_value_books()\n",
    "\n",
    "        "
   ]
  },
  {
   "cell_type": "code",
   "execution_count": null,
   "metadata": {},
   "outputs": [],
   "source": [
    "print (shelf.books) "
   ]
  },
  {
   "cell_type": "code",
   "execution_count": null,
   "metadata": {},
   "outputs": [],
   "source": [
    "# why does the answer show 3 instance of shelf which is the  information ob book b1, b2, b3, yet it didnt show the value of b1, b2, and b3 "
   ]
  },
  {
   "cell_type": "code",
   "execution_count": null,
   "metadata": {},
   "outputs": [],
   "source": [
    "print (f'{shelf.books[0].title} - {shelf.books[0].author} - {shelf.books[0].price}')"
   ]
  },
  {
   "cell_type": "code",
   "execution_count": null,
   "metadata": {},
   "outputs": [],
   "source": [
    "for detail in shelf.books: \n",
    "    print (f'{shelf.books.title} - {shelf.books[]author} - {shelf.books[]price}')"
   ]
  },
  {
   "cell_type": "markdown",
   "metadata": {},
   "source": [
    "### Method exercise \n"
   ]
  },
  {
   "cell_type": "markdown",
   "metadata": {},
   "source": [
    "(1) Create a Bowl class.  We can put scoops in the bowl!\n",
    "\n",
    "    b = Bowl()\n",
    "    b.add_scoops(s1, s2)\n",
    "    b.add_scoops(s3)\n",
    "    b.flavors()  # returns a string of \"chocolate, vanilla, coffee\""
   ]
  },
  {
   "cell_type": "code",
   "execution_count": null,
   "metadata": {},
   "outputs": [],
   "source": [
    "class Scoop():\n",
    "    def __init__ (self, favor):\n",
    "        self.favor = favor  \n",
    "        \n",
    "s1 = Scoop('chocolate')\n",
    "s2 = Scoop('vanilla')\n",
    "s3 = Scoop('coffee')\n",
    "\n",
    "print(s1.favor)"
   ]
  },
  {
   "cell_type": "code",
   "execution_count": null,
   "metadata": {},
   "outputs": [],
   "source": [
    "class Bowl(): \n",
    "    def __init__(self):\n",
    "        self.flavors = []\n",
    "        \n",
    "    def add_scoops(self, *args):\n",
    "        self.flavors += args\n",
    "    \n",
    "    # method to display the value self.flavors   \n",
    "    def output_flavors(self):\n",
    "        return ', '.join([one_favor.favor \n",
    "                    for one_favor in self.flavors])\n",
    "\n",
    "b = Bowl() \n",
    "b.add_scoops(s1, s2, s3)\n",
    "b.output_flavors()\n",
    "# b.favor()\n",
    "#print (b.flavors())\n",
    "\n",
    "\n",
    "#for item in b.flavors:\n",
    "#    print(item.favor)\n",
    "        \n",
    "        "
   ]
  },
  {
   "cell_type": "code",
   "execution_count": null,
   "metadata": {},
   "outputs": [],
   "source": [
    "abc = [1, 2 ]\n",
    "print (abc)"
   ]
  },
  {
   "cell_type": "markdown",
   "metadata": {},
   "source": [
    "### question?  \n",
    "why does can we just call out a list using pring as an sample above instead of creating a new method to display the value of the list?  "
   ]
  },
  {
   "cell_type": "markdown",
   "metadata": {},
   "source": [
    "(2) Use our existing Person and BankAccount classes.  Make it possible\n",
    "    for a person to have one or more bank accounts.  So we can say:\n",
    "\n",
    "    p1.add_account(ba1)\n",
    "    p1.add_account(ba2)\n",
    "\n",
    "    p1.all_balances()           # returns a list of floats representing balances\n",
    "    p1.current_total_balance()  # gives the total balance across all accounts\n",
    "    \n",
    "    p1.average_transaction_amount()  # returns the average amount of transactions across all accounts"
   ]
  },
  {
   "cell_type": "markdown",
   "metadata": {},
   "source": [
    "(3) Create a ShoppingCart class.\n",
    "\n",
    "    sc = ShoppingCart()\n",
    "    sc.add('book', 30, 1)    # name, price-per-unit, quantity\n",
    "    sc.add('toothbrush', 3, 4)\n",
    "\n",
    "    sc.remove('toothbrush')   # removes one toothbrush -- or removes\n",
    "                              # the item altogether if the quantity is 0\n",
    "    \n",
    "    sc.total()  # returns the total price of items in the shopping cart"
   ]
  },
  {
   "cell_type": "markdown",
   "metadata": {},
   "source": [
    "# Pending exercise 2 and 3: to do it within today  `"
   ]
  },
  {
   "cell_type": "markdown",
   "metadata": {},
   "source": [
    "# CLASS ATTRIBUTES"
   ]
  },
  {
   "cell_type": "markdown",
   "metadata": {},
   "source": [
    "### Classes vs. functions  "
   ]
  },
  {
   "cell_type": "code",
   "execution_count": null,
   "metadata": {},
   "outputs": [],
   "source": [
    "class Person ():\n",
    "    def __init__(self, name): # method 1  \n",
    "        self.name =name  \n",
    "        \n",
    "    def greet(self):           # method 2 \n",
    "        return f'hello, {self.name}'\n",
    "\n",
    "p1 = Person('NameA')            # instance 1 \n",
    "p2 = Person('NameB')            # instance 2  \n",
    "\n",
    "print(p1.greet)\n",
    "print(p2.greet)\n",
    "\n",
    "print(p1.greet())\n",
    "print(p2.greet())\n"
   ]
  },
  {
   "cell_type": "code",
   "execution_count": null,
   "metadata": {},
   "outputs": [],
   "source": [
    "# p1, and p2 are two instance of Person, each of them has value representing 'name'  \n",
    "# within Object Person, there is a 'feature'/'method'/'function' that allow the system to do the thing that is initially set in this particular function. \n",
    "# in this case the default setting is to say hi with the person name.  \n",
    "\n",
    "# for person 1 = the attribute called 'greet' or method, allow this solution to be accessible any instance of Object Person.    "
   ]
  },
  {
   "cell_type": "code",
   "execution_count": null,
   "metadata": {},
   "outputs": [],
   "source": [
    "print ('1') \n",
    "class Person ():\n",
    "    print ('2')\n",
    "    def __init__(self, name):\n",
    "        print ('3')\n",
    "        self.name =name  \n",
    "    \n",
    "    print ('4')    \n",
    "    def greet(self):\n",
    "        return f'hello, {self.name}'\n",
    "\n",
    "print ('5')\n",
    "\n",
    "print(dir(Person))\n",
    "\n",
    "p1 = Person('NameA')\n",
    "p2 = Person('NameB')\n",
    "\n",
    "print(p1.greet)\n",
    "print(p2.greet)\n",
    "\n",
    "print(p1.greet())\n",
    "print(p2.greet())\n"
   ]
  },
  {
   "cell_type": "code",
   "execution_count": null,
   "metadata": {},
   "outputs": [],
   "source": [
    "# this is to demonstrate that as soon as you are create a method in an object, they are run instancely. yet, they only called out when revoked \n",
    "# that is why print(3) is excuted after the output of dir(Person) located at line 14 \n",
    "# also, having method 'greet' as the result from dir(Person) indicate that method has been run and recorded in the system  "
   ]
  },
  {
   "cell_type": "markdown",
   "metadata": {},
   "source": [
    "### Class attributes"
   ]
  },
  {
   "cell_type": "code",
   "execution_count": null,
   "metadata": {},
   "outputs": [],
   "source": [
    "class Person ():\n",
    "    def __init__(self, name): # method 1  \n",
    "        self.name =name  \n",
    "\n",
    "p1 = Person('NameA')            \n",
    "p2 = Person('NameB')            "
   ]
  },
  {
   "cell_type": "code",
   "execution_count": null,
   "metadata": {},
   "outputs": [],
   "source": [
    "# option 1 \n",
    "\n",
    "population = 0 \n",
    "\n",
    "class Person ():\n",
    "    def __init__(self, name): # method 1  \n",
    "        self.name =name  \n",
    "\n",
    "print(f'Before, population = {population}')\n",
    "p1 = Person('NameA')            \n",
    "p2 = Person('NameB')            \n",
    "\n",
    "print(f'After, population = {population}')"
   ]
  },
  {
   "cell_type": "code",
   "execution_count": null,
   "metadata": {},
   "outputs": [],
   "source": [
    "# the reason for having population is because population is a global variable, it is not associate with the object Person "
   ]
  },
  {
   "cell_type": "code",
   "execution_count": null,
   "metadata": {},
   "outputs": [],
   "source": [
    "# option 1: continue \n",
    "# to make this happen, adding global variable 'population' into the Object \n",
    " \n",
    "population = 0 \n",
    "\n",
    "class Person ():\n",
    "    def __init__(self, name): # method 1  \n",
    "        population += 1 \n",
    "        self.name =name  \n",
    "\n",
    "print(f'Before, population = {population}')\n",
    "p1 = Person('NameA')            \n",
    "p2 = Person('NameB')            \n",
    "\n",
    "print(f'After, population = {population}')"
   ]
  },
  {
   "cell_type": "code",
   "execution_count": null,
   "metadata": {},
   "outputs": [],
   "source": [
    "# UnboundLocalError is because there is no association between 'population' in line 4 and 'population' in line 8  \n",
    "# python search for valuate of left side 'population' in line 8 in order perform the operation, but cannt located the variables  "
   ]
  },
  {
   "cell_type": "code",
   "execution_count": null,
   "metadata": {},
   "outputs": [],
   "source": [
    "# option 1: continue \n",
    "# using global keyword to assign the variable 'population' a global \n",
    "# bringing the 'population' at line 4 down to do line 8\n",
    "# this is to demo the posibility, but not recommended   \n",
    "population = 0 \n",
    "\n",
    "class Person ():\n",
    "    def __init__(self, name): # method 1  \n",
    "        global population\n",
    "        population += 1 \n",
    "        self.name =name  \n",
    "\n",
    "print(f'Before, population = {population}')\n",
    "p1 = Person('NameA')            \n",
    "p2 = Person('NameB')            \n",
    "\n",
    "print(f'After, population = {population}')"
   ]
  },
  {
   "cell_type": "code",
   "execution_count": null,
   "metadata": {},
   "outputs": [],
   "source": [
    "# option 2a: creating a new attribute of Person called 'population' \n",
    "\n",
    "class Person ():\n",
    "    def __init__(self, name): # method 1  \n",
    "        Person.population += 1 \n",
    "        self.name =name  \n",
    "        \n",
    "Person.population = 0 \n",
    "\n",
    "print(f'Before, population = {Person.population}')\n",
    "p1 = Person('NameA')            \n",
    "p2 = Person('NameB')            \n",
    "\n",
    "print(f'After, population = {Person.population}')"
   ]
  },
  {
   "cell_type": "code",
   "execution_count": null,
   "metadata": {},
   "outputs": [],
   "source": [
    "# option 2a: creating a new attribute of Person called 'population' \n",
    "# instead of using Person.population = 0 in line 8, that is outside of class Person (), assigned the variable inside the Class to create a new 'method ??' \n",
    " \n",
    "class Person ():\n",
    "    population = 0  # define Person.population = 0 -- c\n",
    "    def __init__(self, name): # method 1  \n",
    "        Person.population += 1 \n",
    "        self.name =name   \n",
    "\n",
    "print(f'Before, population = {Person.population}')\n",
    "p1 = Person('NameA')            \n",
    "p2 = Person('NameB')            \n",
    "\n",
    "print(f'After, population = {Person.population}')\n",
    "\n",
    "\n",
    "# global frames: Person, p1, p2  \n",
    "    # 'Person' has two functions; \n",
    "        # (1) __init__ \n",
    "        # (2) population  \n",
    "    # p1 is an instance of class 'Person' , with the value of \"nameA\" assigned to  attribute 'name' of instance 'p1'\n",
    "    # p2 is an instance of class 'Person' , with the value of \"nameB\" assigned to  attribute 'name' of instance 'p2'\n"
   ]
  },
  {
   "cell_type": "code",
   "execution_count": 6,
   "metadata": {},
   "outputs": [
    {
     "name": "stdout",
     "output_type": "stream",
     "text": [
      "Before, population = 0\n",
      "After, population = 3\n",
      "After, population = 3\n",
      "After, population = 3\n"
     ]
    }
   ],
   "source": [
    "# option 2a: creating a new attribute of Person called 'population' \n",
    "# instead of using Person.population = 0 in line 8, that is outside of class Person (), assigned the variable inside the Class to create a new 'method ??' \n",
    "# however, this option has a cons, which is allowing instance p1 and instance p2 to access the Class attribute and it associated value of 'population' as p1 and p2 does not have such attribute,   \n",
    "    # thats why output of line 16 and 17 return 2 . \n",
    "    \n",
    "class Person ():\n",
    "    population = 0  # define Person.population = 0 -- c\n",
    "    def __init__(self, name): # method 1  \n",
    "        Person.population += 1 \n",
    "        self.name =name   \n",
    "\n",
    "print(f'Before, population = {Person.population}')\n",
    "p1 = Person('NameA')            \n",
    "p2 = Person('NameB')     \n",
    "p3 = Person('NameB')       \n",
    "\n",
    "print(f'After, population = {Person.population}')\n",
    "print(f'After, population = {p1.population}')\n",
    "print(f'After, population = {p2.population}')\n",
    "\n"
   ]
  },
  {
   "cell_type": "code",
   "execution_count": 8,
   "metadata": {},
   "outputs": [
    {
     "name": "stdout",
     "output_type": "stream",
     "text": [
      "Before, population = 0\n",
      "After, population = 0\n",
      "After, population = 1\n",
      "After, population = 1\n",
      "After, population = 1\n"
     ]
    }
   ],
   "source": [
    "# option 3: creating a new attribute of Person called 'population' \n",
    "# create an global attribute that is shared with all of its instance. line 6. replace 'Person' with 'self'     \n",
    "class Person ():\n",
    "    population = 0  # define Person.population = 0 -- c\n",
    "    def __init__(self, name): # method 1  \n",
    "        self.population += 1 \n",
    "        self.name =name   \n",
    "\n",
    "print(f'Before, population = {Person.population}')\n",
    "p1 = Person('NameA')            \n",
    "p2 = Person('NameB')            \n",
    "p3 = Person('NameB')\n",
    "p4 = Person('NameB')\n",
    "\n",
    "print(f'After, population = {Person.population}')\n",
    "print(f'After, population = {p1.population}')\n",
    "print(f'After, population = {p2.population}')\n",
    "print(f'After, population = {p3.population}')\n"
   ]
  },
  {
   "cell_type": "code",
   "execution_count": null,
   "metadata": {},
   "outputs": [],
   "source": [
    "# if I ask  for a.b:  \n",
    "# (1) look for 'b' attribute on 'a' \n",
    "# (2) look for 'b' attribute on type(a)\n",
    "# (3) look for 'b' attribute on object "
   ]
  },
  {
   "cell_type": "code",
   "execution_count": null,
   "metadata": {},
   "outputs": [],
   "source": [
    "# when to use Class attribute \n",
    "# (1) having a value that is going to use through out the code, and I dont want to hard code that value, then I will want to use Class Attribute and refer to it all the time need to\n",
    "# (2) having resources that going to share among different instances  "
   ]
  },
  {
   "cell_type": "markdown",
   "metadata": {},
   "source": [
    "(1) Modify the Bowl class, such that adding a new scoop to the bowl\n",
    "    will only work if you have fewer than 3 scoops.  In other words: max 3\n",
    "    scoops per bowl.\n",
    "\n",
    "    Adding a new scoop to a bowl that is already full will be silently\n",
    "    ignored."
   ]
  },
  {
   "cell_type": "code",
   "execution_count": null,
   "metadata": {},
   "outputs": [],
   "source": [
    "class Scoop():\n",
    "    def __init__ (self, favor):\n",
    "        self.favor = favor  \n",
    "        \n",
    "\n",
    "\n",
    "class Bowl(): \n",
    "    def __init__(self):\n",
    "        self.flavors = []\n",
    "        \n",
    "    def add_scoops(self, *args):\n",
    "        if len(self.flavors) < 3:\n",
    "            self.flavors += args\n",
    "        else: \n",
    "            print (f' you cannt add more than 3 scoops')\n",
    "    \n",
    "    # method to display the value self.flavors   \n",
    "    def output_flavors(self):\n",
    "        return ', '.join([one_favor.favor \n",
    "                    for one_favor in self.flavors])\n",
    "\n",
    "\n",
    "s1 = Scoop('chocolate')\n",
    "s2 = Scoop('vanilla')\n",
    "s3 = Scoop('coffee')\n",
    "s4 = Scoop('taset4')\n",
    "s5 = Scoop('taset5')\n",
    "\n",
    "b = Bowl() \n",
    "b.add_scoops(s1, s2)\n",
    "b.output_flavors()        \n",
    "        "
   ]
  },
  {
   "cell_type": "code",
   "execution_count": null,
   "metadata": {},
   "outputs": [],
   "source": [
    "b.add_scoops(s3)\n",
    "b.output_flavors()"
   ]
  },
  {
   "cell_type": "code",
   "execution_count": null,
   "metadata": {},
   "outputs": [],
   "source": [
    "b.add_scoops(s4)\n",
    "b.output_flavors()"
   ]
  },
  {
   "cell_type": "code",
   "execution_count": null,
   "metadata": {},
   "outputs": [],
   "source": [
    "b.add_scoops(s5)\n",
    "b.output_flavors()"
   ]
  },
  {
   "cell_type": "code",
   "execution_count": null,
   "metadata": {},
   "outputs": [],
   "source": [
    "b.output_flavors()"
   ]
  },
  {
   "cell_type": "code",
   "execution_count": null,
   "metadata": {},
   "outputs": [],
   "source": [
    "# the above code does not work well because as long the 'self.flavors' has value less than 3, users will able to sneak in and add as many scoop as they want until the system is re-run again to check for the len of 'self.favlors'b"
   ]
  },
  {
   "cell_type": "code",
   "execution_count": 18,
   "metadata": {},
   "outputs": [
    {
     "data": {
      "text/plain": [
       "'chocolate, vanilla'"
      ]
     },
     "execution_count": 18,
     "metadata": {},
     "output_type": "execute_result"
    }
   ],
   "source": [
    "# solution 1: add for loop to check every single time a scoop is add into a bowl \n",
    "\n",
    "class Scoop():\n",
    "    def __init__ (self, favor):\n",
    "        self.favor = favor  \n",
    "    \n",
    "class Bowl(): \n",
    "    def __init__(self):\n",
    "        self.flavors = []\n",
    "        \n",
    "    def add_scoops(self, *args):\n",
    "        for one_scoop in args: \n",
    "            if len(self.flavors) < 3:\n",
    "                self.flavors.append(one_scoop)\n",
    "            else: \n",
    "                print (f' you cannt add more than 3 scoops')\n",
    "    \n",
    "    # method to display the value self.flavors   \n",
    "    def output_flavors(self):\n",
    "        return ', '.join([one_favor.favor\n",
    "                        for one_favor in self.flavors])\n",
    "\n",
    "\n",
    "s1 = Scoop('chocolate')\n",
    "s2 = Scoop('vanilla')\n",
    "s3 = Scoop('coffee')\n",
    "s4 = Scoop('taset4')\n",
    "s5 = Scoop('taset5')\n",
    "\n",
    "b = Bowl() \n",
    "b.add_scoops(s1, s2) \n",
    "b.output_flavors()\n",
    "        "
   ]
  },
  {
   "cell_type": "code",
   "execution_count": 21,
   "metadata": {},
   "outputs": [
    {
     "name": "stdout",
     "output_type": "stream",
     "text": [
      " you cannt add more than 3 scoops\n",
      " you cannt add more than 3 scoops\n"
     ]
    },
    {
     "data": {
      "text/plain": [
       "'chocolate, vanilla, coffee'"
      ]
     },
     "execution_count": 21,
     "metadata": {},
     "output_type": "execute_result"
    }
   ],
   "source": [
    "b.add_scoops(s3, s4)\n",
    "b.output_flavors()"
   ]
  },
  {
   "cell_type": "code",
   "execution_count": 23,
   "metadata": {},
   "outputs": [
    {
     "data": {
      "text/plain": [
       "'chocolate, vanilla'"
      ]
     },
     "execution_count": 23,
     "metadata": {},
     "output_type": "execute_result"
    }
   ],
   "source": [
    "# solution 2: \n",
    "# add the maximunm allowed scoop as an attribute of Class Bowl \n",
    "# use index to display only the first 3 index of the attribute \n",
    "\n",
    "class Scoop():\n",
    "    def __init__ (self, favor):\n",
    "        self.favor = favor  \n",
    "    \n",
    "class Bowl(): \n",
    "    max_scoop = 3 \n",
    "    def __init__(self):\n",
    "        self.flavors = []\n",
    "        \n",
    "    def add_scoops(self, *args):\n",
    "        self.flavors += args[:Bowl.max_scoop - len(self.flavors)]\n",
    "        \n",
    "    # method to display the value self.flavors   \n",
    "    def output_flavors(self):\n",
    "        return ', '.join([one_favor.favor\n",
    "                        for one_favor in self.flavors])\n",
    "\n",
    "\n",
    "s1 = Scoop('chocolate')\n",
    "s2 = Scoop('vanilla')\n",
    "s3 = Scoop('coffee')\n",
    "s4 = Scoop('taset4')\n",
    "s5 = Scoop('taset5')\n",
    "\n",
    "b = Bowl() \n",
    "b.add_scoops(s1, s2) \n",
    "b.output_flavors()\n",
    "        "
   ]
  },
  {
   "cell_type": "code",
   "execution_count": 24,
   "metadata": {},
   "outputs": [
    {
     "data": {
      "text/plain": [
       "'chocolate, vanilla, taset4'"
      ]
     },
     "execution_count": 24,
     "metadata": {},
     "output_type": "execute_result"
    }
   ],
   "source": [
    "b.add_scoops(s4, s3)\n",
    "b.output_flavors()"
   ]
  },
  {
   "cell_type": "markdown",
   "metadata": {},
   "source": [
    "(2) Create a Loan class. Each time someone creates a new Loan, it's\n",
    "    for a certain amount of money.  That money is taken from the\n",
    "    bank's available assets.\n",
    "\n",
    "    l1 = Loan(500)\n",
    "    l2 = Loan(200)\n",
    "    l3 = Loan(700)  # raises an exception -- ValueError to indicate no money\n",
    "    l1.repay(500)\n",
    "    l3 = Loan(700)  # now it'll work, because the bank has sufficient funds"
   ]
  },
  {
   "cell_type": "code",
   "execution_count": 52,
   "metadata": {},
   "outputs": [],
   "source": [
    "class Loan():\n",
    "    outstanding_balance = 10000   # create a class attribute of Loan as a record for balance, instead of create a new method or a new class \n",
    "    \n",
    "    def __init__(self, amount):\n",
    "        if Loan.outstanding_balance >= amount: \n",
    "            self.amount_owed = amount\n",
    "            Loan.outstanding_balance -= amount  \n",
    "        else: \n",
    "            raise ValueError (\"Bank does not have enough\")\n",
    "        \n",
    "    def repay(self, repayment_amount):\n",
    "        self.amount_owed -= repayment_amount\n",
    "        Loan.outstanding_balance += repayment_amount\n",
    "        "
   ]
  },
  {
   "cell_type": "code",
   "execution_count": 44,
   "metadata": {},
   "outputs": [
    {
     "name": "stdout",
     "output_type": "stream",
     "text": [
      "400\n"
     ]
    }
   ],
   "source": [
    "l1 = Loan(400)\n",
    "print(l1.amount_owed)"
   ]
  },
  {
   "cell_type": "code",
   "execution_count": 45,
   "metadata": {},
   "outputs": [
    {
     "data": {
      "text/plain": [
       "9600"
      ]
     },
     "execution_count": 45,
     "metadata": {},
     "output_type": "execute_result"
    }
   ],
   "source": [
    "Loan.outstanding_balance"
   ]
  },
  {
   "cell_type": "code",
   "execution_count": 46,
   "metadata": {},
   "outputs": [
    {
     "name": "stdout",
     "output_type": "stream",
     "text": [
      "5000\n"
     ]
    }
   ],
   "source": [
    "l2 = Loan(5000)\n",
    "print(l2.amount_owed)"
   ]
  },
  {
   "cell_type": "code",
   "execution_count": 47,
   "metadata": {},
   "outputs": [
    {
     "data": {
      "text/plain": [
       "4600"
      ]
     },
     "execution_count": 47,
     "metadata": {},
     "output_type": "execute_result"
    }
   ],
   "source": [
    "Loan.outstanding_balance"
   ]
  },
  {
   "cell_type": "code",
   "execution_count": 49,
   "metadata": {},
   "outputs": [
    {
     "name": "stdout",
     "output_type": "stream",
     "text": [
      "-400\n"
     ]
    }
   ],
   "source": [
    "l1.repay(400)\n",
    "print(l1.amount_owed)"
   ]
  },
  {
   "cell_type": "code",
   "execution_count": 50,
   "metadata": {},
   "outputs": [
    {
     "data": {
      "text/plain": [
       "5400"
      ]
     },
     "execution_count": 50,
     "metadata": {},
     "output_type": "execute_result"
    }
   ],
   "source": [
    "Loan.outstanding_balance"
   ]
  },
  {
   "cell_type": "markdown",
   "metadata": {},
   "source": [
    "### Inheritance "
   ]
  },
  {
   "cell_type": "code",
   "execution_count": null,
   "metadata": {},
   "outputs": [],
   "source": [
    "\n"
   ]
  },
  {
   "cell_type": "markdown",
   "metadata": {},
   "source": [
    "# Summary Exercise \n"
   ]
  },
  {
   "cell_type": "code",
   "execution_count": 5,
   "metadata": {},
   "outputs": [
    {
     "name": "stdout",
     "output_type": "stream",
     "text": [
      "black wolf, 4 legs\n",
      "white sheep, 4 legs\n",
      "white sheep, 4 legs\n",
      "brown snake, 0 legs\n",
      "black parrot, 2 legs\n"
     ]
    }
   ],
   "source": [
    "class Animal:\n",
    "    def __init__(self, species, color, legs):\n",
    "        self.species = species\n",
    "        self.color = color\n",
    "        self.legs = legs\n",
    "    \n",
    "    def __str__(self):\n",
    "        return f'{self.color} {self.species}, {self.legs} legs'\n",
    "\n",
    "class Wolf(Animal): \n",
    "    def __init__(self, species, color, legs=4):\n",
    "        super().__init__(species, color, legs)\n",
    "\n",
    "class Sheep(Animal): \n",
    "    def __init__(self, species, color, legs=4):\n",
    "        super().__init__(species, color, legs)\n",
    "\n",
    "class Snake(Animal): \n",
    "    def __init__(self, species, color, legs=0):\n",
    "        super().__init__(species, color, legs)\n",
    "\n",
    "class Parrot(Animal): \n",
    "    def __init__(self, species, color, legs=2):\n",
    "        super().__init__(species, color, legs)\n",
    "\n",
    "        \n",
    "# Create instances of each class\n",
    "wolf = Wolf('wolf', 'black')\n",
    "sheep1 = Sheep('sheep', 'white')\n",
    "sheep2 = Sheep('sheep', 'white')         \n",
    "snake = Snake('snake', 'brown')\n",
    "parrot = Parrot('parrot', 'black')\n",
    "\n",
    "# Print the animals\n",
    "print(wolf)    # black wolf, 4 legs\n",
    "print(sheep1)  # white sheep, 4 legs\n",
    "print(sheep2)  # white sheep, 4 legs\n",
    "print(snake)   # brown snake, 0 legs\n",
    "print(parrot)  # black parrot, 2 legs\n"
   ]
  },
  {
   "cell_type": "code",
   "execution_count": 8,
   "metadata": {},
   "outputs": [
    {
     "name": "stdout",
     "output_type": "stream",
     "text": [
      "Case 1\n",
      "\t1 black wolf, 4 legs\n",
      "\t2 white sheep, 4 legs\n",
      "\t3 white sheep, 4 legs\n",
      "[<__main__.Snake object at 0x00000258DFA92410>, <__main__.Parrot object at 0x00000258E0AA1590>]\n"
     ]
    }
   ],
   "source": [
    "class Cage():     \n",
    "    def __init__ (self,cage_id):\n",
    "        self.cage_id = cage_id \n",
    "        self.cage_detail = [] \n",
    "            \n",
    "    def add_animals(self, *species):\n",
    "        for one_species in species: \n",
    "            self.cage_detail.append(one_species)\n",
    "    \n",
    "    def __str__ (self):\n",
    "        result = [f'Case {self.cage_id}']\n",
    "        for i, animal in enumerate(self.cage_detail, start=1):\n",
    "            result.append(f'\\t{i} {animal}')\n",
    "        return '\\n'.join(result)\n",
    "    \n",
    "c1 = Cage(1)   # ID numbers\n",
    "c1.add_animals(wolf, sheep1, sheep2)\n",
    "print(c1)\n",
    "\n",
    "c2 = Cage(2)\n",
    "c2.add_animals(snake, parrot)\n",
    "print(c2)"
   ]
  },
  {
   "cell_type": "code",
   "execution_count": 9,
   "metadata": {},
   "outputs": [
    {
     "data": {
      "text/plain": [
       "list"
      ]
     },
     "execution_count": 9,
     "metadata": {},
     "output_type": "execute_result"
    }
   ],
   "source": [
    "type(c1.cage_detail) "
   ]
  },
  {
   "cell_type": "code",
   "execution_count": 19,
   "metadata": {},
   "outputs": [
    {
     "data": {
      "text/plain": [
       "{'cage_id': 1,\n",
       " 'cage_detail': [<__main__.Wolf at 0x258e0acfb90>,\n",
       "  <__main__.Sheep at 0x258dfc2e0d0>,\n",
       "  <__main__.Sheep at 0x258dfa93190>]}"
      ]
     },
     "execution_count": 19,
     "metadata": {},
     "output_type": "execute_result"
    }
   ],
   "source": [
    "vars(c1)"
   ]
  },
  {
   "cell_type": "code",
   "execution_count": 29,
   "metadata": {},
   "outputs": [
    {
     "name": "stdout",
     "output_type": "stream",
     "text": [
      "Case 1\n",
      "\t1 black wolf, 4 legs\n",
      "\t2 white sheep, 4 legs\n",
      "\t3 white sheep, 4 legs\n",
      "Case 2\n",
      "\t1 brown snake, 0 legs\n",
      "\t2 black parrot, 2 legs\n"
     ]
    }
   ],
   "source": [
    "class Zoo ():\n",
    "    def __init__ (self):\n",
    "        self.zoo_info = {}\n",
    "    \n",
    "    def add_cages(self, *cages):\n",
    "        for cage in cages:\n",
    "            if cage.cage_id not in self.zoo_info:\n",
    "                self.zoo_info[cage.cage_id] = cage\n",
    "            else:\n",
    "                print (f'Cage with ID {cage.cage_id} already exits.')\n",
    "    \n",
    "    def search_cage (self, cage_id):\n",
    "        if cage_id in self.zoo_info: \n",
    "            return self.zoo_info[cage_id]\n",
    "        else: \n",
    "            return f'No cage with ID {cage_id} found'\n",
    "    \n",
    "    def animals_by_color(self, color):\n",
    "        result = []\n",
    "        index = 1 \n",
    "        for cage in self.zoo_info.values():\n",
    "            for animal in cage.cage_detail:\n",
    "                if animal.color == color:\n",
    "                    result.append(f'{index} {str(animal)}')\n",
    "                    index += 1\n",
    "        return '\\n'.join(result)\n",
    "\n",
    "    def number_of_legs(self):\n",
    "        total_legs = 0 \n",
    "        for cage in self.zoo_info.values():\n",
    "            for animal in cage.cage_detail: \n",
    "                total_legs += animal.legs \n",
    "        return total_legs\n",
    "        \n",
    "                \n",
    "    def __str__(self):\n",
    "        result = []\n",
    "        for cage_id, cage in self.zoo_info.items():\n",
    "            result.append(str(cage))\n",
    "        return '\\n'.join(result)\n",
    "\n",
    "z = Zoo() \n",
    "z.add_cages(c1, c2)\n",
    "\n",
    "print(z)"
   ]
  },
  {
   "cell_type": "code",
   "execution_count": 30,
   "metadata": {},
   "outputs": [
    {
     "name": "stdout",
     "output_type": "stream",
     "text": [
      "1 black wolf, 4 legs\n",
      "2 black parrot, 2 legs\n"
     ]
    }
   ],
   "source": [
    "print(z.animals_by_color('black'))"
   ]
  },
  {
   "cell_type": "code",
   "execution_count": 27,
   "metadata": {},
   "outputs": [
    {
     "name": "stdout",
     "output_type": "stream",
     "text": [
      "14\n"
     ]
    }
   ],
   "source": [
    "print(z.number_of_legs())\n"
   ]
  },
  {
   "cell_type": "markdown",
   "metadata": {},
   "source": [
    "class Book"
   ]
  },
  {
   "cell_type": "code",
   "execution_count": 102,
   "metadata": {},
   "outputs": [],
   "source": [
    "class Book():\n",
    "    def __init__ (self, title, author, price):\n",
    "        self.title = title \n",
    "        self.author = author\n",
    "        self.price = price \n",
    "    \n",
    "    def __repr__(self):\n",
    "        return f'Book: {self.title} written by: {self.author} sell at: {self.price}'\n",
    "    \n",
    "class Shelf(): \n",
    "    def __init__ (self):\n",
    "        self.book_list = [] \n",
    "        \n",
    "    def __repr__(self): \n",
    "        return f'Shelf name: {self.book_list}'\n",
    "\n",
    "    def shelf_value(self):\n",
    "        shelf_value = 0 \n",
    "        for one_book in self.book_list: \n",
    "            shelf_value += one_book.price\n",
    "        \n",
    "        return shelf_value\n",
    "    \n",
    "class BookStore(): \n",
    "    def __init__ (self):\n",
    "        self.store_list = []\n",
    "    \n",
    "    def store_value(self):\n",
    "        store_value = 0 \n",
    "        for one_store in self.store_list:\n",
    "            store_value += one_store.shelf_value()\n",
    "        return store_value\n",
    "    def __repr__(self):\n",
    "        return f'Store info: {self.store_list}'\n",
    "    \n",
    "    "
   ]
  },
  {
   "cell_type": "code",
   "execution_count": 103,
   "metadata": {},
   "outputs": [],
   "source": [
    "b1 = Book('title1', 'author1', 30)\n",
    "b2 = Book('title2', 'author2', 30)\n",
    "b3 = Book('title3', 'author3', 30)\n",
    "b4 = Book('title4', 'author4', 30)\n",
    "b5 = Book('title5', 'author2', 30)\n",
    "b6 = Book('title6', 'author3', 30)\n",
    "b7 = Book('title7', 'author4', 30)\n",
    "\n",
    "s1 = Shelf()\n",
    "s2 = Shelf()"
   ]
  },
  {
   "cell_type": "code",
   "execution_count": 104,
   "metadata": {},
   "outputs": [],
   "source": [
    "s1 = Shelf() \n",
    "s1.book_list.append(b1)  # tell instance 's1' of shelf, use its attribute 'book_list', then revoke method 'append' to add object 'b1' into the 'book_list' which is also an attribute of Shelf "
   ]
  },
  {
   "cell_type": "code",
   "execution_count": 105,
   "metadata": {},
   "outputs": [],
   "source": [
    "s1.book_list.append(b2)\n",
    "s1.book_list.append(b3)\n"
   ]
  },
  {
   "cell_type": "code",
   "execution_count": 106,
   "metadata": {},
   "outputs": [
    {
     "data": {
      "text/plain": [
       "Shelf name: [Book: title1 written by: author1 sell at: 30, Book: title2 written by: author2 sell at: 30, Book: title3 written by: author3 sell at: 30]"
      ]
     },
     "execution_count": 106,
     "metadata": {},
     "output_type": "execute_result"
    }
   ],
   "source": [
    "s1"
   ]
  },
  {
   "cell_type": "code",
   "execution_count": 107,
   "metadata": {},
   "outputs": [
    {
     "data": {
      "text/plain": [
       "90"
      ]
     },
     "execution_count": 107,
     "metadata": {},
     "output_type": "execute_result"
    }
   ],
   "source": [
    "s1.shelf_value()"
   ]
  },
  {
   "cell_type": "code",
   "execution_count": 108,
   "metadata": {},
   "outputs": [],
   "source": [
    "s2.book_list.append(b4) \n",
    "s2.book_list.append(b5) \n",
    "s2.book_list.append(b6) \n"
   ]
  },
  {
   "cell_type": "code",
   "execution_count": 109,
   "metadata": {},
   "outputs": [
    {
     "data": {
      "text/plain": [
       "Shelf name: [Book: title4 written by: author4 sell at: 30, Book: title5 written by: author2 sell at: 30, Book: title6 written by: author3 sell at: 30]"
      ]
     },
     "execution_count": 109,
     "metadata": {},
     "output_type": "execute_result"
    }
   ],
   "source": [
    "s2"
   ]
  },
  {
   "cell_type": "code",
   "execution_count": 110,
   "metadata": {},
   "outputs": [
    {
     "data": {
      "text/plain": [
       "90"
      ]
     },
     "execution_count": 110,
     "metadata": {},
     "output_type": "execute_result"
    }
   ],
   "source": [
    "s2.shelf_value()"
   ]
  },
  {
   "cell_type": "code",
   "execution_count": 111,
   "metadata": {},
   "outputs": [],
   "source": [
    "Store1 = BookStore()"
   ]
  },
  {
   "cell_type": "code",
   "execution_count": 112,
   "metadata": {},
   "outputs": [],
   "source": [
    "Store2 = BookStore() "
   ]
  },
  {
   "cell_type": "code",
   "execution_count": 113,
   "metadata": {},
   "outputs": [],
   "source": [
    "Store1.store_list.append(s1)"
   ]
  },
  {
   "cell_type": "code",
   "execution_count": 114,
   "metadata": {},
   "outputs": [
    {
     "data": {
      "text/plain": [
       "Store info: [Shelf name: [Book: title1 written by: author1 sell at: 30, Book: title2 written by: author2 sell at: 30, Book: title3 written by: author3 sell at: 30]]"
      ]
     },
     "execution_count": 114,
     "metadata": {},
     "output_type": "execute_result"
    }
   ],
   "source": [
    "Store1"
   ]
  },
  {
   "cell_type": "code",
   "execution_count": 115,
   "metadata": {},
   "outputs": [
    {
     "data": {
      "text/plain": [
       "Shelf name: [Book: title1 written by: author1 sell at: 30, Book: title2 written by: author2 sell at: 30, Book: title3 written by: author3 sell at: 30]"
      ]
     },
     "execution_count": 115,
     "metadata": {},
     "output_type": "execute_result"
    }
   ],
   "source": [
    "s1"
   ]
  },
  {
   "cell_type": "code",
   "execution_count": 116,
   "metadata": {},
   "outputs": [
    {
     "data": {
      "text/plain": [
       "Shelf name: [Book: title4 written by: author4 sell at: 30, Book: title5 written by: author2 sell at: 30, Book: title6 written by: author3 sell at: 30]"
      ]
     },
     "execution_count": 116,
     "metadata": {},
     "output_type": "execute_result"
    }
   ],
   "source": [
    "s2"
   ]
  },
  {
   "cell_type": "code",
   "execution_count": 117,
   "metadata": {},
   "outputs": [
    {
     "data": {
      "text/plain": [
       "90"
      ]
     },
     "execution_count": 117,
     "metadata": {},
     "output_type": "execute_result"
    }
   ],
   "source": [
    "s2.shelf_value()"
   ]
  },
  {
   "cell_type": "code",
   "execution_count": 118,
   "metadata": {},
   "outputs": [],
   "source": [
    "Store1.store_list.append(s2)"
   ]
  },
  {
   "cell_type": "code",
   "execution_count": 119,
   "metadata": {},
   "outputs": [
    {
     "data": {
      "text/plain": [
       "Store info: [Shelf name: [Book: title1 written by: author1 sell at: 30, Book: title2 written by: author2 sell at: 30, Book: title3 written by: author3 sell at: 30], Shelf name: [Book: title4 written by: author4 sell at: 30, Book: title5 written by: author2 sell at: 30, Book: title6 written by: author3 sell at: 30]]"
      ]
     },
     "execution_count": 119,
     "metadata": {},
     "output_type": "execute_result"
    }
   ],
   "source": [
    "Store1"
   ]
  },
  {
   "cell_type": "code",
   "execution_count": 120,
   "metadata": {},
   "outputs": [
    {
     "data": {
      "text/plain": [
       "180"
      ]
     },
     "execution_count": 120,
     "metadata": {},
     "output_type": "execute_result"
    }
   ],
   "source": [
    "Store1.store_value() "
   ]
  },
  {
   "cell_type": "code",
   "execution_count": null,
   "metadata": {},
   "outputs": [],
   "source": []
  }
 ],
 "metadata": {
  "kernelspec": {
   "display_name": "Python 3",
   "language": "python",
   "name": "python3"
  },
  "language_info": {
   "codemirror_mode": {
    "name": "ipython",
    "version": 3
   },
   "file_extension": ".py",
   "mimetype": "text/x-python",
   "name": "python",
   "nbconvert_exporter": "python",
   "pygments_lexer": "ipython3",
   "version": "3.11.9"
  }
 },
 "nbformat": 4,
 "nbformat_minor": 2
}
