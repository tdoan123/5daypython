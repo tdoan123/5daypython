{
 "cells": [
  {
   "cell_type": "markdown",
   "metadata": {},
   "source": [
    "# what are Python objects\n"
   ]
  },
  {
   "cell_type": "markdown",
   "metadata": {},
   "source": [
    "### Introduction to OOP  "
   ]
  },
  {
   "cell_type": "code",
   "execution_count": 48,
   "metadata": {},
   "outputs": [],
   "source": [
    "# everything is an object means: \n",
    "# (1) everything a a type/class\n",
    "    # different datastructure has different characters. know what is the reason type it is   \n",
    "# (2) everything has attribute \n"
   ]
  },
  {
   "cell_type": "code",
   "execution_count": 49,
   "metadata": {},
   "outputs": [
    {
     "data": {
      "text/plain": [
       "int"
      ]
     },
     "execution_count": 49,
     "metadata": {},
     "output_type": "execute_result"
    }
   ],
   "source": [
    "x = 100 \n",
    "type(x)"
   ]
  },
  {
   "cell_type": "code",
   "execution_count": 50,
   "metadata": {},
   "outputs": [
    {
     "data": {
      "text/plain": [
       "str"
      ]
     },
     "execution_count": 50,
     "metadata": {},
     "output_type": "execute_result"
    }
   ],
   "source": [
    "x = 'abcd'\n",
    "type(x)"
   ]
  },
  {
   "cell_type": "code",
   "execution_count": 51,
   "metadata": {},
   "outputs": [
    {
     "data": {
      "text/plain": [
       "list"
      ]
     },
     "execution_count": 51,
     "metadata": {},
     "output_type": "execute_result"
    }
   ],
   "source": [
    "x = [10, 20, 30]\n",
    "type(x)"
   ]
  },
  {
   "cell_type": "code",
   "execution_count": 52,
   "metadata": {},
   "outputs": [],
   "source": [
    "# when asking what type of x, the question is to ask the type of value that 'x' is pointing to. Not the type of 'x' itself. \n",
    "# for example: x  = 100, type(x) is a int because the type of '100' is an integer. On the other hand, type(x) return list as the value within [ ] is a list that 'x' is pointing to. "
   ]
  },
  {
   "cell_type": "code",
   "execution_count": 53,
   "metadata": {},
   "outputs": [
    {
     "data": {
      "text/plain": [
       "type"
      ]
     },
     "execution_count": 53,
     "metadata": {},
     "output_type": "execute_result"
    }
   ],
   "source": [
    "\n",
    "# int is the class => the manufacture that make 'int'    \n",
    "type(int)"
   ]
  },
  {
   "cell_type": "code",
   "execution_count": 54,
   "metadata": {},
   "outputs": [],
   "source": [
    "# the type of class is type. \n",
    "# factory's factory = type -- every class' type is 'type' "
   ]
  },
  {
   "cell_type": "code",
   "execution_count": 55,
   "metadata": {},
   "outputs": [
    {
     "data": {
      "text/plain": [
       "type"
      ]
     },
     "execution_count": 55,
     "metadata": {},
     "output_type": "execute_result"
    }
   ],
   "source": [
    "type(type)"
   ]
  },
  {
   "cell_type": "code",
   "execution_count": 56,
   "metadata": {},
   "outputs": [],
   "source": [
    "# the above as the sample to illustrate how every single thing in python has it own type  "
   ]
  },
  {
   "cell_type": "code",
   "execution_count": 57,
   "metadata": {},
   "outputs": [
    {
     "ename": "NameError",
     "evalue": "name 'a' is not defined",
     "output_type": "error",
     "traceback": [
      "\u001b[1;31m---------------------------------------------------------------------------\u001b[0m",
      "\u001b[1;31mNameError\u001b[0m                                 Traceback (most recent call last)",
      "Cell \u001b[1;32mIn[57], line 1\u001b[0m\n\u001b[1;32m----> 1\u001b[0m \u001b[43ma\u001b[49m \u001b[38;5;66;03m# identifier = name = variable or function . an object of some sort \u001b[39;00m\n\u001b[0;32m      2\u001b[0m     \u001b[38;5;66;03m# search is LEGB \u001b[39;00m\n\u001b[0;32m      4\u001b[0m a\u001b[38;5;241m.\u001b[39mb \u001b[38;5;66;03m# .b means: look for the name (\"attrubute\") b inside of the object a \u001b[39;00m\n",
      "\u001b[1;31mNameError\u001b[0m: name 'a' is not defined"
     ]
    }
   ],
   "source": [
    "\n",
    "a # identifier = name = variable or function . an object of some sort \n",
    "    # search is LEGB \n",
    "    \n",
    "a.b # .b means: look for the name (\"attrubute\") b inside of the object a \n",
    "  \n",
    "# how to know how many attributes that is exits?  \n",
    "# => dir(a)"
   ]
  },
  {
   "cell_type": "code",
   "execution_count": 58,
   "metadata": {},
   "outputs": [
    {
     "data": {
      "text/plain": [
       "str"
      ]
     },
     "execution_count": 58,
     "metadata": {},
     "output_type": "execute_result"
    }
   ],
   "source": [
    "a = 'abcd'\n",
    "type(a) # to understand the type of a\n",
    "\n"
   ]
  },
  {
   "cell_type": "code",
   "execution_count": 59,
   "metadata": {},
   "outputs": [
    {
     "data": {
      "text/plain": [
       "['__add__',\n",
       " '__class__',\n",
       " '__contains__',\n",
       " '__delattr__',\n",
       " '__dir__',\n",
       " '__doc__',\n",
       " '__eq__',\n",
       " '__format__',\n",
       " '__ge__',\n",
       " '__getattribute__',\n",
       " '__getitem__',\n",
       " '__getnewargs__',\n",
       " '__getstate__',\n",
       " '__gt__',\n",
       " '__hash__',\n",
       " '__init__',\n",
       " '__init_subclass__',\n",
       " '__iter__',\n",
       " '__le__',\n",
       " '__len__',\n",
       " '__lt__',\n",
       " '__mod__',\n",
       " '__mul__',\n",
       " '__ne__',\n",
       " '__new__',\n",
       " '__reduce__',\n",
       " '__reduce_ex__',\n",
       " '__repr__',\n",
       " '__rmod__',\n",
       " '__rmul__',\n",
       " '__setattr__',\n",
       " '__sizeof__',\n",
       " '__str__',\n",
       " '__subclasshook__',\n",
       " 'capitalize',\n",
       " 'casefold',\n",
       " 'center',\n",
       " 'count',\n",
       " 'encode',\n",
       " 'endswith',\n",
       " 'expandtabs',\n",
       " 'find',\n",
       " 'format',\n",
       " 'format_map',\n",
       " 'index',\n",
       " 'isalnum',\n",
       " 'isalpha',\n",
       " 'isascii',\n",
       " 'isdecimal',\n",
       " 'isdigit',\n",
       " 'isidentifier',\n",
       " 'islower',\n",
       " 'isnumeric',\n",
       " 'isprintable',\n",
       " 'isspace',\n",
       " 'istitle',\n",
       " 'isupper',\n",
       " 'join',\n",
       " 'ljust',\n",
       " 'lower',\n",
       " 'lstrip',\n",
       " 'maketrans',\n",
       " 'partition',\n",
       " 'removeprefix',\n",
       " 'removesuffix',\n",
       " 'replace',\n",
       " 'rfind',\n",
       " 'rindex',\n",
       " 'rjust',\n",
       " 'rpartition',\n",
       " 'rsplit',\n",
       " 'rstrip',\n",
       " 'split',\n",
       " 'splitlines',\n",
       " 'startswith',\n",
       " 'strip',\n",
       " 'swapcase',\n",
       " 'title',\n",
       " 'translate',\n",
       " 'upper',\n",
       " 'zfill']"
      ]
     },
     "execution_count": 59,
     "metadata": {},
     "output_type": "execute_result"
    }
   ],
   "source": [
    "dir(a) # to access all of the attributes available to the type of 'a' => given 'a' is a stir type. the output of this code will lead to all of the attributes available to stir data type value "
   ]
  },
  {
   "cell_type": "code",
   "execution_count": 60,
   "metadata": {},
   "outputs": [
    {
     "data": {
      "text/plain": [
       "'ABCD'"
      ]
     },
     "execution_count": 60,
     "metadata": {},
     "output_type": "execute_result"
    }
   ],
   "source": [
    "a.upper()\n",
    "\n",
    "# hey, do you have a method called upper? if yes, revoke this method and give back the new value \n",
    "# methods are attributes. a particular type of artribute. when you are looking at \".\" in python, it means i am looking for attribute of the type of the name on the right side inside the object on the left side "
   ]
  },
  {
   "cell_type": "code",
   "execution_count": 61,
   "metadata": {},
   "outputs": [],
   "source": [
    "import os"
   ]
  },
  {
   "cell_type": "code",
   "execution_count": 62,
   "metadata": {},
   "outputs": [
    {
     "data": {
      "text/plain": [
       "'\\\\'"
      ]
     },
     "execution_count": 62,
     "metadata": {},
     "output_type": "execute_result"
    }
   ],
   "source": [
    "os.sep"
   ]
  },
  {
   "cell_type": "code",
   "execution_count": 63,
   "metadata": {},
   "outputs": [
    {
     "ename": "NameError",
     "evalue": "name 'sep' is not defined",
     "output_type": "error",
     "traceback": [
      "\u001b[1;31m---------------------------------------------------------------------------\u001b[0m",
      "\u001b[1;31mNameError\u001b[0m                                 Traceback (most recent call last)",
      "Cell \u001b[1;32mIn[63], line 1\u001b[0m\n\u001b[1;32m----> 1\u001b[0m \u001b[38;5;28mdir\u001b[39m(\u001b[43msep\u001b[49m)\n",
      "\u001b[1;31mNameError\u001b[0m: name 'sep' is not defined"
     ]
    }
   ],
   "source": [
    "dir(sep)"
   ]
  },
  {
   "cell_type": "code",
   "execution_count": 64,
   "metadata": {},
   "outputs": [
    {
     "data": {
      "text/plain": [
       "'\\\\'"
      ]
     },
     "execution_count": 64,
     "metadata": {},
     "output_type": "execute_result"
    }
   ],
   "source": [
    "os.sep"
   ]
  },
  {
   "cell_type": "code",
   "execution_count": 65,
   "metadata": {},
   "outputs": [],
   "source": [
    "os.sep = 'jjajaj'"
   ]
  },
  {
   "cell_type": "code",
   "execution_count": 66,
   "metadata": {},
   "outputs": [
    {
     "data": {
      "text/plain": [
       "'jjajaj'"
      ]
     },
     "execution_count": 66,
     "metadata": {},
     "output_type": "execute_result"
    }
   ],
   "source": [
    "os.sep"
   ]
  },
  {
   "cell_type": "code",
   "execution_count": 67,
   "metadata": {},
   "outputs": [],
   "source": [
    "# i can go to any object that I want and then change any attribute that I want or I can add a new attribute "
   ]
  },
  {
   "cell_type": "code",
   "execution_count": 68,
   "metadata": {},
   "outputs": [],
   "source": [
    "os.my_testing_atribute = \"set my own atribute\""
   ]
  },
  {
   "cell_type": "code",
   "execution_count": 69,
   "metadata": {},
   "outputs": [
    {
     "data": {
      "text/plain": [
       "'set my own atribute'"
      ]
     },
     "execution_count": 69,
     "metadata": {},
     "output_type": "execute_result"
    }
   ],
   "source": [
    "os.my_testing_atribute"
   ]
  },
  {
   "cell_type": "markdown",
   "metadata": {},
   "source": [
    "### Methods vs. functions "
   ]
  },
  {
   "cell_type": "code",
   "execution_count": 70,
   "metadata": {},
   "outputs": [
    {
     "data": {
      "text/plain": [
       "60"
      ]
     },
     "execution_count": 70,
     "metadata": {},
     "output_type": "execute_result"
    }
   ],
   "source": [
    "myList = [10, 20, 30]\n",
    "sum(myList) # \"sum\" is a function, takes a list as an argument "
   ]
  },
  {
   "cell_type": "code",
   "execution_count": 71,
   "metadata": {},
   "outputs": [],
   "source": [
    "# f(x) "
   ]
  },
  {
   "cell_type": "code",
   "execution_count": 72,
   "metadata": {},
   "outputs": [
    {
     "ename": "AttributeError",
     "evalue": "'list' object has no attribute 'sum'",
     "output_type": "error",
     "traceback": [
      "\u001b[1;31m---------------------------------------------------------------------------\u001b[0m",
      "\u001b[1;31mAttributeError\u001b[0m                            Traceback (most recent call last)",
      "Cell \u001b[1;32mIn[72], line 1\u001b[0m\n\u001b[1;32m----> 1\u001b[0m \u001b[43mmyList\u001b[49m\u001b[38;5;241;43m.\u001b[39;49m\u001b[43msum\u001b[49m()  \u001b[38;5;66;03m# this will not work!\u001b[39;00m\n",
      "\u001b[1;31mAttributeError\u001b[0m: 'list' object has no attribute 'sum'"
     ]
    }
   ],
   "source": [
    "myList.sum()  # this will not work!"
   ]
  },
  {
   "cell_type": "code",
   "execution_count": 73,
   "metadata": {},
   "outputs": [
    {
     "data": {
      "text/plain": [
       "30"
      ]
     },
     "execution_count": 73,
     "metadata": {},
     "output_type": "execute_result"
    }
   ],
   "source": [
    "myList.pop() # this is a method   "
   ]
  },
  {
   "cell_type": "code",
   "execution_count": 74,
   "metadata": {},
   "outputs": [
    {
     "data": {
      "text/plain": [
       "[10, 20]"
      ]
     },
     "execution_count": 74,
     "metadata": {},
     "output_type": "execute_result"
    }
   ],
   "source": [
    "myList"
   ]
  },
  {
   "cell_type": "code",
   "execution_count": 75,
   "metadata": {},
   "outputs": [],
   "source": [
    "# o.m()  => method systex \n",
    "# o = object \n",
    "# .m = is a attribute  \n",
    " "
   ]
  },
  {
   "cell_type": "code",
   "execution_count": 76,
   "metadata": {},
   "outputs": [
    {
     "data": {
      "text/plain": [
       "2"
      ]
     },
     "execution_count": 76,
     "metadata": {},
     "output_type": "execute_result"
    }
   ],
   "source": [
    "len(myList)"
   ]
  },
  {
   "cell_type": "code",
   "execution_count": 77,
   "metadata": {},
   "outputs": [],
   "source": [
    "# why not myList.len()?  cause it is designed by the python creators \n",
    "\n",
    "# how to know whether something is a function or an attribute?  \n",
    "    # look for '.' sign before them \n",
    "    # use help function to read the docstring and have better understanding of it  \n",
    "\n",
    "# how to use help function to understand an attribute? \n",
    "    # use help(data_type.[method_name])   "
   ]
  },
  {
   "cell_type": "code",
   "execution_count": 78,
   "metadata": {},
   "outputs": [
    {
     "name": "stdout",
     "output_type": "stream",
     "text": [
      "Help on list object:\n",
      "\n",
      "class list(object)\n",
      " |  list(iterable=(), /)\n",
      " |  \n",
      " |  Built-in mutable sequence.\n",
      " |  \n",
      " |  If no argument is given, the constructor creates a new empty list.\n",
      " |  The argument must be an iterable if specified.\n",
      " |  \n",
      " |  Methods defined here:\n",
      " |  \n",
      " |  __add__(self, value, /)\n",
      " |      Return self+value.\n",
      " |  \n",
      " |  __contains__(self, key, /)\n",
      " |      Return key in self.\n",
      " |  \n",
      " |  __delitem__(self, key, /)\n",
      " |      Delete self[key].\n",
      " |  \n",
      " |  __eq__(self, value, /)\n",
      " |      Return self==value.\n",
      " |  \n",
      " |  __ge__(self, value, /)\n",
      " |      Return self>=value.\n",
      " |  \n",
      " |  __getattribute__(self, name, /)\n",
      " |      Return getattr(self, name).\n",
      " |  \n",
      " |  __getitem__(...)\n",
      " |      x.__getitem__(y) <==> x[y]\n",
      " |  \n",
      " |  __gt__(self, value, /)\n",
      " |      Return self>value.\n",
      " |  \n",
      " |  __iadd__(self, value, /)\n",
      " |      Implement self+=value.\n",
      " |  \n",
      " |  __imul__(self, value, /)\n",
      " |      Implement self*=value.\n",
      " |  \n",
      " |  __init__(self, /, *args, **kwargs)\n",
      " |      Initialize self.  See help(type(self)) for accurate signature.\n",
      " |  \n",
      " |  __iter__(self, /)\n",
      " |      Implement iter(self).\n",
      " |  \n",
      " |  __le__(self, value, /)\n",
      " |      Return self<=value.\n",
      " |  \n",
      " |  __len__(self, /)\n",
      " |      Return len(self).\n",
      " |  \n",
      " |  __lt__(self, value, /)\n",
      " |      Return self<value.\n",
      " |  \n",
      " |  __mul__(self, value, /)\n",
      " |      Return self*value.\n",
      " |  \n",
      " |  __ne__(self, value, /)\n",
      " |      Return self!=value.\n",
      " |  \n",
      " |  __repr__(self, /)\n",
      " |      Return repr(self).\n",
      " |  \n",
      " |  __reversed__(self, /)\n",
      " |      Return a reverse iterator over the list.\n",
      " |  \n",
      " |  __rmul__(self, value, /)\n",
      " |      Return value*self.\n",
      " |  \n",
      " |  __setitem__(self, key, value, /)\n",
      " |      Set self[key] to value.\n",
      " |  \n",
      " |  __sizeof__(self, /)\n",
      " |      Return the size of the list in memory, in bytes.\n",
      " |  \n",
      " |  append(self, object, /)\n",
      " |      Append object to the end of the list.\n",
      " |  \n",
      " |  clear(self, /)\n",
      " |      Remove all items from list.\n",
      " |  \n",
      " |  copy(self, /)\n",
      " |      Return a shallow copy of the list.\n",
      " |  \n",
      " |  count(self, value, /)\n",
      " |      Return number of occurrences of value.\n",
      " |  \n",
      " |  extend(self, iterable, /)\n",
      " |      Extend list by appending elements from the iterable.\n",
      " |  \n",
      " |  index(self, value, start=0, stop=9223372036854775807, /)\n",
      " |      Return first index of value.\n",
      " |      \n",
      " |      Raises ValueError if the value is not present.\n",
      " |  \n",
      " |  insert(self, index, object, /)\n",
      " |      Insert object before index.\n",
      " |  \n",
      " |  pop(self, index=-1, /)\n",
      " |      Remove and return item at index (default last).\n",
      " |      \n",
      " |      Raises IndexError if list is empty or index is out of range.\n",
      " |  \n",
      " |  remove(self, value, /)\n",
      " |      Remove first occurrence of value.\n",
      " |      \n",
      " |      Raises ValueError if the value is not present.\n",
      " |  \n",
      " |  reverse(self, /)\n",
      " |      Reverse *IN PLACE*.\n",
      " |  \n",
      " |  sort(self, /, *, key=None, reverse=False)\n",
      " |      Sort the list in ascending order and return None.\n",
      " |      \n",
      " |      The sort is in-place (i.e. the list itself is modified) and stable (i.e. the\n",
      " |      order of two equal elements is maintained).\n",
      " |      \n",
      " |      If a key function is given, apply it once to each list item and sort them,\n",
      " |      ascending or descending, according to their function values.\n",
      " |      \n",
      " |      The reverse flag can be set to sort in descending order.\n",
      " |  \n",
      " |  ----------------------------------------------------------------------\n",
      " |  Class methods defined here:\n",
      " |  \n",
      " |  __class_getitem__(...)\n",
      " |      See PEP 585\n",
      " |  \n",
      " |  ----------------------------------------------------------------------\n",
      " |  Static methods defined here:\n",
      " |  \n",
      " |  __new__(*args, **kwargs)\n",
      " |      Create and return a new object.  See help(type) for accurate signature.\n",
      " |  \n",
      " |  ----------------------------------------------------------------------\n",
      " |  Data and other attributes defined here:\n",
      " |  \n",
      " |  __hash__ = None\n",
      "\n"
     ]
    }
   ],
   "source": [
    "help(myList)"
   ]
  },
  {
   "cell_type": "code",
   "execution_count": 79,
   "metadata": {},
   "outputs": [
    {
     "name": "stdout",
     "output_type": "stream",
     "text": [
      "Help on method_descriptor:\n",
      "\n",
      "pop(self, index=-1, /) unbound builtins.list method\n",
      "    Remove and return item at index (default last).\n",
      "    \n",
      "    Raises IndexError if list is empty or index is out of range.\n",
      "\n"
     ]
    }
   ],
   "source": [
    "help(list.pop)"
   ]
  },
  {
   "cell_type": "markdown",
   "metadata": {},
   "source": [
    "### The simplest Python class\n"
   ]
  },
  {
   "cell_type": "code",
   "execution_count": 80,
   "metadata": {},
   "outputs": [],
   "source": [
    "class Foo(object):\n",
    "    pass\n",
    "\n",
    "# python3: 'object' is optional => do not have to write it here  \n",
    "# python2: 'object' is required "
   ]
  },
  {
   "cell_type": "code",
   "execution_count": 81,
   "metadata": {},
   "outputs": [
    {
     "data": {
      "text/plain": [
       "type"
      ]
     },
     "execution_count": 81,
     "metadata": {},
     "output_type": "execute_result"
    }
   ],
   "source": [
    "type(Foo) # the type of all classes in python will by type "
   ]
  },
  {
   "cell_type": "code",
   "execution_count": 82,
   "metadata": {},
   "outputs": [
    {
     "data": {
      "text/plain": [
       "<__main__.Foo at 0x202dbe459d0>"
      ]
     },
     "execution_count": 82,
     "metadata": {},
     "output_type": "execute_result"
    }
   ],
   "source": [
    "Foo()"
   ]
  },
  {
   "cell_type": "code",
   "execution_count": 83,
   "metadata": {},
   "outputs": [
    {
     "ename": "TypeError",
     "evalue": "Foo() takes no arguments",
     "output_type": "error",
     "traceback": [
      "\u001b[1;31m---------------------------------------------------------------------------\u001b[0m",
      "\u001b[1;31mTypeError\u001b[0m                                 Traceback (most recent call last)",
      "Cell \u001b[1;32mIn[83], line 1\u001b[0m\n\u001b[1;32m----> 1\u001b[0m \u001b[43mFoo\u001b[49m\u001b[43m(\u001b[49m\u001b[38;5;124;43m'\u001b[39;49m\u001b[38;5;124;43m1234\u001b[39;49m\u001b[38;5;124;43m'\u001b[39;49m\u001b[43m)\u001b[49m\n",
      "\u001b[1;31mTypeError\u001b[0m: Foo() takes no arguments"
     ]
    }
   ],
   "source": [
    "Foo('1234')"
   ]
  },
  {
   "cell_type": "code",
   "execution_count": 84,
   "metadata": {},
   "outputs": [],
   "source": [
    "f = Foo()"
   ]
  },
  {
   "cell_type": "code",
   "execution_count": 85,
   "metadata": {},
   "outputs": [
    {
     "data": {
      "text/plain": [
       "__main__.Foo"
      ]
     },
     "execution_count": 85,
     "metadata": {},
     "output_type": "execute_result"
    }
   ],
   "source": [
    "type(f)"
   ]
  },
  {
   "cell_type": "code",
   "execution_count": 86,
   "metadata": {},
   "outputs": [
    {
     "data": {
      "text/plain": [
       "['__class__',\n",
       " '__delattr__',\n",
       " '__dict__',\n",
       " '__dir__',\n",
       " '__doc__',\n",
       " '__eq__',\n",
       " '__format__',\n",
       " '__ge__',\n",
       " '__getattribute__',\n",
       " '__getstate__',\n",
       " '__gt__',\n",
       " '__hash__',\n",
       " '__init__',\n",
       " '__init_subclass__',\n",
       " '__le__',\n",
       " '__lt__',\n",
       " '__module__',\n",
       " '__ne__',\n",
       " '__new__',\n",
       " '__reduce__',\n",
       " '__reduce_ex__',\n",
       " '__repr__',\n",
       " '__setattr__',\n",
       " '__sizeof__',\n",
       " '__str__',\n",
       " '__subclasshook__',\n",
       " '__weakref__']"
      ]
     },
     "execution_count": 86,
     "metadata": {},
     "output_type": "execute_result"
    }
   ],
   "source": [
    "dir(f)"
   ]
  },
  {
   "cell_type": "code",
   "execution_count": 87,
   "metadata": {},
   "outputs": [],
   "source": [
    "# f is an object of type foo. "
   ]
  },
  {
   "cell_type": "code",
   "execution_count": 88,
   "metadata": {},
   "outputs": [
    {
     "data": {
      "text/plain": [
       "['__class__',\n",
       " '__delattr__',\n",
       " '__dict__',\n",
       " '__dir__',\n",
       " '__doc__',\n",
       " '__eq__',\n",
       " '__format__',\n",
       " '__ge__',\n",
       " '__getattribute__',\n",
       " '__getstate__',\n",
       " '__gt__',\n",
       " '__hash__',\n",
       " '__init__',\n",
       " '__init_subclass__',\n",
       " '__le__',\n",
       " '__lt__',\n",
       " '__module__',\n",
       " '__ne__',\n",
       " '__new__',\n",
       " '__reduce__',\n",
       " '__reduce_ex__',\n",
       " '__repr__',\n",
       " '__setattr__',\n",
       " '__sizeof__',\n",
       " '__str__',\n",
       " '__subclasshook__',\n",
       " '__weakref__']"
      ]
     },
     "execution_count": 88,
     "metadata": {},
     "output_type": "execute_result"
    }
   ],
   "source": [
    "dir(Foo)"
   ]
  },
  {
   "cell_type": "code",
   "execution_count": 89,
   "metadata": {},
   "outputs": [],
   "source": [
    "# this is the attribute of general \"Foo\"\n"
   ]
  },
  {
   "cell_type": "code",
   "execution_count": 90,
   "metadata": {},
   "outputs": [
    {
     "data": {
      "text/plain": [
       "type"
      ]
     },
     "execution_count": 90,
     "metadata": {},
     "output_type": "execute_result"
    }
   ],
   "source": [
    "type(str)"
   ]
  },
  {
   "cell_type": "code",
   "execution_count": 91,
   "metadata": {},
   "outputs": [
    {
     "data": {
      "text/plain": [
       "['__add__',\n",
       " '__class__',\n",
       " '__contains__',\n",
       " '__delattr__',\n",
       " '__dir__',\n",
       " '__doc__',\n",
       " '__eq__',\n",
       " '__format__',\n",
       " '__ge__',\n",
       " '__getattribute__',\n",
       " '__getitem__',\n",
       " '__getnewargs__',\n",
       " '__getstate__',\n",
       " '__gt__',\n",
       " '__hash__',\n",
       " '__init__',\n",
       " '__init_subclass__',\n",
       " '__iter__',\n",
       " '__le__',\n",
       " '__len__',\n",
       " '__lt__',\n",
       " '__mod__',\n",
       " '__mul__',\n",
       " '__ne__',\n",
       " '__new__',\n",
       " '__reduce__',\n",
       " '__reduce_ex__',\n",
       " '__repr__',\n",
       " '__rmod__',\n",
       " '__rmul__',\n",
       " '__setattr__',\n",
       " '__sizeof__',\n",
       " '__str__',\n",
       " '__subclasshook__',\n",
       " 'capitalize',\n",
       " 'casefold',\n",
       " 'center',\n",
       " 'count',\n",
       " 'encode',\n",
       " 'endswith',\n",
       " 'expandtabs',\n",
       " 'find',\n",
       " 'format',\n",
       " 'format_map',\n",
       " 'index',\n",
       " 'isalnum',\n",
       " 'isalpha',\n",
       " 'isascii',\n",
       " 'isdecimal',\n",
       " 'isdigit',\n",
       " 'isidentifier',\n",
       " 'islower',\n",
       " 'isnumeric',\n",
       " 'isprintable',\n",
       " 'isspace',\n",
       " 'istitle',\n",
       " 'isupper',\n",
       " 'join',\n",
       " 'ljust',\n",
       " 'lower',\n",
       " 'lstrip',\n",
       " 'maketrans',\n",
       " 'partition',\n",
       " 'removeprefix',\n",
       " 'removesuffix',\n",
       " 'replace',\n",
       " 'rfind',\n",
       " 'rindex',\n",
       " 'rjust',\n",
       " 'rpartition',\n",
       " 'rsplit',\n",
       " 'rstrip',\n",
       " 'split',\n",
       " 'splitlines',\n",
       " 'startswith',\n",
       " 'strip',\n",
       " 'swapcase',\n",
       " 'title',\n",
       " 'translate',\n",
       " 'upper',\n",
       " 'zfill']"
      ]
     },
     "execution_count": 91,
     "metadata": {},
     "output_type": "execute_result"
    }
   ],
   "source": [
    "dir(str)"
   ]
  },
  {
   "cell_type": "markdown",
   "metadata": {},
   "source": [
    "### Adding attributes "
   ]
  },
  {
   "cell_type": "code",
   "execution_count": 92,
   "metadata": {},
   "outputs": [
    {
     "data": {
      "text/plain": [
       "<__main__.Foo at 0x202dacc3190>"
      ]
     },
     "execution_count": 92,
     "metadata": {},
     "output_type": "execute_result"
    }
   ],
   "source": [
    "f"
   ]
  },
  {
   "cell_type": "code",
   "execution_count": 93,
   "metadata": {},
   "outputs": [
    {
     "data": {
      "text/plain": [
       "{'__name__': '__main__',\n",
       " '__doc__': 'Automatically created module for IPython interactive environment',\n",
       " '__package__': None,\n",
       " '__loader__': None,\n",
       " '__spec__': None,\n",
       " '__builtin__': <module 'builtins' (built-in)>,\n",
       " '__builtins__': <module 'builtins' (built-in)>,\n",
       " '_ih': ['',\n",
       "  '# everything is an object means: \\n# (1) everything a a type/class\\n    # different datastructure has different characters. know what is the reason type it is   \\n# (2) everything has attribute ',\n",
       "  'x = 100 \\ntype(x)',\n",
       "  \"x = 'abcd'\\ntype(x)\",\n",
       "  'x = [10, 20, 30]\\ntype(x)',\n",
       "  \"# when asking what type of x, the question is to ask the type of value that 'x' is pointing to. Not the type of 'x' itself. \\n# for example: x  = 100, type(x) is a int because the type of '100' is an integer. On the other hand, type(x) return list as the value within [ ] is a list that 'x' is pointing to. \",\n",
       "  \"# int is the class => the manufacture that make 'int'    \\ntype(int)\",\n",
       "  \"# the type of class is type. \\n# factory's factory = type -- every class' type is 'type' \",\n",
       "  'type(type)',\n",
       "  '# the above as the sample to illustrate how every single thing in python has it own type  ',\n",
       "  'a # identifier = name = variable or function . an object of some sort \\n    # search is LEGB \\n    \\na.b # .b means: look for the name (\"attrubute\") b inside of the object a \\n  \\n# how to know how many attributes that is exits?  \\n# => dir(a)',\n",
       "  \"myList.count('20')\",\n",
       "  '# everything is an object means: \\n# (1) everything a a type/class\\n    # different datastructure has different characters. know what is the reason type it is   \\n# (2) everything has attribute ',\n",
       "  'x = 100 \\ntype(x)',\n",
       "  \"x = 'abcd'\\ntype(x)\",\n",
       "  'x = [10, 20, 30]\\ntype(x)',\n",
       "  \"# when asking what type of x, the question is to ask the type of value that 'x' is pointing to. Not the type of 'x' itself. \\n# for example: x  = 100, type(x) is a int because the type of '100' is an integer. On the other hand, type(x) return list as the value within [ ] is a list that 'x' is pointing to. \",\n",
       "  \"# int is the class => the manufacture that make 'int'    \\ntype(int)\",\n",
       "  \"# the type of class is type. \\n# factory's factory = type -- every class' type is 'type' \",\n",
       "  'type(type)',\n",
       "  '# the above as the sample to illustrate how every single thing in python has it own type  ',\n",
       "  'a # identifier = name = variable or function . an object of some sort \\n    # search is LEGB \\n    \\na.b # .b means: look for the name (\"attrubute\") b inside of the object a \\n  \\n# how to know how many attributes that is exits?  \\n# => dir(a)',\n",
       "  'vars(f)',\n",
       "  'vars(list)',\n",
       "  \"myList.count('20')\",\n",
       "  'type(myList)',\n",
       "  '# everything is an object means: \\n# (1) everything a a type/class\\n    # different datastructure has different characters. know what is the reason type it is   \\n# (2) everything has attribute ',\n",
       "  'x = 100 \\ntype(x)',\n",
       "  \"x = 'abcd'\\ntype(x)\",\n",
       "  'x = [10, 20, 30]\\ntype(x)',\n",
       "  \"# when asking what type of x, the question is to ask the type of value that 'x' is pointing to. Not the type of 'x' itself. \\n# for example: x  = 100, type(x) is a int because the type of '100' is an integer. On the other hand, type(x) return list as the value within [ ] is a list that 'x' is pointing to. \",\n",
       "  \"# int is the class => the manufacture that make 'int'    \\ntype(int)\",\n",
       "  \"# the type of class is type. \\n# factory's factory = type -- every class' type is 'type' \",\n",
       "  'type(type)',\n",
       "  '# the above as the sample to illustrate how every single thing in python has it own type  ',\n",
       "  'a # identifier = name = variable or function . an object of some sort \\n    # search is LEGB \\n    \\na.b # .b means: look for the name (\"attrubute\") b inside of the object a \\n  \\n# how to know how many attributes that is exits?  \\n# => dir(a)',\n",
       "  '# everything is an object means: \\n# (1) everything a a type/class\\n    # different datastructure has different characters. know what is the reason type it is   \\n# (2) everything has attribute ',\n",
       "  'x = 100 \\ntype(x)',\n",
       "  \"x = 'abcd'\\ntype(x)\",\n",
       "  'x = [10, 20, 30]\\ntype(x)',\n",
       "  \"# when asking what type of x, the question is to ask the type of value that 'x' is pointing to. Not the type of 'x' itself. \\n# for example: x  = 100, type(x) is a int because the type of '100' is an integer. On the other hand, type(x) return list as the value within [ ] is a list that 'x' is pointing to. \",\n",
       "  \"# int is the class => the manufacture that make 'int'    \\ntype(int)\",\n",
       "  \"# the type of class is type. \\n# factory's factory = type -- every class' type is 'type' \",\n",
       "  'type(type)',\n",
       "  '# the above as the sample to illustrate how every single thing in python has it own type  ',\n",
       "  'a # identifier = name = variable or function . an object of some sort \\n    # search is LEGB \\n    \\na.b # .b means: look for the name (\"attrubute\") b inside of the object a \\n  \\n# how to know how many attributes that is exits?  \\n# => dir(a)',\n",
       "  'type(myList)',\n",
       "  'type(Foo)',\n",
       "  '# everything is an object means: \\n# (1) everything a a type/class\\n    # different datastructure has different characters. know what is the reason type it is   \\n# (2) everything has attribute ',\n",
       "  'x = 100 \\ntype(x)',\n",
       "  \"x = 'abcd'\\ntype(x)\",\n",
       "  'x = [10, 20, 30]\\ntype(x)',\n",
       "  \"# when asking what type of x, the question is to ask the type of value that 'x' is pointing to. Not the type of 'x' itself. \\n# for example: x  = 100, type(x) is a int because the type of '100' is an integer. On the other hand, type(x) return list as the value within [ ] is a list that 'x' is pointing to. \",\n",
       "  \"# int is the class => the manufacture that make 'int'    \\ntype(int)\",\n",
       "  \"# the type of class is type. \\n# factory's factory = type -- every class' type is 'type' \",\n",
       "  'type(type)',\n",
       "  '# the above as the sample to illustrate how every single thing in python has it own type  ',\n",
       "  'a # identifier = name = variable or function . an object of some sort \\n    # search is LEGB \\n    \\na.b # .b means: look for the name (\"attrubute\") b inside of the object a \\n  \\n# how to know how many attributes that is exits?  \\n# => dir(a)',\n",
       "  \"a = 'abcd'\\ntype(a) # to understand the type of a\",\n",
       "  \"dir(a) # to access all of the attributes available to the type of 'a' => given 'a' is a stir type. the output of this code will lead to all of the attributes available to stir data type value \",\n",
       "  'a.upper()\\n\\n# hey, do you have a method called upper? if yes, revoke this method and give back the new value \\n# methods are attributes. a particular type of artribute. when you are looking at \".\" in python, it means i am looking for attribute of the type of the name on the right side inside the object on the left side ',\n",
       "  'import os',\n",
       "  'os.sep',\n",
       "  'dir(sep)',\n",
       "  'os.sep',\n",
       "  \"os.sep = 'jjajaj'\",\n",
       "  'os.sep',\n",
       "  '# i can go to any object that I want and then change any attribute that I want or I can add a new attribute ',\n",
       "  'os.my_testing_atribute = \"set my own atribute\"',\n",
       "  'os.my_testing_atribute',\n",
       "  'myList = [10, 20, 30]\\nsum(myList) # \"sum\" is a function, takes a list as an argument ',\n",
       "  '# f(x) ',\n",
       "  'myList.sum()  # this will not work!',\n",
       "  'myList.pop() # this is a method   ',\n",
       "  'myList',\n",
       "  '# o.m()  => method systex \\n# o = object \\n# .m = is a attribute  \\n ',\n",
       "  'len(myList)',\n",
       "  \"# why not myList.len()?  cause it is designed by the python creators \\n\\n# how to know whether something is a function or an attribute?  \\n    # look for '.' sign before them \\n    # use help function to read the docstring and have better understanding of it  \\n\\n# how to use help function to understand an attribute? \\n    # use help(data_type.[method_name])   \",\n",
       "  'help(myList)',\n",
       "  'help(list.pop)',\n",
       "  \"class Foo(object):\\n    pass\\n\\n# python3: 'object' is optional => do not have to write it here  \\n# python2: 'object' is required \",\n",
       "  'type(Foo) # the type of all classes in python will by type ',\n",
       "  'Foo()',\n",
       "  \"Foo('1234')\",\n",
       "  'f = Foo()',\n",
       "  'type(f)',\n",
       "  'dir(f)',\n",
       "  '# f is an object of type foo. ',\n",
       "  'dir(Foo)',\n",
       "  '# this is the attribute of general \"Foo\"',\n",
       "  'type(str)',\n",
       "  'dir(str)',\n",
       "  'f',\n",
       "  'vars()'],\n",
       " '_oh': {2: int,\n",
       "  3: str,\n",
       "  4: list,\n",
       "  6: type,\n",
       "  8: type,\n",
       "  13: int,\n",
       "  14: str,\n",
       "  15: list,\n",
       "  17: type,\n",
       "  19: type,\n",
       "  23: mappingproxy({'__new__': <function list.__new__(*args, **kwargs)>,\n",
       "                '__repr__': <slot wrapper '__repr__' of 'list' objects>,\n",
       "                '__hash__': None,\n",
       "                '__getattribute__': <slot wrapper '__getattribute__' of 'list' objects>,\n",
       "                '__lt__': <slot wrapper '__lt__' of 'list' objects>,\n",
       "                '__le__': <slot wrapper '__le__' of 'list' objects>,\n",
       "                '__eq__': <slot wrapper '__eq__' of 'list' objects>,\n",
       "                '__ne__': <slot wrapper '__ne__' of 'list' objects>,\n",
       "                '__gt__': <slot wrapper '__gt__' of 'list' objects>,\n",
       "                '__ge__': <slot wrapper '__ge__' of 'list' objects>,\n",
       "                '__iter__': <slot wrapper '__iter__' of 'list' objects>,\n",
       "                '__init__': <slot wrapper '__init__' of 'list' objects>,\n",
       "                '__len__': <slot wrapper '__len__' of 'list' objects>,\n",
       "                '__getitem__': <method '__getitem__' of 'list' objects>,\n",
       "                '__setitem__': <slot wrapper '__setitem__' of 'list' objects>,\n",
       "                '__delitem__': <slot wrapper '__delitem__' of 'list' objects>,\n",
       "                '__add__': <slot wrapper '__add__' of 'list' objects>,\n",
       "                '__mul__': <slot wrapper '__mul__' of 'list' objects>,\n",
       "                '__rmul__': <slot wrapper '__rmul__' of 'list' objects>,\n",
       "                '__contains__': <slot wrapper '__contains__' of 'list' objects>,\n",
       "                '__iadd__': <slot wrapper '__iadd__' of 'list' objects>,\n",
       "                '__imul__': <slot wrapper '__imul__' of 'list' objects>,\n",
       "                '__reversed__': <method '__reversed__' of 'list' objects>,\n",
       "                '__sizeof__': <method '__sizeof__' of 'list' objects>,\n",
       "                'clear': <method 'clear' of 'list' objects>,\n",
       "                'copy': <method 'copy' of 'list' objects>,\n",
       "                'append': <method 'append' of 'list' objects>,\n",
       "                'insert': <method 'insert' of 'list' objects>,\n",
       "                'extend': <method 'extend' of 'list' objects>,\n",
       "                'pop': <method 'pop' of 'list' objects>,\n",
       "                'remove': <method 'remove' of 'list' objects>,\n",
       "                'index': <method 'index' of 'list' objects>,\n",
       "                'count': <method 'count' of 'list' objects>,\n",
       "                'reverse': <method 'reverse' of 'list' objects>,\n",
       "                'sort': <method 'sort' of 'list' objects>,\n",
       "                '__class_getitem__': <method '__class_getitem__' of 'list' objects>,\n",
       "                '__doc__': 'Built-in mutable sequence.\\n\\nIf no argument is given, the constructor creates a new empty list.\\nThe argument must be an iterable if specified.'}),\n",
       "  27: int,\n",
       "  28: str,\n",
       "  29: list,\n",
       "  31: type,\n",
       "  33: type,\n",
       "  37: int,\n",
       "  38: str,\n",
       "  39: list,\n",
       "  41: type,\n",
       "  43: type,\n",
       "  49: int,\n",
       "  50: str,\n",
       "  51: list,\n",
       "  53: type,\n",
       "  55: type,\n",
       "  58: str,\n",
       "  59: ['__add__',\n",
       "   '__class__',\n",
       "   '__contains__',\n",
       "   '__delattr__',\n",
       "   '__dir__',\n",
       "   '__doc__',\n",
       "   '__eq__',\n",
       "   '__format__',\n",
       "   '__ge__',\n",
       "   '__getattribute__',\n",
       "   '__getitem__',\n",
       "   '__getnewargs__',\n",
       "   '__getstate__',\n",
       "   '__gt__',\n",
       "   '__hash__',\n",
       "   '__init__',\n",
       "   '__init_subclass__',\n",
       "   '__iter__',\n",
       "   '__le__',\n",
       "   '__len__',\n",
       "   '__lt__',\n",
       "   '__mod__',\n",
       "   '__mul__',\n",
       "   '__ne__',\n",
       "   '__new__',\n",
       "   '__reduce__',\n",
       "   '__reduce_ex__',\n",
       "   '__repr__',\n",
       "   '__rmod__',\n",
       "   '__rmul__',\n",
       "   '__setattr__',\n",
       "   '__sizeof__',\n",
       "   '__str__',\n",
       "   '__subclasshook__',\n",
       "   'capitalize',\n",
       "   'casefold',\n",
       "   'center',\n",
       "   'count',\n",
       "   'encode',\n",
       "   'endswith',\n",
       "   'expandtabs',\n",
       "   'find',\n",
       "   'format',\n",
       "   'format_map',\n",
       "   'index',\n",
       "   'isalnum',\n",
       "   'isalpha',\n",
       "   'isascii',\n",
       "   'isdecimal',\n",
       "   'isdigit',\n",
       "   'isidentifier',\n",
       "   'islower',\n",
       "   'isnumeric',\n",
       "   'isprintable',\n",
       "   'isspace',\n",
       "   'istitle',\n",
       "   'isupper',\n",
       "   'join',\n",
       "   'ljust',\n",
       "   'lower',\n",
       "   'lstrip',\n",
       "   'maketrans',\n",
       "   'partition',\n",
       "   'removeprefix',\n",
       "   'removesuffix',\n",
       "   'replace',\n",
       "   'rfind',\n",
       "   'rindex',\n",
       "   'rjust',\n",
       "   'rpartition',\n",
       "   'rsplit',\n",
       "   'rstrip',\n",
       "   'split',\n",
       "   'splitlines',\n",
       "   'startswith',\n",
       "   'strip',\n",
       "   'swapcase',\n",
       "   'title',\n",
       "   'translate',\n",
       "   'upper',\n",
       "   'zfill'],\n",
       "  60: 'ABCD',\n",
       "  62: '\\\\',\n",
       "  64: '\\\\',\n",
       "  66: 'jjajaj',\n",
       "  69: 'set my own atribute',\n",
       "  70: 60,\n",
       "  73: 30,\n",
       "  74: [10, 20],\n",
       "  76: 2,\n",
       "  81: type,\n",
       "  82: <__main__.Foo at 0x202dbe459d0>,\n",
       "  85: __main__.Foo,\n",
       "  86: ['__class__',\n",
       "   '__delattr__',\n",
       "   '__dict__',\n",
       "   '__dir__',\n",
       "   '__doc__',\n",
       "   '__eq__',\n",
       "   '__format__',\n",
       "   '__ge__',\n",
       "   '__getattribute__',\n",
       "   '__getstate__',\n",
       "   '__gt__',\n",
       "   '__hash__',\n",
       "   '__init__',\n",
       "   '__init_subclass__',\n",
       "   '__le__',\n",
       "   '__lt__',\n",
       "   '__module__',\n",
       "   '__ne__',\n",
       "   '__new__',\n",
       "   '__reduce__',\n",
       "   '__reduce_ex__',\n",
       "   '__repr__',\n",
       "   '__setattr__',\n",
       "   '__sizeof__',\n",
       "   '__str__',\n",
       "   '__subclasshook__',\n",
       "   '__weakref__'],\n",
       "  88: ['__class__',\n",
       "   '__delattr__',\n",
       "   '__dict__',\n",
       "   '__dir__',\n",
       "   '__doc__',\n",
       "   '__eq__',\n",
       "   '__format__',\n",
       "   '__ge__',\n",
       "   '__getattribute__',\n",
       "   '__getstate__',\n",
       "   '__gt__',\n",
       "   '__hash__',\n",
       "   '__init__',\n",
       "   '__init_subclass__',\n",
       "   '__le__',\n",
       "   '__lt__',\n",
       "   '__module__',\n",
       "   '__ne__',\n",
       "   '__new__',\n",
       "   '__reduce__',\n",
       "   '__reduce_ex__',\n",
       "   '__repr__',\n",
       "   '__setattr__',\n",
       "   '__sizeof__',\n",
       "   '__str__',\n",
       "   '__subclasshook__',\n",
       "   '__weakref__'],\n",
       "  90: type,\n",
       "  91: ['__add__',\n",
       "   '__class__',\n",
       "   '__contains__',\n",
       "   '__delattr__',\n",
       "   '__dir__',\n",
       "   '__doc__',\n",
       "   '__eq__',\n",
       "   '__format__',\n",
       "   '__ge__',\n",
       "   '__getattribute__',\n",
       "   '__getitem__',\n",
       "   '__getnewargs__',\n",
       "   '__getstate__',\n",
       "   '__gt__',\n",
       "   '__hash__',\n",
       "   '__init__',\n",
       "   '__init_subclass__',\n",
       "   '__iter__',\n",
       "   '__le__',\n",
       "   '__len__',\n",
       "   '__lt__',\n",
       "   '__mod__',\n",
       "   '__mul__',\n",
       "   '__ne__',\n",
       "   '__new__',\n",
       "   '__reduce__',\n",
       "   '__reduce_ex__',\n",
       "   '__repr__',\n",
       "   '__rmod__',\n",
       "   '__rmul__',\n",
       "   '__setattr__',\n",
       "   '__sizeof__',\n",
       "   '__str__',\n",
       "   '__subclasshook__',\n",
       "   'capitalize',\n",
       "   'casefold',\n",
       "   'center',\n",
       "   'count',\n",
       "   'encode',\n",
       "   'endswith',\n",
       "   'expandtabs',\n",
       "   'find',\n",
       "   'format',\n",
       "   'format_map',\n",
       "   'index',\n",
       "   'isalnum',\n",
       "   'isalpha',\n",
       "   'isascii',\n",
       "   'isdecimal',\n",
       "   'isdigit',\n",
       "   'isidentifier',\n",
       "   'islower',\n",
       "   'isnumeric',\n",
       "   'isprintable',\n",
       "   'isspace',\n",
       "   'istitle',\n",
       "   'isupper',\n",
       "   'join',\n",
       "   'ljust',\n",
       "   'lower',\n",
       "   'lstrip',\n",
       "   'maketrans',\n",
       "   'partition',\n",
       "   'removeprefix',\n",
       "   'removesuffix',\n",
       "   'replace',\n",
       "   'rfind',\n",
       "   'rindex',\n",
       "   'rjust',\n",
       "   'rpartition',\n",
       "   'rsplit',\n",
       "   'rstrip',\n",
       "   'split',\n",
       "   'splitlines',\n",
       "   'startswith',\n",
       "   'strip',\n",
       "   'swapcase',\n",
       "   'title',\n",
       "   'translate',\n",
       "   'upper',\n",
       "   'zfill'],\n",
       "  92: <__main__.Foo at 0x202dacc3190>},\n",
       " '_dh': [WindowsPath('c:/Users/dqthi/OneDrive/Coding_Journey/CodeBreakThrough/Beginner_Python_Programming_All-in-One_Tutorial_Series')],\n",
       " 'In': ['',\n",
       "  '# everything is an object means: \\n# (1) everything a a type/class\\n    # different datastructure has different characters. know what is the reason type it is   \\n# (2) everything has attribute ',\n",
       "  'x = 100 \\ntype(x)',\n",
       "  \"x = 'abcd'\\ntype(x)\",\n",
       "  'x = [10, 20, 30]\\ntype(x)',\n",
       "  \"# when asking what type of x, the question is to ask the type of value that 'x' is pointing to. Not the type of 'x' itself. \\n# for example: x  = 100, type(x) is a int because the type of '100' is an integer. On the other hand, type(x) return list as the value within [ ] is a list that 'x' is pointing to. \",\n",
       "  \"# int is the class => the manufacture that make 'int'    \\ntype(int)\",\n",
       "  \"# the type of class is type. \\n# factory's factory = type -- every class' type is 'type' \",\n",
       "  'type(type)',\n",
       "  '# the above as the sample to illustrate how every single thing in python has it own type  ',\n",
       "  'a # identifier = name = variable or function . an object of some sort \\n    # search is LEGB \\n    \\na.b # .b means: look for the name (\"attrubute\") b inside of the object a \\n  \\n# how to know how many attributes that is exits?  \\n# => dir(a)',\n",
       "  \"myList.count('20')\",\n",
       "  '# everything is an object means: \\n# (1) everything a a type/class\\n    # different datastructure has different characters. know what is the reason type it is   \\n# (2) everything has attribute ',\n",
       "  'x = 100 \\ntype(x)',\n",
       "  \"x = 'abcd'\\ntype(x)\",\n",
       "  'x = [10, 20, 30]\\ntype(x)',\n",
       "  \"# when asking what type of x, the question is to ask the type of value that 'x' is pointing to. Not the type of 'x' itself. \\n# for example: x  = 100, type(x) is a int because the type of '100' is an integer. On the other hand, type(x) return list as the value within [ ] is a list that 'x' is pointing to. \",\n",
       "  \"# int is the class => the manufacture that make 'int'    \\ntype(int)\",\n",
       "  \"# the type of class is type. \\n# factory's factory = type -- every class' type is 'type' \",\n",
       "  'type(type)',\n",
       "  '# the above as the sample to illustrate how every single thing in python has it own type  ',\n",
       "  'a # identifier = name = variable or function . an object of some sort \\n    # search is LEGB \\n    \\na.b # .b means: look for the name (\"attrubute\") b inside of the object a \\n  \\n# how to know how many attributes that is exits?  \\n# => dir(a)',\n",
       "  'vars(f)',\n",
       "  'vars(list)',\n",
       "  \"myList.count('20')\",\n",
       "  'type(myList)',\n",
       "  '# everything is an object means: \\n# (1) everything a a type/class\\n    # different datastructure has different characters. know what is the reason type it is   \\n# (2) everything has attribute ',\n",
       "  'x = 100 \\ntype(x)',\n",
       "  \"x = 'abcd'\\ntype(x)\",\n",
       "  'x = [10, 20, 30]\\ntype(x)',\n",
       "  \"# when asking what type of x, the question is to ask the type of value that 'x' is pointing to. Not the type of 'x' itself. \\n# for example: x  = 100, type(x) is a int because the type of '100' is an integer. On the other hand, type(x) return list as the value within [ ] is a list that 'x' is pointing to. \",\n",
       "  \"# int is the class => the manufacture that make 'int'    \\ntype(int)\",\n",
       "  \"# the type of class is type. \\n# factory's factory = type -- every class' type is 'type' \",\n",
       "  'type(type)',\n",
       "  '# the above as the sample to illustrate how every single thing in python has it own type  ',\n",
       "  'a # identifier = name = variable or function . an object of some sort \\n    # search is LEGB \\n    \\na.b # .b means: look for the name (\"attrubute\") b inside of the object a \\n  \\n# how to know how many attributes that is exits?  \\n# => dir(a)',\n",
       "  '# everything is an object means: \\n# (1) everything a a type/class\\n    # different datastructure has different characters. know what is the reason type it is   \\n# (2) everything has attribute ',\n",
       "  'x = 100 \\ntype(x)',\n",
       "  \"x = 'abcd'\\ntype(x)\",\n",
       "  'x = [10, 20, 30]\\ntype(x)',\n",
       "  \"# when asking what type of x, the question is to ask the type of value that 'x' is pointing to. Not the type of 'x' itself. \\n# for example: x  = 100, type(x) is a int because the type of '100' is an integer. On the other hand, type(x) return list as the value within [ ] is a list that 'x' is pointing to. \",\n",
       "  \"# int is the class => the manufacture that make 'int'    \\ntype(int)\",\n",
       "  \"# the type of class is type. \\n# factory's factory = type -- every class' type is 'type' \",\n",
       "  'type(type)',\n",
       "  '# the above as the sample to illustrate how every single thing in python has it own type  ',\n",
       "  'a # identifier = name = variable or function . an object of some sort \\n    # search is LEGB \\n    \\na.b # .b means: look for the name (\"attrubute\") b inside of the object a \\n  \\n# how to know how many attributes that is exits?  \\n# => dir(a)',\n",
       "  'type(myList)',\n",
       "  'type(Foo)',\n",
       "  '# everything is an object means: \\n# (1) everything a a type/class\\n    # different datastructure has different characters. know what is the reason type it is   \\n# (2) everything has attribute ',\n",
       "  'x = 100 \\ntype(x)',\n",
       "  \"x = 'abcd'\\ntype(x)\",\n",
       "  'x = [10, 20, 30]\\ntype(x)',\n",
       "  \"# when asking what type of x, the question is to ask the type of value that 'x' is pointing to. Not the type of 'x' itself. \\n# for example: x  = 100, type(x) is a int because the type of '100' is an integer. On the other hand, type(x) return list as the value within [ ] is a list that 'x' is pointing to. \",\n",
       "  \"# int is the class => the manufacture that make 'int'    \\ntype(int)\",\n",
       "  \"# the type of class is type. \\n# factory's factory = type -- every class' type is 'type' \",\n",
       "  'type(type)',\n",
       "  '# the above as the sample to illustrate how every single thing in python has it own type  ',\n",
       "  'a # identifier = name = variable or function . an object of some sort \\n    # search is LEGB \\n    \\na.b # .b means: look for the name (\"attrubute\") b inside of the object a \\n  \\n# how to know how many attributes that is exits?  \\n# => dir(a)',\n",
       "  \"a = 'abcd'\\ntype(a) # to understand the type of a\",\n",
       "  \"dir(a) # to access all of the attributes available to the type of 'a' => given 'a' is a stir type. the output of this code will lead to all of the attributes available to stir data type value \",\n",
       "  'a.upper()\\n\\n# hey, do you have a method called upper? if yes, revoke this method and give back the new value \\n# methods are attributes. a particular type of artribute. when you are looking at \".\" in python, it means i am looking for attribute of the type of the name on the right side inside the object on the left side ',\n",
       "  'import os',\n",
       "  'os.sep',\n",
       "  'dir(sep)',\n",
       "  'os.sep',\n",
       "  \"os.sep = 'jjajaj'\",\n",
       "  'os.sep',\n",
       "  '# i can go to any object that I want and then change any attribute that I want or I can add a new attribute ',\n",
       "  'os.my_testing_atribute = \"set my own atribute\"',\n",
       "  'os.my_testing_atribute',\n",
       "  'myList = [10, 20, 30]\\nsum(myList) # \"sum\" is a function, takes a list as an argument ',\n",
       "  '# f(x) ',\n",
       "  'myList.sum()  # this will not work!',\n",
       "  'myList.pop() # this is a method   ',\n",
       "  'myList',\n",
       "  '# o.m()  => method systex \\n# o = object \\n# .m = is a attribute  \\n ',\n",
       "  'len(myList)',\n",
       "  \"# why not myList.len()?  cause it is designed by the python creators \\n\\n# how to know whether something is a function or an attribute?  \\n    # look for '.' sign before them \\n    # use help function to read the docstring and have better understanding of it  \\n\\n# how to use help function to understand an attribute? \\n    # use help(data_type.[method_name])   \",\n",
       "  'help(myList)',\n",
       "  'help(list.pop)',\n",
       "  \"class Foo(object):\\n    pass\\n\\n# python3: 'object' is optional => do not have to write it here  \\n# python2: 'object' is required \",\n",
       "  'type(Foo) # the type of all classes in python will by type ',\n",
       "  'Foo()',\n",
       "  \"Foo('1234')\",\n",
       "  'f = Foo()',\n",
       "  'type(f)',\n",
       "  'dir(f)',\n",
       "  '# f is an object of type foo. ',\n",
       "  'dir(Foo)',\n",
       "  '# this is the attribute of general \"Foo\"',\n",
       "  'type(str)',\n",
       "  'dir(str)',\n",
       "  'f',\n",
       "  'vars()'],\n",
       " 'Out': {2: int,\n",
       "  3: str,\n",
       "  4: list,\n",
       "  6: type,\n",
       "  8: type,\n",
       "  13: int,\n",
       "  14: str,\n",
       "  15: list,\n",
       "  17: type,\n",
       "  19: type,\n",
       "  23: mappingproxy({'__new__': <function list.__new__(*args, **kwargs)>,\n",
       "                '__repr__': <slot wrapper '__repr__' of 'list' objects>,\n",
       "                '__hash__': None,\n",
       "                '__getattribute__': <slot wrapper '__getattribute__' of 'list' objects>,\n",
       "                '__lt__': <slot wrapper '__lt__' of 'list' objects>,\n",
       "                '__le__': <slot wrapper '__le__' of 'list' objects>,\n",
       "                '__eq__': <slot wrapper '__eq__' of 'list' objects>,\n",
       "                '__ne__': <slot wrapper '__ne__' of 'list' objects>,\n",
       "                '__gt__': <slot wrapper '__gt__' of 'list' objects>,\n",
       "                '__ge__': <slot wrapper '__ge__' of 'list' objects>,\n",
       "                '__iter__': <slot wrapper '__iter__' of 'list' objects>,\n",
       "                '__init__': <slot wrapper '__init__' of 'list' objects>,\n",
       "                '__len__': <slot wrapper '__len__' of 'list' objects>,\n",
       "                '__getitem__': <method '__getitem__' of 'list' objects>,\n",
       "                '__setitem__': <slot wrapper '__setitem__' of 'list' objects>,\n",
       "                '__delitem__': <slot wrapper '__delitem__' of 'list' objects>,\n",
       "                '__add__': <slot wrapper '__add__' of 'list' objects>,\n",
       "                '__mul__': <slot wrapper '__mul__' of 'list' objects>,\n",
       "                '__rmul__': <slot wrapper '__rmul__' of 'list' objects>,\n",
       "                '__contains__': <slot wrapper '__contains__' of 'list' objects>,\n",
       "                '__iadd__': <slot wrapper '__iadd__' of 'list' objects>,\n",
       "                '__imul__': <slot wrapper '__imul__' of 'list' objects>,\n",
       "                '__reversed__': <method '__reversed__' of 'list' objects>,\n",
       "                '__sizeof__': <method '__sizeof__' of 'list' objects>,\n",
       "                'clear': <method 'clear' of 'list' objects>,\n",
       "                'copy': <method 'copy' of 'list' objects>,\n",
       "                'append': <method 'append' of 'list' objects>,\n",
       "                'insert': <method 'insert' of 'list' objects>,\n",
       "                'extend': <method 'extend' of 'list' objects>,\n",
       "                'pop': <method 'pop' of 'list' objects>,\n",
       "                'remove': <method 'remove' of 'list' objects>,\n",
       "                'index': <method 'index' of 'list' objects>,\n",
       "                'count': <method 'count' of 'list' objects>,\n",
       "                'reverse': <method 'reverse' of 'list' objects>,\n",
       "                'sort': <method 'sort' of 'list' objects>,\n",
       "                '__class_getitem__': <method '__class_getitem__' of 'list' objects>,\n",
       "                '__doc__': 'Built-in mutable sequence.\\n\\nIf no argument is given, the constructor creates a new empty list.\\nThe argument must be an iterable if specified.'}),\n",
       "  27: int,\n",
       "  28: str,\n",
       "  29: list,\n",
       "  31: type,\n",
       "  33: type,\n",
       "  37: int,\n",
       "  38: str,\n",
       "  39: list,\n",
       "  41: type,\n",
       "  43: type,\n",
       "  49: int,\n",
       "  50: str,\n",
       "  51: list,\n",
       "  53: type,\n",
       "  55: type,\n",
       "  58: str,\n",
       "  59: ['__add__',\n",
       "   '__class__',\n",
       "   '__contains__',\n",
       "   '__delattr__',\n",
       "   '__dir__',\n",
       "   '__doc__',\n",
       "   '__eq__',\n",
       "   '__format__',\n",
       "   '__ge__',\n",
       "   '__getattribute__',\n",
       "   '__getitem__',\n",
       "   '__getnewargs__',\n",
       "   '__getstate__',\n",
       "   '__gt__',\n",
       "   '__hash__',\n",
       "   '__init__',\n",
       "   '__init_subclass__',\n",
       "   '__iter__',\n",
       "   '__le__',\n",
       "   '__len__',\n",
       "   '__lt__',\n",
       "   '__mod__',\n",
       "   '__mul__',\n",
       "   '__ne__',\n",
       "   '__new__',\n",
       "   '__reduce__',\n",
       "   '__reduce_ex__',\n",
       "   '__repr__',\n",
       "   '__rmod__',\n",
       "   '__rmul__',\n",
       "   '__setattr__',\n",
       "   '__sizeof__',\n",
       "   '__str__',\n",
       "   '__subclasshook__',\n",
       "   'capitalize',\n",
       "   'casefold',\n",
       "   'center',\n",
       "   'count',\n",
       "   'encode',\n",
       "   'endswith',\n",
       "   'expandtabs',\n",
       "   'find',\n",
       "   'format',\n",
       "   'format_map',\n",
       "   'index',\n",
       "   'isalnum',\n",
       "   'isalpha',\n",
       "   'isascii',\n",
       "   'isdecimal',\n",
       "   'isdigit',\n",
       "   'isidentifier',\n",
       "   'islower',\n",
       "   'isnumeric',\n",
       "   'isprintable',\n",
       "   'isspace',\n",
       "   'istitle',\n",
       "   'isupper',\n",
       "   'join',\n",
       "   'ljust',\n",
       "   'lower',\n",
       "   'lstrip',\n",
       "   'maketrans',\n",
       "   'partition',\n",
       "   'removeprefix',\n",
       "   'removesuffix',\n",
       "   'replace',\n",
       "   'rfind',\n",
       "   'rindex',\n",
       "   'rjust',\n",
       "   'rpartition',\n",
       "   'rsplit',\n",
       "   'rstrip',\n",
       "   'split',\n",
       "   'splitlines',\n",
       "   'startswith',\n",
       "   'strip',\n",
       "   'swapcase',\n",
       "   'title',\n",
       "   'translate',\n",
       "   'upper',\n",
       "   'zfill'],\n",
       "  60: 'ABCD',\n",
       "  62: '\\\\',\n",
       "  64: '\\\\',\n",
       "  66: 'jjajaj',\n",
       "  69: 'set my own atribute',\n",
       "  70: 60,\n",
       "  73: 30,\n",
       "  74: [10, 20],\n",
       "  76: 2,\n",
       "  81: type,\n",
       "  82: <__main__.Foo at 0x202dbe459d0>,\n",
       "  85: __main__.Foo,\n",
       "  86: ['__class__',\n",
       "   '__delattr__',\n",
       "   '__dict__',\n",
       "   '__dir__',\n",
       "   '__doc__',\n",
       "   '__eq__',\n",
       "   '__format__',\n",
       "   '__ge__',\n",
       "   '__getattribute__',\n",
       "   '__getstate__',\n",
       "   '__gt__',\n",
       "   '__hash__',\n",
       "   '__init__',\n",
       "   '__init_subclass__',\n",
       "   '__le__',\n",
       "   '__lt__',\n",
       "   '__module__',\n",
       "   '__ne__',\n",
       "   '__new__',\n",
       "   '__reduce__',\n",
       "   '__reduce_ex__',\n",
       "   '__repr__',\n",
       "   '__setattr__',\n",
       "   '__sizeof__',\n",
       "   '__str__',\n",
       "   '__subclasshook__',\n",
       "   '__weakref__'],\n",
       "  88: ['__class__',\n",
       "   '__delattr__',\n",
       "   '__dict__',\n",
       "   '__dir__',\n",
       "   '__doc__',\n",
       "   '__eq__',\n",
       "   '__format__',\n",
       "   '__ge__',\n",
       "   '__getattribute__',\n",
       "   '__getstate__',\n",
       "   '__gt__',\n",
       "   '__hash__',\n",
       "   '__init__',\n",
       "   '__init_subclass__',\n",
       "   '__le__',\n",
       "   '__lt__',\n",
       "   '__module__',\n",
       "   '__ne__',\n",
       "   '__new__',\n",
       "   '__reduce__',\n",
       "   '__reduce_ex__',\n",
       "   '__repr__',\n",
       "   '__setattr__',\n",
       "   '__sizeof__',\n",
       "   '__str__',\n",
       "   '__subclasshook__',\n",
       "   '__weakref__'],\n",
       "  90: type,\n",
       "  91: ['__add__',\n",
       "   '__class__',\n",
       "   '__contains__',\n",
       "   '__delattr__',\n",
       "   '__dir__',\n",
       "   '__doc__',\n",
       "   '__eq__',\n",
       "   '__format__',\n",
       "   '__ge__',\n",
       "   '__getattribute__',\n",
       "   '__getitem__',\n",
       "   '__getnewargs__',\n",
       "   '__getstate__',\n",
       "   '__gt__',\n",
       "   '__hash__',\n",
       "   '__init__',\n",
       "   '__init_subclass__',\n",
       "   '__iter__',\n",
       "   '__le__',\n",
       "   '__len__',\n",
       "   '__lt__',\n",
       "   '__mod__',\n",
       "   '__mul__',\n",
       "   '__ne__',\n",
       "   '__new__',\n",
       "   '__reduce__',\n",
       "   '__reduce_ex__',\n",
       "   '__repr__',\n",
       "   '__rmod__',\n",
       "   '__rmul__',\n",
       "   '__setattr__',\n",
       "   '__sizeof__',\n",
       "   '__str__',\n",
       "   '__subclasshook__',\n",
       "   'capitalize',\n",
       "   'casefold',\n",
       "   'center',\n",
       "   'count',\n",
       "   'encode',\n",
       "   'endswith',\n",
       "   'expandtabs',\n",
       "   'find',\n",
       "   'format',\n",
       "   'format_map',\n",
       "   'index',\n",
       "   'isalnum',\n",
       "   'isalpha',\n",
       "   'isascii',\n",
       "   'isdecimal',\n",
       "   'isdigit',\n",
       "   'isidentifier',\n",
       "   'islower',\n",
       "   'isnumeric',\n",
       "   'isprintable',\n",
       "   'isspace',\n",
       "   'istitle',\n",
       "   'isupper',\n",
       "   'join',\n",
       "   'ljust',\n",
       "   'lower',\n",
       "   'lstrip',\n",
       "   'maketrans',\n",
       "   'partition',\n",
       "   'removeprefix',\n",
       "   'removesuffix',\n",
       "   'replace',\n",
       "   'rfind',\n",
       "   'rindex',\n",
       "   'rjust',\n",
       "   'rpartition',\n",
       "   'rsplit',\n",
       "   'rstrip',\n",
       "   'split',\n",
       "   'splitlines',\n",
       "   'startswith',\n",
       "   'strip',\n",
       "   'swapcase',\n",
       "   'title',\n",
       "   'translate',\n",
       "   'upper',\n",
       "   'zfill'],\n",
       "  92: <__main__.Foo at 0x202dacc3190>},\n",
       " 'get_ipython': <bound method InteractiveShell.get_ipython of <ipykernel.zmqshell.ZMQInteractiveShell object at 0x00000202DACD8310>>,\n",
       " 'exit': <IPython.core.autocall.ZMQExitAutocall at 0x202dacf91d0>,\n",
       " 'quit': <IPython.core.autocall.ZMQExitAutocall at 0x202dacf91d0>,\n",
       " 'open': <function io.open(file, mode='r', buffering=-1, encoding=None, errors=None, newline=None, closefd=True, opener=None)>,\n",
       " '_': <__main__.Foo at 0x202dacc3190>,\n",
       " '__': ['__add__',\n",
       "  '__class__',\n",
       "  '__contains__',\n",
       "  '__delattr__',\n",
       "  '__dir__',\n",
       "  '__doc__',\n",
       "  '__eq__',\n",
       "  '__format__',\n",
       "  '__ge__',\n",
       "  '__getattribute__',\n",
       "  '__getitem__',\n",
       "  '__getnewargs__',\n",
       "  '__getstate__',\n",
       "  '__gt__',\n",
       "  '__hash__',\n",
       "  '__init__',\n",
       "  '__init_subclass__',\n",
       "  '__iter__',\n",
       "  '__le__',\n",
       "  '__len__',\n",
       "  '__lt__',\n",
       "  '__mod__',\n",
       "  '__mul__',\n",
       "  '__ne__',\n",
       "  '__new__',\n",
       "  '__reduce__',\n",
       "  '__reduce_ex__',\n",
       "  '__repr__',\n",
       "  '__rmod__',\n",
       "  '__rmul__',\n",
       "  '__setattr__',\n",
       "  '__sizeof__',\n",
       "  '__str__',\n",
       "  '__subclasshook__',\n",
       "  'capitalize',\n",
       "  'casefold',\n",
       "  'center',\n",
       "  'count',\n",
       "  'encode',\n",
       "  'endswith',\n",
       "  'expandtabs',\n",
       "  'find',\n",
       "  'format',\n",
       "  'format_map',\n",
       "  'index',\n",
       "  'isalnum',\n",
       "  'isalpha',\n",
       "  'isascii',\n",
       "  'isdecimal',\n",
       "  'isdigit',\n",
       "  'isidentifier',\n",
       "  'islower',\n",
       "  'isnumeric',\n",
       "  'isprintable',\n",
       "  'isspace',\n",
       "  'istitle',\n",
       "  'isupper',\n",
       "  'join',\n",
       "  'ljust',\n",
       "  'lower',\n",
       "  'lstrip',\n",
       "  'maketrans',\n",
       "  'partition',\n",
       "  'removeprefix',\n",
       "  'removesuffix',\n",
       "  'replace',\n",
       "  'rfind',\n",
       "  'rindex',\n",
       "  'rjust',\n",
       "  'rpartition',\n",
       "  'rsplit',\n",
       "  'rstrip',\n",
       "  'split',\n",
       "  'splitlines',\n",
       "  'startswith',\n",
       "  'strip',\n",
       "  'swapcase',\n",
       "  'title',\n",
       "  'translate',\n",
       "  'upper',\n",
       "  'zfill'],\n",
       " '___': type,\n",
       " '__vsc_ipynb_file__': 'c:\\\\Users\\\\dqthi\\\\OneDrive\\\\Coding_Journey\\\\CodeBreakThrough\\\\Beginner_Python_Programming_All-in-One_Tutorial_Series\\\\OOP.ipynb',\n",
       " '_i': 'f',\n",
       " '_ii': 'dir(str)',\n",
       " '_iii': 'type(str)',\n",
       " '_i1': '# everything is an object means: \\n# (1) everything a a type/class\\n    # different datastructure has different characters. know what is the reason type it is   \\n# (2) everything has attribute ',\n",
       " '_i2': 'x = 100 \\ntype(x)',\n",
       " 'x': [10, 20, 30],\n",
       " '_2': int,\n",
       " '_i3': \"x = 'abcd'\\ntype(x)\",\n",
       " '_3': str,\n",
       " '_i4': 'x = [10, 20, 30]\\ntype(x)',\n",
       " '_4': list,\n",
       " '_i5': \"# when asking what type of x, the question is to ask the type of value that 'x' is pointing to. Not the type of 'x' itself. \\n# for example: x  = 100, type(x) is a int because the type of '100' is an integer. On the other hand, type(x) return list as the value within [ ] is a list that 'x' is pointing to. \",\n",
       " '_i6': \"\\n# int is the class => the manufacture that make 'int'    \\ntype(int)\",\n",
       " '_6': type,\n",
       " '_i7': \"# the type of class is type. \\n# factory's factory = type -- every class' type is 'type' \",\n",
       " '_i8': 'type(type)',\n",
       " '_8': type,\n",
       " '_i9': '# the above as the sample to illustrate how every single thing in python has it own type  ',\n",
       " '_i10': '\\na # identifier = name = variable or function . an object of some sort \\n    # search is LEGB \\n    \\na.b # .b means: look for the name (\"attrubute\") b inside of the object a \\n  \\n# how to know how many attributes that is exits?  \\n# => dir(a)',\n",
       " '_i11': \"myList.count('20')\",\n",
       " '_i12': '# everything is an object means: \\n# (1) everything a a type/class\\n    # different datastructure has different characters. know what is the reason type it is   \\n# (2) everything has attribute ',\n",
       " '_i13': 'x = 100 \\ntype(x)',\n",
       " '_13': int,\n",
       " '_i14': \"x = 'abcd'\\ntype(x)\",\n",
       " '_14': str,\n",
       " '_i15': 'x = [10, 20, 30]\\ntype(x)',\n",
       " '_15': list,\n",
       " '_i16': \"# when asking what type of x, the question is to ask the type of value that 'x' is pointing to. Not the type of 'x' itself. \\n# for example: x  = 100, type(x) is a int because the type of '100' is an integer. On the other hand, type(x) return list as the value within [ ] is a list that 'x' is pointing to. \",\n",
       " '_i17': \"\\n# int is the class => the manufacture that make 'int'    \\ntype(int)\",\n",
       " '_17': type,\n",
       " '_i18': \"# the type of class is type. \\n# factory's factory = type -- every class' type is 'type' \",\n",
       " '_i19': 'type(type)',\n",
       " '_19': type,\n",
       " '_i20': '# the above as the sample to illustrate how every single thing in python has it own type  ',\n",
       " '_i21': '\\na # identifier = name = variable or function . an object of some sort \\n    # search is LEGB \\n    \\na.b # .b means: look for the name (\"attrubute\") b inside of the object a \\n  \\n# how to know how many attributes that is exits?  \\n# => dir(a)',\n",
       " '_i22': 'vars(f)',\n",
       " '_i23': 'vars(list)',\n",
       " '_23': mappingproxy({'__new__': <function list.__new__(*args, **kwargs)>,\n",
       "               '__repr__': <slot wrapper '__repr__' of 'list' objects>,\n",
       "               '__hash__': None,\n",
       "               '__getattribute__': <slot wrapper '__getattribute__' of 'list' objects>,\n",
       "               '__lt__': <slot wrapper '__lt__' of 'list' objects>,\n",
       "               '__le__': <slot wrapper '__le__' of 'list' objects>,\n",
       "               '__eq__': <slot wrapper '__eq__' of 'list' objects>,\n",
       "               '__ne__': <slot wrapper '__ne__' of 'list' objects>,\n",
       "               '__gt__': <slot wrapper '__gt__' of 'list' objects>,\n",
       "               '__ge__': <slot wrapper '__ge__' of 'list' objects>,\n",
       "               '__iter__': <slot wrapper '__iter__' of 'list' objects>,\n",
       "               '__init__': <slot wrapper '__init__' of 'list' objects>,\n",
       "               '__len__': <slot wrapper '__len__' of 'list' objects>,\n",
       "               '__getitem__': <method '__getitem__' of 'list' objects>,\n",
       "               '__setitem__': <slot wrapper '__setitem__' of 'list' objects>,\n",
       "               '__delitem__': <slot wrapper '__delitem__' of 'list' objects>,\n",
       "               '__add__': <slot wrapper '__add__' of 'list' objects>,\n",
       "               '__mul__': <slot wrapper '__mul__' of 'list' objects>,\n",
       "               '__rmul__': <slot wrapper '__rmul__' of 'list' objects>,\n",
       "               '__contains__': <slot wrapper '__contains__' of 'list' objects>,\n",
       "               '__iadd__': <slot wrapper '__iadd__' of 'list' objects>,\n",
       "               '__imul__': <slot wrapper '__imul__' of 'list' objects>,\n",
       "               '__reversed__': <method '__reversed__' of 'list' objects>,\n",
       "               '__sizeof__': <method '__sizeof__' of 'list' objects>,\n",
       "               'clear': <method 'clear' of 'list' objects>,\n",
       "               'copy': <method 'copy' of 'list' objects>,\n",
       "               'append': <method 'append' of 'list' objects>,\n",
       "               'insert': <method 'insert' of 'list' objects>,\n",
       "               'extend': <method 'extend' of 'list' objects>,\n",
       "               'pop': <method 'pop' of 'list' objects>,\n",
       "               'remove': <method 'remove' of 'list' objects>,\n",
       "               'index': <method 'index' of 'list' objects>,\n",
       "               'count': <method 'count' of 'list' objects>,\n",
       "               'reverse': <method 'reverse' of 'list' objects>,\n",
       "               'sort': <method 'sort' of 'list' objects>,\n",
       "               '__class_getitem__': <method '__class_getitem__' of 'list' objects>,\n",
       "               '__doc__': 'Built-in mutable sequence.\\n\\nIf no argument is given, the constructor creates a new empty list.\\nThe argument must be an iterable if specified.'}),\n",
       " '_i24': \"myList.count('20')\",\n",
       " '_i25': 'type(myList)',\n",
       " '_i26': '# everything is an object means: \\n# (1) everything a a type/class\\n    # different datastructure has different characters. know what is the reason type it is   \\n# (2) everything has attribute ',\n",
       " '_i27': 'x = 100 \\ntype(x)',\n",
       " '_27': int,\n",
       " '_i28': \"x = 'abcd'\\ntype(x)\",\n",
       " '_28': str,\n",
       " '_i29': 'x = [10, 20, 30]\\ntype(x)',\n",
       " '_29': list,\n",
       " '_i30': \"# when asking what type of x, the question is to ask the type of value that 'x' is pointing to. Not the type of 'x' itself. \\n# for example: x  = 100, type(x) is a int because the type of '100' is an integer. On the other hand, type(x) return list as the value within [ ] is a list that 'x' is pointing to. \",\n",
       " '_i31': \"\\n# int is the class => the manufacture that make 'int'    \\ntype(int)\",\n",
       " '_31': type,\n",
       " '_i32': \"# the type of class is type. \\n# factory's factory = type -- every class' type is 'type' \",\n",
       " '_i33': 'type(type)',\n",
       " '_33': type,\n",
       " '_i34': '# the above as the sample to illustrate how every single thing in python has it own type  ',\n",
       " '_i35': '\\na # identifier = name = variable or function . an object of some sort \\n    # search is LEGB \\n    \\na.b # .b means: look for the name (\"attrubute\") b inside of the object a \\n  \\n# how to know how many attributes that is exits?  \\n# => dir(a)',\n",
       " '_i36': '# everything is an object means: \\n# (1) everything a a type/class\\n    # different datastructure has different characters. know what is the reason type it is   \\n# (2) everything has attribute ',\n",
       " '_i37': 'x = 100 \\ntype(x)',\n",
       " '_37': int,\n",
       " '_i38': \"x = 'abcd'\\ntype(x)\",\n",
       " '_38': str,\n",
       " '_i39': 'x = [10, 20, 30]\\ntype(x)',\n",
       " '_39': list,\n",
       " '_i40': \"# when asking what type of x, the question is to ask the type of value that 'x' is pointing to. Not the type of 'x' itself. \\n# for example: x  = 100, type(x) is a int because the type of '100' is an integer. On the other hand, type(x) return list as the value within [ ] is a list that 'x' is pointing to. \",\n",
       " '_i41': \"\\n# int is the class => the manufacture that make 'int'    \\ntype(int)\",\n",
       " '_41': type,\n",
       " '_i42': \"# the type of class is type. \\n# factory's factory = type -- every class' type is 'type' \",\n",
       " '_i43': 'type(type)',\n",
       " '_43': type,\n",
       " '_i44': '# the above as the sample to illustrate how every single thing in python has it own type  ',\n",
       " '_i45': '\\na # identifier = name = variable or function . an object of some sort \\n    # search is LEGB \\n    \\na.b # .b means: look for the name (\"attrubute\") b inside of the object a \\n  \\n# how to know how many attributes that is exits?  \\n# => dir(a)',\n",
       " '_i46': 'type(myList)',\n",
       " '_i47': 'type(Foo)',\n",
       " '_i48': '# everything is an object means: \\n# (1) everything a a type/class\\n    # different datastructure has different characters. know what is the reason type it is   \\n# (2) everything has attribute ',\n",
       " '_i49': 'x = 100 \\ntype(x)',\n",
       " '_49': int,\n",
       " '_i50': \"x = 'abcd'\\ntype(x)\",\n",
       " '_50': str,\n",
       " '_i51': 'x = [10, 20, 30]\\ntype(x)',\n",
       " '_51': list,\n",
       " '_i52': \"# when asking what type of x, the question is to ask the type of value that 'x' is pointing to. Not the type of 'x' itself. \\n# for example: x  = 100, type(x) is a int because the type of '100' is an integer. On the other hand, type(x) return list as the value within [ ] is a list that 'x' is pointing to. \",\n",
       " '_i53': \"\\n# int is the class => the manufacture that make 'int'    \\ntype(int)\",\n",
       " '_53': type,\n",
       " '_i54': \"# the type of class is type. \\n# factory's factory = type -- every class' type is 'type' \",\n",
       " '_i55': 'type(type)',\n",
       " '_55': type,\n",
       " '_i56': '# the above as the sample to illustrate how every single thing in python has it own type  ',\n",
       " '_i57': '\\na # identifier = name = variable or function . an object of some sort \\n    # search is LEGB \\n    \\na.b # .b means: look for the name (\"attrubute\") b inside of the object a \\n  \\n# how to know how many attributes that is exits?  \\n# => dir(a)',\n",
       " '_i58': \"a = 'abcd'\\ntype(a) # to understand the type of a\",\n",
       " 'a': 'abcd',\n",
       " '_58': str,\n",
       " '_i59': \"dir(a) # to access all of the attributes available to the type of 'a' => given 'a' is a stir type. the output of this code will lead to all of the attributes available to stir data type value \",\n",
       " '_59': ['__add__',\n",
       "  '__class__',\n",
       "  '__contains__',\n",
       "  '__delattr__',\n",
       "  '__dir__',\n",
       "  '__doc__',\n",
       "  '__eq__',\n",
       "  '__format__',\n",
       "  '__ge__',\n",
       "  '__getattribute__',\n",
       "  '__getitem__',\n",
       "  '__getnewargs__',\n",
       "  '__getstate__',\n",
       "  '__gt__',\n",
       "  '__hash__',\n",
       "  '__init__',\n",
       "  '__init_subclass__',\n",
       "  '__iter__',\n",
       "  '__le__',\n",
       "  '__len__',\n",
       "  '__lt__',\n",
       "  '__mod__',\n",
       "  '__mul__',\n",
       "  '__ne__',\n",
       "  '__new__',\n",
       "  '__reduce__',\n",
       "  '__reduce_ex__',\n",
       "  '__repr__',\n",
       "  '__rmod__',\n",
       "  '__rmul__',\n",
       "  '__setattr__',\n",
       "  '__sizeof__',\n",
       "  '__str__',\n",
       "  '__subclasshook__',\n",
       "  'capitalize',\n",
       "  'casefold',\n",
       "  'center',\n",
       "  'count',\n",
       "  'encode',\n",
       "  'endswith',\n",
       "  'expandtabs',\n",
       "  'find',\n",
       "  'format',\n",
       "  'format_map',\n",
       "  'index',\n",
       "  'isalnum',\n",
       "  'isalpha',\n",
       "  'isascii',\n",
       "  'isdecimal',\n",
       "  'isdigit',\n",
       "  'isidentifier',\n",
       "  'islower',\n",
       "  'isnumeric',\n",
       "  'isprintable',\n",
       "  'isspace',\n",
       "  'istitle',\n",
       "  'isupper',\n",
       "  'join',\n",
       "  'ljust',\n",
       "  'lower',\n",
       "  'lstrip',\n",
       "  'maketrans',\n",
       "  'partition',\n",
       "  'removeprefix',\n",
       "  'removesuffix',\n",
       "  'replace',\n",
       "  'rfind',\n",
       "  'rindex',\n",
       "  'rjust',\n",
       "  'rpartition',\n",
       "  'rsplit',\n",
       "  'rstrip',\n",
       "  'split',\n",
       "  'splitlines',\n",
       "  'startswith',\n",
       "  'strip',\n",
       "  'swapcase',\n",
       "  'title',\n",
       "  'translate',\n",
       "  'upper',\n",
       "  'zfill'],\n",
       " '_i60': 'a.upper()\\n\\n# hey, do you have a method called upper? if yes, revoke this method and give back the new value \\n# methods are attributes. a particular type of artribute. when you are looking at \".\" in python, it means i am looking for attribute of the type of the name on the right side inside the object on the left side ',\n",
       " '_60': 'ABCD',\n",
       " '_i61': 'import os',\n",
       " 'os': <module 'os' (frozen)>,\n",
       " '_i62': 'os.sep',\n",
       " '_62': '\\\\',\n",
       " '_i63': 'dir(sep)',\n",
       " '_i64': 'os.sep',\n",
       " '_64': '\\\\',\n",
       " '_i65': \"os.sep = 'jjajaj'\",\n",
       " '_i66': 'os.sep',\n",
       " '_66': 'jjajaj',\n",
       " '_i67': '# i can go to any object that I want and then change any attribute that I want or I can add a new attribute ',\n",
       " '_i68': 'os.my_testing_atribute = \"set my own atribute\"',\n",
       " '_i69': 'os.my_testing_atribute',\n",
       " '_69': 'set my own atribute',\n",
       " '_i70': 'myList = [10, 20, 30]\\nsum(myList) # \"sum\" is a function, takes a list as an argument ',\n",
       " 'myList': [10, 20],\n",
       " '_70': 60,\n",
       " '_i71': '# f(x) ',\n",
       " '_i72': 'myList.sum()  # this will not work!',\n",
       " '_i73': 'myList.pop() # this is a method   ',\n",
       " '_73': 30,\n",
       " '_i74': 'myList',\n",
       " '_74': [10, 20],\n",
       " '_i75': '# o.m()  => method systex \\n# o = object \\n# .m = is a attribute  \\n ',\n",
       " '_i76': 'len(myList)',\n",
       " '_76': 2,\n",
       " '_i77': \"# why not myList.len()?  cause it is designed by the python creators \\n\\n# how to know whether something is a function or an attribute?  \\n    # look for '.' sign before them \\n    # use help function to read the docstring and have better understanding of it  \\n\\n# how to use help function to understand an attribute? \\n    # use help(data_type.[method_name])   \",\n",
       " '_i78': 'help(myList)',\n",
       " '_i79': 'help(list.pop)',\n",
       " '_i80': \"class Foo(object):\\n    pass\\n\\n# python3: 'object' is optional => do not have to write it here  \\n# python2: 'object' is required \",\n",
       " 'Foo': __main__.Foo,\n",
       " '_i81': 'type(Foo) # the type of all classes in python will by type ',\n",
       " '_81': type,\n",
       " '_i82': 'Foo()',\n",
       " '_82': <__main__.Foo at 0x202dbe459d0>,\n",
       " '_i83': \"Foo('1234')\",\n",
       " '_i84': 'f = Foo()',\n",
       " 'f': <__main__.Foo at 0x202dacc3190>,\n",
       " '_i85': 'type(f)',\n",
       " '_85': __main__.Foo,\n",
       " '_i86': 'dir(f)',\n",
       " '_86': ['__class__',\n",
       "  '__delattr__',\n",
       "  '__dict__',\n",
       "  '__dir__',\n",
       "  '__doc__',\n",
       "  '__eq__',\n",
       "  '__format__',\n",
       "  '__ge__',\n",
       "  '__getattribute__',\n",
       "  '__getstate__',\n",
       "  '__gt__',\n",
       "  '__hash__',\n",
       "  '__init__',\n",
       "  '__init_subclass__',\n",
       "  '__le__',\n",
       "  '__lt__',\n",
       "  '__module__',\n",
       "  '__ne__',\n",
       "  '__new__',\n",
       "  '__reduce__',\n",
       "  '__reduce_ex__',\n",
       "  '__repr__',\n",
       "  '__setattr__',\n",
       "  '__sizeof__',\n",
       "  '__str__',\n",
       "  '__subclasshook__',\n",
       "  '__weakref__'],\n",
       " '_i87': '# f is an object of type foo. ',\n",
       " '_i88': 'dir(Foo)',\n",
       " '_88': ['__class__',\n",
       "  '__delattr__',\n",
       "  '__dict__',\n",
       "  '__dir__',\n",
       "  '__doc__',\n",
       "  '__eq__',\n",
       "  '__format__',\n",
       "  '__ge__',\n",
       "  '__getattribute__',\n",
       "  '__getstate__',\n",
       "  '__gt__',\n",
       "  '__hash__',\n",
       "  '__init__',\n",
       "  '__init_subclass__',\n",
       "  '__le__',\n",
       "  '__lt__',\n",
       "  '__module__',\n",
       "  '__ne__',\n",
       "  '__new__',\n",
       "  '__reduce__',\n",
       "  '__reduce_ex__',\n",
       "  '__repr__',\n",
       "  '__setattr__',\n",
       "  '__sizeof__',\n",
       "  '__str__',\n",
       "  '__subclasshook__',\n",
       "  '__weakref__'],\n",
       " '_i89': '# this is the attribute of general \"Foo\"',\n",
       " '_i90': 'type(str)',\n",
       " '_90': type,\n",
       " '_i91': 'dir(str)',\n",
       " '_91': ['__add__',\n",
       "  '__class__',\n",
       "  '__contains__',\n",
       "  '__delattr__',\n",
       "  '__dir__',\n",
       "  '__doc__',\n",
       "  '__eq__',\n",
       "  '__format__',\n",
       "  '__ge__',\n",
       "  '__getattribute__',\n",
       "  '__getitem__',\n",
       "  '__getnewargs__',\n",
       "  '__getstate__',\n",
       "  '__gt__',\n",
       "  '__hash__',\n",
       "  '__init__',\n",
       "  '__init_subclass__',\n",
       "  '__iter__',\n",
       "  '__le__',\n",
       "  '__len__',\n",
       "  '__lt__',\n",
       "  '__mod__',\n",
       "  '__mul__',\n",
       "  '__ne__',\n",
       "  '__new__',\n",
       "  '__reduce__',\n",
       "  '__reduce_ex__',\n",
       "  '__repr__',\n",
       "  '__rmod__',\n",
       "  '__rmul__',\n",
       "  '__setattr__',\n",
       "  '__sizeof__',\n",
       "  '__str__',\n",
       "  '__subclasshook__',\n",
       "  'capitalize',\n",
       "  'casefold',\n",
       "  'center',\n",
       "  'count',\n",
       "  'encode',\n",
       "  'endswith',\n",
       "  'expandtabs',\n",
       "  'find',\n",
       "  'format',\n",
       "  'format_map',\n",
       "  'index',\n",
       "  'isalnum',\n",
       "  'isalpha',\n",
       "  'isascii',\n",
       "  'isdecimal',\n",
       "  'isdigit',\n",
       "  'isidentifier',\n",
       "  'islower',\n",
       "  'isnumeric',\n",
       "  'isprintable',\n",
       "  'isspace',\n",
       "  'istitle',\n",
       "  'isupper',\n",
       "  'join',\n",
       "  'ljust',\n",
       "  'lower',\n",
       "  'lstrip',\n",
       "  'maketrans',\n",
       "  'partition',\n",
       "  'removeprefix',\n",
       "  'removesuffix',\n",
       "  'replace',\n",
       "  'rfind',\n",
       "  'rindex',\n",
       "  'rjust',\n",
       "  'rpartition',\n",
       "  'rsplit',\n",
       "  'rstrip',\n",
       "  'split',\n",
       "  'splitlines',\n",
       "  'startswith',\n",
       "  'strip',\n",
       "  'swapcase',\n",
       "  'title',\n",
       "  'translate',\n",
       "  'upper',\n",
       "  'zfill'],\n",
       " '_i92': 'f',\n",
       " '_92': <__main__.Foo at 0x202dacc3190>,\n",
       " '_i93': 'vars()'}"
      ]
     },
     "execution_count": 93,
     "metadata": {},
     "output_type": "execute_result"
    }
   ],
   "source": [
    "vars()"
   ]
  },
  {
   "cell_type": "code",
   "execution_count": 117,
   "metadata": {},
   "outputs": [],
   "source": [
    "vars() # globals()  \n",
    "def bar(): \n",
    "    vars()  # local() "
   ]
  },
  {
   "cell_type": "code",
   "execution_count": 118,
   "metadata": {},
   "outputs": [
    {
     "data": {
      "text/plain": [
       "{}"
      ]
     },
     "execution_count": 118,
     "metadata": {},
     "output_type": "execute_result"
    }
   ],
   "source": [
    "vars(f) "
   ]
  },
  {
   "cell_type": "code",
   "execution_count": 122,
   "metadata": {},
   "outputs": [
    {
     "data": {
      "text/plain": [
       "['__class__',\n",
       " '__delattr__',\n",
       " '__dict__',\n",
       " '__dir__',\n",
       " '__doc__',\n",
       " '__eq__',\n",
       " '__format__',\n",
       " '__ge__',\n",
       " '__getattribute__',\n",
       " '__getstate__',\n",
       " '__gt__',\n",
       " '__hash__',\n",
       " '__init__',\n",
       " '__init_subclass__',\n",
       " '__le__',\n",
       " '__lt__',\n",
       " '__module__',\n",
       " '__ne__',\n",
       " '__new__',\n",
       " '__reduce__',\n",
       " '__reduce_ex__',\n",
       " '__repr__',\n",
       " '__setattr__',\n",
       " '__sizeof__',\n",
       " '__str__',\n",
       " '__subclasshook__',\n",
       " '__weakref__',\n",
       " 'x',\n",
       " 'y']"
      ]
     },
     "execution_count": 122,
     "metadata": {},
     "output_type": "execute_result"
    }
   ],
   "source": [
    "dir(f)"
   ]
  },
  {
   "cell_type": "code",
   "execution_count": 119,
   "metadata": {},
   "outputs": [],
   "source": [
    "f.x = 20 \n",
    "f.y = [20, 30, 40]"
   ]
  },
  {
   "cell_type": "code",
   "execution_count": 121,
   "metadata": {},
   "outputs": [
    {
     "data": {
      "text/plain": [
       "['__class__',\n",
       " '__delattr__',\n",
       " '__dict__',\n",
       " '__dir__',\n",
       " '__doc__',\n",
       " '__eq__',\n",
       " '__format__',\n",
       " '__ge__',\n",
       " '__getattribute__',\n",
       " '__getstate__',\n",
       " '__gt__',\n",
       " '__hash__',\n",
       " '__init__',\n",
       " '__init_subclass__',\n",
       " '__le__',\n",
       " '__lt__',\n",
       " '__module__',\n",
       " '__ne__',\n",
       " '__new__',\n",
       " '__reduce__',\n",
       " '__reduce_ex__',\n",
       " '__repr__',\n",
       " '__setattr__',\n",
       " '__sizeof__',\n",
       " '__str__',\n",
       " '__subclasshook__',\n",
       " '__weakref__',\n",
       " 'x',\n",
       " 'y']"
      ]
     },
     "execution_count": 121,
     "metadata": {},
     "output_type": "execute_result"
    }
   ],
   "source": [
    "dir(f)"
   ]
  },
  {
   "cell_type": "code",
   "execution_count": 123,
   "metadata": {},
   "outputs": [
    {
     "data": {
      "text/plain": [
       "int"
      ]
     },
     "execution_count": 123,
     "metadata": {},
     "output_type": "execute_result"
    }
   ],
   "source": [
    "type(f.x)"
   ]
  },
  {
   "cell_type": "code",
   "execution_count": 94,
   "metadata": {},
   "outputs": [
    {
     "data": {
      "text/plain": [
       "{}"
      ]
     },
     "execution_count": 94,
     "metadata": {},
     "output_type": "execute_result"
    }
   ],
   "source": [
    "vars(f)"
   ]
  },
  {
   "cell_type": "code",
   "execution_count": 124,
   "metadata": {},
   "outputs": [
    {
     "data": {
      "text/plain": [
       "list"
      ]
     },
     "execution_count": 124,
     "metadata": {},
     "output_type": "execute_result"
    }
   ],
   "source": [
    "type(f.y) # after being add into function f the type of f.y is equal to the type of value that f.y is assigned to  "
   ]
  },
  {
   "cell_type": "code",
   "execution_count": 125,
   "metadata": {},
   "outputs": [
    {
     "data": {
      "text/plain": [
       "{'x': 20, 'y': [20, 30, 40]}"
      ]
     },
     "execution_count": 125,
     "metadata": {},
     "output_type": "execute_result"
    }
   ],
   "source": [
    "vars(f)"
   ]
  },
  {
   "cell_type": "code",
   "execution_count": 95,
   "metadata": {},
   "outputs": [
    {
     "data": {
      "text/plain": [
       "mappingproxy({'__new__': <function list.__new__(*args, **kwargs)>,\n",
       "              '__repr__': <slot wrapper '__repr__' of 'list' objects>,\n",
       "              '__hash__': None,\n",
       "              '__getattribute__': <slot wrapper '__getattribute__' of 'list' objects>,\n",
       "              '__lt__': <slot wrapper '__lt__' of 'list' objects>,\n",
       "              '__le__': <slot wrapper '__le__' of 'list' objects>,\n",
       "              '__eq__': <slot wrapper '__eq__' of 'list' objects>,\n",
       "              '__ne__': <slot wrapper '__ne__' of 'list' objects>,\n",
       "              '__gt__': <slot wrapper '__gt__' of 'list' objects>,\n",
       "              '__ge__': <slot wrapper '__ge__' of 'list' objects>,\n",
       "              '__iter__': <slot wrapper '__iter__' of 'list' objects>,\n",
       "              '__init__': <slot wrapper '__init__' of 'list' objects>,\n",
       "              '__len__': <slot wrapper '__len__' of 'list' objects>,\n",
       "              '__getitem__': <method '__getitem__' of 'list' objects>,\n",
       "              '__setitem__': <slot wrapper '__setitem__' of 'list' objects>,\n",
       "              '__delitem__': <slot wrapper '__delitem__' of 'list' objects>,\n",
       "              '__add__': <slot wrapper '__add__' of 'list' objects>,\n",
       "              '__mul__': <slot wrapper '__mul__' of 'list' objects>,\n",
       "              '__rmul__': <slot wrapper '__rmul__' of 'list' objects>,\n",
       "              '__contains__': <slot wrapper '__contains__' of 'list' objects>,\n",
       "              '__iadd__': <slot wrapper '__iadd__' of 'list' objects>,\n",
       "              '__imul__': <slot wrapper '__imul__' of 'list' objects>,\n",
       "              '__reversed__': <method '__reversed__' of 'list' objects>,\n",
       "              '__sizeof__': <method '__sizeof__' of 'list' objects>,\n",
       "              'clear': <method 'clear' of 'list' objects>,\n",
       "              'copy': <method 'copy' of 'list' objects>,\n",
       "              'append': <method 'append' of 'list' objects>,\n",
       "              'insert': <method 'insert' of 'list' objects>,\n",
       "              'extend': <method 'extend' of 'list' objects>,\n",
       "              'pop': <method 'pop' of 'list' objects>,\n",
       "              'remove': <method 'remove' of 'list' objects>,\n",
       "              'index': <method 'index' of 'list' objects>,\n",
       "              'count': <method 'count' of 'list' objects>,\n",
       "              'reverse': <method 'reverse' of 'list' objects>,\n",
       "              'sort': <method 'sort' of 'list' objects>,\n",
       "              '__class_getitem__': <method '__class_getitem__' of 'list' objects>,\n",
       "              '__doc__': 'Built-in mutable sequence.\\n\\nIf no argument is given, the constructor creates a new empty list.\\nThe argument must be an iterable if specified.'})"
      ]
     },
     "execution_count": 95,
     "metadata": {},
     "output_type": "execute_result"
    }
   ],
   "source": [
    "vars(list)"
   ]
  },
  {
   "cell_type": "code",
   "execution_count": 96,
   "metadata": {},
   "outputs": [
    {
     "data": {
      "text/plain": [
       "<function list.count(value, /)>"
      ]
     },
     "execution_count": 96,
     "metadata": {},
     "output_type": "execute_result"
    }
   ],
   "source": [
    "myList.count"
   ]
  },
  {
   "cell_type": "code",
   "execution_count": 97,
   "metadata": {},
   "outputs": [
    {
     "ename": "TypeError",
     "evalue": "list.count() takes exactly one argument (0 given)",
     "output_type": "error",
     "traceback": [
      "\u001b[1;31m---------------------------------------------------------------------------\u001b[0m",
      "\u001b[1;31mTypeError\u001b[0m                                 Traceback (most recent call last)",
      "Cell \u001b[1;32mIn[97], line 1\u001b[0m\n\u001b[1;32m----> 1\u001b[0m \u001b[43mmyList\u001b[49m\u001b[38;5;241;43m.\u001b[39;49m\u001b[43mcount\u001b[49m\u001b[43m(\u001b[49m\u001b[43m)\u001b[49m\n",
      "\u001b[1;31mTypeError\u001b[0m: list.count() takes exactly one argument (0 given)"
     ]
    }
   ],
   "source": [
    "myList.count()"
   ]
  },
  {
   "cell_type": "code",
   "execution_count": 98,
   "metadata": {},
   "outputs": [
    {
     "data": {
      "text/plain": [
       "<function list.reverse()>"
      ]
     },
     "execution_count": 98,
     "metadata": {},
     "output_type": "execute_result"
    }
   ],
   "source": [
    "myList.reverse"
   ]
  },
  {
   "cell_type": "code",
   "execution_count": 99,
   "metadata": {},
   "outputs": [
    {
     "data": {
      "text/plain": [
       "[10, 20]"
      ]
     },
     "execution_count": 99,
     "metadata": {},
     "output_type": "execute_result"
    }
   ],
   "source": [
    "myList"
   ]
  },
  {
   "cell_type": "code",
   "execution_count": 100,
   "metadata": {},
   "outputs": [
    {
     "data": {
      "text/plain": [
       "<function list.pop(index=-1, /)>"
      ]
     },
     "execution_count": 100,
     "metadata": {},
     "output_type": "execute_result"
    }
   ],
   "source": [
    "myList.pop"
   ]
  },
  {
   "cell_type": "code",
   "execution_count": 101,
   "metadata": {},
   "outputs": [
    {
     "data": {
      "text/plain": [
       "20"
      ]
     },
     "execution_count": 101,
     "metadata": {},
     "output_type": "execute_result"
    }
   ],
   "source": [
    "myList.pop()"
   ]
  },
  {
   "cell_type": "code",
   "execution_count": 102,
   "metadata": {},
   "outputs": [
    {
     "data": {
      "text/plain": [
       "[10]"
      ]
     },
     "execution_count": 102,
     "metadata": {},
     "output_type": "execute_result"
    }
   ],
   "source": [
    "myList"
   ]
  },
  {
   "cell_type": "code",
   "execution_count": 103,
   "metadata": {},
   "outputs": [
    {
     "data": {
      "text/plain": [
       "0"
      ]
     },
     "execution_count": 103,
     "metadata": {},
     "output_type": "execute_result"
    }
   ],
   "source": [
    "myList.count('10')"
   ]
  },
  {
   "cell_type": "code",
   "execution_count": 104,
   "metadata": {},
   "outputs": [
    {
     "name": "stdout",
     "output_type": "stream",
     "text": [
      "Help on method_descriptor:\n",
      "\n",
      "count(self, value, /) unbound builtins.list method\n",
      "    Return number of occurrences of value.\n",
      "\n"
     ]
    }
   ],
   "source": [
    "help(list.count)"
   ]
  },
  {
   "cell_type": "code",
   "execution_count": 105,
   "metadata": {},
   "outputs": [
    {
     "name": "stdout",
     "output_type": "stream",
     "text": [
      "Help on method_descriptor:\n",
      "\n",
      "pop(self, index=-1, /) unbound builtins.list method\n",
      "    Remove and return item at index (default last).\n",
      "    \n",
      "    Raises IndexError if list is empty or index is out of range.\n",
      "\n"
     ]
    }
   ],
   "source": [
    "help(list.pop)"
   ]
  },
  {
   "cell_type": "code",
   "execution_count": 106,
   "metadata": {},
   "outputs": [
    {
     "name": "stdout",
     "output_type": "stream",
     "text": [
      "Help on method_descriptor:\n",
      "\n",
      "reverse(self, /) unbound builtins.list method\n",
      "    Reverse *IN PLACE*.\n",
      "\n"
     ]
    }
   ],
   "source": [
    "help(list.reverse)"
   ]
  },
  {
   "cell_type": "code",
   "execution_count": 107,
   "metadata": {},
   "outputs": [
    {
     "ename": "TypeError",
     "evalue": "list.append() takes exactly one argument (2 given)",
     "output_type": "error",
     "traceback": [
      "\u001b[1;31m---------------------------------------------------------------------------\u001b[0m",
      "\u001b[1;31mTypeError\u001b[0m                                 Traceback (most recent call last)",
      "Cell \u001b[1;32mIn[107], line 1\u001b[0m\n\u001b[1;32m----> 1\u001b[0m \u001b[43mmyList\u001b[49m\u001b[38;5;241;43m.\u001b[39;49m\u001b[43mappend\u001b[49m\u001b[43m(\u001b[49m\u001b[38;5;124;43m'\u001b[39;49m\u001b[38;5;124;43m20\u001b[39;49m\u001b[38;5;124;43m'\u001b[39;49m\u001b[43m,\u001b[49m\u001b[43m \u001b[49m\u001b[38;5;124;43m'\u001b[39;49m\u001b[38;5;124;43m30\u001b[39;49m\u001b[38;5;124;43m'\u001b[39;49m\u001b[43m)\u001b[49m\n",
      "\u001b[1;31mTypeError\u001b[0m: list.append() takes exactly one argument (2 given)"
     ]
    }
   ],
   "source": [
    "myList.append('20', '30')"
   ]
  },
  {
   "cell_type": "code",
   "execution_count": 108,
   "metadata": {},
   "outputs": [
    {
     "ename": "TypeError",
     "evalue": "descriptor 'append' for 'list' objects doesn't apply to a 'str' object",
     "output_type": "error",
     "traceback": [
      "\u001b[1;31m---------------------------------------------------------------------------\u001b[0m",
      "\u001b[1;31mTypeError\u001b[0m                                 Traceback (most recent call last)",
      "Cell \u001b[1;32mIn[108], line 1\u001b[0m\n\u001b[1;32m----> 1\u001b[0m \u001b[38;5;28;43mlist\u001b[39;49m\u001b[38;5;241;43m.\u001b[39;49m\u001b[43mappend\u001b[49m\u001b[43m(\u001b[49m\u001b[38;5;124;43m'\u001b[39;49m\u001b[38;5;124;43m20\u001b[39;49m\u001b[38;5;124;43m'\u001b[39;49m\u001b[43m)\u001b[49m\n",
      "\u001b[1;31mTypeError\u001b[0m: descriptor 'append' for 'list' objects doesn't apply to a 'str' object"
     ]
    }
   ],
   "source": [
    "list.append('20')"
   ]
  },
  {
   "cell_type": "code",
   "execution_count": 109,
   "metadata": {},
   "outputs": [],
   "source": [
    "myList.append('20')"
   ]
  },
  {
   "cell_type": "code",
   "execution_count": 110,
   "metadata": {},
   "outputs": [
    {
     "data": {
      "text/plain": [
       "[10, '20']"
      ]
     },
     "execution_count": 110,
     "metadata": {},
     "output_type": "execute_result"
    }
   ],
   "source": [
    "myList"
   ]
  },
  {
   "cell_type": "code",
   "execution_count": 111,
   "metadata": {},
   "outputs": [],
   "source": [
    "myList.append('30')"
   ]
  },
  {
   "cell_type": "code",
   "execution_count": 113,
   "metadata": {},
   "outputs": [
    {
     "ename": "TypeError",
     "evalue": "vars() argument must have __dict__ attribute",
     "output_type": "error",
     "traceback": [
      "\u001b[1;31m---------------------------------------------------------------------------\u001b[0m",
      "\u001b[1;31mTypeError\u001b[0m                                 Traceback (most recent call last)",
      "Cell \u001b[1;32mIn[113], line 1\u001b[0m\n\u001b[1;32m----> 1\u001b[0m \u001b[38;5;28;43mvars\u001b[39;49m\u001b[43m(\u001b[49m\u001b[43mmyList\u001b[49m\u001b[43m)\u001b[49m\n",
      "\u001b[1;31mTypeError\u001b[0m: vars() argument must have __dict__ attribute"
     ]
    }
   ],
   "source": [
    "vars(myList)"
   ]
  },
  {
   "cell_type": "code",
   "execution_count": 114,
   "metadata": {},
   "outputs": [
    {
     "data": {
      "text/plain": [
       "type"
      ]
     },
     "execution_count": 114,
     "metadata": {},
     "output_type": "execute_result"
    }
   ],
   "source": [
    "type(Foo)"
   ]
  },
  {
   "cell_type": "code",
   "execution_count": 115,
   "metadata": {},
   "outputs": [
    {
     "data": {
      "text/plain": [
       "list"
      ]
     },
     "execution_count": 115,
     "metadata": {},
     "output_type": "execute_result"
    }
   ],
   "source": [
    "type(myList)"
   ]
  },
  {
   "cell_type": "code",
   "execution_count": 116,
   "metadata": {},
   "outputs": [
    {
     "data": {
      "text/plain": [
       "1"
      ]
     },
     "execution_count": 116,
     "metadata": {},
     "output_type": "execute_result"
    }
   ],
   "source": [
    "myList.count('20')"
   ]
  },
  {
   "cell_type": "code",
   "execution_count": 126,
   "metadata": {},
   "outputs": [],
   "source": [
    "g = Foo()"
   ]
  },
  {
   "cell_type": "code",
   "execution_count": 127,
   "metadata": {},
   "outputs": [
    {
     "data": {
      "text/plain": [
       "{'a': ({'a': 1, 'b': 2, 'c': 3},), 'b': {10, 20, 30, 40, 50}}"
      ]
     },
     "execution_count": 127,
     "metadata": {},
     "output_type": "execute_result"
    }
   ],
   "source": [
    "g.a = {'a': 1, 'b':2, 'c':3 },\n",
    "g.b = {10, 20, 30, 40, 50}\n",
    "\n",
    "vars(g)"
   ]
  },
  {
   "cell_type": "code",
   "execution_count": 128,
   "metadata": {},
   "outputs": [
    {
     "data": {
      "text/plain": [
       "{'x': 20, 'y': [20, 30, 40]}"
      ]
     },
     "execution_count": 128,
     "metadata": {},
     "output_type": "execute_result"
    }
   ],
   "source": [
    "vars(f)"
   ]
  },
  {
   "cell_type": "code",
   "execution_count": null,
   "metadata": {},
   "outputs": [],
   "source": [
    "# 2 sepeate instances of Foo() f and g. they are both object of type Foo. has two completely different attriubtes with different types and values. \n",
    "# however, this is not a good idea as this provide inconsistency "
   ]
  },
  {
   "cell_type": "markdown",
   "metadata": {},
   "source": [
    "### \" __init__ \"\n",
    "\n",
    "interesting, why __ does not show in markup "
   ]
  },
  {
   "cell_type": "code",
   "execution_count": 129,
   "metadata": {},
   "outputs": [],
   "source": [
    "class Foo (object):\n",
    "    def __init__ (self): \n",
    "        self.x = 100 \n",
    "        self.y = [10, 20, 30]"
   ]
  },
  {
   "cell_type": "code",
   "execution_count": 130,
   "metadata": {},
   "outputs": [
    {
     "data": {
      "text/plain": [
       "{'x': 100, 'y': [10, 20, 30]}"
      ]
     },
     "execution_count": 130,
     "metadata": {},
     "output_type": "execute_result"
    }
   ],
   "source": [
    "f = Foo() \n",
    "vars(f)"
   ]
  },
  {
   "cell_type": "code",
   "execution_count": 131,
   "metadata": {},
   "outputs": [
    {
     "data": {
      "text/plain": [
       "{'x': 100, 'y': [10, 20, 30]}"
      ]
     },
     "execution_count": 131,
     "metadata": {},
     "output_type": "execute_result"
    }
   ],
   "source": [
    "g = Foo() \n",
    "vars(g)"
   ]
  },
  {
   "cell_type": "code",
   "execution_count": null,
   "metadata": {},
   "outputs": [],
   "source": [
    "# adding __init__ with self.x => allow both f and g variables with the same arttribute  "
   ]
  },
  {
   "cell_type": "code",
   "execution_count": null,
   "metadata": {},
   "outputs": [],
   "source": [
    "# self is convention, that need to use as the first argument  \n",
    "# self is the instance of Foo as self. \n",
    "# of course developer can add attribute outside of object, but not suggested as this will cause everything to be messy "
   ]
  },
  {
   "cell_type": "markdown",
   "metadata": {},
   "source": [
    "### __init__ and parameters  "
   ]
  },
  {
   "cell_type": "code",
   "execution_count": 143,
   "metadata": {},
   "outputs": [],
   "source": [
    "class Foo (object):\n",
    "    def __init__ (self, x, y ):  \n",
    "        self.x = x\n",
    "        self.c = y\n",
    "    # what this mean is: \n",
    "    # 'self.x' and 'self.y' are attributes on 'self'\n",
    "    #  take the local variable x and y, then add them as attribute 'x' and 'y' "
   ]
  },
  {
   "cell_type": "code",
   "execution_count": 144,
   "metadata": {},
   "outputs": [],
   "source": [
    "f = Foo(10, 30) # this is to create a new instance of 'foo' called 'f' => the value of '10' and '30' were added after 'self'\n",
    "                # __init__ automaticly get self.10 and self.30  "
   ]
  },
  {
   "cell_type": "code",
   "execution_count": 145,
   "metadata": {},
   "outputs": [
    {
     "data": {
      "text/plain": [
       "{'x': 10, 'c': 30}"
      ]
     },
     "execution_count": 145,
     "metadata": {},
     "output_type": "execute_result"
    }
   ],
   "source": [
    "vars(f)"
   ]
  },
  {
   "cell_type": "code",
   "execution_count": 149,
   "metadata": {},
   "outputs": [
    {
     "data": {
      "text/plain": [
       "30"
      ]
     },
     "execution_count": 149,
     "metadata": {},
     "output_type": "execute_result"
    }
   ],
   "source": [
    "f.c"
   ]
  },
  {
   "cell_type": "code",
   "execution_count": 150,
   "metadata": {},
   "outputs": [],
   "source": [
    "# this is to create a default argumment\n",
    "class Foo (object):\n",
    "    def __init__ (self, x = 800, y = 000 ):  \n",
    "        self.x = x\n",
    "        self.c = y"
   ]
  },
  {
   "cell_type": "code",
   "execution_count": 151,
   "metadata": {},
   "outputs": [],
   "source": [
    "f = Foo()"
   ]
  },
  {
   "cell_type": "code",
   "execution_count": 152,
   "metadata": {},
   "outputs": [
    {
     "data": {
      "text/plain": [
       "{'x': 800, 'c': 0}"
      ]
     },
     "execution_count": 152,
     "metadata": {},
     "output_type": "execute_result"
    }
   ],
   "source": [
    "vars(f)"
   ]
  },
  {
   "cell_type": "code",
   "execution_count": 153,
   "metadata": {},
   "outputs": [],
   "source": [
    "# this is to create multiple arguements  \n",
    "class Foo (object):\n",
    "    def __init__ (self, x, *args ):  \n",
    "        self.x = x\n",
    "        self.args = args  "
   ]
  },
  {
   "cell_type": "code",
   "execution_count": 154,
   "metadata": {},
   "outputs": [],
   "source": [
    "f = Foo(10, 20, 30, 40, 50)  "
   ]
  },
  {
   "cell_type": "code",
   "execution_count": 155,
   "metadata": {},
   "outputs": [
    {
     "data": {
      "text/plain": [
       "{'x': 10, 'args': (20, 30, 40, 50)}"
      ]
     },
     "execution_count": 155,
     "metadata": {},
     "output_type": "execute_result"
    }
   ],
   "source": [
    "vars(f)"
   ]
  },
  {
   "cell_type": "markdown",
   "metadata": {},
   "source": [
    "### Exercise "
   ]
  },
  {
   "cell_type": "code",
   "execution_count": 156,
   "metadata": {},
   "outputs": [
    {
     "name": "stdout",
     "output_type": "stream",
     "text": [
      "chocolate\n"
     ]
    }
   ],
   "source": [
    "class Scoop():\n",
    "    def __init__ (self, favor):\n",
    "        self.favor = favor  \n",
    "        \n",
    "s1 = Scoop('chocolate')\n",
    "s2 = Scoop('vanilla')\n",
    "s3 = Scoop('coffee')\n",
    "\n",
    "print(s1.favor)"
   ]
  },
  {
   "cell_type": "code",
   "execution_count": 157,
   "metadata": {},
   "outputs": [
    {
     "name": "stdout",
     "output_type": "stream",
     "text": [
      "chocolate\n",
      "vanilla\n",
      "coffee\n"
     ]
    }
   ],
   "source": [
    "for one_scoop in [s1, s2, s3]: \n",
    "    print(one_scoop.favor) \n",
    "\n",
    "# what this function does is go to every single attribute of s1,s2,s3 and display the attribute "
   ]
  },
  {
   "cell_type": "code",
   "execution_count": 179,
   "metadata": {},
   "outputs": [
    {
     "name": "stdout",
     "output_type": "stream",
     "text": [
      "<__main__.Person object at 0x00000202DBDC34D0>\n"
     ]
    }
   ],
   "source": [
    "class Person():\n",
    "    def __init__ (self, name, email, phone_number):\n",
    "        self.name = name \n",
    "        self.email = email  \n",
    "        self.phone_number = phone_number \n",
    "\n",
    "#p1 = {'name' : name, 'email' : email, 'phone_number' : phone_number} # this seem to not correct when I am trying to create a dictionary \n",
    "\n",
    "p1 = Person('alex','alex@gmail', '123456789')\n",
    "p2 = Person('tom','tom@gmail', '234567891')\n",
    "p3 = Person('tim','tim@gmail', '345678912')\n",
    "p4 = Person('david','david@gmail', '456789123')\n",
    "\n",
    "print (p1)"
   ]
  },
  {
   "cell_type": "code",
   "execution_count": 207,
   "metadata": {},
   "outputs": [],
   "source": [
    "p4.email = 'herry@hotmail'"
   ]
  },
  {
   "cell_type": "code",
   "execution_count": 208,
   "metadata": {},
   "outputs": [
    {
     "name": "stdout",
     "output_type": "stream",
     "text": [
      "alex\n",
      "alex@gmail\n",
      "123456789\n"
     ]
    }
   ],
   "source": [
    "print (p1.name)\n",
    "print (p1.email)\n",
    "print (p1.phone_number)"
   ]
  },
  {
   "cell_type": "code",
   "execution_count": 181,
   "metadata": {},
   "outputs": [
    {
     "name": "stdout",
     "output_type": "stream",
     "text": [
      "<__main__.Person object at 0x00000202DBDC34D0>\n"
     ]
    }
   ],
   "source": [
    "\n",
    "print (p1)\n",
    "\n",
    "# why printing 'p1' does not work. but when I called for 'p1' attribute, it show the answer "
   ]
  },
  {
   "cell_type": "code",
   "execution_count": 182,
   "metadata": {},
   "outputs": [
    {
     "data": {
      "text/plain": [
       "__main__.Person"
      ]
     },
     "execution_count": 182,
     "metadata": {},
     "output_type": "execute_result"
    }
   ],
   "source": [
    "type (p1)"
   ]
  },
  {
   "cell_type": "code",
   "execution_count": 183,
   "metadata": {},
   "outputs": [
    {
     "data": {
      "text/plain": [
       "type"
      ]
     },
     "execution_count": 183,
     "metadata": {},
     "output_type": "execute_result"
    }
   ],
   "source": [
    "type (Person)"
   ]
  },
  {
   "cell_type": "code",
   "execution_count": 210,
   "metadata": {},
   "outputs": [
    {
     "name": "stdout",
     "output_type": "stream",
     "text": [
      " alex - alex@gmail - 123456789\n",
      " tom - tom@gmail - 234567891\n",
      " tim - tim@gmail - 345678912\n",
      " david - herry@hotmail - 456789123\n"
     ]
    }
   ],
   "source": [
    "for info in [p1, p2, p3, p4]: \n",
    "    print (f' {info.name} - {info.email} - {info.phone_number}')"
   ]
  },
  {
   "cell_type": "code",
   "execution_count": 211,
   "metadata": {},
   "outputs": [],
   "source": [
    "p4.email = 'aasdasdfasd@hotmail'"
   ]
  },
  {
   "cell_type": "code",
   "execution_count": 212,
   "metadata": {},
   "outputs": [
    {
     "name": "stdout",
     "output_type": "stream",
     "text": [
      " alex - alex@gmail - 123456789\n",
      " tom - tom@gmail - 234567891\n",
      " tim - tim@gmail - 345678912\n",
      " david - aasdasdfasd@hotmail - 456789123\n"
     ]
    }
   ],
   "source": [
    "for info in [p1, p2, p3, p4]: \n",
    "    print (f' {info.name} - {info.email} - {info.phone_number}')"
   ]
  },
  {
   "cell_type": "code",
   "execution_count": 280,
   "metadata": {},
   "outputs": [
    {
     "name": "stdout",
     "output_type": "stream",
     "text": [
      " name: alex - email:alex@gmail - phone:123456789\n",
      " name: tom - email:tom@gmail - phone:234567891\n",
      " name: tim - email:tim@gmail - phone:345678912\n",
      " name: david - email:aasdasdfasd@hotmail - phone:456789123\n"
     ]
    }
   ],
   "source": [
    "# solution from the lecture:  \n",
    "# to create a new phonebook list that putting all the name into the list \n",
    "# then access the information inside the list: \n",
    "phone_book = [p1, p2, p3, p4]\n",
    "\n",
    "for one_person in phone_book: \n",
    "    print (f' name: {one_person.name} - email:{one_person.email} - phone:{one_person.phone_number}')"
   ]
  },
  {
   "cell_type": "code",
   "execution_count": null,
   "metadata": {},
   "outputs": [],
   "source": [
    "# my solution and the class solution is about the same, as mine already a shortcut to put the people info into a list "
   ]
  },
  {
   "cell_type": "code",
   "execution_count": 221,
   "metadata": {},
   "outputs": [
    {
     "name": "stdout",
     "output_type": "stream",
     "text": [
      "Begining_balance = 0.0\n",
      "0.0\n",
      "-110.0\n"
     ]
    }
   ],
   "source": [
    "class BankAccount ():\n",
    "    def __init__ (self, transaction):\n",
    "        self.transaction = float(transaction) \n",
    "\n",
    "# create two different accounts\n",
    "account_1 = BankAccount(0) \n",
    "account_2 = BankAccount(0) \n",
    "\n",
    "# add a number of transactions +/- to each account \n",
    "print (f'Begining_balance = {account_1.transaction}') \n",
    "\n",
    "\n",
    "deposit = BankAccount(0)\n",
    "withdraw = BankAccount(-110)\n",
    "\n",
    "# add a number of transactions +/- to each account \n",
    "\n",
    "print(deposit.transaction) \n",
    "print(withdraw.transaction)\n",
    "\n",
    "# for each account, show the number of transactions and the average amount per transaction, and the current balance  \n",
    "\n",
    "\n"
   ]
  },
  {
   "cell_type": "code",
   "execution_count": 199,
   "metadata": {},
   "outputs": [
    {
     "data": {
      "text/plain": [
       "__main__.BankAccount"
      ]
     },
     "execution_count": 199,
     "metadata": {},
     "output_type": "execute_result"
    }
   ],
   "source": [
    "type(account_1)"
   ]
  },
  {
   "cell_type": "code",
   "execution_count": 196,
   "metadata": {},
   "outputs": [
    {
     "data": {
      "text/plain": [
       "int"
      ]
     },
     "execution_count": 196,
     "metadata": {},
     "output_type": "execute_result"
    }
   ],
   "source": [
    "account_1 = 1\n",
    "type(account_1)\n",
    "#print (f'Ending_balance = {account_1.transaction}')\n"
   ]
  },
  {
   "cell_type": "markdown",
   "metadata": {},
   "source": [
    "interesting: initially I thought that adding an interger into  account_1 will perform the operation, but actually it is not, it change the variable from type '__main__.BankAccount' into 'int'  "
   ]
  },
  {
   "cell_type": "code",
   "execution_count": 206,
   "metadata": {},
   "outputs": [],
   "source": [
    "account_1 = BankAccount(0)"
   ]
  },
  {
   "cell_type": "markdown",
   "metadata": {},
   "source": [
    "How to a number of transactions +/- to each account? "
   ]
  },
  {
   "cell_type": "code",
   "execution_count": 226,
   "metadata": {},
   "outputs": [
    {
     "name": "stdout",
     "output_type": "stream",
     "text": [
      "Closing_balance = 20.0\n"
     ]
    }
   ],
   "source": [
    "account_1.transaction += 3\n",
    "account_1.transaction += 5\n",
    "account_1.transaction -= 2\n",
    "account_1.transaction += 4\n",
    "account_1.transaction -= 5\n",
    "print(f'Closing_balance = {account_1.transaction}')"
   ]
  },
  {
   "cell_type": "code",
   "execution_count": null,
   "metadata": {},
   "outputs": [],
   "source": [
    "# this one i get stuck at how to count the number of transaction, calculate the average "
   ]
  },
  {
   "cell_type": "code",
   "execution_count": 223,
   "metadata": {},
   "outputs": [
    {
     "ename": "TypeError",
     "evalue": "'float' object is not iterable",
     "output_type": "error",
     "traceback": [
      "\u001b[1;31m---------------------------------------------------------------------------\u001b[0m",
      "\u001b[1;31mTypeError\u001b[0m                                 Traceback (most recent call last)",
      "Cell \u001b[1;32mIn[223], line 1\u001b[0m\n\u001b[1;32m----> 1\u001b[0m average_amount_per_transaction \u001b[38;5;241m=\u001b[39m \u001b[38;5;28;43msum\u001b[39;49m\u001b[43m(\u001b[49m\u001b[43maccount_1\u001b[49m\u001b[38;5;241;43m.\u001b[39;49m\u001b[43mtransaction\u001b[49m\u001b[43m)\u001b[49m \u001b[38;5;241m/\u001b[39m \u001b[38;5;28mlen\u001b[39m(account_1\u001b[38;5;241m.\u001b[39mtransaction) \n",
      "\u001b[1;31mTypeError\u001b[0m: 'float' object is not iterable"
     ]
    }
   ],
   "source": [
    "average_amount_per_transaction = sum(account_1.transaction) / len(account_1.transaction) "
   ]
  },
  {
   "cell_type": "code",
   "execution_count": 227,
   "metadata": {},
   "outputs": [],
   "source": [
    "account_2.transaction = [] "
   ]
  },
  {
   "cell_type": "code",
   "execution_count": 228,
   "metadata": {},
   "outputs": [
    {
     "data": {
      "text/plain": [
       "list"
      ]
     },
     "execution_count": 228,
     "metadata": {},
     "output_type": "execute_result"
    }
   ],
   "source": [
    "type(account_2.transaction)"
   ]
  },
  {
   "cell_type": "code",
   "execution_count": 229,
   "metadata": {},
   "outputs": [
    {
     "name": "stdout",
     "output_type": "stream",
     "text": [
      "[]\n"
     ]
    }
   ],
   "source": [
    "print(account_2.transaction)"
   ]
  },
  {
   "cell_type": "code",
   "execution_count": 266,
   "metadata": {},
   "outputs": [
    {
     "ename": "ValueError",
     "evalue": "could not convert string to float: ''",
     "output_type": "error",
     "traceback": [
      "\u001b[1;31m---------------------------------------------------------------------------\u001b[0m",
      "\u001b[1;31mValueError\u001b[0m                                Traceback (most recent call last)",
      "Cell \u001b[1;32mIn[266], line 2\u001b[0m\n\u001b[0;32m      1\u001b[0m \u001b[38;5;28;01mwhile\u001b[39;00m \u001b[38;5;28;01mTrue\u001b[39;00m:  \n\u001b[1;32m----> 2\u001b[0m     transaction_info \u001b[38;5;241m=\u001b[39m \u001b[38;5;28;43mfloat\u001b[39;49m\u001b[43m(\u001b[49m\u001b[38;5;28;43minput\u001b[39;49m\u001b[43m(\u001b[49m\u001b[38;5;124;43m'\u001b[39;49m\u001b[38;5;124;43mtransaction: \u001b[39;49m\u001b[38;5;124;43m'\u001b[39;49m\u001b[43m)\u001b[49m\u001b[38;5;241;43m.\u001b[39;49m\u001b[43mstrip\u001b[49m\u001b[43m(\u001b[49m\u001b[43m)\u001b[49m\u001b[43m)\u001b[49m  \n\u001b[0;32m      3\u001b[0m     \u001b[38;5;28;01mif\u001b[39;00m \u001b[38;5;129;01mnot\u001b[39;00m transaction_info:\n\u001b[0;32m      4\u001b[0m         \u001b[38;5;28;01mbreak\u001b[39;00m \n",
      "\u001b[1;31mValueError\u001b[0m: could not convert string to float: ''"
     ]
    }
   ],
   "source": [
    "while True:  \n",
    "    transaction_info = float(input('transaction: ').strip())  \n",
    "    if not transaction_info:\n",
    "        break \n",
    "    account_2.transaction.append(transaction_info)\n",
    "        \n",
    "for item in account_2.transaction:\n",
    "    number_of_transaction = len(account_2.transaction)\n",
    "    total_value_transaction = sum(account_2.transaction)\n",
    "    average_amount_per_transaction = total_value_transaction / number_of_transaction\n",
    "\n",
    "print(f'number of transaction: {number_of_transaction}')\n",
    "print(f'average amount per transaction: {average_amount_per_transaction}')\n",
    "print(f'the current balance: {total_value_transaction}')    "
   ]
  },
  {
   "cell_type": "code",
   "execution_count": null,
   "metadata": {},
   "outputs": [],
   "source": [
    "# this approach I get stuck at the part where the system try to break the loop with <enter> which cause \n",
    "# the recognition of an empty string  \n",
    "\n",
    "'''\n",
    "---------------------------------------------------------------------------\n",
    "ValueError                                Traceback (most recent call last)\n",
    "Cell In[266], line 2\n",
    "      1 while True:  \n",
    "----> 2     transaction_info = float(input('transaction: ').strip())  \n",
    "      3     if not transaction_info:\n",
    "      4         break \n",
    "\n",
    "ValueError: could not convert string to float: ''\n",
    "'''\n",
    "\n"
   ]
  },
  {
   "cell_type": "code",
   "execution_count": 279,
   "metadata": {},
   "outputs": [
    {
     "name": "stdout",
     "output_type": "stream",
     "text": [
      "[1, 2, 3, 4, 5, 6, 7, 8, 9, 10, -3, -4, -5]\n",
      "number of transaction: 13\n",
      "average amount per transaction: 3.31\n",
      "the current balance: 43\n"
     ]
    }
   ],
   "source": [
    "deposit_account_2 = [1, 2, 3, 4, 5, 6, 7 , 8, 9, 10]\n",
    "withdraw_account_2 = [-3 , -4, -5 ]\n",
    "\n",
    "account_2.transaction = deposit_account_2 + withdraw_account_2\n",
    "print(account_2.transaction)\n",
    "number_of_transaction = len(account_2.transaction)\n",
    "total_value_transaction = sum(account_2.transaction)\n",
    "average_amount_per_transaction = total_value_transaction / number_of_transaction\n",
    "\n",
    "print(f'number of transaction: {number_of_transaction}')\n",
    "print(f'average amount per transaction: {average_amount_per_transaction:.2f}')\n",
    "print(f'the current balance: {total_value_transaction}')    "
   ]
  },
  {
   "cell_type": "code",
   "execution_count": 276,
   "metadata": {},
   "outputs": [],
   "source": [
    "# for the purpose of this exercise, I will put the transaction value manually into the code instead of letting the user to input"
   ]
  },
  {
   "cell_type": "code",
   "execution_count": 281,
   "metadata": {},
   "outputs": [],
   "source": [
    "# the solution from the lecture is much more simplier than I thought :)  \n",
    "class Account():\n",
    "    def __init__(self):\n",
    "        self.transaction = [] # this is the crucial point => this create an attribubte name 'transaction' with value is an emplty list \n",
    "\n",
    "checking = Account()\n",
    "saving = Account()\n",
    "        "
   ]
  },
  {
   "cell_type": "code",
   "execution_count": 282,
   "metadata": {},
   "outputs": [
    {
     "name": "stdout",
     "output_type": "stream",
     "text": [
      "[]\n",
      "[]\n"
     ]
    }
   ],
   "source": [
    "print (checking.transaction)\n",
    "print (saving.transaction)"
   ]
  },
  {
   "cell_type": "code",
   "execution_count": 283,
   "metadata": {},
   "outputs": [
    {
     "name": "stdout",
     "output_type": "stream",
     "text": [
      "[100]\n"
     ]
    }
   ],
   "source": [
    "checking.transaction.append(100)\n",
    "print(checking.transaction)"
   ]
  },
  {
   "cell_type": "code",
   "execution_count": 285,
   "metadata": {},
   "outputs": [],
   "source": [
    "checking.transaction.append(200)\n",
    "checking.transaction.append(300)\n",
    "checking.transaction.append(400)\n",
    "checking.transaction.append(-100)\n",
    "\n"
   ]
  },
  {
   "cell_type": "code",
   "execution_count": 286,
   "metadata": {},
   "outputs": [
    {
     "name": "stdout",
     "output_type": "stream",
     "text": [
      "[100, 200, 200, 200, 300, 400, -100]\n"
     ]
    }
   ],
   "source": [
    "print(checking.transaction)"
   ]
  },
  {
   "cell_type": "code",
   "execution_count": 288,
   "metadata": {},
   "outputs": [
    {
     "name": "stdout",
     "output_type": "stream",
     "text": [
      "total_checking = 1300\n",
      "number_checking = 7\n",
      "average_checking = 185.71\n"
     ]
    }
   ],
   "source": [
    "total_checking = sum(checking.transaction)\n",
    "number_checking = len(checking.transaction)\n",
    "average_checking = total_checking / number_checking \n",
    "\n",
    "print (f'total_checking = {total_checking}')\n",
    "print (f'number_checking = {number_checking}')\n",
    "print (f'average_checking = {average_checking:.2f}')\n"
   ]
  },
  {
   "cell_type": "markdown",
   "metadata": {},
   "source": [
    "# Section 3: Methods  "
   ]
  },
  {
   "cell_type": "markdown",
   "metadata": {},
   "source": [
    "### Methods"
   ]
  },
  {
   "cell_type": "code",
   "execution_count": 289,
   "metadata": {},
   "outputs": [],
   "source": [
    "class Foo(object):\n",
    "    def __init__ (self, x):\n",
    "        self.x = x  \n",
    "    \n",
    "    def x2(self): \n",
    "        return self.x *2  "
   ]
  },
  {
   "cell_type": "code",
   "execution_count": 290,
   "metadata": {},
   "outputs": [
    {
     "name": "stdout",
     "output_type": "stream",
     "text": [
      "<__main__.Foo object at 0x00000202DBD981D0>\n"
     ]
    }
   ],
   "source": [
    "f = Foo(10)\n",
    "print (f)"
   ]
  },
  {
   "cell_type": "code",
   "execution_count": 291,
   "metadata": {},
   "outputs": [
    {
     "name": "stdout",
     "output_type": "stream",
     "text": [
      "10\n"
     ]
    }
   ],
   "source": [
    "print (f.x)"
   ]
  },
  {
   "cell_type": "code",
   "execution_count": 293,
   "metadata": {},
   "outputs": [
    {
     "name": "stdout",
     "output_type": "stream",
     "text": [
      "<bound method Foo.x2 of <__main__.Foo object at 0x00000202DBD981D0>>\n"
     ]
    },
    {
     "data": {
      "text/plain": [
       "<bound method Foo.x2 of <__main__.Foo object at 0x00000202DBD981D0>>"
      ]
     },
     "execution_count": 293,
     "metadata": {},
     "output_type": "execute_result"
    }
   ],
   "source": [
    "print (f.x2)\n",
    "f.x2"
   ]
  },
  {
   "cell_type": "code",
   "execution_count": 294,
   "metadata": {},
   "outputs": [
    {
     "data": {
      "text/plain": [
       "20"
      ]
     },
     "execution_count": 294,
     "metadata": {},
     "output_type": "execute_result"
    }
   ],
   "source": [
    "f.x2() # invokes the method x2 on our f object  "
   ]
  },
  {
   "cell_type": "code",
   "execution_count": 295,
   "metadata": {},
   "outputs": [
    {
     "data": {
      "text/plain": [
       "20"
      ]
     },
     "execution_count": 295,
     "metadata": {},
     "output_type": "execute_result"
    }
   ],
   "source": [
    "Foo.x2(f) # f.x2() is secretly rewritten in the background "
   ]
  },
  {
   "cell_type": "code",
   "execution_count": 296,
   "metadata": {},
   "outputs": [
    {
     "data": {
      "text/plain": [
       "{'x': 10}"
      ]
     },
     "execution_count": 296,
     "metadata": {},
     "output_type": "execute_result"
    }
   ],
   "source": [
    "vars(f)"
   ]
  },
  {
   "cell_type": "code",
   "execution_count": 297,
   "metadata": {},
   "outputs": [
    {
     "ename": "NameError",
     "evalue": "name 'vers' is not defined",
     "output_type": "error",
     "traceback": [
      "\u001b[1;31m---------------------------------------------------------------------------\u001b[0m",
      "\u001b[1;31mNameError\u001b[0m                                 Traceback (most recent call last)",
      "Cell \u001b[1;32mIn[297], line 1\u001b[0m\n\u001b[1;32m----> 1\u001b[0m \u001b[43mvers\u001b[49m(Foo())\n",
      "\u001b[1;31mNameError\u001b[0m: name 'vers' is not defined"
     ]
    }
   ],
   "source": [
    "vers(Foo())"
   ]
  },
  {
   "cell_type": "code",
   "execution_count": 298,
   "metadata": {},
   "outputs": [
    {
     "data": {
      "text/plain": [
       "mappingproxy({'__module__': '__main__',\n",
       "              '__init__': <function __main__.Foo.__init__(self, x)>,\n",
       "              'x2': <function __main__.Foo.x2(self)>,\n",
       "              '__dict__': <attribute '__dict__' of 'Foo' objects>,\n",
       "              '__weakref__': <attribute '__weakref__' of 'Foo' objects>,\n",
       "              '__doc__': None})"
      ]
     },
     "execution_count": 298,
     "metadata": {},
     "output_type": "execute_result"
    }
   ],
   "source": [
    "vars(Foo)"
   ]
  },
  {
   "cell_type": "code",
   "execution_count": null,
   "metadata": {},
   "outputs": [],
   "source": [
    "# making sure that I am not using local variable inside a method. rather I should be using 'self.'"
   ]
  },
  {
   "cell_type": "code",
   "execution_count": 306,
   "metadata": {},
   "outputs": [
    {
     "data": {
      "text/plain": [
       "__main__.Book"
      ]
     },
     "execution_count": 306,
     "metadata": {},
     "output_type": "execute_result"
    }
   ],
   "source": [
    "class Book(object):\n",
    "    def __init__(self, title, author, price = 30 ):\n",
    "        self.title = title \n",
    "        self.author = author\n",
    "        self.price = price   \n",
    "    \n",
    "    # to create a new method:  \n",
    "    def \n",
    "\n",
    "b1 = Book('Titile1', 'Author1')\n",
    "b2 = Book('Titile2', 'Author2')\n",
    "b3 = Book('Titile3', 'Author2', 25)\n",
    "\n",
    "type(b1)\n"
   ]
  },
  {
   "cell_type": "code",
   "execution_count": 305,
   "metadata": {},
   "outputs": [
    {
     "name": "stdout",
     "output_type": "stream",
     "text": [
      " Titile1 - Author1 - 30\n",
      " Titile2 - Author2 - 30\n",
      " Titile3 - Author3 - 25\n"
     ]
    }
   ],
   "source": [
    "print(f' {b1.title} - {b1.author} - {b1.price}')\n",
    "print(f' {b2.title} - {b2.author} - {b2.price}')\n",
    "print(f' {b3.title} - {b3.author} - {b3.price}')      "
   ]
  },
  {
   "cell_type": "code",
   "execution_count": null,
   "metadata": {},
   "outputs": [],
   "source": [
    "# __init__ is to set the attribute and associated value   "
   ]
  },
  {
   "cell_type": "code",
   "execution_count": 319,
   "metadata": {},
   "outputs": [
    {
     "name": "stdout",
     "output_type": "stream",
     "text": [
      "<__main__.BookShelf object at 0x00000202DBDE4D50>\n"
     ]
    }
   ],
   "source": [
    "class BookShelf(object):\n",
    "    def __init__(self):\n",
    "        self.books = [] \n",
    "        \n",
    "    def add_book(self, *args):\n",
    "        self.books += args\n",
    "        \n",
    "    def total_value_books(self): \n",
    "        return sum([one_book.price\n",
    "                    for one_book in shelf.books])\n",
    "\n",
    "shelf = BookShelf() \n",
    "shelf.add_book(b1, b2, b3)\n",
    "shelf.total_value_books()\n",
    "\n",
    "        "
   ]
  },
  {
   "cell_type": "code",
   "execution_count": 320,
   "metadata": {},
   "outputs": [
    {
     "name": "stdout",
     "output_type": "stream",
     "text": [
      "[<__main__.Book object at 0x00000202DB042450>, <__main__.Book object at 0x00000202DB0438D0>, <__main__.Book object at 0x00000202DB040F50>]\n"
     ]
    }
   ],
   "source": [
    "print (shelf.books) "
   ]
  },
  {
   "cell_type": "code",
   "execution_count": 321,
   "metadata": {},
   "outputs": [],
   "source": [
    "# why does the answer show 3 instance of shelf which is the  information ob book b1, b2, b3, yet it didnt show the value of b1, b2, and b3 "
   ]
  },
  {
   "cell_type": "code",
   "execution_count": 326,
   "metadata": {},
   "outputs": [
    {
     "name": "stdout",
     "output_type": "stream",
     "text": [
      "Titile1 - Author1 - 30\n"
     ]
    }
   ],
   "source": [
    "print (f'{shelf.books[0].title} - {shelf.books[0].author} - {shelf.books[0].price}')"
   ]
  },
  {
   "cell_type": "code",
   "execution_count": 328,
   "metadata": {},
   "outputs": [
    {
     "ename": "SyntaxError",
     "evalue": "f-string: invalid syntax. Perhaps you forgot a comma? (Tempjjajajipykernel_35928jjajaj687112372.py, line 2)",
     "output_type": "error",
     "traceback": [
      "\u001b[1;36m  Cell \u001b[1;32mIn[328], line 2\u001b[1;36m\u001b[0m\n\u001b[1;33m    print (f'{shelf.books[]title} - {shelf.books[]author} - {shelf.books[]price}')\u001b[0m\n\u001b[1;37m    ^\u001b[0m\n\u001b[1;31mSyntaxError\u001b[0m\u001b[1;31m:\u001b[0m f-string: invalid syntax. Perhaps you forgot a comma?\n"
     ]
    }
   ],
   "source": [
    "for detail in shelf.books: \n",
    "    print (f'{shelf.books.title} - {shelf.books[]author} - {shelf.books[]price}')"
   ]
  },
  {
   "cell_type": "markdown",
   "metadata": {},
   "source": [
    "### Method exercise \n"
   ]
  },
  {
   "cell_type": "markdown",
   "metadata": {},
   "source": [
    "(1) Create a Bowl class.  We can put scoops in the bowl!\n",
    "\n",
    "    b = Bowl()\n",
    "    b.add_scoops(s1, s2)\n",
    "    b.add_scoops(s3)\n",
    "    b.flavors()  # returns a string of \"chocolate, vanilla, coffee\""
   ]
  },
  {
   "cell_type": "code",
   "execution_count": 329,
   "metadata": {},
   "outputs": [
    {
     "name": "stdout",
     "output_type": "stream",
     "text": [
      "chocolate\n"
     ]
    }
   ],
   "source": [
    "class Scoop():\n",
    "    def __init__ (self, favor):\n",
    "        self.favor = favor  \n",
    "        \n",
    "s1 = Scoop('chocolate')\n",
    "s2 = Scoop('vanilla')\n",
    "s3 = Scoop('coffee')\n",
    "\n",
    "print(s1.favor)"
   ]
  },
  {
   "cell_type": "code",
   "execution_count": 359,
   "metadata": {},
   "outputs": [
    {
     "data": {
      "text/plain": [
       "'chocolate, vanilla, coffee'"
      ]
     },
     "execution_count": 359,
     "metadata": {},
     "output_type": "execute_result"
    }
   ],
   "source": [
    "class Bowl(): \n",
    "    def __init__(self):\n",
    "        self.flavors = []\n",
    "        \n",
    "    def add_scoops(self, *args):\n",
    "        self.flavors += args\n",
    "    \n",
    "    # method to display the value self.flavors   \n",
    "    def output_flavors(self):\n",
    "        return ', '.join([one_favor.favor \n",
    "                    for one_favor in self.flavors])\n",
    "\n",
    "b = Bowl() \n",
    "b.add_scoops(s1, s2, s3)\n",
    "b.output_flavors()\n",
    "# b.favor()\n",
    "#print (b.flavors())\n",
    "\n",
    "\n",
    "#for item in b.flavors:\n",
    "#    print(item.favor)\n",
    "        \n",
    "        "
   ]
  },
  {
   "cell_type": "code",
   "execution_count": 342,
   "metadata": {},
   "outputs": [
    {
     "name": "stdout",
     "output_type": "stream",
     "text": [
      "[1, 2]\n"
     ]
    }
   ],
   "source": [
    "abc = [1, 2 ]\n",
    "print (abc)"
   ]
  },
  {
   "cell_type": "markdown",
   "metadata": {},
   "source": [
    "### question?  \n",
    "why does can we just call out a list using pring as an sample above instead of creating a new method to display the value of the list?  "
   ]
  },
  {
   "cell_type": "markdown",
   "metadata": {},
   "source": [
    "(2) Use our existing Person and BankAccount classes.  Make it possible\n",
    "    for a person to have one or more bank accounts.  So we can say:\n",
    "\n",
    "    p1.add_account(ba1)\n",
    "    p1.add_account(ba2)\n",
    "\n",
    "    p1.all_balances()           # returns a list of floats representing balances\n",
    "    p1.current_total_balance()  # gives the total balance across all accounts\n",
    "    \n",
    "    p1.average_transaction_amount()  # returns the average amount of transactions across all accounts"
   ]
  },
  {
   "cell_type": "markdown",
   "metadata": {},
   "source": [
    "(3) Create a ShoppingCart class.\n",
    "\n",
    "    sc = ShoppingCart()\n",
    "    sc.add('book', 30, 1)    # name, price-per-unit, quantity\n",
    "    sc.add('toothbrush', 3, 4)\n",
    "\n",
    "    sc.remove('toothbrush')   # removes one toothbrush -- or removes\n",
    "                              # the item altogether if the quantity is 0\n",
    "    \n",
    "    sc.total()  # returns the total price of items in the shopping cart"
   ]
  },
  {
   "cell_type": "markdown",
   "metadata": {},
   "source": [
    "# Pending exercise 2 and 3: to do it within today  `"
   ]
  },
  {
   "cell_type": "markdown",
   "metadata": {},
   "source": [
    "# CLASS ATTRIBUTES"
   ]
  },
  {
   "cell_type": "markdown",
   "metadata": {},
   "source": [
    "### Classes vs. functions  "
   ]
  },
  {
   "cell_type": "code",
   "execution_count": 361,
   "metadata": {},
   "outputs": [
    {
     "name": "stdout",
     "output_type": "stream",
     "text": [
      "<bound method Person.greet of <__main__.Person object at 0x00000202DC65D290>>\n",
      "<bound method Person.greet of <__main__.Person object at 0x00000202DC65D2D0>>\n",
      "hello, NameA\n",
      "hello, NameB\n"
     ]
    }
   ],
   "source": [
    "class Person ():\n",
    "    def __init__(self, name): # method 1  \n",
    "        self.name =name  \n",
    "        \n",
    "    def greet(self):           # method 2 \n",
    "        return f'hello, {self.name}'\n",
    "\n",
    "p1 = Person('NameA')            # instance 1 \n",
    "p2 = Person('NameB')            # instance 2  \n",
    "\n",
    "print(p1.greet)\n",
    "print(p2.greet)\n",
    "\n",
    "print(p1.greet())\n",
    "print(p2.greet())\n"
   ]
  },
  {
   "cell_type": "code",
   "execution_count": null,
   "metadata": {},
   "outputs": [],
   "source": [
    "# p1, and p2 are two instance of Person, each of them has value representing 'name'  \n",
    "# within Object Person, there is a 'feature'/'method'/'function' that allow the system to do the thing that is initially set in this particular function. \n",
    "# in this case the default setting is to say hi with the person name.  \n",
    "\n",
    "# for person 1 = the attribute called 'greet' or method, allow this solution to be accessible any instance of Object Person.    "
   ]
  },
  {
   "cell_type": "code",
   "execution_count": 364,
   "metadata": {},
   "outputs": [
    {
     "name": "stdout",
     "output_type": "stream",
     "text": [
      "1\n",
      "2\n",
      "4\n",
      "5\n",
      "['__class__', '__delattr__', '__dict__', '__dir__', '__doc__', '__eq__', '__format__', '__ge__', '__getattribute__', '__getstate__', '__gt__', '__hash__', '__init__', '__init_subclass__', '__le__', '__lt__', '__module__', '__ne__', '__new__', '__reduce__', '__reduce_ex__', '__repr__', '__setattr__', '__sizeof__', '__str__', '__subclasshook__', '__weakref__', 'greet']\n",
      "3\n",
      "3\n",
      "<bound method Person.greet of <__main__.Person object at 0x00000202DC6F3A90>>\n",
      "<bound method Person.greet of <__main__.Person object at 0x00000202DC6AAB50>>\n",
      "hello, NameA\n",
      "hello, NameB\n"
     ]
    }
   ],
   "source": [
    "print ('1') \n",
    "class Person ():\n",
    "    print ('2')\n",
    "    def __init__(self, name):\n",
    "        print ('3')\n",
    "        self.name =name  \n",
    "    \n",
    "    print ('4')    \n",
    "    def greet(self):\n",
    "        return f'hello, {self.name}'\n",
    "\n",
    "print ('5')\n",
    "\n",
    "print(dir(Person))\n",
    "\n",
    "p1 = Person('NameA')\n",
    "p2 = Person('NameB')\n",
    "\n",
    "print(p1.greet)\n",
    "print(p2.greet)\n",
    "\n",
    "print(p1.greet())\n",
    "print(p2.greet())\n"
   ]
  },
  {
   "cell_type": "code",
   "execution_count": null,
   "metadata": {},
   "outputs": [],
   "source": [
    "# this is to demonstrate that as soon as you are create a method in an object, they are run instancely. yet, they only called out when revoked \n",
    "# that is why print(3) is excuted after the output of dir(Person) located at line 14 \n",
    "# also, having method 'greet' as the result from dir(Person) indicate that method has been run and recorded in the system  "
   ]
  },
  {
   "cell_type": "markdown",
   "metadata": {},
   "source": [
    "### Class attributes"
   ]
  },
  {
   "cell_type": "code",
   "execution_count": null,
   "metadata": {},
   "outputs": [],
   "source": [
    "class Person ():\n",
    "    def __init__(self, name): # method 1  \n",
    "        self.name =name  \n",
    "\n",
    "p1 = Person('NameA')            \n",
    "p2 = Person('NameB')            "
   ]
  },
  {
   "cell_type": "code",
   "execution_count": 365,
   "metadata": {},
   "outputs": [
    {
     "name": "stdout",
     "output_type": "stream",
     "text": [
      "Before, population = 0\n",
      "After, population = 0\n"
     ]
    }
   ],
   "source": [
    "# option 1 \n",
    "\n",
    "population = 0 \n",
    "\n",
    "class Person ():\n",
    "    def __init__(self, name): # method 1  \n",
    "        self.name =name  \n",
    "\n",
    "print(f'Before, population = {population}')\n",
    "p1 = Person('NameA')            \n",
    "p2 = Person('NameB')            \n",
    "\n",
    "print(f'After, population = {population}')"
   ]
  },
  {
   "cell_type": "code",
   "execution_count": null,
   "metadata": {},
   "outputs": [],
   "source": [
    "# the reason for having population is because population is a global variable, it is not associate with the object Person "
   ]
  },
  {
   "cell_type": "code",
   "execution_count": 367,
   "metadata": {},
   "outputs": [
    {
     "name": "stdout",
     "output_type": "stream",
     "text": [
      "Before, population = 0\n"
     ]
    },
    {
     "ename": "UnboundLocalError",
     "evalue": "cannot access local variable 'population' where it is not associated with a value",
     "output_type": "error",
     "traceback": [
      "\u001b[1;31m---------------------------------------------------------------------------\u001b[0m",
      "\u001b[1;31mUnboundLocalError\u001b[0m                         Traceback (most recent call last)",
      "Cell \u001b[1;32mIn[367], line 12\u001b[0m\n\u001b[0;32m      9\u001b[0m         \u001b[38;5;28mself\u001b[39m\u001b[38;5;241m.\u001b[39mname \u001b[38;5;241m=\u001b[39mname  \n\u001b[0;32m     11\u001b[0m \u001b[38;5;28mprint\u001b[39m(\u001b[38;5;124mf\u001b[39m\u001b[38;5;124m'\u001b[39m\u001b[38;5;124mBefore, population = \u001b[39m\u001b[38;5;132;01m{\u001b[39;00mpopulation\u001b[38;5;132;01m}\u001b[39;00m\u001b[38;5;124m'\u001b[39m)\n\u001b[1;32m---> 12\u001b[0m p1 \u001b[38;5;241m=\u001b[39m \u001b[43mPerson\u001b[49m\u001b[43m(\u001b[49m\u001b[38;5;124;43m'\u001b[39;49m\u001b[38;5;124;43mNameA\u001b[39;49m\u001b[38;5;124;43m'\u001b[39;49m\u001b[43m)\u001b[49m            \n\u001b[0;32m     13\u001b[0m p2 \u001b[38;5;241m=\u001b[39m Person(\u001b[38;5;124m'\u001b[39m\u001b[38;5;124mNameB\u001b[39m\u001b[38;5;124m'\u001b[39m)            \n\u001b[0;32m     15\u001b[0m \u001b[38;5;28mprint\u001b[39m(\u001b[38;5;124mf\u001b[39m\u001b[38;5;124m'\u001b[39m\u001b[38;5;124mAfter, population = \u001b[39m\u001b[38;5;132;01m{\u001b[39;00mpopulation\u001b[38;5;132;01m}\u001b[39;00m\u001b[38;5;124m'\u001b[39m)\n",
      "Cell \u001b[1;32mIn[367], line 8\u001b[0m, in \u001b[0;36mPerson.__init__\u001b[1;34m(self, name)\u001b[0m\n\u001b[0;32m      7\u001b[0m \u001b[38;5;28;01mdef\u001b[39;00m \u001b[38;5;21m__init__\u001b[39m(\u001b[38;5;28mself\u001b[39m, name): \u001b[38;5;66;03m# method 1  \u001b[39;00m\n\u001b[1;32m----> 8\u001b[0m     \u001b[43mpopulation\u001b[49m \u001b[38;5;241m+\u001b[39m\u001b[38;5;241m=\u001b[39m \u001b[38;5;241m1\u001b[39m \n\u001b[0;32m      9\u001b[0m     \u001b[38;5;28mself\u001b[39m\u001b[38;5;241m.\u001b[39mname \u001b[38;5;241m=\u001b[39mname\n",
      "\u001b[1;31mUnboundLocalError\u001b[0m: cannot access local variable 'population' where it is not associated with a value"
     ]
    }
   ],
   "source": [
    "# option 1: continue \n",
    "# to make this happen, adding global variable 'population' into the Object \n",
    " \n",
    "population = 0 \n",
    "\n",
    "class Person ():\n",
    "    def __init__(self, name): # method 1  \n",
    "        population += 1 \n",
    "        self.name =name  \n",
    "\n",
    "print(f'Before, population = {population}')\n",
    "p1 = Person('NameA')            \n",
    "p2 = Person('NameB')            \n",
    "\n",
    "print(f'After, population = {population}')"
   ]
  },
  {
   "cell_type": "code",
   "execution_count": null,
   "metadata": {},
   "outputs": [],
   "source": [
    "# UnboundLocalError is because there is no association between 'population' in line 4 and 'population' in line 8  \n",
    "# python search for valuate of left side 'population' in line 8 in order perform the operation, but cannt located the variables  "
   ]
  },
  {
   "cell_type": "code",
   "execution_count": 368,
   "metadata": {},
   "outputs": [
    {
     "name": "stdout",
     "output_type": "stream",
     "text": [
      "Before, population = 0\n",
      "After, population = 2\n"
     ]
    }
   ],
   "source": [
    "# option 1: continue \n",
    "# using global keyword to assign the variable 'population' a global \n",
    "# bringing the 'population' at line 4 down to do line 8\n",
    "# this is to demo the posibility, but not recommended   \n",
    "population = 0 \n",
    "\n",
    "class Person ():\n",
    "    def __init__(self, name): # method 1  \n",
    "        global population\n",
    "        population += 1 \n",
    "        self.name =name  \n",
    "\n",
    "print(f'Before, population = {population}')\n",
    "p1 = Person('NameA')            \n",
    "p2 = Person('NameB')            \n",
    "\n",
    "print(f'After, population = {population}')"
   ]
  },
  {
   "cell_type": "code",
   "execution_count": 369,
   "metadata": {},
   "outputs": [
    {
     "name": "stdout",
     "output_type": "stream",
     "text": [
      "Before, population = 0\n",
      "After, population = 2\n"
     ]
    }
   ],
   "source": [
    "# option 2a: creating a new attribute of Person called 'population' \n",
    "\n",
    "class Person ():\n",
    "    def __init__(self, name): # method 1  \n",
    "        Person.population += 1 \n",
    "        self.name =name  \n",
    "        \n",
    "Person.population = 0 \n",
    "\n",
    "print(f'Before, population = {Person.population}')\n",
    "p1 = Person('NameA')            \n",
    "p2 = Person('NameB')            \n",
    "\n",
    "print(f'After, population = {Person.population}')"
   ]
  },
  {
   "cell_type": "code",
   "execution_count": null,
   "metadata": {},
   "outputs": [],
   "source": [
    "# option 2a: creating a new attribute of Person called 'population' \n",
    "# instead of using Person.population = 0 in line 8, that is outside of class Person (), assigned the variable inside the Class to create a new 'method ??' \n",
    " \n",
    "class Person ():\n",
    "    population = 0  # define Person.population = 0 -- c\n",
    "    def __init__(self, name): # method 1  \n",
    "        Person.population += 1 \n",
    "        self.name =name   \n",
    "\n",
    "print(f'Before, population = {Person.population}')\n",
    "p1 = Person('NameA')            \n",
    "p2 = Person('NameB')            \n",
    "\n",
    "print(f'After, population = {Person.population}')\n",
    "\n",
    "\n",
    "# global frames: Person, p1, p2  \n",
    "    # 'Person' has two functions; \n",
    "        # (1) __init__ \n",
    "        # (2) population  \n",
    "    # p1 is an instance of class 'Person' , with the value of \"nameA\" assigned to  attribute 'name' of instance 'p1'\n",
    "    # p2 is an instance of class 'Person' , with the value of \"nameB\" assigned to  attribute 'name' of instance 'p2'\n"
   ]
  },
  {
   "cell_type": "code",
   "execution_count": 370,
   "metadata": {},
   "outputs": [
    {
     "name": "stdout",
     "output_type": "stream",
     "text": [
      "Before, population = 0\n",
      "After, population = 2\n",
      "After, population = 2\n",
      "After, population = 2\n"
     ]
    }
   ],
   "source": [
    "# option 2a: creating a new attribute of Person called 'population' \n",
    "# instead of using Person.population = 0 in line 8, that is outside of class Person (), assigned the variable inside the Class to create a new 'method ??' \n",
    "# however, this option has a cons, which is allowing instance p1 and instance p2 to access the Class attribute and it associated value of 'population' as p1 and p2 does not have such attribute,   \n",
    "    # thats why output of line 16 and 17 return 2 . \n",
    "    \n",
    "class Person ():\n",
    "    population = 0  # define Person.population = 0 -- c\n",
    "    def __init__(self, name): # method 1  \n",
    "        Person.population += 1 \n",
    "        self.name =name   \n",
    "\n",
    "print(f'Before, population = {Person.population}')\n",
    "p1 = Person('NameA')            \n",
    "p2 = Person('NameB')            \n",
    "\n",
    "print(f'After, population = {Person.population}')\n",
    "print(f'After, population = {p1.population}')\n",
    "print(f'After, population = {p2.population}')\n",
    "\n"
   ]
  },
  {
   "cell_type": "code",
   "execution_count": 372,
   "metadata": {},
   "outputs": [
    {
     "name": "stdout",
     "output_type": "stream",
     "text": [
      "Before, population = 0\n",
      "After, population = 0\n",
      "After, population = 1\n",
      "After, population = 1\n"
     ]
    }
   ],
   "source": [
    "# option 3: creating a new attribute of Person called 'population' \n",
    "# create an global attribute that is shared with all of its instance. line 6. replace 'Person' with 'self'     \n",
    "class Person ():\n",
    "    population = 0  # define Person.population = 0 -- c\n",
    "    def __init__(self, name): # method 1  \n",
    "        self.population += 1 \n",
    "        self.name =name   \n",
    "\n",
    "print(f'Before, population = {Person.population}')\n",
    "p1 = Person('NameA')            \n",
    "p2 = Person('NameB')            \n",
    "\n",
    "print(f'After, population = {Person.population}')\n",
    "print(f'After, population = {p1.population}')\n",
    "print(f'After, population = {p2.population}')\n",
    "\n"
   ]
  },
  {
   "cell_type": "code",
   "execution_count": null,
   "metadata": {},
   "outputs": [],
   "source": [
    "# if I ask  for a.b:  \n",
    "# (1) look for 'b' attribute on 'a' \n",
    "# (2) look for 'b' attribute on type(a)\n",
    "# (3) look for 'b' attribute on object "
   ]
  }
 ],
 "metadata": {
  "kernelspec": {
   "display_name": "Python 3",
   "language": "python",
   "name": "python3"
  },
  "language_info": {
   "codemirror_mode": {
    "name": "ipython",
    "version": 3
   },
   "file_extension": ".py",
   "mimetype": "text/x-python",
   "name": "python",
   "nbconvert_exporter": "python",
   "pygments_lexer": "ipython3",
   "version": "3.11.9"
  }
 },
 "nbformat": 4,
 "nbformat_minor": 2
}
