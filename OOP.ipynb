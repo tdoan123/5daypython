{
 "cells": [
  {
   "cell_type": "markdown",
   "metadata": {},
   "source": [
    "# what are Python objects\n"
   ]
  },
  {
   "cell_type": "markdown",
   "metadata": {},
   "source": [
    "### Introduction to OOP  "
   ]
  },
  {
   "cell_type": "code",
   "execution_count": 48,
   "metadata": {},
   "outputs": [],
   "source": [
    "# everything is an object means: \n",
    "# (1) everything a a type/class\n",
    "    # different datastructure has different characters. know what is the reason type it is   \n",
    "# (2) everything has attribute \n"
   ]
  },
  {
   "cell_type": "code",
   "execution_count": 49,
   "metadata": {},
   "outputs": [
    {
     "data": {
      "text/plain": [
       "int"
      ]
     },
     "execution_count": 49,
     "metadata": {},
     "output_type": "execute_result"
    }
   ],
   "source": [
    "x = 100 \n",
    "type(x)"
   ]
  },
  {
   "cell_type": "code",
   "execution_count": 50,
   "metadata": {},
   "outputs": [
    {
     "data": {
      "text/plain": [
       "str"
      ]
     },
     "execution_count": 50,
     "metadata": {},
     "output_type": "execute_result"
    }
   ],
   "source": [
    "x = 'abcd'\n",
    "type(x)"
   ]
  },
  {
   "cell_type": "code",
   "execution_count": 51,
   "metadata": {},
   "outputs": [
    {
     "data": {
      "text/plain": [
       "list"
      ]
     },
     "execution_count": 51,
     "metadata": {},
     "output_type": "execute_result"
    }
   ],
   "source": [
    "x = [10, 20, 30]\n",
    "type(x)"
   ]
  },
  {
   "cell_type": "code",
   "execution_count": 52,
   "metadata": {},
   "outputs": [],
   "source": [
    "# when asking what type of x, the question is to ask the type of value that 'x' is pointing to. Not the type of 'x' itself. \n",
    "# for example: x  = 100, type(x) is a int because the type of '100' is an integer. On the other hand, type(x) return list as the value within [ ] is a list that 'x' is pointing to. "
   ]
  },
  {
   "cell_type": "code",
   "execution_count": 53,
   "metadata": {},
   "outputs": [
    {
     "data": {
      "text/plain": [
       "type"
      ]
     },
     "execution_count": 53,
     "metadata": {},
     "output_type": "execute_result"
    }
   ],
   "source": [
    "\n",
    "# int is the class => the manufacture that make 'int'    \n",
    "type(int)"
   ]
  },
  {
   "cell_type": "code",
   "execution_count": 54,
   "metadata": {},
   "outputs": [],
   "source": [
    "# the type of class is type. \n",
    "# factory's factory = type -- every class' type is 'type' "
   ]
  },
  {
   "cell_type": "code",
   "execution_count": 55,
   "metadata": {},
   "outputs": [
    {
     "data": {
      "text/plain": [
       "type"
      ]
     },
     "execution_count": 55,
     "metadata": {},
     "output_type": "execute_result"
    }
   ],
   "source": [
    "type(type)"
   ]
  },
  {
   "cell_type": "code",
   "execution_count": 56,
   "metadata": {},
   "outputs": [],
   "source": [
    "# the above as the sample to illustrate how every single thing in python has it own type  "
   ]
  },
  {
   "cell_type": "code",
   "execution_count": 57,
   "metadata": {},
   "outputs": [
    {
     "ename": "NameError",
     "evalue": "name 'a' is not defined",
     "output_type": "error",
     "traceback": [
      "\u001b[1;31m---------------------------------------------------------------------------\u001b[0m",
      "\u001b[1;31mNameError\u001b[0m                                 Traceback (most recent call last)",
      "Cell \u001b[1;32mIn[57], line 1\u001b[0m\n\u001b[1;32m----> 1\u001b[0m \u001b[43ma\u001b[49m \u001b[38;5;66;03m# identifier = name = variable or function . an object of some sort \u001b[39;00m\n\u001b[0;32m      2\u001b[0m     \u001b[38;5;66;03m# search is LEGB \u001b[39;00m\n\u001b[0;32m      4\u001b[0m a\u001b[38;5;241m.\u001b[39mb \u001b[38;5;66;03m# .b means: look for the name (\"attrubute\") b inside of the object a \u001b[39;00m\n",
      "\u001b[1;31mNameError\u001b[0m: name 'a' is not defined"
     ]
    }
   ],
   "source": [
    "\n",
    "a # identifier = name = variable or function . an object of some sort \n",
    "    # search is LEGB \n",
    "    \n",
    "a.b # .b means: look for the name (\"attrubute\") b inside of the object a \n",
    "  \n",
    "# how to know how many attributes that is exits?  \n",
    "# => dir(a)"
   ]
  },
  {
   "cell_type": "code",
   "execution_count": 58,
   "metadata": {},
   "outputs": [
    {
     "data": {
      "text/plain": [
       "str"
      ]
     },
     "execution_count": 58,
     "metadata": {},
     "output_type": "execute_result"
    }
   ],
   "source": [
    "a = 'abcd'\n",
    "type(a) # to understand the type of a\n",
    "\n"
   ]
  },
  {
   "cell_type": "code",
   "execution_count": 59,
   "metadata": {},
   "outputs": [
    {
     "data": {
      "text/plain": [
       "['__add__',\n",
       " '__class__',\n",
       " '__contains__',\n",
       " '__delattr__',\n",
       " '__dir__',\n",
       " '__doc__',\n",
       " '__eq__',\n",
       " '__format__',\n",
       " '__ge__',\n",
       " '__getattribute__',\n",
       " '__getitem__',\n",
       " '__getnewargs__',\n",
       " '__getstate__',\n",
       " '__gt__',\n",
       " '__hash__',\n",
       " '__init__',\n",
       " '__init_subclass__',\n",
       " '__iter__',\n",
       " '__le__',\n",
       " '__len__',\n",
       " '__lt__',\n",
       " '__mod__',\n",
       " '__mul__',\n",
       " '__ne__',\n",
       " '__new__',\n",
       " '__reduce__',\n",
       " '__reduce_ex__',\n",
       " '__repr__',\n",
       " '__rmod__',\n",
       " '__rmul__',\n",
       " '__setattr__',\n",
       " '__sizeof__',\n",
       " '__str__',\n",
       " '__subclasshook__',\n",
       " 'capitalize',\n",
       " 'casefold',\n",
       " 'center',\n",
       " 'count',\n",
       " 'encode',\n",
       " 'endswith',\n",
       " 'expandtabs',\n",
       " 'find',\n",
       " 'format',\n",
       " 'format_map',\n",
       " 'index',\n",
       " 'isalnum',\n",
       " 'isalpha',\n",
       " 'isascii',\n",
       " 'isdecimal',\n",
       " 'isdigit',\n",
       " 'isidentifier',\n",
       " 'islower',\n",
       " 'isnumeric',\n",
       " 'isprintable',\n",
       " 'isspace',\n",
       " 'istitle',\n",
       " 'isupper',\n",
       " 'join',\n",
       " 'ljust',\n",
       " 'lower',\n",
       " 'lstrip',\n",
       " 'maketrans',\n",
       " 'partition',\n",
       " 'removeprefix',\n",
       " 'removesuffix',\n",
       " 'replace',\n",
       " 'rfind',\n",
       " 'rindex',\n",
       " 'rjust',\n",
       " 'rpartition',\n",
       " 'rsplit',\n",
       " 'rstrip',\n",
       " 'split',\n",
       " 'splitlines',\n",
       " 'startswith',\n",
       " 'strip',\n",
       " 'swapcase',\n",
       " 'title',\n",
       " 'translate',\n",
       " 'upper',\n",
       " 'zfill']"
      ]
     },
     "execution_count": 59,
     "metadata": {},
     "output_type": "execute_result"
    }
   ],
   "source": [
    "dir(a) # to access all of the attributes available to the type of 'a' => given 'a' is a stir type. the output of this code will lead to all of the attributes available to stir data type value "
   ]
  },
  {
   "cell_type": "code",
   "execution_count": 60,
   "metadata": {},
   "outputs": [
    {
     "data": {
      "text/plain": [
       "'ABCD'"
      ]
     },
     "execution_count": 60,
     "metadata": {},
     "output_type": "execute_result"
    }
   ],
   "source": [
    "a.upper()\n",
    "\n",
    "# hey, do you have a method called upper? if yes, revoke this method and give back the new value \n",
    "# methods are attributes. a particular type of artribute. when you are looking at \".\" in python, it means i am looking for attribute of the type of the name on the right side inside the object on the left side "
   ]
  },
  {
   "cell_type": "code",
   "execution_count": 61,
   "metadata": {},
   "outputs": [],
   "source": [
    "import os"
   ]
  },
  {
   "cell_type": "code",
   "execution_count": 62,
   "metadata": {},
   "outputs": [
    {
     "data": {
      "text/plain": [
       "'\\\\'"
      ]
     },
     "execution_count": 62,
     "metadata": {},
     "output_type": "execute_result"
    }
   ],
   "source": [
    "os.sep"
   ]
  },
  {
   "cell_type": "code",
   "execution_count": 63,
   "metadata": {},
   "outputs": [
    {
     "ename": "NameError",
     "evalue": "name 'sep' is not defined",
     "output_type": "error",
     "traceback": [
      "\u001b[1;31m---------------------------------------------------------------------------\u001b[0m",
      "\u001b[1;31mNameError\u001b[0m                                 Traceback (most recent call last)",
      "Cell \u001b[1;32mIn[63], line 1\u001b[0m\n\u001b[1;32m----> 1\u001b[0m \u001b[38;5;28mdir\u001b[39m(\u001b[43msep\u001b[49m)\n",
      "\u001b[1;31mNameError\u001b[0m: name 'sep' is not defined"
     ]
    }
   ],
   "source": [
    "dir(sep)"
   ]
  },
  {
   "cell_type": "code",
   "execution_count": 64,
   "metadata": {},
   "outputs": [
    {
     "data": {
      "text/plain": [
       "'\\\\'"
      ]
     },
     "execution_count": 64,
     "metadata": {},
     "output_type": "execute_result"
    }
   ],
   "source": [
    "os.sep"
   ]
  },
  {
   "cell_type": "code",
   "execution_count": 65,
   "metadata": {},
   "outputs": [],
   "source": [
    "os.sep = 'jjajaj'"
   ]
  },
  {
   "cell_type": "code",
   "execution_count": 66,
   "metadata": {},
   "outputs": [
    {
     "data": {
      "text/plain": [
       "'jjajaj'"
      ]
     },
     "execution_count": 66,
     "metadata": {},
     "output_type": "execute_result"
    }
   ],
   "source": [
    "os.sep"
   ]
  },
  {
   "cell_type": "code",
   "execution_count": 67,
   "metadata": {},
   "outputs": [],
   "source": [
    "# i can go to any object that I want and then change any attribute that I want or I can add a new attribute "
   ]
  },
  {
   "cell_type": "code",
   "execution_count": 68,
   "metadata": {},
   "outputs": [],
   "source": [
    "os.my_testing_atribute = \"set my own atribute\""
   ]
  },
  {
   "cell_type": "code",
   "execution_count": 69,
   "metadata": {},
   "outputs": [
    {
     "data": {
      "text/plain": [
       "'set my own atribute'"
      ]
     },
     "execution_count": 69,
     "metadata": {},
     "output_type": "execute_result"
    }
   ],
   "source": [
    "os.my_testing_atribute"
   ]
  },
  {
   "cell_type": "markdown",
   "metadata": {},
   "source": [
    "### Methods vs. functions "
   ]
  },
  {
   "cell_type": "code",
   "execution_count": 70,
   "metadata": {},
   "outputs": [
    {
     "data": {
      "text/plain": [
       "60"
      ]
     },
     "execution_count": 70,
     "metadata": {},
     "output_type": "execute_result"
    }
   ],
   "source": [
    "myList = [10, 20, 30]\n",
    "sum(myList) # \"sum\" is a function, takes a list as an argument "
   ]
  },
  {
   "cell_type": "code",
   "execution_count": 71,
   "metadata": {},
   "outputs": [],
   "source": [
    "# f(x) "
   ]
  },
  {
   "cell_type": "code",
   "execution_count": 72,
   "metadata": {},
   "outputs": [
    {
     "ename": "AttributeError",
     "evalue": "'list' object has no attribute 'sum'",
     "output_type": "error",
     "traceback": [
      "\u001b[1;31m---------------------------------------------------------------------------\u001b[0m",
      "\u001b[1;31mAttributeError\u001b[0m                            Traceback (most recent call last)",
      "Cell \u001b[1;32mIn[72], line 1\u001b[0m\n\u001b[1;32m----> 1\u001b[0m \u001b[43mmyList\u001b[49m\u001b[38;5;241;43m.\u001b[39;49m\u001b[43msum\u001b[49m()  \u001b[38;5;66;03m# this will not work!\u001b[39;00m\n",
      "\u001b[1;31mAttributeError\u001b[0m: 'list' object has no attribute 'sum'"
     ]
    }
   ],
   "source": [
    "myList.sum()  # this will not work!"
   ]
  },
  {
   "cell_type": "code",
   "execution_count": 73,
   "metadata": {},
   "outputs": [
    {
     "data": {
      "text/plain": [
       "30"
      ]
     },
     "execution_count": 73,
     "metadata": {},
     "output_type": "execute_result"
    }
   ],
   "source": [
    "myList.pop() # this is a method   "
   ]
  },
  {
   "cell_type": "code",
   "execution_count": 74,
   "metadata": {},
   "outputs": [
    {
     "data": {
      "text/plain": [
       "[10, 20]"
      ]
     },
     "execution_count": 74,
     "metadata": {},
     "output_type": "execute_result"
    }
   ],
   "source": [
    "myList"
   ]
  },
  {
   "cell_type": "code",
   "execution_count": 75,
   "metadata": {},
   "outputs": [],
   "source": [
    "# o.m()  => method systex \n",
    "# o = object \n",
    "# .m = is a attribute  \n",
    " "
   ]
  },
  {
   "cell_type": "code",
   "execution_count": 76,
   "metadata": {},
   "outputs": [
    {
     "data": {
      "text/plain": [
       "2"
      ]
     },
     "execution_count": 76,
     "metadata": {},
     "output_type": "execute_result"
    }
   ],
   "source": [
    "len(myList)"
   ]
  },
  {
   "cell_type": "code",
   "execution_count": 77,
   "metadata": {},
   "outputs": [],
   "source": [
    "# why not myList.len()?  cause it is designed by the python creators \n",
    "\n",
    "# how to know whether something is a function or an attribute?  \n",
    "    # look for '.' sign before them \n",
    "    # use help function to read the docstring and have better understanding of it  \n",
    "\n",
    "# how to use help function to understand an attribute? \n",
    "    # use help(data_type.[method_name])   "
   ]
  },
  {
   "cell_type": "code",
   "execution_count": 78,
   "metadata": {},
   "outputs": [
    {
     "name": "stdout",
     "output_type": "stream",
     "text": [
      "Help on list object:\n",
      "\n",
      "class list(object)\n",
      " |  list(iterable=(), /)\n",
      " |  \n",
      " |  Built-in mutable sequence.\n",
      " |  \n",
      " |  If no argument is given, the constructor creates a new empty list.\n",
      " |  The argument must be an iterable if specified.\n",
      " |  \n",
      " |  Methods defined here:\n",
      " |  \n",
      " |  __add__(self, value, /)\n",
      " |      Return self+value.\n",
      " |  \n",
      " |  __contains__(self, key, /)\n",
      " |      Return key in self.\n",
      " |  \n",
      " |  __delitem__(self, key, /)\n",
      " |      Delete self[key].\n",
      " |  \n",
      " |  __eq__(self, value, /)\n",
      " |      Return self==value.\n",
      " |  \n",
      " |  __ge__(self, value, /)\n",
      " |      Return self>=value.\n",
      " |  \n",
      " |  __getattribute__(self, name, /)\n",
      " |      Return getattr(self, name).\n",
      " |  \n",
      " |  __getitem__(...)\n",
      " |      x.__getitem__(y) <==> x[y]\n",
      " |  \n",
      " |  __gt__(self, value, /)\n",
      " |      Return self>value.\n",
      " |  \n",
      " |  __iadd__(self, value, /)\n",
      " |      Implement self+=value.\n",
      " |  \n",
      " |  __imul__(self, value, /)\n",
      " |      Implement self*=value.\n",
      " |  \n",
      " |  __init__(self, /, *args, **kwargs)\n",
      " |      Initialize self.  See help(type(self)) for accurate signature.\n",
      " |  \n",
      " |  __iter__(self, /)\n",
      " |      Implement iter(self).\n",
      " |  \n",
      " |  __le__(self, value, /)\n",
      " |      Return self<=value.\n",
      " |  \n",
      " |  __len__(self, /)\n",
      " |      Return len(self).\n",
      " |  \n",
      " |  __lt__(self, value, /)\n",
      " |      Return self<value.\n",
      " |  \n",
      " |  __mul__(self, value, /)\n",
      " |      Return self*value.\n",
      " |  \n",
      " |  __ne__(self, value, /)\n",
      " |      Return self!=value.\n",
      " |  \n",
      " |  __repr__(self, /)\n",
      " |      Return repr(self).\n",
      " |  \n",
      " |  __reversed__(self, /)\n",
      " |      Return a reverse iterator over the list.\n",
      " |  \n",
      " |  __rmul__(self, value, /)\n",
      " |      Return value*self.\n",
      " |  \n",
      " |  __setitem__(self, key, value, /)\n",
      " |      Set self[key] to value.\n",
      " |  \n",
      " |  __sizeof__(self, /)\n",
      " |      Return the size of the list in memory, in bytes.\n",
      " |  \n",
      " |  append(self, object, /)\n",
      " |      Append object to the end of the list.\n",
      " |  \n",
      " |  clear(self, /)\n",
      " |      Remove all items from list.\n",
      " |  \n",
      " |  copy(self, /)\n",
      " |      Return a shallow copy of the list.\n",
      " |  \n",
      " |  count(self, value, /)\n",
      " |      Return number of occurrences of value.\n",
      " |  \n",
      " |  extend(self, iterable, /)\n",
      " |      Extend list by appending elements from the iterable.\n",
      " |  \n",
      " |  index(self, value, start=0, stop=9223372036854775807, /)\n",
      " |      Return first index of value.\n",
      " |      \n",
      " |      Raises ValueError if the value is not present.\n",
      " |  \n",
      " |  insert(self, index, object, /)\n",
      " |      Insert object before index.\n",
      " |  \n",
      " |  pop(self, index=-1, /)\n",
      " |      Remove and return item at index (default last).\n",
      " |      \n",
      " |      Raises IndexError if list is empty or index is out of range.\n",
      " |  \n",
      " |  remove(self, value, /)\n",
      " |      Remove first occurrence of value.\n",
      " |      \n",
      " |      Raises ValueError if the value is not present.\n",
      " |  \n",
      " |  reverse(self, /)\n",
      " |      Reverse *IN PLACE*.\n",
      " |  \n",
      " |  sort(self, /, *, key=None, reverse=False)\n",
      " |      Sort the list in ascending order and return None.\n",
      " |      \n",
      " |      The sort is in-place (i.e. the list itself is modified) and stable (i.e. the\n",
      " |      order of two equal elements is maintained).\n",
      " |      \n",
      " |      If a key function is given, apply it once to each list item and sort them,\n",
      " |      ascending or descending, according to their function values.\n",
      " |      \n",
      " |      The reverse flag can be set to sort in descending order.\n",
      " |  \n",
      " |  ----------------------------------------------------------------------\n",
      " |  Class methods defined here:\n",
      " |  \n",
      " |  __class_getitem__(...)\n",
      " |      See PEP 585\n",
      " |  \n",
      " |  ----------------------------------------------------------------------\n",
      " |  Static methods defined here:\n",
      " |  \n",
      " |  __new__(*args, **kwargs)\n",
      " |      Create and return a new object.  See help(type) for accurate signature.\n",
      " |  \n",
      " |  ----------------------------------------------------------------------\n",
      " |  Data and other attributes defined here:\n",
      " |  \n",
      " |  __hash__ = None\n",
      "\n"
     ]
    }
   ],
   "source": [
    "help(myList)"
   ]
  },
  {
   "cell_type": "code",
   "execution_count": 79,
   "metadata": {},
   "outputs": [
    {
     "name": "stdout",
     "output_type": "stream",
     "text": [
      "Help on method_descriptor:\n",
      "\n",
      "pop(self, index=-1, /) unbound builtins.list method\n",
      "    Remove and return item at index (default last).\n",
      "    \n",
      "    Raises IndexError if list is empty or index is out of range.\n",
      "\n"
     ]
    }
   ],
   "source": [
    "help(list.pop)"
   ]
  },
  {
   "cell_type": "markdown",
   "metadata": {},
   "source": [
    "### The simplest Python class\n"
   ]
  },
  {
   "cell_type": "code",
   "execution_count": 80,
   "metadata": {},
   "outputs": [],
   "source": [
    "class Foo(object):\n",
    "    pass\n",
    "\n",
    "# python3: 'object' is optional => do not have to write it here  \n",
    "# python2: 'object' is required "
   ]
  },
  {
   "cell_type": "code",
   "execution_count": 81,
   "metadata": {},
   "outputs": [
    {
     "data": {
      "text/plain": [
       "type"
      ]
     },
     "execution_count": 81,
     "metadata": {},
     "output_type": "execute_result"
    }
   ],
   "source": [
    "type(Foo) # the type of all classes in python will by type "
   ]
  },
  {
   "cell_type": "code",
   "execution_count": 82,
   "metadata": {},
   "outputs": [
    {
     "data": {
      "text/plain": [
       "<__main__.Foo at 0x202dbe459d0>"
      ]
     },
     "execution_count": 82,
     "metadata": {},
     "output_type": "execute_result"
    }
   ],
   "source": [
    "Foo()"
   ]
  },
  {
   "cell_type": "code",
   "execution_count": 83,
   "metadata": {},
   "outputs": [
    {
     "ename": "TypeError",
     "evalue": "Foo() takes no arguments",
     "output_type": "error",
     "traceback": [
      "\u001b[1;31m---------------------------------------------------------------------------\u001b[0m",
      "\u001b[1;31mTypeError\u001b[0m                                 Traceback (most recent call last)",
      "Cell \u001b[1;32mIn[83], line 1\u001b[0m\n\u001b[1;32m----> 1\u001b[0m \u001b[43mFoo\u001b[49m\u001b[43m(\u001b[49m\u001b[38;5;124;43m'\u001b[39;49m\u001b[38;5;124;43m1234\u001b[39;49m\u001b[38;5;124;43m'\u001b[39;49m\u001b[43m)\u001b[49m\n",
      "\u001b[1;31mTypeError\u001b[0m: Foo() takes no arguments"
     ]
    }
   ],
   "source": [
    "Foo('1234')"
   ]
  },
  {
   "cell_type": "code",
   "execution_count": 84,
   "metadata": {},
   "outputs": [],
   "source": [
    "f = Foo()"
   ]
  },
  {
   "cell_type": "code",
   "execution_count": 85,
   "metadata": {},
   "outputs": [
    {
     "data": {
      "text/plain": [
       "__main__.Foo"
      ]
     },
     "execution_count": 85,
     "metadata": {},
     "output_type": "execute_result"
    }
   ],
   "source": [
    "type(f)"
   ]
  },
  {
   "cell_type": "code",
   "execution_count": 86,
   "metadata": {},
   "outputs": [
    {
     "data": {
      "text/plain": [
       "['__class__',\n",
       " '__delattr__',\n",
       " '__dict__',\n",
       " '__dir__',\n",
       " '__doc__',\n",
       " '__eq__',\n",
       " '__format__',\n",
       " '__ge__',\n",
       " '__getattribute__',\n",
       " '__getstate__',\n",
       " '__gt__',\n",
       " '__hash__',\n",
       " '__init__',\n",
       " '__init_subclass__',\n",
       " '__le__',\n",
       " '__lt__',\n",
       " '__module__',\n",
       " '__ne__',\n",
       " '__new__',\n",
       " '__reduce__',\n",
       " '__reduce_ex__',\n",
       " '__repr__',\n",
       " '__setattr__',\n",
       " '__sizeof__',\n",
       " '__str__',\n",
       " '__subclasshook__',\n",
       " '__weakref__']"
      ]
     },
     "execution_count": 86,
     "metadata": {},
     "output_type": "execute_result"
    }
   ],
   "source": [
    "dir(f)"
   ]
  },
  {
   "cell_type": "code",
   "execution_count": 87,
   "metadata": {},
   "outputs": [],
   "source": [
    "# f is an object of type foo. "
   ]
  },
  {
   "cell_type": "code",
   "execution_count": 88,
   "metadata": {},
   "outputs": [
    {
     "data": {
      "text/plain": [
       "['__class__',\n",
       " '__delattr__',\n",
       " '__dict__',\n",
       " '__dir__',\n",
       " '__doc__',\n",
       " '__eq__',\n",
       " '__format__',\n",
       " '__ge__',\n",
       " '__getattribute__',\n",
       " '__getstate__',\n",
       " '__gt__',\n",
       " '__hash__',\n",
       " '__init__',\n",
       " '__init_subclass__',\n",
       " '__le__',\n",
       " '__lt__',\n",
       " '__module__',\n",
       " '__ne__',\n",
       " '__new__',\n",
       " '__reduce__',\n",
       " '__reduce_ex__',\n",
       " '__repr__',\n",
       " '__setattr__',\n",
       " '__sizeof__',\n",
       " '__str__',\n",
       " '__subclasshook__',\n",
       " '__weakref__']"
      ]
     },
     "execution_count": 88,
     "metadata": {},
     "output_type": "execute_result"
    }
   ],
   "source": [
    "dir(Foo)"
   ]
  },
  {
   "cell_type": "code",
   "execution_count": 89,
   "metadata": {},
   "outputs": [],
   "source": [
    "# this is the attribute of general \"Foo\"\n"
   ]
  },
  {
   "cell_type": "code",
   "execution_count": 90,
   "metadata": {},
   "outputs": [
    {
     "data": {
      "text/plain": [
       "type"
      ]
     },
     "execution_count": 90,
     "metadata": {},
     "output_type": "execute_result"
    }
   ],
   "source": [
    "type(str)"
   ]
  },
  {
   "cell_type": "code",
   "execution_count": 91,
   "metadata": {},
   "outputs": [
    {
     "data": {
      "text/plain": [
       "['__add__',\n",
       " '__class__',\n",
       " '__contains__',\n",
       " '__delattr__',\n",
       " '__dir__',\n",
       " '__doc__',\n",
       " '__eq__',\n",
       " '__format__',\n",
       " '__ge__',\n",
       " '__getattribute__',\n",
       " '__getitem__',\n",
       " '__getnewargs__',\n",
       " '__getstate__',\n",
       " '__gt__',\n",
       " '__hash__',\n",
       " '__init__',\n",
       " '__init_subclass__',\n",
       " '__iter__',\n",
       " '__le__',\n",
       " '__len__',\n",
       " '__lt__',\n",
       " '__mod__',\n",
       " '__mul__',\n",
       " '__ne__',\n",
       " '__new__',\n",
       " '__reduce__',\n",
       " '__reduce_ex__',\n",
       " '__repr__',\n",
       " '__rmod__',\n",
       " '__rmul__',\n",
       " '__setattr__',\n",
       " '__sizeof__',\n",
       " '__str__',\n",
       " '__subclasshook__',\n",
       " 'capitalize',\n",
       " 'casefold',\n",
       " 'center',\n",
       " 'count',\n",
       " 'encode',\n",
       " 'endswith',\n",
       " 'expandtabs',\n",
       " 'find',\n",
       " 'format',\n",
       " 'format_map',\n",
       " 'index',\n",
       " 'isalnum',\n",
       " 'isalpha',\n",
       " 'isascii',\n",
       " 'isdecimal',\n",
       " 'isdigit',\n",
       " 'isidentifier',\n",
       " 'islower',\n",
       " 'isnumeric',\n",
       " 'isprintable',\n",
       " 'isspace',\n",
       " 'istitle',\n",
       " 'isupper',\n",
       " 'join',\n",
       " 'ljust',\n",
       " 'lower',\n",
       " 'lstrip',\n",
       " 'maketrans',\n",
       " 'partition',\n",
       " 'removeprefix',\n",
       " 'removesuffix',\n",
       " 'replace',\n",
       " 'rfind',\n",
       " 'rindex',\n",
       " 'rjust',\n",
       " 'rpartition',\n",
       " 'rsplit',\n",
       " 'rstrip',\n",
       " 'split',\n",
       " 'splitlines',\n",
       " 'startswith',\n",
       " 'strip',\n",
       " 'swapcase',\n",
       " 'title',\n",
       " 'translate',\n",
       " 'upper',\n",
       " 'zfill']"
      ]
     },
     "execution_count": 91,
     "metadata": {},
     "output_type": "execute_result"
    }
   ],
   "source": [
    "dir(str)"
   ]
  },
  {
   "cell_type": "markdown",
   "metadata": {},
   "source": [
    "### Adding attributes "
   ]
  },
  {
   "cell_type": "code",
   "execution_count": 92,
   "metadata": {},
   "outputs": [
    {
     "data": {
      "text/plain": [
       "<__main__.Foo at 0x202dacc3190>"
      ]
     },
     "execution_count": 92,
     "metadata": {},
     "output_type": "execute_result"
    }
   ],
   "source": [
    "f"
   ]
  },
  {
   "cell_type": "code",
   "execution_count": 93,
   "metadata": {},
   "outputs": [
    {
     "data": {
      "text/plain": [
       "{'__name__': '__main__',\n",
       " '__doc__': 'Automatically created module for IPython interactive environment',\n",
       " '__package__': None,\n",
       " '__loader__': None,\n",
       " '__spec__': None,\n",
       " '__builtin__': <module 'builtins' (built-in)>,\n",
       " '__builtins__': <module 'builtins' (built-in)>,\n",
       " '_ih': ['',\n",
       "  '# everything is an object means: \\n# (1) everything a a type/class\\n    # different datastructure has different characters. know what is the reason type it is   \\n# (2) everything has attribute ',\n",
       "  'x = 100 \\ntype(x)',\n",
       "  \"x = 'abcd'\\ntype(x)\",\n",
       "  'x = [10, 20, 30]\\ntype(x)',\n",
       "  \"# when asking what type of x, the question is to ask the type of value that 'x' is pointing to. Not the type of 'x' itself. \\n# for example: x  = 100, type(x) is a int because the type of '100' is an integer. On the other hand, type(x) return list as the value within [ ] is a list that 'x' is pointing to. \",\n",
       "  \"# int is the class => the manufacture that make 'int'    \\ntype(int)\",\n",
       "  \"# the type of class is type. \\n# factory's factory = type -- every class' type is 'type' \",\n",
       "  'type(type)',\n",
       "  '# the above as the sample to illustrate how every single thing in python has it own type  ',\n",
       "  'a # identifier = name = variable or function . an object of some sort \\n    # search is LEGB \\n    \\na.b # .b means: look for the name (\"attrubute\") b inside of the object a \\n  \\n# how to know how many attributes that is exits?  \\n# => dir(a)',\n",
       "  \"myList.count('20')\",\n",
       "  '# everything is an object means: \\n# (1) everything a a type/class\\n    # different datastructure has different characters. know what is the reason type it is   \\n# (2) everything has attribute ',\n",
       "  'x = 100 \\ntype(x)',\n",
       "  \"x = 'abcd'\\ntype(x)\",\n",
       "  'x = [10, 20, 30]\\ntype(x)',\n",
       "  \"# when asking what type of x, the question is to ask the type of value that 'x' is pointing to. Not the type of 'x' itself. \\n# for example: x  = 100, type(x) is a int because the type of '100' is an integer. On the other hand, type(x) return list as the value within [ ] is a list that 'x' is pointing to. \",\n",
       "  \"# int is the class => the manufacture that make 'int'    \\ntype(int)\",\n",
       "  \"# the type of class is type. \\n# factory's factory = type -- every class' type is 'type' \",\n",
       "  'type(type)',\n",
       "  '# the above as the sample to illustrate how every single thing in python has it own type  ',\n",
       "  'a # identifier = name = variable or function . an object of some sort \\n    # search is LEGB \\n    \\na.b # .b means: look for the name (\"attrubute\") b inside of the object a \\n  \\n# how to know how many attributes that is exits?  \\n# => dir(a)',\n",
       "  'vars(f)',\n",
       "  'vars(list)',\n",
       "  \"myList.count('20')\",\n",
       "  'type(myList)',\n",
       "  '# everything is an object means: \\n# (1) everything a a type/class\\n    # different datastructure has different characters. know what is the reason type it is   \\n# (2) everything has attribute ',\n",
       "  'x = 100 \\ntype(x)',\n",
       "  \"x = 'abcd'\\ntype(x)\",\n",
       "  'x = [10, 20, 30]\\ntype(x)',\n",
       "  \"# when asking what type of x, the question is to ask the type of value that 'x' is pointing to. Not the type of 'x' itself. \\n# for example: x  = 100, type(x) is a int because the type of '100' is an integer. On the other hand, type(x) return list as the value within [ ] is a list that 'x' is pointing to. \",\n",
       "  \"# int is the class => the manufacture that make 'int'    \\ntype(int)\",\n",
       "  \"# the type of class is type. \\n# factory's factory = type -- every class' type is 'type' \",\n",
       "  'type(type)',\n",
       "  '# the above as the sample to illustrate how every single thing in python has it own type  ',\n",
       "  'a # identifier = name = variable or function . an object of some sort \\n    # search is LEGB \\n    \\na.b # .b means: look for the name (\"attrubute\") b inside of the object a \\n  \\n# how to know how many attributes that is exits?  \\n# => dir(a)',\n",
       "  '# everything is an object means: \\n# (1) everything a a type/class\\n    # different datastructure has different characters. know what is the reason type it is   \\n# (2) everything has attribute ',\n",
       "  'x = 100 \\ntype(x)',\n",
       "  \"x = 'abcd'\\ntype(x)\",\n",
       "  'x = [10, 20, 30]\\ntype(x)',\n",
       "  \"# when asking what type of x, the question is to ask the type of value that 'x' is pointing to. Not the type of 'x' itself. \\n# for example: x  = 100, type(x) is a int because the type of '100' is an integer. On the other hand, type(x) return list as the value within [ ] is a list that 'x' is pointing to. \",\n",
       "  \"# int is the class => the manufacture that make 'int'    \\ntype(int)\",\n",
       "  \"# the type of class is type. \\n# factory's factory = type -- every class' type is 'type' \",\n",
       "  'type(type)',\n",
       "  '# the above as the sample to illustrate how every single thing in python has it own type  ',\n",
       "  'a # identifier = name = variable or function . an object of some sort \\n    # search is LEGB \\n    \\na.b # .b means: look for the name (\"attrubute\") b inside of the object a \\n  \\n# how to know how many attributes that is exits?  \\n# => dir(a)',\n",
       "  'type(myList)',\n",
       "  'type(Foo)',\n",
       "  '# everything is an object means: \\n# (1) everything a a type/class\\n    # different datastructure has different characters. know what is the reason type it is   \\n# (2) everything has attribute ',\n",
       "  'x = 100 \\ntype(x)',\n",
       "  \"x = 'abcd'\\ntype(x)\",\n",
       "  'x = [10, 20, 30]\\ntype(x)',\n",
       "  \"# when asking what type of x, the question is to ask the type of value that 'x' is pointing to. Not the type of 'x' itself. \\n# for example: x  = 100, type(x) is a int because the type of '100' is an integer. On the other hand, type(x) return list as the value within [ ] is a list that 'x' is pointing to. \",\n",
       "  \"# int is the class => the manufacture that make 'int'    \\ntype(int)\",\n",
       "  \"# the type of class is type. \\n# factory's factory = type -- every class' type is 'type' \",\n",
       "  'type(type)',\n",
       "  '# the above as the sample to illustrate how every single thing in python has it own type  ',\n",
       "  'a # identifier = name = variable or function . an object of some sort \\n    # search is LEGB \\n    \\na.b # .b means: look for the name (\"attrubute\") b inside of the object a \\n  \\n# how to know how many attributes that is exits?  \\n# => dir(a)',\n",
       "  \"a = 'abcd'\\ntype(a) # to understand the type of a\",\n",
       "  \"dir(a) # to access all of the attributes available to the type of 'a' => given 'a' is a stir type. the output of this code will lead to all of the attributes available to stir data type value \",\n",
       "  'a.upper()\\n\\n# hey, do you have a method called upper? if yes, revoke this method and give back the new value \\n# methods are attributes. a particular type of artribute. when you are looking at \".\" in python, it means i am looking for attribute of the type of the name on the right side inside the object on the left side ',\n",
       "  'import os',\n",
       "  'os.sep',\n",
       "  'dir(sep)',\n",
       "  'os.sep',\n",
       "  \"os.sep = 'jjajaj'\",\n",
       "  'os.sep',\n",
       "  '# i can go to any object that I want and then change any attribute that I want or I can add a new attribute ',\n",
       "  'os.my_testing_atribute = \"set my own atribute\"',\n",
       "  'os.my_testing_atribute',\n",
       "  'myList = [10, 20, 30]\\nsum(myList) # \"sum\" is a function, takes a list as an argument ',\n",
       "  '# f(x) ',\n",
       "  'myList.sum()  # this will not work!',\n",
       "  'myList.pop() # this is a method   ',\n",
       "  'myList',\n",
       "  '# o.m()  => method systex \\n# o = object \\n# .m = is a attribute  \\n ',\n",
       "  'len(myList)',\n",
       "  \"# why not myList.len()?  cause it is designed by the python creators \\n\\n# how to know whether something is a function or an attribute?  \\n    # look for '.' sign before them \\n    # use help function to read the docstring and have better understanding of it  \\n\\n# how to use help function to understand an attribute? \\n    # use help(data_type.[method_name])   \",\n",
       "  'help(myList)',\n",
       "  'help(list.pop)',\n",
       "  \"class Foo(object):\\n    pass\\n\\n# python3: 'object' is optional => do not have to write it here  \\n# python2: 'object' is required \",\n",
       "  'type(Foo) # the type of all classes in python will by type ',\n",
       "  'Foo()',\n",
       "  \"Foo('1234')\",\n",
       "  'f = Foo()',\n",
       "  'type(f)',\n",
       "  'dir(f)',\n",
       "  '# f is an object of type foo. ',\n",
       "  'dir(Foo)',\n",
       "  '# this is the attribute of general \"Foo\"',\n",
       "  'type(str)',\n",
       "  'dir(str)',\n",
       "  'f',\n",
       "  'vars()'],\n",
       " '_oh': {2: int,\n",
       "  3: str,\n",
       "  4: list,\n",
       "  6: type,\n",
       "  8: type,\n",
       "  13: int,\n",
       "  14: str,\n",
       "  15: list,\n",
       "  17: type,\n",
       "  19: type,\n",
       "  23: mappingproxy({'__new__': <function list.__new__(*args, **kwargs)>,\n",
       "                '__repr__': <slot wrapper '__repr__' of 'list' objects>,\n",
       "                '__hash__': None,\n",
       "                '__getattribute__': <slot wrapper '__getattribute__' of 'list' objects>,\n",
       "                '__lt__': <slot wrapper '__lt__' of 'list' objects>,\n",
       "                '__le__': <slot wrapper '__le__' of 'list' objects>,\n",
       "                '__eq__': <slot wrapper '__eq__' of 'list' objects>,\n",
       "                '__ne__': <slot wrapper '__ne__' of 'list' objects>,\n",
       "                '__gt__': <slot wrapper '__gt__' of 'list' objects>,\n",
       "                '__ge__': <slot wrapper '__ge__' of 'list' objects>,\n",
       "                '__iter__': <slot wrapper '__iter__' of 'list' objects>,\n",
       "                '__init__': <slot wrapper '__init__' of 'list' objects>,\n",
       "                '__len__': <slot wrapper '__len__' of 'list' objects>,\n",
       "                '__getitem__': <method '__getitem__' of 'list' objects>,\n",
       "                '__setitem__': <slot wrapper '__setitem__' of 'list' objects>,\n",
       "                '__delitem__': <slot wrapper '__delitem__' of 'list' objects>,\n",
       "                '__add__': <slot wrapper '__add__' of 'list' objects>,\n",
       "                '__mul__': <slot wrapper '__mul__' of 'list' objects>,\n",
       "                '__rmul__': <slot wrapper '__rmul__' of 'list' objects>,\n",
       "                '__contains__': <slot wrapper '__contains__' of 'list' objects>,\n",
       "                '__iadd__': <slot wrapper '__iadd__' of 'list' objects>,\n",
       "                '__imul__': <slot wrapper '__imul__' of 'list' objects>,\n",
       "                '__reversed__': <method '__reversed__' of 'list' objects>,\n",
       "                '__sizeof__': <method '__sizeof__' of 'list' objects>,\n",
       "                'clear': <method 'clear' of 'list' objects>,\n",
       "                'copy': <method 'copy' of 'list' objects>,\n",
       "                'append': <method 'append' of 'list' objects>,\n",
       "                'insert': <method 'insert' of 'list' objects>,\n",
       "                'extend': <method 'extend' of 'list' objects>,\n",
       "                'pop': <method 'pop' of 'list' objects>,\n",
       "                'remove': <method 'remove' of 'list' objects>,\n",
       "                'index': <method 'index' of 'list' objects>,\n",
       "                'count': <method 'count' of 'list' objects>,\n",
       "                'reverse': <method 'reverse' of 'list' objects>,\n",
       "                'sort': <method 'sort' of 'list' objects>,\n",
       "                '__class_getitem__': <method '__class_getitem__' of 'list' objects>,\n",
       "                '__doc__': 'Built-in mutable sequence.\\n\\nIf no argument is given, the constructor creates a new empty list.\\nThe argument must be an iterable if specified.'}),\n",
       "  27: int,\n",
       "  28: str,\n",
       "  29: list,\n",
       "  31: type,\n",
       "  33: type,\n",
       "  37: int,\n",
       "  38: str,\n",
       "  39: list,\n",
       "  41: type,\n",
       "  43: type,\n",
       "  49: int,\n",
       "  50: str,\n",
       "  51: list,\n",
       "  53: type,\n",
       "  55: type,\n",
       "  58: str,\n",
       "  59: ['__add__',\n",
       "   '__class__',\n",
       "   '__contains__',\n",
       "   '__delattr__',\n",
       "   '__dir__',\n",
       "   '__doc__',\n",
       "   '__eq__',\n",
       "   '__format__',\n",
       "   '__ge__',\n",
       "   '__getattribute__',\n",
       "   '__getitem__',\n",
       "   '__getnewargs__',\n",
       "   '__getstate__',\n",
       "   '__gt__',\n",
       "   '__hash__',\n",
       "   '__init__',\n",
       "   '__init_subclass__',\n",
       "   '__iter__',\n",
       "   '__le__',\n",
       "   '__len__',\n",
       "   '__lt__',\n",
       "   '__mod__',\n",
       "   '__mul__',\n",
       "   '__ne__',\n",
       "   '__new__',\n",
       "   '__reduce__',\n",
       "   '__reduce_ex__',\n",
       "   '__repr__',\n",
       "   '__rmod__',\n",
       "   '__rmul__',\n",
       "   '__setattr__',\n",
       "   '__sizeof__',\n",
       "   '__str__',\n",
       "   '__subclasshook__',\n",
       "   'capitalize',\n",
       "   'casefold',\n",
       "   'center',\n",
       "   'count',\n",
       "   'encode',\n",
       "   'endswith',\n",
       "   'expandtabs',\n",
       "   'find',\n",
       "   'format',\n",
       "   'format_map',\n",
       "   'index',\n",
       "   'isalnum',\n",
       "   'isalpha',\n",
       "   'isascii',\n",
       "   'isdecimal',\n",
       "   'isdigit',\n",
       "   'isidentifier',\n",
       "   'islower',\n",
       "   'isnumeric',\n",
       "   'isprintable',\n",
       "   'isspace',\n",
       "   'istitle',\n",
       "   'isupper',\n",
       "   'join',\n",
       "   'ljust',\n",
       "   'lower',\n",
       "   'lstrip',\n",
       "   'maketrans',\n",
       "   'partition',\n",
       "   'removeprefix',\n",
       "   'removesuffix',\n",
       "   'replace',\n",
       "   'rfind',\n",
       "   'rindex',\n",
       "   'rjust',\n",
       "   'rpartition',\n",
       "   'rsplit',\n",
       "   'rstrip',\n",
       "   'split',\n",
       "   'splitlines',\n",
       "   'startswith',\n",
       "   'strip',\n",
       "   'swapcase',\n",
       "   'title',\n",
       "   'translate',\n",
       "   'upper',\n",
       "   'zfill'],\n",
       "  60: 'ABCD',\n",
       "  62: '\\\\',\n",
       "  64: '\\\\',\n",
       "  66: 'jjajaj',\n",
       "  69: 'set my own atribute',\n",
       "  70: 60,\n",
       "  73: 30,\n",
       "  74: [10, 20],\n",
       "  76: 2,\n",
       "  81: type,\n",
       "  82: <__main__.Foo at 0x202dbe459d0>,\n",
       "  85: __main__.Foo,\n",
       "  86: ['__class__',\n",
       "   '__delattr__',\n",
       "   '__dict__',\n",
       "   '__dir__',\n",
       "   '__doc__',\n",
       "   '__eq__',\n",
       "   '__format__',\n",
       "   '__ge__',\n",
       "   '__getattribute__',\n",
       "   '__getstate__',\n",
       "   '__gt__',\n",
       "   '__hash__',\n",
       "   '__init__',\n",
       "   '__init_subclass__',\n",
       "   '__le__',\n",
       "   '__lt__',\n",
       "   '__module__',\n",
       "   '__ne__',\n",
       "   '__new__',\n",
       "   '__reduce__',\n",
       "   '__reduce_ex__',\n",
       "   '__repr__',\n",
       "   '__setattr__',\n",
       "   '__sizeof__',\n",
       "   '__str__',\n",
       "   '__subclasshook__',\n",
       "   '__weakref__'],\n",
       "  88: ['__class__',\n",
       "   '__delattr__',\n",
       "   '__dict__',\n",
       "   '__dir__',\n",
       "   '__doc__',\n",
       "   '__eq__',\n",
       "   '__format__',\n",
       "   '__ge__',\n",
       "   '__getattribute__',\n",
       "   '__getstate__',\n",
       "   '__gt__',\n",
       "   '__hash__',\n",
       "   '__init__',\n",
       "   '__init_subclass__',\n",
       "   '__le__',\n",
       "   '__lt__',\n",
       "   '__module__',\n",
       "   '__ne__',\n",
       "   '__new__',\n",
       "   '__reduce__',\n",
       "   '__reduce_ex__',\n",
       "   '__repr__',\n",
       "   '__setattr__',\n",
       "   '__sizeof__',\n",
       "   '__str__',\n",
       "   '__subclasshook__',\n",
       "   '__weakref__'],\n",
       "  90: type,\n",
       "  91: ['__add__',\n",
       "   '__class__',\n",
       "   '__contains__',\n",
       "   '__delattr__',\n",
       "   '__dir__',\n",
       "   '__doc__',\n",
       "   '__eq__',\n",
       "   '__format__',\n",
       "   '__ge__',\n",
       "   '__getattribute__',\n",
       "   '__getitem__',\n",
       "   '__getnewargs__',\n",
       "   '__getstate__',\n",
       "   '__gt__',\n",
       "   '__hash__',\n",
       "   '__init__',\n",
       "   '__init_subclass__',\n",
       "   '__iter__',\n",
       "   '__le__',\n",
       "   '__len__',\n",
       "   '__lt__',\n",
       "   '__mod__',\n",
       "   '__mul__',\n",
       "   '__ne__',\n",
       "   '__new__',\n",
       "   '__reduce__',\n",
       "   '__reduce_ex__',\n",
       "   '__repr__',\n",
       "   '__rmod__',\n",
       "   '__rmul__',\n",
       "   '__setattr__',\n",
       "   '__sizeof__',\n",
       "   '__str__',\n",
       "   '__subclasshook__',\n",
       "   'capitalize',\n",
       "   'casefold',\n",
       "   'center',\n",
       "   'count',\n",
       "   'encode',\n",
       "   'endswith',\n",
       "   'expandtabs',\n",
       "   'find',\n",
       "   'format',\n",
       "   'format_map',\n",
       "   'index',\n",
       "   'isalnum',\n",
       "   'isalpha',\n",
       "   'isascii',\n",
       "   'isdecimal',\n",
       "   'isdigit',\n",
       "   'isidentifier',\n",
       "   'islower',\n",
       "   'isnumeric',\n",
       "   'isprintable',\n",
       "   'isspace',\n",
       "   'istitle',\n",
       "   'isupper',\n",
       "   'join',\n",
       "   'ljust',\n",
       "   'lower',\n",
       "   'lstrip',\n",
       "   'maketrans',\n",
       "   'partition',\n",
       "   'removeprefix',\n",
       "   'removesuffix',\n",
       "   'replace',\n",
       "   'rfind',\n",
       "   'rindex',\n",
       "   'rjust',\n",
       "   'rpartition',\n",
       "   'rsplit',\n",
       "   'rstrip',\n",
       "   'split',\n",
       "   'splitlines',\n",
       "   'startswith',\n",
       "   'strip',\n",
       "   'swapcase',\n",
       "   'title',\n",
       "   'translate',\n",
       "   'upper',\n",
       "   'zfill'],\n",
       "  92: <__main__.Foo at 0x202dacc3190>},\n",
       " '_dh': [WindowsPath('c:/Users/dqthi/OneDrive/Coding_Journey/CodeBreakThrough/Beginner_Python_Programming_All-in-One_Tutorial_Series')],\n",
       " 'In': ['',\n",
       "  '# everything is an object means: \\n# (1) everything a a type/class\\n    # different datastructure has different characters. know what is the reason type it is   \\n# (2) everything has attribute ',\n",
       "  'x = 100 \\ntype(x)',\n",
       "  \"x = 'abcd'\\ntype(x)\",\n",
       "  'x = [10, 20, 30]\\ntype(x)',\n",
       "  \"# when asking what type of x, the question is to ask the type of value that 'x' is pointing to. Not the type of 'x' itself. \\n# for example: x  = 100, type(x) is a int because the type of '100' is an integer. On the other hand, type(x) return list as the value within [ ] is a list that 'x' is pointing to. \",\n",
       "  \"# int is the class => the manufacture that make 'int'    \\ntype(int)\",\n",
       "  \"# the type of class is type. \\n# factory's factory = type -- every class' type is 'type' \",\n",
       "  'type(type)',\n",
       "  '# the above as the sample to illustrate how every single thing in python has it own type  ',\n",
       "  'a # identifier = name = variable or function . an object of some sort \\n    # search is LEGB \\n    \\na.b # .b means: look for the name (\"attrubute\") b inside of the object a \\n  \\n# how to know how many attributes that is exits?  \\n# => dir(a)',\n",
       "  \"myList.count('20')\",\n",
       "  '# everything is an object means: \\n# (1) everything a a type/class\\n    # different datastructure has different characters. know what is the reason type it is   \\n# (2) everything has attribute ',\n",
       "  'x = 100 \\ntype(x)',\n",
       "  \"x = 'abcd'\\ntype(x)\",\n",
       "  'x = [10, 20, 30]\\ntype(x)',\n",
       "  \"# when asking what type of x, the question is to ask the type of value that 'x' is pointing to. Not the type of 'x' itself. \\n# for example: x  = 100, type(x) is a int because the type of '100' is an integer. On the other hand, type(x) return list as the value within [ ] is a list that 'x' is pointing to. \",\n",
       "  \"# int is the class => the manufacture that make 'int'    \\ntype(int)\",\n",
       "  \"# the type of class is type. \\n# factory's factory = type -- every class' type is 'type' \",\n",
       "  'type(type)',\n",
       "  '# the above as the sample to illustrate how every single thing in python has it own type  ',\n",
       "  'a # identifier = name = variable or function . an object of some sort \\n    # search is LEGB \\n    \\na.b # .b means: look for the name (\"attrubute\") b inside of the object a \\n  \\n# how to know how many attributes that is exits?  \\n# => dir(a)',\n",
       "  'vars(f)',\n",
       "  'vars(list)',\n",
       "  \"myList.count('20')\",\n",
       "  'type(myList)',\n",
       "  '# everything is an object means: \\n# (1) everything a a type/class\\n    # different datastructure has different characters. know what is the reason type it is   \\n# (2) everything has attribute ',\n",
       "  'x = 100 \\ntype(x)',\n",
       "  \"x = 'abcd'\\ntype(x)\",\n",
       "  'x = [10, 20, 30]\\ntype(x)',\n",
       "  \"# when asking what type of x, the question is to ask the type of value that 'x' is pointing to. Not the type of 'x' itself. \\n# for example: x  = 100, type(x) is a int because the type of '100' is an integer. On the other hand, type(x) return list as the value within [ ] is a list that 'x' is pointing to. \",\n",
       "  \"# int is the class => the manufacture that make 'int'    \\ntype(int)\",\n",
       "  \"# the type of class is type. \\n# factory's factory = type -- every class' type is 'type' \",\n",
       "  'type(type)',\n",
       "  '# the above as the sample to illustrate how every single thing in python has it own type  ',\n",
       "  'a # identifier = name = variable or function . an object of some sort \\n    # search is LEGB \\n    \\na.b # .b means: look for the name (\"attrubute\") b inside of the object a \\n  \\n# how to know how many attributes that is exits?  \\n# => dir(a)',\n",
       "  '# everything is an object means: \\n# (1) everything a a type/class\\n    # different datastructure has different characters. know what is the reason type it is   \\n# (2) everything has attribute ',\n",
       "  'x = 100 \\ntype(x)',\n",
       "  \"x = 'abcd'\\ntype(x)\",\n",
       "  'x = [10, 20, 30]\\ntype(x)',\n",
       "  \"# when asking what type of x, the question is to ask the type of value that 'x' is pointing to. Not the type of 'x' itself. \\n# for example: x  = 100, type(x) is a int because the type of '100' is an integer. On the other hand, type(x) return list as the value within [ ] is a list that 'x' is pointing to. \",\n",
       "  \"# int is the class => the manufacture that make 'int'    \\ntype(int)\",\n",
       "  \"# the type of class is type. \\n# factory's factory = type -- every class' type is 'type' \",\n",
       "  'type(type)',\n",
       "  '# the above as the sample to illustrate how every single thing in python has it own type  ',\n",
       "  'a # identifier = name = variable or function . an object of some sort \\n    # search is LEGB \\n    \\na.b # .b means: look for the name (\"attrubute\") b inside of the object a \\n  \\n# how to know how many attributes that is exits?  \\n# => dir(a)',\n",
       "  'type(myList)',\n",
       "  'type(Foo)',\n",
       "  '# everything is an object means: \\n# (1) everything a a type/class\\n    # different datastructure has different characters. know what is the reason type it is   \\n# (2) everything has attribute ',\n",
       "  'x = 100 \\ntype(x)',\n",
       "  \"x = 'abcd'\\ntype(x)\",\n",
       "  'x = [10, 20, 30]\\ntype(x)',\n",
       "  \"# when asking what type of x, the question is to ask the type of value that 'x' is pointing to. Not the type of 'x' itself. \\n# for example: x  = 100, type(x) is a int because the type of '100' is an integer. On the other hand, type(x) return list as the value within [ ] is a list that 'x' is pointing to. \",\n",
       "  \"# int is the class => the manufacture that make 'int'    \\ntype(int)\",\n",
       "  \"# the type of class is type. \\n# factory's factory = type -- every class' type is 'type' \",\n",
       "  'type(type)',\n",
       "  '# the above as the sample to illustrate how every single thing in python has it own type  ',\n",
       "  'a # identifier = name = variable or function . an object of some sort \\n    # search is LEGB \\n    \\na.b # .b means: look for the name (\"attrubute\") b inside of the object a \\n  \\n# how to know how many attributes that is exits?  \\n# => dir(a)',\n",
       "  \"a = 'abcd'\\ntype(a) # to understand the type of a\",\n",
       "  \"dir(a) # to access all of the attributes available to the type of 'a' => given 'a' is a stir type. the output of this code will lead to all of the attributes available to stir data type value \",\n",
       "  'a.upper()\\n\\n# hey, do you have a method called upper? if yes, revoke this method and give back the new value \\n# methods are attributes. a particular type of artribute. when you are looking at \".\" in python, it means i am looking for attribute of the type of the name on the right side inside the object on the left side ',\n",
       "  'import os',\n",
       "  'os.sep',\n",
       "  'dir(sep)',\n",
       "  'os.sep',\n",
       "  \"os.sep = 'jjajaj'\",\n",
       "  'os.sep',\n",
       "  '# i can go to any object that I want and then change any attribute that I want or I can add a new attribute ',\n",
       "  'os.my_testing_atribute = \"set my own atribute\"',\n",
       "  'os.my_testing_atribute',\n",
       "  'myList = [10, 20, 30]\\nsum(myList) # \"sum\" is a function, takes a list as an argument ',\n",
       "  '# f(x) ',\n",
       "  'myList.sum()  # this will not work!',\n",
       "  'myList.pop() # this is a method   ',\n",
       "  'myList',\n",
       "  '# o.m()  => method systex \\n# o = object \\n# .m = is a attribute  \\n ',\n",
       "  'len(myList)',\n",
       "  \"# why not myList.len()?  cause it is designed by the python creators \\n\\n# how to know whether something is a function or an attribute?  \\n    # look for '.' sign before them \\n    # use help function to read the docstring and have better understanding of it  \\n\\n# how to use help function to understand an attribute? \\n    # use help(data_type.[method_name])   \",\n",
       "  'help(myList)',\n",
       "  'help(list.pop)',\n",
       "  \"class Foo(object):\\n    pass\\n\\n# python3: 'object' is optional => do not have to write it here  \\n# python2: 'object' is required \",\n",
       "  'type(Foo) # the type of all classes in python will by type ',\n",
       "  'Foo()',\n",
       "  \"Foo('1234')\",\n",
       "  'f = Foo()',\n",
       "  'type(f)',\n",
       "  'dir(f)',\n",
       "  '# f is an object of type foo. ',\n",
       "  'dir(Foo)',\n",
       "  '# this is the attribute of general \"Foo\"',\n",
       "  'type(str)',\n",
       "  'dir(str)',\n",
       "  'f',\n",
       "  'vars()'],\n",
       " 'Out': {2: int,\n",
       "  3: str,\n",
       "  4: list,\n",
       "  6: type,\n",
       "  8: type,\n",
       "  13: int,\n",
       "  14: str,\n",
       "  15: list,\n",
       "  17: type,\n",
       "  19: type,\n",
       "  23: mappingproxy({'__new__': <function list.__new__(*args, **kwargs)>,\n",
       "                '__repr__': <slot wrapper '__repr__' of 'list' objects>,\n",
       "                '__hash__': None,\n",
       "                '__getattribute__': <slot wrapper '__getattribute__' of 'list' objects>,\n",
       "                '__lt__': <slot wrapper '__lt__' of 'list' objects>,\n",
       "                '__le__': <slot wrapper '__le__' of 'list' objects>,\n",
       "                '__eq__': <slot wrapper '__eq__' of 'list' objects>,\n",
       "                '__ne__': <slot wrapper '__ne__' of 'list' objects>,\n",
       "                '__gt__': <slot wrapper '__gt__' of 'list' objects>,\n",
       "                '__ge__': <slot wrapper '__ge__' of 'list' objects>,\n",
       "                '__iter__': <slot wrapper '__iter__' of 'list' objects>,\n",
       "                '__init__': <slot wrapper '__init__' of 'list' objects>,\n",
       "                '__len__': <slot wrapper '__len__' of 'list' objects>,\n",
       "                '__getitem__': <method '__getitem__' of 'list' objects>,\n",
       "                '__setitem__': <slot wrapper '__setitem__' of 'list' objects>,\n",
       "                '__delitem__': <slot wrapper '__delitem__' of 'list' objects>,\n",
       "                '__add__': <slot wrapper '__add__' of 'list' objects>,\n",
       "                '__mul__': <slot wrapper '__mul__' of 'list' objects>,\n",
       "                '__rmul__': <slot wrapper '__rmul__' of 'list' objects>,\n",
       "                '__contains__': <slot wrapper '__contains__' of 'list' objects>,\n",
       "                '__iadd__': <slot wrapper '__iadd__' of 'list' objects>,\n",
       "                '__imul__': <slot wrapper '__imul__' of 'list' objects>,\n",
       "                '__reversed__': <method '__reversed__' of 'list' objects>,\n",
       "                '__sizeof__': <method '__sizeof__' of 'list' objects>,\n",
       "                'clear': <method 'clear' of 'list' objects>,\n",
       "                'copy': <method 'copy' of 'list' objects>,\n",
       "                'append': <method 'append' of 'list' objects>,\n",
       "                'insert': <method 'insert' of 'list' objects>,\n",
       "                'extend': <method 'extend' of 'list' objects>,\n",
       "                'pop': <method 'pop' of 'list' objects>,\n",
       "                'remove': <method 'remove' of 'list' objects>,\n",
       "                'index': <method 'index' of 'list' objects>,\n",
       "                'count': <method 'count' of 'list' objects>,\n",
       "                'reverse': <method 'reverse' of 'list' objects>,\n",
       "                'sort': <method 'sort' of 'list' objects>,\n",
       "                '__class_getitem__': <method '__class_getitem__' of 'list' objects>,\n",
       "                '__doc__': 'Built-in mutable sequence.\\n\\nIf no argument is given, the constructor creates a new empty list.\\nThe argument must be an iterable if specified.'}),\n",
       "  27: int,\n",
       "  28: str,\n",
       "  29: list,\n",
       "  31: type,\n",
       "  33: type,\n",
       "  37: int,\n",
       "  38: str,\n",
       "  39: list,\n",
       "  41: type,\n",
       "  43: type,\n",
       "  49: int,\n",
       "  50: str,\n",
       "  51: list,\n",
       "  53: type,\n",
       "  55: type,\n",
       "  58: str,\n",
       "  59: ['__add__',\n",
       "   '__class__',\n",
       "   '__contains__',\n",
       "   '__delattr__',\n",
       "   '__dir__',\n",
       "   '__doc__',\n",
       "   '__eq__',\n",
       "   '__format__',\n",
       "   '__ge__',\n",
       "   '__getattribute__',\n",
       "   '__getitem__',\n",
       "   '__getnewargs__',\n",
       "   '__getstate__',\n",
       "   '__gt__',\n",
       "   '__hash__',\n",
       "   '__init__',\n",
       "   '__init_subclass__',\n",
       "   '__iter__',\n",
       "   '__le__',\n",
       "   '__len__',\n",
       "   '__lt__',\n",
       "   '__mod__',\n",
       "   '__mul__',\n",
       "   '__ne__',\n",
       "   '__new__',\n",
       "   '__reduce__',\n",
       "   '__reduce_ex__',\n",
       "   '__repr__',\n",
       "   '__rmod__',\n",
       "   '__rmul__',\n",
       "   '__setattr__',\n",
       "   '__sizeof__',\n",
       "   '__str__',\n",
       "   '__subclasshook__',\n",
       "   'capitalize',\n",
       "   'casefold',\n",
       "   'center',\n",
       "   'count',\n",
       "   'encode',\n",
       "   'endswith',\n",
       "   'expandtabs',\n",
       "   'find',\n",
       "   'format',\n",
       "   'format_map',\n",
       "   'index',\n",
       "   'isalnum',\n",
       "   'isalpha',\n",
       "   'isascii',\n",
       "   'isdecimal',\n",
       "   'isdigit',\n",
       "   'isidentifier',\n",
       "   'islower',\n",
       "   'isnumeric',\n",
       "   'isprintable',\n",
       "   'isspace',\n",
       "   'istitle',\n",
       "   'isupper',\n",
       "   'join',\n",
       "   'ljust',\n",
       "   'lower',\n",
       "   'lstrip',\n",
       "   'maketrans',\n",
       "   'partition',\n",
       "   'removeprefix',\n",
       "   'removesuffix',\n",
       "   'replace',\n",
       "   'rfind',\n",
       "   'rindex',\n",
       "   'rjust',\n",
       "   'rpartition',\n",
       "   'rsplit',\n",
       "   'rstrip',\n",
       "   'split',\n",
       "   'splitlines',\n",
       "   'startswith',\n",
       "   'strip',\n",
       "   'swapcase',\n",
       "   'title',\n",
       "   'translate',\n",
       "   'upper',\n",
       "   'zfill'],\n",
       "  60: 'ABCD',\n",
       "  62: '\\\\',\n",
       "  64: '\\\\',\n",
       "  66: 'jjajaj',\n",
       "  69: 'set my own atribute',\n",
       "  70: 60,\n",
       "  73: 30,\n",
       "  74: [10, 20],\n",
       "  76: 2,\n",
       "  81: type,\n",
       "  82: <__main__.Foo at 0x202dbe459d0>,\n",
       "  85: __main__.Foo,\n",
       "  86: ['__class__',\n",
       "   '__delattr__',\n",
       "   '__dict__',\n",
       "   '__dir__',\n",
       "   '__doc__',\n",
       "   '__eq__',\n",
       "   '__format__',\n",
       "   '__ge__',\n",
       "   '__getattribute__',\n",
       "   '__getstate__',\n",
       "   '__gt__',\n",
       "   '__hash__',\n",
       "   '__init__',\n",
       "   '__init_subclass__',\n",
       "   '__le__',\n",
       "   '__lt__',\n",
       "   '__module__',\n",
       "   '__ne__',\n",
       "   '__new__',\n",
       "   '__reduce__',\n",
       "   '__reduce_ex__',\n",
       "   '__repr__',\n",
       "   '__setattr__',\n",
       "   '__sizeof__',\n",
       "   '__str__',\n",
       "   '__subclasshook__',\n",
       "   '__weakref__'],\n",
       "  88: ['__class__',\n",
       "   '__delattr__',\n",
       "   '__dict__',\n",
       "   '__dir__',\n",
       "   '__doc__',\n",
       "   '__eq__',\n",
       "   '__format__',\n",
       "   '__ge__',\n",
       "   '__getattribute__',\n",
       "   '__getstate__',\n",
       "   '__gt__',\n",
       "   '__hash__',\n",
       "   '__init__',\n",
       "   '__init_subclass__',\n",
       "   '__le__',\n",
       "   '__lt__',\n",
       "   '__module__',\n",
       "   '__ne__',\n",
       "   '__new__',\n",
       "   '__reduce__',\n",
       "   '__reduce_ex__',\n",
       "   '__repr__',\n",
       "   '__setattr__',\n",
       "   '__sizeof__',\n",
       "   '__str__',\n",
       "   '__subclasshook__',\n",
       "   '__weakref__'],\n",
       "  90: type,\n",
       "  91: ['__add__',\n",
       "   '__class__',\n",
       "   '__contains__',\n",
       "   '__delattr__',\n",
       "   '__dir__',\n",
       "   '__doc__',\n",
       "   '__eq__',\n",
       "   '__format__',\n",
       "   '__ge__',\n",
       "   '__getattribute__',\n",
       "   '__getitem__',\n",
       "   '__getnewargs__',\n",
       "   '__getstate__',\n",
       "   '__gt__',\n",
       "   '__hash__',\n",
       "   '__init__',\n",
       "   '__init_subclass__',\n",
       "   '__iter__',\n",
       "   '__le__',\n",
       "   '__len__',\n",
       "   '__lt__',\n",
       "   '__mod__',\n",
       "   '__mul__',\n",
       "   '__ne__',\n",
       "   '__new__',\n",
       "   '__reduce__',\n",
       "   '__reduce_ex__',\n",
       "   '__repr__',\n",
       "   '__rmod__',\n",
       "   '__rmul__',\n",
       "   '__setattr__',\n",
       "   '__sizeof__',\n",
       "   '__str__',\n",
       "   '__subclasshook__',\n",
       "   'capitalize',\n",
       "   'casefold',\n",
       "   'center',\n",
       "   'count',\n",
       "   'encode',\n",
       "   'endswith',\n",
       "   'expandtabs',\n",
       "   'find',\n",
       "   'format',\n",
       "   'format_map',\n",
       "   'index',\n",
       "   'isalnum',\n",
       "   'isalpha',\n",
       "   'isascii',\n",
       "   'isdecimal',\n",
       "   'isdigit',\n",
       "   'isidentifier',\n",
       "   'islower',\n",
       "   'isnumeric',\n",
       "   'isprintable',\n",
       "   'isspace',\n",
       "   'istitle',\n",
       "   'isupper',\n",
       "   'join',\n",
       "   'ljust',\n",
       "   'lower',\n",
       "   'lstrip',\n",
       "   'maketrans',\n",
       "   'partition',\n",
       "   'removeprefix',\n",
       "   'removesuffix',\n",
       "   'replace',\n",
       "   'rfind',\n",
       "   'rindex',\n",
       "   'rjust',\n",
       "   'rpartition',\n",
       "   'rsplit',\n",
       "   'rstrip',\n",
       "   'split',\n",
       "   'splitlines',\n",
       "   'startswith',\n",
       "   'strip',\n",
       "   'swapcase',\n",
       "   'title',\n",
       "   'translate',\n",
       "   'upper',\n",
       "   'zfill'],\n",
       "  92: <__main__.Foo at 0x202dacc3190>},\n",
       " 'get_ipython': <bound method InteractiveShell.get_ipython of <ipykernel.zmqshell.ZMQInteractiveShell object at 0x00000202DACD8310>>,\n",
       " 'exit': <IPython.core.autocall.ZMQExitAutocall at 0x202dacf91d0>,\n",
       " 'quit': <IPython.core.autocall.ZMQExitAutocall at 0x202dacf91d0>,\n",
       " 'open': <function io.open(file, mode='r', buffering=-1, encoding=None, errors=None, newline=None, closefd=True, opener=None)>,\n",
       " '_': <__main__.Foo at 0x202dacc3190>,\n",
       " '__': ['__add__',\n",
       "  '__class__',\n",
       "  '__contains__',\n",
       "  '__delattr__',\n",
       "  '__dir__',\n",
       "  '__doc__',\n",
       "  '__eq__',\n",
       "  '__format__',\n",
       "  '__ge__',\n",
       "  '__getattribute__',\n",
       "  '__getitem__',\n",
       "  '__getnewargs__',\n",
       "  '__getstate__',\n",
       "  '__gt__',\n",
       "  '__hash__',\n",
       "  '__init__',\n",
       "  '__init_subclass__',\n",
       "  '__iter__',\n",
       "  '__le__',\n",
       "  '__len__',\n",
       "  '__lt__',\n",
       "  '__mod__',\n",
       "  '__mul__',\n",
       "  '__ne__',\n",
       "  '__new__',\n",
       "  '__reduce__',\n",
       "  '__reduce_ex__',\n",
       "  '__repr__',\n",
       "  '__rmod__',\n",
       "  '__rmul__',\n",
       "  '__setattr__',\n",
       "  '__sizeof__',\n",
       "  '__str__',\n",
       "  '__subclasshook__',\n",
       "  'capitalize',\n",
       "  'casefold',\n",
       "  'center',\n",
       "  'count',\n",
       "  'encode',\n",
       "  'endswith',\n",
       "  'expandtabs',\n",
       "  'find',\n",
       "  'format',\n",
       "  'format_map',\n",
       "  'index',\n",
       "  'isalnum',\n",
       "  'isalpha',\n",
       "  'isascii',\n",
       "  'isdecimal',\n",
       "  'isdigit',\n",
       "  'isidentifier',\n",
       "  'islower',\n",
       "  'isnumeric',\n",
       "  'isprintable',\n",
       "  'isspace',\n",
       "  'istitle',\n",
       "  'isupper',\n",
       "  'join',\n",
       "  'ljust',\n",
       "  'lower',\n",
       "  'lstrip',\n",
       "  'maketrans',\n",
       "  'partition',\n",
       "  'removeprefix',\n",
       "  'removesuffix',\n",
       "  'replace',\n",
       "  'rfind',\n",
       "  'rindex',\n",
       "  'rjust',\n",
       "  'rpartition',\n",
       "  'rsplit',\n",
       "  'rstrip',\n",
       "  'split',\n",
       "  'splitlines',\n",
       "  'startswith',\n",
       "  'strip',\n",
       "  'swapcase',\n",
       "  'title',\n",
       "  'translate',\n",
       "  'upper',\n",
       "  'zfill'],\n",
       " '___': type,\n",
       " '__vsc_ipynb_file__': 'c:\\\\Users\\\\dqthi\\\\OneDrive\\\\Coding_Journey\\\\CodeBreakThrough\\\\Beginner_Python_Programming_All-in-One_Tutorial_Series\\\\OOP.ipynb',\n",
       " '_i': 'f',\n",
       " '_ii': 'dir(str)',\n",
       " '_iii': 'type(str)',\n",
       " '_i1': '# everything is an object means: \\n# (1) everything a a type/class\\n    # different datastructure has different characters. know what is the reason type it is   \\n# (2) everything has attribute ',\n",
       " '_i2': 'x = 100 \\ntype(x)',\n",
       " 'x': [10, 20, 30],\n",
       " '_2': int,\n",
       " '_i3': \"x = 'abcd'\\ntype(x)\",\n",
       " '_3': str,\n",
       " '_i4': 'x = [10, 20, 30]\\ntype(x)',\n",
       " '_4': list,\n",
       " '_i5': \"# when asking what type of x, the question is to ask the type of value that 'x' is pointing to. Not the type of 'x' itself. \\n# for example: x  = 100, type(x) is a int because the type of '100' is an integer. On the other hand, type(x) return list as the value within [ ] is a list that 'x' is pointing to. \",\n",
       " '_i6': \"\\n# int is the class => the manufacture that make 'int'    \\ntype(int)\",\n",
       " '_6': type,\n",
       " '_i7': \"# the type of class is type. \\n# factory's factory = type -- every class' type is 'type' \",\n",
       " '_i8': 'type(type)',\n",
       " '_8': type,\n",
       " '_i9': '# the above as the sample to illustrate how every single thing in python has it own type  ',\n",
       " '_i10': '\\na # identifier = name = variable or function . an object of some sort \\n    # search is LEGB \\n    \\na.b # .b means: look for the name (\"attrubute\") b inside of the object a \\n  \\n# how to know how many attributes that is exits?  \\n# => dir(a)',\n",
       " '_i11': \"myList.count('20')\",\n",
       " '_i12': '# everything is an object means: \\n# (1) everything a a type/class\\n    # different datastructure has different characters. know what is the reason type it is   \\n# (2) everything has attribute ',\n",
       " '_i13': 'x = 100 \\ntype(x)',\n",
       " '_13': int,\n",
       " '_i14': \"x = 'abcd'\\ntype(x)\",\n",
       " '_14': str,\n",
       " '_i15': 'x = [10, 20, 30]\\ntype(x)',\n",
       " '_15': list,\n",
       " '_i16': \"# when asking what type of x, the question is to ask the type of value that 'x' is pointing to. Not the type of 'x' itself. \\n# for example: x  = 100, type(x) is a int because the type of '100' is an integer. On the other hand, type(x) return list as the value within [ ] is a list that 'x' is pointing to. \",\n",
       " '_i17': \"\\n# int is the class => the manufacture that make 'int'    \\ntype(int)\",\n",
       " '_17': type,\n",
       " '_i18': \"# the type of class is type. \\n# factory's factory = type -- every class' type is 'type' \",\n",
       " '_i19': 'type(type)',\n",
       " '_19': type,\n",
       " '_i20': '# the above as the sample to illustrate how every single thing in python has it own type  ',\n",
       " '_i21': '\\na # identifier = name = variable or function . an object of some sort \\n    # search is LEGB \\n    \\na.b # .b means: look for the name (\"attrubute\") b inside of the object a \\n  \\n# how to know how many attributes that is exits?  \\n# => dir(a)',\n",
       " '_i22': 'vars(f)',\n",
       " '_i23': 'vars(list)',\n",
       " '_23': mappingproxy({'__new__': <function list.__new__(*args, **kwargs)>,\n",
       "               '__repr__': <slot wrapper '__repr__' of 'list' objects>,\n",
       "               '__hash__': None,\n",
       "               '__getattribute__': <slot wrapper '__getattribute__' of 'list' objects>,\n",
       "               '__lt__': <slot wrapper '__lt__' of 'list' objects>,\n",
       "               '__le__': <slot wrapper '__le__' of 'list' objects>,\n",
       "               '__eq__': <slot wrapper '__eq__' of 'list' objects>,\n",
       "               '__ne__': <slot wrapper '__ne__' of 'list' objects>,\n",
       "               '__gt__': <slot wrapper '__gt__' of 'list' objects>,\n",
       "               '__ge__': <slot wrapper '__ge__' of 'list' objects>,\n",
       "               '__iter__': <slot wrapper '__iter__' of 'list' objects>,\n",
       "               '__init__': <slot wrapper '__init__' of 'list' objects>,\n",
       "               '__len__': <slot wrapper '__len__' of 'list' objects>,\n",
       "               '__getitem__': <method '__getitem__' of 'list' objects>,\n",
       "               '__setitem__': <slot wrapper '__setitem__' of 'list' objects>,\n",
       "               '__delitem__': <slot wrapper '__delitem__' of 'list' objects>,\n",
       "               '__add__': <slot wrapper '__add__' of 'list' objects>,\n",
       "               '__mul__': <slot wrapper '__mul__' of 'list' objects>,\n",
       "               '__rmul__': <slot wrapper '__rmul__' of 'list' objects>,\n",
       "               '__contains__': <slot wrapper '__contains__' of 'list' objects>,\n",
       "               '__iadd__': <slot wrapper '__iadd__' of 'list' objects>,\n",
       "               '__imul__': <slot wrapper '__imul__' of 'list' objects>,\n",
       "               '__reversed__': <method '__reversed__' of 'list' objects>,\n",
       "               '__sizeof__': <method '__sizeof__' of 'list' objects>,\n",
       "               'clear': <method 'clear' of 'list' objects>,\n",
       "               'copy': <method 'copy' of 'list' objects>,\n",
       "               'append': <method 'append' of 'list' objects>,\n",
       "               'insert': <method 'insert' of 'list' objects>,\n",
       "               'extend': <method 'extend' of 'list' objects>,\n",
       "               'pop': <method 'pop' of 'list' objects>,\n",
       "               'remove': <method 'remove' of 'list' objects>,\n",
       "               'index': <method 'index' of 'list' objects>,\n",
       "               'count': <method 'count' of 'list' objects>,\n",
       "               'reverse': <method 'reverse' of 'list' objects>,\n",
       "               'sort': <method 'sort' of 'list' objects>,\n",
       "               '__class_getitem__': <method '__class_getitem__' of 'list' objects>,\n",
       "               '__doc__': 'Built-in mutable sequence.\\n\\nIf no argument is given, the constructor creates a new empty list.\\nThe argument must be an iterable if specified.'}),\n",
       " '_i24': \"myList.count('20')\",\n",
       " '_i25': 'type(myList)',\n",
       " '_i26': '# everything is an object means: \\n# (1) everything a a type/class\\n    # different datastructure has different characters. know what is the reason type it is   \\n# (2) everything has attribute ',\n",
       " '_i27': 'x = 100 \\ntype(x)',\n",
       " '_27': int,\n",
       " '_i28': \"x = 'abcd'\\ntype(x)\",\n",
       " '_28': str,\n",
       " '_i29': 'x = [10, 20, 30]\\ntype(x)',\n",
       " '_29': list,\n",
       " '_i30': \"# when asking what type of x, the question is to ask the type of value that 'x' is pointing to. Not the type of 'x' itself. \\n# for example: x  = 100, type(x) is a int because the type of '100' is an integer. On the other hand, type(x) return list as the value within [ ] is a list that 'x' is pointing to. \",\n",
       " '_i31': \"\\n# int is the class => the manufacture that make 'int'    \\ntype(int)\",\n",
       " '_31': type,\n",
       " '_i32': \"# the type of class is type. \\n# factory's factory = type -- every class' type is 'type' \",\n",
       " '_i33': 'type(type)',\n",
       " '_33': type,\n",
       " '_i34': '# the above as the sample to illustrate how every single thing in python has it own type  ',\n",
       " '_i35': '\\na # identifier = name = variable or function . an object of some sort \\n    # search is LEGB \\n    \\na.b # .b means: look for the name (\"attrubute\") b inside of the object a \\n  \\n# how to know how many attributes that is exits?  \\n# => dir(a)',\n",
       " '_i36': '# everything is an object means: \\n# (1) everything a a type/class\\n    # different datastructure has different characters. know what is the reason type it is   \\n# (2) everything has attribute ',\n",
       " '_i37': 'x = 100 \\ntype(x)',\n",
       " '_37': int,\n",
       " '_i38': \"x = 'abcd'\\ntype(x)\",\n",
       " '_38': str,\n",
       " '_i39': 'x = [10, 20, 30]\\ntype(x)',\n",
       " '_39': list,\n",
       " '_i40': \"# when asking what type of x, the question is to ask the type of value that 'x' is pointing to. Not the type of 'x' itself. \\n# for example: x  = 100, type(x) is a int because the type of '100' is an integer. On the other hand, type(x) return list as the value within [ ] is a list that 'x' is pointing to. \",\n",
       " '_i41': \"\\n# int is the class => the manufacture that make 'int'    \\ntype(int)\",\n",
       " '_41': type,\n",
       " '_i42': \"# the type of class is type. \\n# factory's factory = type -- every class' type is 'type' \",\n",
       " '_i43': 'type(type)',\n",
       " '_43': type,\n",
       " '_i44': '# the above as the sample to illustrate how every single thing in python has it own type  ',\n",
       " '_i45': '\\na # identifier = name = variable or function . an object of some sort \\n    # search is LEGB \\n    \\na.b # .b means: look for the name (\"attrubute\") b inside of the object a \\n  \\n# how to know how many attributes that is exits?  \\n# => dir(a)',\n",
       " '_i46': 'type(myList)',\n",
       " '_i47': 'type(Foo)',\n",
       " '_i48': '# everything is an object means: \\n# (1) everything a a type/class\\n    # different datastructure has different characters. know what is the reason type it is   \\n# (2) everything has attribute ',\n",
       " '_i49': 'x = 100 \\ntype(x)',\n",
       " '_49': int,\n",
       " '_i50': \"x = 'abcd'\\ntype(x)\",\n",
       " '_50': str,\n",
       " '_i51': 'x = [10, 20, 30]\\ntype(x)',\n",
       " '_51': list,\n",
       " '_i52': \"# when asking what type of x, the question is to ask the type of value that 'x' is pointing to. Not the type of 'x' itself. \\n# for example: x  = 100, type(x) is a int because the type of '100' is an integer. On the other hand, type(x) return list as the value within [ ] is a list that 'x' is pointing to. \",\n",
       " '_i53': \"\\n# int is the class => the manufacture that make 'int'    \\ntype(int)\",\n",
       " '_53': type,\n",
       " '_i54': \"# the type of class is type. \\n# factory's factory = type -- every class' type is 'type' \",\n",
       " '_i55': 'type(type)',\n",
       " '_55': type,\n",
       " '_i56': '# the above as the sample to illustrate how every single thing in python has it own type  ',\n",
       " '_i57': '\\na # identifier = name = variable or function . an object of some sort \\n    # search is LEGB \\n    \\na.b # .b means: look for the name (\"attrubute\") b inside of the object a \\n  \\n# how to know how many attributes that is exits?  \\n# => dir(a)',\n",
       " '_i58': \"a = 'abcd'\\ntype(a) # to understand the type of a\",\n",
       " 'a': 'abcd',\n",
       " '_58': str,\n",
       " '_i59': \"dir(a) # to access all of the attributes available to the type of 'a' => given 'a' is a stir type. the output of this code will lead to all of the attributes available to stir data type value \",\n",
       " '_59': ['__add__',\n",
       "  '__class__',\n",
       "  '__contains__',\n",
       "  '__delattr__',\n",
       "  '__dir__',\n",
       "  '__doc__',\n",
       "  '__eq__',\n",
       "  '__format__',\n",
       "  '__ge__',\n",
       "  '__getattribute__',\n",
       "  '__getitem__',\n",
       "  '__getnewargs__',\n",
       "  '__getstate__',\n",
       "  '__gt__',\n",
       "  '__hash__',\n",
       "  '__init__',\n",
       "  '__init_subclass__',\n",
       "  '__iter__',\n",
       "  '__le__',\n",
       "  '__len__',\n",
       "  '__lt__',\n",
       "  '__mod__',\n",
       "  '__mul__',\n",
       "  '__ne__',\n",
       "  '__new__',\n",
       "  '__reduce__',\n",
       "  '__reduce_ex__',\n",
       "  '__repr__',\n",
       "  '__rmod__',\n",
       "  '__rmul__',\n",
       "  '__setattr__',\n",
       "  '__sizeof__',\n",
       "  '__str__',\n",
       "  '__subclasshook__',\n",
       "  'capitalize',\n",
       "  'casefold',\n",
       "  'center',\n",
       "  'count',\n",
       "  'encode',\n",
       "  'endswith',\n",
       "  'expandtabs',\n",
       "  'find',\n",
       "  'format',\n",
       "  'format_map',\n",
       "  'index',\n",
       "  'isalnum',\n",
       "  'isalpha',\n",
       "  'isascii',\n",
       "  'isdecimal',\n",
       "  'isdigit',\n",
       "  'isidentifier',\n",
       "  'islower',\n",
       "  'isnumeric',\n",
       "  'isprintable',\n",
       "  'isspace',\n",
       "  'istitle',\n",
       "  'isupper',\n",
       "  'join',\n",
       "  'ljust',\n",
       "  'lower',\n",
       "  'lstrip',\n",
       "  'maketrans',\n",
       "  'partition',\n",
       "  'removeprefix',\n",
       "  'removesuffix',\n",
       "  'replace',\n",
       "  'rfind',\n",
       "  'rindex',\n",
       "  'rjust',\n",
       "  'rpartition',\n",
       "  'rsplit',\n",
       "  'rstrip',\n",
       "  'split',\n",
       "  'splitlines',\n",
       "  'startswith',\n",
       "  'strip',\n",
       "  'swapcase',\n",
       "  'title',\n",
       "  'translate',\n",
       "  'upper',\n",
       "  'zfill'],\n",
       " '_i60': 'a.upper()\\n\\n# hey, do you have a method called upper? if yes, revoke this method and give back the new value \\n# methods are attributes. a particular type of artribute. when you are looking at \".\" in python, it means i am looking for attribute of the type of the name on the right side inside the object on the left side ',\n",
       " '_60': 'ABCD',\n",
       " '_i61': 'import os',\n",
       " 'os': <module 'os' (frozen)>,\n",
       " '_i62': 'os.sep',\n",
       " '_62': '\\\\',\n",
       " '_i63': 'dir(sep)',\n",
       " '_i64': 'os.sep',\n",
       " '_64': '\\\\',\n",
       " '_i65': \"os.sep = 'jjajaj'\",\n",
       " '_i66': 'os.sep',\n",
       " '_66': 'jjajaj',\n",
       " '_i67': '# i can go to any object that I want and then change any attribute that I want or I can add a new attribute ',\n",
       " '_i68': 'os.my_testing_atribute = \"set my own atribute\"',\n",
       " '_i69': 'os.my_testing_atribute',\n",
       " '_69': 'set my own atribute',\n",
       " '_i70': 'myList = [10, 20, 30]\\nsum(myList) # \"sum\" is a function, takes a list as an argument ',\n",
       " 'myList': [10, 20],\n",
       " '_70': 60,\n",
       " '_i71': '# f(x) ',\n",
       " '_i72': 'myList.sum()  # this will not work!',\n",
       " '_i73': 'myList.pop() # this is a method   ',\n",
       " '_73': 30,\n",
       " '_i74': 'myList',\n",
       " '_74': [10, 20],\n",
       " '_i75': '# o.m()  => method systex \\n# o = object \\n# .m = is a attribute  \\n ',\n",
       " '_i76': 'len(myList)',\n",
       " '_76': 2,\n",
       " '_i77': \"# why not myList.len()?  cause it is designed by the python creators \\n\\n# how to know whether something is a function or an attribute?  \\n    # look for '.' sign before them \\n    # use help function to read the docstring and have better understanding of it  \\n\\n# how to use help function to understand an attribute? \\n    # use help(data_type.[method_name])   \",\n",
       " '_i78': 'help(myList)',\n",
       " '_i79': 'help(list.pop)',\n",
       " '_i80': \"class Foo(object):\\n    pass\\n\\n# python3: 'object' is optional => do not have to write it here  \\n# python2: 'object' is required \",\n",
       " 'Foo': __main__.Foo,\n",
       " '_i81': 'type(Foo) # the type of all classes in python will by type ',\n",
       " '_81': type,\n",
       " '_i82': 'Foo()',\n",
       " '_82': <__main__.Foo at 0x202dbe459d0>,\n",
       " '_i83': \"Foo('1234')\",\n",
       " '_i84': 'f = Foo()',\n",
       " 'f': <__main__.Foo at 0x202dacc3190>,\n",
       " '_i85': 'type(f)',\n",
       " '_85': __main__.Foo,\n",
       " '_i86': 'dir(f)',\n",
       " '_86': ['__class__',\n",
       "  '__delattr__',\n",
       "  '__dict__',\n",
       "  '__dir__',\n",
       "  '__doc__',\n",
       "  '__eq__',\n",
       "  '__format__',\n",
       "  '__ge__',\n",
       "  '__getattribute__',\n",
       "  '__getstate__',\n",
       "  '__gt__',\n",
       "  '__hash__',\n",
       "  '__init__',\n",
       "  '__init_subclass__',\n",
       "  '__le__',\n",
       "  '__lt__',\n",
       "  '__module__',\n",
       "  '__ne__',\n",
       "  '__new__',\n",
       "  '__reduce__',\n",
       "  '__reduce_ex__',\n",
       "  '__repr__',\n",
       "  '__setattr__',\n",
       "  '__sizeof__',\n",
       "  '__str__',\n",
       "  '__subclasshook__',\n",
       "  '__weakref__'],\n",
       " '_i87': '# f is an object of type foo. ',\n",
       " '_i88': 'dir(Foo)',\n",
       " '_88': ['__class__',\n",
       "  '__delattr__',\n",
       "  '__dict__',\n",
       "  '__dir__',\n",
       "  '__doc__',\n",
       "  '__eq__',\n",
       "  '__format__',\n",
       "  '__ge__',\n",
       "  '__getattribute__',\n",
       "  '__getstate__',\n",
       "  '__gt__',\n",
       "  '__hash__',\n",
       "  '__init__',\n",
       "  '__init_subclass__',\n",
       "  '__le__',\n",
       "  '__lt__',\n",
       "  '__module__',\n",
       "  '__ne__',\n",
       "  '__new__',\n",
       "  '__reduce__',\n",
       "  '__reduce_ex__',\n",
       "  '__repr__',\n",
       "  '__setattr__',\n",
       "  '__sizeof__',\n",
       "  '__str__',\n",
       "  '__subclasshook__',\n",
       "  '__weakref__'],\n",
       " '_i89': '# this is the attribute of general \"Foo\"',\n",
       " '_i90': 'type(str)',\n",
       " '_90': type,\n",
       " '_i91': 'dir(str)',\n",
       " '_91': ['__add__',\n",
       "  '__class__',\n",
       "  '__contains__',\n",
       "  '__delattr__',\n",
       "  '__dir__',\n",
       "  '__doc__',\n",
       "  '__eq__',\n",
       "  '__format__',\n",
       "  '__ge__',\n",
       "  '__getattribute__',\n",
       "  '__getitem__',\n",
       "  '__getnewargs__',\n",
       "  '__getstate__',\n",
       "  '__gt__',\n",
       "  '__hash__',\n",
       "  '__init__',\n",
       "  '__init_subclass__',\n",
       "  '__iter__',\n",
       "  '__le__',\n",
       "  '__len__',\n",
       "  '__lt__',\n",
       "  '__mod__',\n",
       "  '__mul__',\n",
       "  '__ne__',\n",
       "  '__new__',\n",
       "  '__reduce__',\n",
       "  '__reduce_ex__',\n",
       "  '__repr__',\n",
       "  '__rmod__',\n",
       "  '__rmul__',\n",
       "  '__setattr__',\n",
       "  '__sizeof__',\n",
       "  '__str__',\n",
       "  '__subclasshook__',\n",
       "  'capitalize',\n",
       "  'casefold',\n",
       "  'center',\n",
       "  'count',\n",
       "  'encode',\n",
       "  'endswith',\n",
       "  'expandtabs',\n",
       "  'find',\n",
       "  'format',\n",
       "  'format_map',\n",
       "  'index',\n",
       "  'isalnum',\n",
       "  'isalpha',\n",
       "  'isascii',\n",
       "  'isdecimal',\n",
       "  'isdigit',\n",
       "  'isidentifier',\n",
       "  'islower',\n",
       "  'isnumeric',\n",
       "  'isprintable',\n",
       "  'isspace',\n",
       "  'istitle',\n",
       "  'isupper',\n",
       "  'join',\n",
       "  'ljust',\n",
       "  'lower',\n",
       "  'lstrip',\n",
       "  'maketrans',\n",
       "  'partition',\n",
       "  'removeprefix',\n",
       "  'removesuffix',\n",
       "  'replace',\n",
       "  'rfind',\n",
       "  'rindex',\n",
       "  'rjust',\n",
       "  'rpartition',\n",
       "  'rsplit',\n",
       "  'rstrip',\n",
       "  'split',\n",
       "  'splitlines',\n",
       "  'startswith',\n",
       "  'strip',\n",
       "  'swapcase',\n",
       "  'title',\n",
       "  'translate',\n",
       "  'upper',\n",
       "  'zfill'],\n",
       " '_i92': 'f',\n",
       " '_92': <__main__.Foo at 0x202dacc3190>,\n",
       " '_i93': 'vars()'}"
      ]
     },
     "execution_count": 93,
     "metadata": {},
     "output_type": "execute_result"
    }
   ],
   "source": [
    "vars()"
   ]
  },
  {
   "cell_type": "code",
   "execution_count": 117,
   "metadata": {},
   "outputs": [],
   "source": [
    "vars() # globals()  \n",
    "def bar(): \n",
    "    vars()  # local() "
   ]
  },
  {
   "cell_type": "code",
   "execution_count": 118,
   "metadata": {},
   "outputs": [
    {
     "data": {
      "text/plain": [
       "{}"
      ]
     },
     "execution_count": 118,
     "metadata": {},
     "output_type": "execute_result"
    }
   ],
   "source": [
    "vars(f) "
   ]
  },
  {
   "cell_type": "code",
   "execution_count": 122,
   "metadata": {},
   "outputs": [
    {
     "data": {
      "text/plain": [
       "['__class__',\n",
       " '__delattr__',\n",
       " '__dict__',\n",
       " '__dir__',\n",
       " '__doc__',\n",
       " '__eq__',\n",
       " '__format__',\n",
       " '__ge__',\n",
       " '__getattribute__',\n",
       " '__getstate__',\n",
       " '__gt__',\n",
       " '__hash__',\n",
       " '__init__',\n",
       " '__init_subclass__',\n",
       " '__le__',\n",
       " '__lt__',\n",
       " '__module__',\n",
       " '__ne__',\n",
       " '__new__',\n",
       " '__reduce__',\n",
       " '__reduce_ex__',\n",
       " '__repr__',\n",
       " '__setattr__',\n",
       " '__sizeof__',\n",
       " '__str__',\n",
       " '__subclasshook__',\n",
       " '__weakref__',\n",
       " 'x',\n",
       " 'y']"
      ]
     },
     "execution_count": 122,
     "metadata": {},
     "output_type": "execute_result"
    }
   ],
   "source": [
    "dir(f)"
   ]
  },
  {
   "cell_type": "code",
   "execution_count": 119,
   "metadata": {},
   "outputs": [],
   "source": [
    "f.x = 20 \n",
    "f.y = [20, 30, 40]"
   ]
  },
  {
   "cell_type": "code",
   "execution_count": 121,
   "metadata": {},
   "outputs": [
    {
     "data": {
      "text/plain": [
       "['__class__',\n",
       " '__delattr__',\n",
       " '__dict__',\n",
       " '__dir__',\n",
       " '__doc__',\n",
       " '__eq__',\n",
       " '__format__',\n",
       " '__ge__',\n",
       " '__getattribute__',\n",
       " '__getstate__',\n",
       " '__gt__',\n",
       " '__hash__',\n",
       " '__init__',\n",
       " '__init_subclass__',\n",
       " '__le__',\n",
       " '__lt__',\n",
       " '__module__',\n",
       " '__ne__',\n",
       " '__new__',\n",
       " '__reduce__',\n",
       " '__reduce_ex__',\n",
       " '__repr__',\n",
       " '__setattr__',\n",
       " '__sizeof__',\n",
       " '__str__',\n",
       " '__subclasshook__',\n",
       " '__weakref__',\n",
       " 'x',\n",
       " 'y']"
      ]
     },
     "execution_count": 121,
     "metadata": {},
     "output_type": "execute_result"
    }
   ],
   "source": [
    "dir(f)"
   ]
  },
  {
   "cell_type": "code",
   "execution_count": 123,
   "metadata": {},
   "outputs": [
    {
     "data": {
      "text/plain": [
       "int"
      ]
     },
     "execution_count": 123,
     "metadata": {},
     "output_type": "execute_result"
    }
   ],
   "source": [
    "type(f.x)"
   ]
  },
  {
   "cell_type": "code",
   "execution_count": 94,
   "metadata": {},
   "outputs": [
    {
     "data": {
      "text/plain": [
       "{}"
      ]
     },
     "execution_count": 94,
     "metadata": {},
     "output_type": "execute_result"
    }
   ],
   "source": [
    "vars(f)"
   ]
  },
  {
   "cell_type": "code",
   "execution_count": 124,
   "metadata": {},
   "outputs": [
    {
     "data": {
      "text/plain": [
       "list"
      ]
     },
     "execution_count": 124,
     "metadata": {},
     "output_type": "execute_result"
    }
   ],
   "source": [
    "type(f.y) # after being add into function f the type of f.y is equal to the type of value that f.y is assigned to  "
   ]
  },
  {
   "cell_type": "code",
   "execution_count": 125,
   "metadata": {},
   "outputs": [
    {
     "data": {
      "text/plain": [
       "{'x': 20, 'y': [20, 30, 40]}"
      ]
     },
     "execution_count": 125,
     "metadata": {},
     "output_type": "execute_result"
    }
   ],
   "source": [
    "vars(f)"
   ]
  },
  {
   "cell_type": "code",
   "execution_count": 95,
   "metadata": {},
   "outputs": [
    {
     "data": {
      "text/plain": [
       "mappingproxy({'__new__': <function list.__new__(*args, **kwargs)>,\n",
       "              '__repr__': <slot wrapper '__repr__' of 'list' objects>,\n",
       "              '__hash__': None,\n",
       "              '__getattribute__': <slot wrapper '__getattribute__' of 'list' objects>,\n",
       "              '__lt__': <slot wrapper '__lt__' of 'list' objects>,\n",
       "              '__le__': <slot wrapper '__le__' of 'list' objects>,\n",
       "              '__eq__': <slot wrapper '__eq__' of 'list' objects>,\n",
       "              '__ne__': <slot wrapper '__ne__' of 'list' objects>,\n",
       "              '__gt__': <slot wrapper '__gt__' of 'list' objects>,\n",
       "              '__ge__': <slot wrapper '__ge__' of 'list' objects>,\n",
       "              '__iter__': <slot wrapper '__iter__' of 'list' objects>,\n",
       "              '__init__': <slot wrapper '__init__' of 'list' objects>,\n",
       "              '__len__': <slot wrapper '__len__' of 'list' objects>,\n",
       "              '__getitem__': <method '__getitem__' of 'list' objects>,\n",
       "              '__setitem__': <slot wrapper '__setitem__' of 'list' objects>,\n",
       "              '__delitem__': <slot wrapper '__delitem__' of 'list' objects>,\n",
       "              '__add__': <slot wrapper '__add__' of 'list' objects>,\n",
       "              '__mul__': <slot wrapper '__mul__' of 'list' objects>,\n",
       "              '__rmul__': <slot wrapper '__rmul__' of 'list' objects>,\n",
       "              '__contains__': <slot wrapper '__contains__' of 'list' objects>,\n",
       "              '__iadd__': <slot wrapper '__iadd__' of 'list' objects>,\n",
       "              '__imul__': <slot wrapper '__imul__' of 'list' objects>,\n",
       "              '__reversed__': <method '__reversed__' of 'list' objects>,\n",
       "              '__sizeof__': <method '__sizeof__' of 'list' objects>,\n",
       "              'clear': <method 'clear' of 'list' objects>,\n",
       "              'copy': <method 'copy' of 'list' objects>,\n",
       "              'append': <method 'append' of 'list' objects>,\n",
       "              'insert': <method 'insert' of 'list' objects>,\n",
       "              'extend': <method 'extend' of 'list' objects>,\n",
       "              'pop': <method 'pop' of 'list' objects>,\n",
       "              'remove': <method 'remove' of 'list' objects>,\n",
       "              'index': <method 'index' of 'list' objects>,\n",
       "              'count': <method 'count' of 'list' objects>,\n",
       "              'reverse': <method 'reverse' of 'list' objects>,\n",
       "              'sort': <method 'sort' of 'list' objects>,\n",
       "              '__class_getitem__': <method '__class_getitem__' of 'list' objects>,\n",
       "              '__doc__': 'Built-in mutable sequence.\\n\\nIf no argument is given, the constructor creates a new empty list.\\nThe argument must be an iterable if specified.'})"
      ]
     },
     "execution_count": 95,
     "metadata": {},
     "output_type": "execute_result"
    }
   ],
   "source": [
    "vars(list)"
   ]
  },
  {
   "cell_type": "code",
   "execution_count": 96,
   "metadata": {},
   "outputs": [
    {
     "data": {
      "text/plain": [
       "<function list.count(value, /)>"
      ]
     },
     "execution_count": 96,
     "metadata": {},
     "output_type": "execute_result"
    }
   ],
   "source": [
    "myList.count"
   ]
  },
  {
   "cell_type": "code",
   "execution_count": 97,
   "metadata": {},
   "outputs": [
    {
     "ename": "TypeError",
     "evalue": "list.count() takes exactly one argument (0 given)",
     "output_type": "error",
     "traceback": [
      "\u001b[1;31m---------------------------------------------------------------------------\u001b[0m",
      "\u001b[1;31mTypeError\u001b[0m                                 Traceback (most recent call last)",
      "Cell \u001b[1;32mIn[97], line 1\u001b[0m\n\u001b[1;32m----> 1\u001b[0m \u001b[43mmyList\u001b[49m\u001b[38;5;241;43m.\u001b[39;49m\u001b[43mcount\u001b[49m\u001b[43m(\u001b[49m\u001b[43m)\u001b[49m\n",
      "\u001b[1;31mTypeError\u001b[0m: list.count() takes exactly one argument (0 given)"
     ]
    }
   ],
   "source": [
    "myList.count()"
   ]
  },
  {
   "cell_type": "code",
   "execution_count": 98,
   "metadata": {},
   "outputs": [
    {
     "data": {
      "text/plain": [
       "<function list.reverse()>"
      ]
     },
     "execution_count": 98,
     "metadata": {},
     "output_type": "execute_result"
    }
   ],
   "source": [
    "myList.reverse"
   ]
  },
  {
   "cell_type": "code",
   "execution_count": 99,
   "metadata": {},
   "outputs": [
    {
     "data": {
      "text/plain": [
       "[10, 20]"
      ]
     },
     "execution_count": 99,
     "metadata": {},
     "output_type": "execute_result"
    }
   ],
   "source": [
    "myList"
   ]
  },
  {
   "cell_type": "code",
   "execution_count": 100,
   "metadata": {},
   "outputs": [
    {
     "data": {
      "text/plain": [
       "<function list.pop(index=-1, /)>"
      ]
     },
     "execution_count": 100,
     "metadata": {},
     "output_type": "execute_result"
    }
   ],
   "source": [
    "myList.pop"
   ]
  },
  {
   "cell_type": "code",
   "execution_count": 101,
   "metadata": {},
   "outputs": [
    {
     "data": {
      "text/plain": [
       "20"
      ]
     },
     "execution_count": 101,
     "metadata": {},
     "output_type": "execute_result"
    }
   ],
   "source": [
    "myList.pop()"
   ]
  },
  {
   "cell_type": "code",
   "execution_count": 102,
   "metadata": {},
   "outputs": [
    {
     "data": {
      "text/plain": [
       "[10]"
      ]
     },
     "execution_count": 102,
     "metadata": {},
     "output_type": "execute_result"
    }
   ],
   "source": [
    "myList"
   ]
  },
  {
   "cell_type": "code",
   "execution_count": 103,
   "metadata": {},
   "outputs": [
    {
     "data": {
      "text/plain": [
       "0"
      ]
     },
     "execution_count": 103,
     "metadata": {},
     "output_type": "execute_result"
    }
   ],
   "source": [
    "myList.count('10')"
   ]
  },
  {
   "cell_type": "code",
   "execution_count": 104,
   "metadata": {},
   "outputs": [
    {
     "name": "stdout",
     "output_type": "stream",
     "text": [
      "Help on method_descriptor:\n",
      "\n",
      "count(self, value, /) unbound builtins.list method\n",
      "    Return number of occurrences of value.\n",
      "\n"
     ]
    }
   ],
   "source": [
    "help(list.count)"
   ]
  },
  {
   "cell_type": "code",
   "execution_count": 105,
   "metadata": {},
   "outputs": [
    {
     "name": "stdout",
     "output_type": "stream",
     "text": [
      "Help on method_descriptor:\n",
      "\n",
      "pop(self, index=-1, /) unbound builtins.list method\n",
      "    Remove and return item at index (default last).\n",
      "    \n",
      "    Raises IndexError if list is empty or index is out of range.\n",
      "\n"
     ]
    }
   ],
   "source": [
    "help(list.pop)"
   ]
  },
  {
   "cell_type": "code",
   "execution_count": 106,
   "metadata": {},
   "outputs": [
    {
     "name": "stdout",
     "output_type": "stream",
     "text": [
      "Help on method_descriptor:\n",
      "\n",
      "reverse(self, /) unbound builtins.list method\n",
      "    Reverse *IN PLACE*.\n",
      "\n"
     ]
    }
   ],
   "source": [
    "help(list.reverse)"
   ]
  },
  {
   "cell_type": "code",
   "execution_count": 107,
   "metadata": {},
   "outputs": [
    {
     "ename": "TypeError",
     "evalue": "list.append() takes exactly one argument (2 given)",
     "output_type": "error",
     "traceback": [
      "\u001b[1;31m---------------------------------------------------------------------------\u001b[0m",
      "\u001b[1;31mTypeError\u001b[0m                                 Traceback (most recent call last)",
      "Cell \u001b[1;32mIn[107], line 1\u001b[0m\n\u001b[1;32m----> 1\u001b[0m \u001b[43mmyList\u001b[49m\u001b[38;5;241;43m.\u001b[39;49m\u001b[43mappend\u001b[49m\u001b[43m(\u001b[49m\u001b[38;5;124;43m'\u001b[39;49m\u001b[38;5;124;43m20\u001b[39;49m\u001b[38;5;124;43m'\u001b[39;49m\u001b[43m,\u001b[49m\u001b[43m \u001b[49m\u001b[38;5;124;43m'\u001b[39;49m\u001b[38;5;124;43m30\u001b[39;49m\u001b[38;5;124;43m'\u001b[39;49m\u001b[43m)\u001b[49m\n",
      "\u001b[1;31mTypeError\u001b[0m: list.append() takes exactly one argument (2 given)"
     ]
    }
   ],
   "source": [
    "myList.append('20', '30')"
   ]
  },
  {
   "cell_type": "code",
   "execution_count": 108,
   "metadata": {},
   "outputs": [
    {
     "ename": "TypeError",
     "evalue": "descriptor 'append' for 'list' objects doesn't apply to a 'str' object",
     "output_type": "error",
     "traceback": [
      "\u001b[1;31m---------------------------------------------------------------------------\u001b[0m",
      "\u001b[1;31mTypeError\u001b[0m                                 Traceback (most recent call last)",
      "Cell \u001b[1;32mIn[108], line 1\u001b[0m\n\u001b[1;32m----> 1\u001b[0m \u001b[38;5;28;43mlist\u001b[39;49m\u001b[38;5;241;43m.\u001b[39;49m\u001b[43mappend\u001b[49m\u001b[43m(\u001b[49m\u001b[38;5;124;43m'\u001b[39;49m\u001b[38;5;124;43m20\u001b[39;49m\u001b[38;5;124;43m'\u001b[39;49m\u001b[43m)\u001b[49m\n",
      "\u001b[1;31mTypeError\u001b[0m: descriptor 'append' for 'list' objects doesn't apply to a 'str' object"
     ]
    }
   ],
   "source": [
    "list.append('20')"
   ]
  },
  {
   "cell_type": "code",
   "execution_count": 109,
   "metadata": {},
   "outputs": [],
   "source": [
    "myList.append('20')"
   ]
  },
  {
   "cell_type": "code",
   "execution_count": 110,
   "metadata": {},
   "outputs": [
    {
     "data": {
      "text/plain": [
       "[10, '20']"
      ]
     },
     "execution_count": 110,
     "metadata": {},
     "output_type": "execute_result"
    }
   ],
   "source": [
    "myList"
   ]
  },
  {
   "cell_type": "code",
   "execution_count": 111,
   "metadata": {},
   "outputs": [],
   "source": [
    "myList.append('30')"
   ]
  },
  {
   "cell_type": "code",
   "execution_count": 113,
   "metadata": {},
   "outputs": [
    {
     "ename": "TypeError",
     "evalue": "vars() argument must have __dict__ attribute",
     "output_type": "error",
     "traceback": [
      "\u001b[1;31m---------------------------------------------------------------------------\u001b[0m",
      "\u001b[1;31mTypeError\u001b[0m                                 Traceback (most recent call last)",
      "Cell \u001b[1;32mIn[113], line 1\u001b[0m\n\u001b[1;32m----> 1\u001b[0m \u001b[38;5;28;43mvars\u001b[39;49m\u001b[43m(\u001b[49m\u001b[43mmyList\u001b[49m\u001b[43m)\u001b[49m\n",
      "\u001b[1;31mTypeError\u001b[0m: vars() argument must have __dict__ attribute"
     ]
    }
   ],
   "source": [
    "vars(myList)"
   ]
  },
  {
   "cell_type": "code",
   "execution_count": 114,
   "metadata": {},
   "outputs": [
    {
     "data": {
      "text/plain": [
       "type"
      ]
     },
     "execution_count": 114,
     "metadata": {},
     "output_type": "execute_result"
    }
   ],
   "source": [
    "type(Foo)"
   ]
  },
  {
   "cell_type": "code",
   "execution_count": 115,
   "metadata": {},
   "outputs": [
    {
     "data": {
      "text/plain": [
       "list"
      ]
     },
     "execution_count": 115,
     "metadata": {},
     "output_type": "execute_result"
    }
   ],
   "source": [
    "type(myList)"
   ]
  },
  {
   "cell_type": "code",
   "execution_count": 116,
   "metadata": {},
   "outputs": [
    {
     "data": {
      "text/plain": [
       "1"
      ]
     },
     "execution_count": 116,
     "metadata": {},
     "output_type": "execute_result"
    }
   ],
   "source": [
    "myList.count('20')"
   ]
  },
  {
   "cell_type": "code",
   "execution_count": 126,
   "metadata": {},
   "outputs": [],
   "source": [
    "g = Foo()"
   ]
  },
  {
   "cell_type": "code",
   "execution_count": 127,
   "metadata": {},
   "outputs": [
    {
     "data": {
      "text/plain": [
       "{'a': ({'a': 1, 'b': 2, 'c': 3},), 'b': {10, 20, 30, 40, 50}}"
      ]
     },
     "execution_count": 127,
     "metadata": {},
     "output_type": "execute_result"
    }
   ],
   "source": [
    "g.a = {'a': 1, 'b':2, 'c':3 },\n",
    "g.b = {10, 20, 30, 40, 50}\n",
    "\n",
    "vars(g)"
   ]
  },
  {
   "cell_type": "code",
   "execution_count": 128,
   "metadata": {},
   "outputs": [
    {
     "data": {
      "text/plain": [
       "{'x': 20, 'y': [20, 30, 40]}"
      ]
     },
     "execution_count": 128,
     "metadata": {},
     "output_type": "execute_result"
    }
   ],
   "source": [
    "vars(f)"
   ]
  },
  {
   "cell_type": "code",
   "execution_count": null,
   "metadata": {},
   "outputs": [],
   "source": [
    "# 2 sepeate instances of Foo() f and g. they are both object of type Foo. has two completely different attriubtes with different types and values. \n",
    "# however, this is not a good idea as this provide inconsistency "
   ]
  },
  {
   "cell_type": "markdown",
   "metadata": {},
   "source": [
    "### \" __init__ \"\n",
    "\n",
    "interesting, why __ does not show in markup "
   ]
  },
  {
   "cell_type": "code",
   "execution_count": 129,
   "metadata": {},
   "outputs": [],
   "source": [
    "class Foo (object):\n",
    "    def __init__ (self): \n",
    "        self.x = 100 \n",
    "        self.y = [10, 20, 30]"
   ]
  },
  {
   "cell_type": "code",
   "execution_count": 130,
   "metadata": {},
   "outputs": [
    {
     "data": {
      "text/plain": [
       "{'x': 100, 'y': [10, 20, 30]}"
      ]
     },
     "execution_count": 130,
     "metadata": {},
     "output_type": "execute_result"
    }
   ],
   "source": [
    "f = Foo() \n",
    "vars(f)"
   ]
  },
  {
   "cell_type": "code",
   "execution_count": 131,
   "metadata": {},
   "outputs": [
    {
     "data": {
      "text/plain": [
       "{'x': 100, 'y': [10, 20, 30]}"
      ]
     },
     "execution_count": 131,
     "metadata": {},
     "output_type": "execute_result"
    }
   ],
   "source": [
    "g = Foo() \n",
    "vars(g)"
   ]
  },
  {
   "cell_type": "code",
   "execution_count": null,
   "metadata": {},
   "outputs": [],
   "source": [
    "# adding __init__ with self.x => allow both f and g variables with the same arttribute  "
   ]
  },
  {
   "cell_type": "code",
   "execution_count": null,
   "metadata": {},
   "outputs": [],
   "source": [
    "# self is convention, that need to use as the first argument  \n",
    "# self is the instance of Foo as self. \n",
    "# of course developer can add attribute outside of object, but not suggested as this will cause everything to be messy "
   ]
  },
  {
   "cell_type": "markdown",
   "metadata": {},
   "source": [
    "### __init__ and parameters  "
   ]
  },
  {
   "cell_type": "code",
   "execution_count": 143,
   "metadata": {},
   "outputs": [],
   "source": [
    "class Foo (object):\n",
    "    def __init__ (self, x, y ):  \n",
    "        self.x = x\n",
    "        self.c = y\n",
    "    # what this mean is: \n",
    "    # 'self.x' and 'self.y' are attributes on 'self'\n",
    "    #  take the local variable x and y, then add them as attribute 'x' and 'y' "
   ]
  },
  {
   "cell_type": "code",
   "execution_count": 144,
   "metadata": {},
   "outputs": [],
   "source": [
    "f = Foo(10, 30) # this is to create a new instance of 'foo' called 'f' => the value of '10' and '30' were added after 'self'\n",
    "                # __init__ automaticly get self.10 and self.30  "
   ]
  },
  {
   "cell_type": "code",
   "execution_count": 145,
   "metadata": {},
   "outputs": [
    {
     "data": {
      "text/plain": [
       "{'x': 10, 'c': 30}"
      ]
     },
     "execution_count": 145,
     "metadata": {},
     "output_type": "execute_result"
    }
   ],
   "source": [
    "vars(f)"
   ]
  },
  {
   "cell_type": "code",
   "execution_count": 147,
   "metadata": {},
   "outputs": [
    {
     "ename": "AttributeError",
     "evalue": "'Foo' object has no attribute 'C'",
     "output_type": "error",
     "traceback": [
      "\u001b[1;31m---------------------------------------------------------------------------\u001b[0m",
      "\u001b[1;31mAttributeError\u001b[0m                            Traceback (most recent call last)",
      "Cell \u001b[1;32mIn[147], line 1\u001b[0m\n\u001b[1;32m----> 1\u001b[0m \u001b[43mf\u001b[49m\u001b[38;5;241;43m.\u001b[39;49m\u001b[43mC\u001b[49m\n",
      "\u001b[1;31mAttributeError\u001b[0m: 'Foo' object has no attribute 'C'"
     ]
    }
   ],
   "source": [
    "f.C"
   ]
  },
  {
   "cell_type": "code",
   "execution_count": null,
   "metadata": {},
   "outputs": [],
   "source": []
  },
  {
   "cell_type": "code",
   "execution_count": null,
   "metadata": {},
   "outputs": [],
   "source": []
  }
 ],
 "metadata": {
  "kernelspec": {
   "display_name": "Python 3",
   "language": "python",
   "name": "python3"
  },
  "language_info": {
   "codemirror_mode": {
    "name": "ipython",
    "version": 3
   },
   "file_extension": ".py",
   "mimetype": "text/x-python",
   "name": "python",
   "nbconvert_exporter": "python",
   "pygments_lexer": "ipython3",
   "version": "3.11.9"
  }
 },
 "nbformat": 4,
 "nbformat_minor": 2
}
