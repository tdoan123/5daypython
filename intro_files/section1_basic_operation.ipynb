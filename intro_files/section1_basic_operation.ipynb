{
 "cells": [
  {
   "cell_type": "code",
   "execution_count": 4,
   "metadata": {},
   "outputs": [],
   "source": [
    "# if I use open on a filename: \n",
    "    # (1) I'll get a file like object back\n",
    "    # (2) It will be open for reading (not writing)\n",
    "    # (3) we are ignoring other options \n",
    "\n",
    "f = open(r'C:\\Users\\dqthi\\Downloads\\exercise-files\\wcfile.txt')"
   ]
  },
  {
   "cell_type": "code",
   "execution_count": 5,
   "metadata": {},
   "outputs": [
    {
     "data": {
      "text/plain": [
       "_io.TextIOWrapper"
      ]
     },
     "execution_count": 5,
     "metadata": {},
     "output_type": "execute_result"
    }
   ],
   "source": [
    "type(f)"
   ]
  },
  {
   "cell_type": "code",
   "execution_count": 6,
   "metadata": {},
   "outputs": [
    {
     "data": {
      "text/plain": [
       "'C:\\\\Users\\\\dqthi\\\\Downloads\\\\exercise-files\\\\wcfile.txt'"
      ]
     },
     "execution_count": 6,
     "metadata": {},
     "output_type": "execute_result"
    }
   ],
   "source": [
    "f.name"
   ]
  },
  {
   "cell_type": "markdown",
   "metadata": {},
   "source": [
    "#### Absolute and relative paths"
   ]
  },
  {
   "cell_type": "code",
   "execution_count": null,
   "metadata": {},
   "outputs": [],
   "source": [
    "# absolute path - starting from the root of the filesystem \n",
    "f = open(r'C:\\Users\\dqthi\\Downloads\\exercise-files\\wcfile.txt') # raw string -- r before the initial quote "
   ]
  },
  {
   "cell_type": "code",
   "execution_count": 7,
   "metadata": {},
   "outputs": [
    {
     "data": {
      "text/plain": [
       "'c:\\\\Users\\\\dqthi\\\\OneDrive\\\\Coding_Journey\\\\CodeBreakThrough\\\\Beginner_Python_Programming_All-in-One_Tutorial_Series\\\\intro_files'"
      ]
     },
     "execution_count": 7,
     "metadata": {},
     "output_type": "execute_result"
    }
   ],
   "source": [
    "# relative paths -- start from the current program's location \n",
    "%pwd\n"
   ]
  },
  {
   "cell_type": "code",
   "execution_count": null,
   "metadata": {},
   "outputs": [],
   "source": [
    "f = open(r'[file_name]')"
   ]
  },
  {
   "cell_type": "code",
   "execution_count": 9,
   "metadata": {},
   "outputs": [
    {
     "name": "stdout",
     "output_type": "stream",
     "text": [
      " Volume in drive C is OS\n",
      " Volume Serial Number is 7C87-B153\n",
      "\n",
      " Directory of c:\\Users\\dqthi\\OneDrive\\Coding_Journey\\CodeBreakThrough\\Beginner_Python_Programming_All-in-One_Tutorial_Series\\intro_files\n",
      "\n",
      "09/01/2024  09:47 AM    <DIR>          .\n",
      "08/29/2024  09:03 PM    <DIR>          ..\n",
      "08/31/2024  11:07 AM             1,060 exercise_1_1.py\n",
      "08/31/2024  01:50 PM             1,675 exercise_1_2.py\n",
      "09/01/2024  09:47 AM                 0 section1_basic_operation.ipynb\n",
      "               3 File(s)          2,735 bytes\n",
      "               2 Dir(s)  45,389,950,976 bytes free\n"
     ]
    }
   ],
   "source": [
    "%ls"
   ]
  },
  {
   "cell_type": "markdown",
   "metadata": {},
   "source": [
    "#### Exceptions\n"
   ]
  },
  {
   "cell_type": "code",
   "execution_count": 19,
   "metadata": {},
   "outputs": [
    {
     "name": "stdout",
     "output_type": "stream",
     "text": [
      "<_io.TextIOWrapper name='C:\\\\Users\\\\dqthi\\\\OneDrive\\\\Coding_Journey\\\\CodeBreakThrough\\\\Beginner_Python_Programming_All-in-One_Tutorial_Series\\\\intro_files\\\\hello.txt' mode='r' encoding='cp1252'>\n"
     ]
    }
   ],
   "source": [
    "f = open(r'C:\\Users\\dqthi\\OneDrive\\Coding_Journey\\CodeBreakThrough\\Beginner_Python_Programming_All-in-One_Tutorial_Series\\intro_files\\hello.txt')\n",
    "print (f)\n",
    "\n",
    "# temporary stick with using absoluate path as the demo is using linux system, which take quite sometime to follow and adjust to "
   ]
  },
  {
   "cell_type": "code",
   "execution_count": 15,
   "metadata": {},
   "outputs": [
    {
     "ename": "FileNotFoundError",
     "evalue": "[Errno 2] No such file or directory: 'filename'",
     "output_type": "error",
     "traceback": [
      "\u001b[1;31m---------------------------------------------------------------------------\u001b[0m",
      "\u001b[1;31mFileNotFoundError\u001b[0m                         Traceback (most recent call last)",
      "Cell \u001b[1;32mIn[15], line 3\u001b[0m\n\u001b[0;32m      1\u001b[0m filename \u001b[38;5;241m=\u001b[39m \u001b[38;5;28minput\u001b[39m(\u001b[38;5;124m'\u001b[39m\u001b[38;5;124minput file name: \u001b[39m\u001b[38;5;124m'\u001b[39m)\u001b[38;5;241m.\u001b[39msplit()\n\u001b[1;32m----> 3\u001b[0m f \u001b[38;5;241m=\u001b[39m \u001b[38;5;28;43mopen\u001b[39;49m\u001b[43m(\u001b[49m\u001b[38;5;124;43mr\u001b[39;49m\u001b[38;5;124;43m'\u001b[39;49m\u001b[38;5;124;43mfilename\u001b[39;49m\u001b[38;5;124;43m'\u001b[39;49m\u001b[43m)\u001b[49m\n\u001b[0;32m      4\u001b[0m \u001b[38;5;28mprint\u001b[39m(f)\n",
      "File \u001b[1;32m~\\AppData\\Local\\Packages\\PythonSoftwareFoundation.Python.3.11_qbz5n2kfra8p0\\LocalCache\\local-packages\\Python311\\site-packages\\IPython\\core\\interactiveshell.py:284\u001b[0m, in \u001b[0;36m_modified_open\u001b[1;34m(file, *args, **kwargs)\u001b[0m\n\u001b[0;32m    277\u001b[0m \u001b[38;5;28;01mif\u001b[39;00m file \u001b[38;5;129;01min\u001b[39;00m {\u001b[38;5;241m0\u001b[39m, \u001b[38;5;241m1\u001b[39m, \u001b[38;5;241m2\u001b[39m}:\n\u001b[0;32m    278\u001b[0m     \u001b[38;5;28;01mraise\u001b[39;00m \u001b[38;5;167;01mValueError\u001b[39;00m(\n\u001b[0;32m    279\u001b[0m         \u001b[38;5;124mf\u001b[39m\u001b[38;5;124m\"\u001b[39m\u001b[38;5;124mIPython won\u001b[39m\u001b[38;5;124m'\u001b[39m\u001b[38;5;124mt let you open fd=\u001b[39m\u001b[38;5;132;01m{\u001b[39;00mfile\u001b[38;5;132;01m}\u001b[39;00m\u001b[38;5;124m by default \u001b[39m\u001b[38;5;124m\"\u001b[39m\n\u001b[0;32m    280\u001b[0m         \u001b[38;5;124m\"\u001b[39m\u001b[38;5;124mas it is likely to crash IPython. If you know what you are doing, \u001b[39m\u001b[38;5;124m\"\u001b[39m\n\u001b[0;32m    281\u001b[0m         \u001b[38;5;124m\"\u001b[39m\u001b[38;5;124myou can use builtins\u001b[39m\u001b[38;5;124m'\u001b[39m\u001b[38;5;124m open.\u001b[39m\u001b[38;5;124m\"\u001b[39m\n\u001b[0;32m    282\u001b[0m     )\n\u001b[1;32m--> 284\u001b[0m \u001b[38;5;28;01mreturn\u001b[39;00m \u001b[43mio_open\u001b[49m\u001b[43m(\u001b[49m\u001b[43mfile\u001b[49m\u001b[43m,\u001b[49m\u001b[43m \u001b[49m\u001b[38;5;241;43m*\u001b[39;49m\u001b[43margs\u001b[49m\u001b[43m,\u001b[49m\u001b[43m \u001b[49m\u001b[38;5;241;43m*\u001b[39;49m\u001b[38;5;241;43m*\u001b[39;49m\u001b[43mkwargs\u001b[49m\u001b[43m)\u001b[49m\n",
      "\u001b[1;31mFileNotFoundError\u001b[0m: [Errno 2] No such file or directory: 'filename'"
     ]
    }
   ],
   "source": [
    "filename = input('input file name: ').split()\n",
    "\n",
    "f = open(r'filename')\n",
    "print(f)"
   ]
  },
  {
   "cell_type": "code",
   "execution_count": 16,
   "metadata": {},
   "outputs": [
    {
     "name": "stdout",
     "output_type": "stream",
     "text": [
      " Volume in drive C is OS\n",
      " Volume Serial Number is 7C87-B153\n",
      "\n",
      " Directory of c:\\Users\\dqthi\\OneDrive\\Coding_Journey\\CodeBreakThrough\\Beginner_Python_Programming_All-in-One_Tutorial_Series\\intro_files\n",
      "\n",
      "09/01/2024  10:10 AM    <DIR>          .\n",
      "08/29/2024  09:03 PM    <DIR>          ..\n",
      "08/28/2024  11:15 AM                 9 evens.txt\n",
      "08/31/2024  11:07 AM             1,060 exercise_1_1.py\n",
      "08/31/2024  01:50 PM             1,675 exercise_1_2.py\n",
      "08/28/2024  11:15 AM                 5 hello.txt\n",
      "08/28/2024  11:15 AM             2,683 linux-etc-passwd.txt\n",
      "08/28/2024  11:15 AM            36,562 mini-access-log.txt\n",
      "08/28/2024  11:15 AM                44 myconfig.txt\n",
      "08/28/2024  11:15 AM                16 myfile.txt\n",
      "08/28/2024  11:15 AM                75 mylog.txt\n",
      "08/28/2024  11:15 AM                16 myoutput.txt\n",
      "08/28/2024  11:15 AM                46 newhebrew.txt\n",
      "08/28/2024  11:15 AM                42 nums.txt\n",
      "08/28/2024  11:15 AM                 9 odds.txt\n",
      "08/28/2024  11:15 AM             6,945 outfile.txt\n",
      "08/28/2024  11:15 AM               145 randomtxt.txt\n",
      "09/01/2024  10:11 AM             4,063 section1_basic_operation.ipynb\n",
      "08/28/2024  11:15 AM                 4 shalom.txt\n",
      "08/28/2024  11:15 AM                 0 shanghai.txt\n",
      "08/28/2024  11:15 AM             1,676 shoe-data.txt\n",
      "08/28/2024  11:15 AM               165 wcfile.txt\n",
      "08/28/2024  11:15 AM         2,493,109 words.txt\n",
      "              21 File(s)      2,548,349 bytes\n",
      "               2 Dir(s)  45,381,148,672 bytes free\n"
     ]
    }
   ],
   "source": [
    "%ls"
   ]
  },
  {
   "cell_type": "code",
   "execution_count": 10,
   "metadata": {},
   "outputs": [
    {
     "ename": "FileNotFoundError",
     "evalue": "[Errno 2] No such file or directory: 'filename'",
     "output_type": "error",
     "traceback": [
      "\u001b[1;31m---------------------------------------------------------------------------\u001b[0m",
      "\u001b[1;31mFileNotFoundError\u001b[0m                         Traceback (most recent call last)",
      "Cell \u001b[1;32mIn[10], line 1\u001b[0m\n\u001b[1;32m----> 1\u001b[0m f \u001b[38;5;241m=\u001b[39m \u001b[38;5;28;43mopen\u001b[39;49m\u001b[43m(\u001b[49m\u001b[38;5;124;43mr\u001b[39;49m\u001b[38;5;124;43m'\u001b[39;49m\u001b[38;5;124;43mfilename\u001b[39;49m\u001b[38;5;124;43m'\u001b[39;49m\u001b[43m)\u001b[49m\n",
      "File \u001b[1;32m~\\AppData\\Local\\Packages\\PythonSoftwareFoundation.Python.3.11_qbz5n2kfra8p0\\LocalCache\\local-packages\\Python311\\site-packages\\IPython\\core\\interactiveshell.py:284\u001b[0m, in \u001b[0;36m_modified_open\u001b[1;34m(file, *args, **kwargs)\u001b[0m\n\u001b[0;32m    277\u001b[0m \u001b[38;5;28;01mif\u001b[39;00m file \u001b[38;5;129;01min\u001b[39;00m {\u001b[38;5;241m0\u001b[39m, \u001b[38;5;241m1\u001b[39m, \u001b[38;5;241m2\u001b[39m}:\n\u001b[0;32m    278\u001b[0m     \u001b[38;5;28;01mraise\u001b[39;00m \u001b[38;5;167;01mValueError\u001b[39;00m(\n\u001b[0;32m    279\u001b[0m         \u001b[38;5;124mf\u001b[39m\u001b[38;5;124m\"\u001b[39m\u001b[38;5;124mIPython won\u001b[39m\u001b[38;5;124m'\u001b[39m\u001b[38;5;124mt let you open fd=\u001b[39m\u001b[38;5;132;01m{\u001b[39;00mfile\u001b[38;5;132;01m}\u001b[39;00m\u001b[38;5;124m by default \u001b[39m\u001b[38;5;124m\"\u001b[39m\n\u001b[0;32m    280\u001b[0m         \u001b[38;5;124m\"\u001b[39m\u001b[38;5;124mas it is likely to crash IPython. If you know what you are doing, \u001b[39m\u001b[38;5;124m\"\u001b[39m\n\u001b[0;32m    281\u001b[0m         \u001b[38;5;124m\"\u001b[39m\u001b[38;5;124myou can use builtins\u001b[39m\u001b[38;5;124m'\u001b[39m\u001b[38;5;124m open.\u001b[39m\u001b[38;5;124m\"\u001b[39m\n\u001b[0;32m    282\u001b[0m     )\n\u001b[1;32m--> 284\u001b[0m \u001b[38;5;28;01mreturn\u001b[39;00m \u001b[43mio_open\u001b[49m\u001b[43m(\u001b[49m\u001b[43mfile\u001b[49m\u001b[43m,\u001b[49m\u001b[43m \u001b[49m\u001b[38;5;241;43m*\u001b[39;49m\u001b[43margs\u001b[49m\u001b[43m,\u001b[49m\u001b[43m \u001b[49m\u001b[38;5;241;43m*\u001b[39;49m\u001b[38;5;241;43m*\u001b[39;49m\u001b[43mkwargs\u001b[49m\u001b[43m)\u001b[49m\n",
      "\u001b[1;31mFileNotFoundError\u001b[0m: [Errno 2] No such file or directory: 'filename'"
     ]
    }
   ],
   "source": []
  },
  {
   "cell_type": "markdown",
   "metadata": {},
   "source": [
    "#### Reading from files"
   ]
  },
  {
   "cell_type": "code",
   "execution_count": 33,
   "metadata": {},
   "outputs": [
    {
     "name": "stdout",
     "output_type": "stream",
     "text": [
      "<_io.TextIOWrapper name='C:\\\\Users\\\\dqthi\\\\OneDrive\\\\Coding_Journey\\\\CodeBreakThrough\\\\Beginner_Python_Programming_All-in-One_Tutorial_Series\\\\intro_files\\\\linux-etc-passwd.txt' mode='r' encoding='cp1252'>\n"
     ]
    }
   ],
   "source": [
    "f = open(r'C:\\Users\\dqthi\\OneDrive\\Coding_Journey\\CodeBreakThrough\\Beginner_Python_Programming_All-in-One_Tutorial_Series\\intro_files\\linux-etc-passwd.txt', 'r')\n",
    "print (f)"
   ]
  },
  {
   "cell_type": "code",
   "execution_count": null,
   "metadata": {},
   "outputs": [],
   "source": [
    "### note to tell Reuven to share the file pass.txt as couldnt locate the file in the folder "
   ]
  },
  {
   "cell_type": "code",
   "execution_count": 34,
   "metadata": {},
   "outputs": [
    {
     "data": {
      "text/plain": [
       "'# This is a comment\\n# You should ignore me\\nroot:x:0:0:root:/root:/bin/bash\\ndaemon:x:1:1:daemon:/usr/sbin:/usr/sbin/nologin\\nbin:x:2:2:bin:/bin:/usr/sbin/nologin\\nsys:x:3:3:sys:/dev:/usr/sbin/nologin\\nsync:x:4:65534:sync:/bin:/bin/sync\\ngames:x:5:60:games:/usr/games:/usr/sbin/nologin\\nman:x:6:12:man:/var/cache/man:/usr/sbin/nologin\\nlp:x:7:7:lp:/var/spool/lpd:/usr/sbin/nologin\\nmail:x:8:8:mail:/var/mail:/usr/sbin/nologin\\n\\n\\n\\nnews:x:9:9:news:/var/spool/news:/usr/sbin/nologin\\nuucp:x:10:10:uucp:/var/spool/uucp:/usr/sbin/nologin\\nproxy:x:13:13:proxy:/bin:/usr/sbin/nologin\\nwww-data:x:33:33:www-data:/var/www:/usr/sbin/nologin\\nbackup:x:34:34:backup:/var/backups:/usr/sbin/nologin\\nlist:x:38:38:Mailing List Manager:/var/list:/usr/sbin/nologin\\nirc:x:39:39:ircd:/var/run/ircd:/usr/sbin/nologin\\ngnats:x:41:41:Gnats Bug-Reporting System (admin):/var/lib/gnats:/usr/sbin/nologin\\n\\nnobody:x:65534:65534:nobody:/nonexistent:/usr/sbin/nologin\\nsyslog:x:101:104::/home/syslog:/bin/false\\nmessagebus:x:102:106::/var/run/dbus:/bin/false\\nlandscape:x:103:109::/var/lib/landscape:/bin/false\\njci:x:955:955::/home/jci:/bin/bash\\nsshd:x:104:65534::/var/run/sshd:/usr/sbin/nologin\\nuser:x:1000:1000:user,,,:/home/user:/bin/bash\\nreuven:x:1001:1001:Reuven M. Lerner,,,:/home/reuven:/bin/bash\\npostfix:x:105:113::/var/spool/postfix:/bin/false\\ncolord:x:106:116:colord colour management daemon,,,:/var/lib/colord:/bin/false\\npostgres:x:107:117:PostgreSQL administrator,,,:/var/lib/postgresql:/bin/bash\\ndovecot:x:108:119:Dovecot mail server,,,:/usr/lib/dovecot:/bin/false\\ndovenull:x:109:120:Dovecot login user,,,:/nonexistent:/bin/false\\npostgrey:x:110:121::/var/lib/postgrey:/bin/false\\ndebian-spamd:x:111:122::/var/lib/spamassassin:/bin/sh\\nmemcache:x:113:124:Memcached,,,:/nonexistent:/bin/false\\ngenadi:x:1002:1003:Genadi Reznichenko,,,:/home/genadi:/bin/bash\\nshira:x:1003:1004:Shira Friedman,,,:/home/shira:/bin/bash\\natara:x:1004:1005:Atara Lerner-Friedman,,,:/home/atara:/bin/bash\\nshikma:x:1005:1006:Shikma Lerner-Friedman,,,:/home/shikma:/bin/bash\\namotz:x:1006:1007:Amotz Lerner-Friedman,,,:/home/amotz:/bin/bash\\nmysql:x:114:125:MySQL Server,,,:/nonexistent:/bin/false\\nclamav:x:115:126::/var/lib/clamav:/bin/false\\namavis:x:116:127:AMaViS system user,,,:/var/lib/amavis:/bin/sh\\nopendkim:x:117:128::/var/run/opendkim:/bin/false\\ngitlab-redis:x:999:1009::/var/opt/gitlab/redis:/bin/nologin\\ngitlab-psql:x:998:1010::/var/opt/gitlab/postgresql:/bin/sh\\ngit:x:1007:1008:GitLab,,,:/home/git:/bin/bash\\nopendmarc:x:118:129::/var/run/opendmarc:/bin/false\\ndkim-milter-python:x:119:130::/var/run/dkim-milter-python:/bin/false\\ndeploy:x:1008:1011:Deploy,,,:/home/deploy:/bin/bash\\nredis:x:112:123:redis server,,,:/var/lib/redis:/bin/false\\n'"
      ]
     },
     "execution_count": 34,
     "metadata": {},
     "output_type": "execute_result"
    }
   ],
   "source": [
    "# (1) read from a file with the 'read' method \n",
    "# this return a string containing the file's contents from the current location \n",
    "#   until the end of the file \n",
    "\n",
    "f.read() "
   ]
  },
  {
   "cell_type": "code",
   "execution_count": 28,
   "metadata": {},
   "outputs": [
    {
     "name": "stdout",
     "output_type": "stream",
     "text": [
      "\n"
     ]
    }
   ],
   "source": [
    "print (f.read())"
   ]
  },
  {
   "cell_type": "code",
   "execution_count": 35,
   "metadata": {},
   "outputs": [
    {
     "data": {
      "text/plain": [
       "''"
      ]
     },
     "execution_count": 35,
     "metadata": {},
     "output_type": "execute_result"
    }
   ],
   "source": [
    "f.read() "
   ]
  },
  {
   "cell_type": "code",
   "execution_count": 36,
   "metadata": {},
   "outputs": [
    {
     "data": {
      "text/plain": [
       "'# This is a comment\\n# You should ignore me\\nroot:x:0:0:root:/root:/bin/bash\\ndaemon:x:1:1:daemon:/usr/sbin:/usr/sbin/nologin\\nbin:x:2:2:bin:/bin:/usr/sbin/nologin\\nsys:x:3:3:sys:/dev:/usr/sbin/nologin\\nsync:x:4:65534:sync:/bin:/bin/sync\\ngames:x:5:60:games:/usr/games:/usr/sbin/nologin\\nman:x:6:12:man:/var/cache/man:/usr/sbin/nologin\\nlp:x:7:7:lp:/var/spool/lpd:/usr/sbin/nologin\\nmail:x:8:8:mail:/var/mail:/usr/sbin/nologin\\n\\n\\n\\nnews:x:9:9:news:/var/spool/news:/usr/sbin/nologin\\nuucp:x:10:10:uucp:/var/spool/uucp:/usr/sbin/nologin\\nproxy:x:13:13:proxy:/bin:/usr/sbin/nologin\\nwww-data:x:33:33:www-data:/var/www:/usr/sbin/nologin\\nbackup:x:34:34:backup:/var/backups:/usr/sbin/nologin\\nlist:x:38:38:Mailing List Manager:/var/list:/usr/sbin/nologin\\nirc:x:39:39:ircd:/var/run/ircd:/usr/sbin/nologin\\ngnats:x:41:41:Gnats Bug-Reporting System (admin):/var/lib/gnats:/usr/sbin/nologin\\n\\nnobody:x:65534:65534:nobody:/nonexistent:/usr/sbin/nologin\\nsyslog:x:101:104::/home/syslog:/bin/false\\nmessagebus:x:102:106::/var/run/dbus:/bin/false\\nlandscape:x:103:109::/var/lib/landscape:/bin/false\\njci:x:955:955::/home/jci:/bin/bash\\nsshd:x:104:65534::/var/run/sshd:/usr/sbin/nologin\\nuser:x:1000:1000:user,,,:/home/user:/bin/bash\\nreuven:x:1001:1001:Reuven M. Lerner,,,:/home/reuven:/bin/bash\\npostfix:x:105:113::/var/spool/postfix:/bin/false\\ncolord:x:106:116:colord colour management daemon,,,:/var/lib/colord:/bin/false\\npostgres:x:107:117:PostgreSQL administrator,,,:/var/lib/postgresql:/bin/bash\\ndovecot:x:108:119:Dovecot mail server,,,:/usr/lib/dovecot:/bin/false\\ndovenull:x:109:120:Dovecot login user,,,:/nonexistent:/bin/false\\npostgrey:x:110:121::/var/lib/postgrey:/bin/false\\ndebian-spamd:x:111:122::/var/lib/spamassassin:/bin/sh\\nmemcache:x:113:124:Memcached,,,:/nonexistent:/bin/false\\ngenadi:x:1002:1003:Genadi Reznichenko,,,:/home/genadi:/bin/bash\\nshira:x:1003:1004:Shira Friedman,,,:/home/shira:/bin/bash\\natara:x:1004:1005:Atara Lerner-Friedman,,,:/home/atara:/bin/bash\\nshikma:x:1005:1006:Shikma Lerner-Friedman,,,:/home/shikma:/bin/bash\\namotz:x:1006:1007:Amotz Lerner-Friedman,,,:/home/amotz:/bin/bash\\nmysql:x:114:125:MySQL Server,,,:/nonexistent:/bin/false\\nclamav:x:115:126::/var/lib/clamav:/bin/false\\namavis:x:116:127:AMaViS system user,,,:/var/lib/amavis:/bin/sh\\nopendkim:x:117:128::/var/run/opendkim:/bin/false\\ngitlab-redis:x:999:1009::/var/opt/gitlab/redis:/bin/nologin\\ngitlab-psql:x:998:1010::/var/opt/gitlab/postgresql:/bin/sh\\ngit:x:1007:1008:GitLab,,,:/home/git:/bin/bash\\nopendmarc:x:118:129::/var/run/opendmarc:/bin/false\\ndkim-milter-python:x:119:130::/var/run/dkim-milter-python:/bin/false\\ndeploy:x:1008:1011:Deploy,,,:/home/deploy:/bin/bash\\nredis:x:112:123:redis server,,,:/var/lib/redis:/bin/false\\n'"
      ]
     },
     "execution_count": 36,
     "metadata": {},
     "output_type": "execute_result"
    }
   ],
   "source": [
    "f = open(r'C:\\Users\\dqthi\\OneDrive\\Coding_Journey\\CodeBreakThrough\\Beginner_Python_Programming_All-in-One_Tutorial_Series\\intro_files\\linux-etc-passwd.txt', 'r')\n",
    "\n",
    "f.read() "
   ]
  },
  {
   "cell_type": "markdown",
   "metadata": {},
   "source": [
    "This is f.read() is the easiest way to load the file, but given the unknow of how large and content of a file is. this approach is not recommended "
   ]
  },
  {
   "cell_type": "code",
   "execution_count": 44,
   "metadata": {},
   "outputs": [
    {
     "data": {
      "text/plain": [
       "'# This is a comment\\n# You should ignore me\\nroot:x:0:0:root:/root:/bin/bash\\ndaemon:x:1:1:daemon:/usr/sbin:/usr/sbin/nologin\\nbin:x:2:2:bin:/bin:/usr/sbin/nologin\\nsys:x:3:3:sys:/dev:/usr/sbin/nologin\\nsync:x:4:65534:sync:/bin:/bin/sync\\ngames:x:5:60:games:/usr/games:/usr/sbin/nologin\\nman:x:6:12:man:/var/cache/man:/usr/sbin/nologin\\nlp:x:7:7:lp:/var/spool/lpd:/usr/sbin/nologin\\nmail:x:8:8:mail:/var/mail:/usr/sbin/nologin\\n\\n\\n\\nnews:x:9:9:news:/var/spool/news:/usr/sbin/nologin\\nuucp:x:10:10:uucp:/var/spool/uucp:/usr/sbin/nologin\\nproxy:x:13:13:proxy:/bin:/usr/sbin/nologin\\nwww-data:x:33:33:www-data:/var/www:/usr/sbin/nologin\\nbackup:x:34:34:backup:/var/backups:/usr/sbin/nologin\\nlist:x:38:38:Mailing List Manager:/var/list:/usr/sbin/nologin\\nirc:x:39:39:ircd:/var/run/ircd:/usr/sbin/nologin\\ngnats:x:41:41:Gnats Bug-Reporting System (admin):/var/lib/gnats:/usr/sbin/nologin\\n\\nnobody:x:65534:65534:nobody:/nonexistent:/usr/sbin/nologin\\nsyslog:x:101:104::/home/syslog:/bin/false\\nmessagebus:x:102:106::/var/run/dbus:/bin/false\\nlandscape:x:103:109::/var/lib/landscape:/bin/false\\njci:x:955:955::/home/jci:/bin/bash\\nsshd:x:104:65534::/var/run/sshd:/usr/sbin/nologin\\nuser:x:1000:1000:user,,,:/home/user:/bin/bash\\nreuven:x:1001:1001:Reuven M. Lerner,,,:/home/reuven:/bin/bash\\npostfix:x:105:113::/var/spool/postfix:/bin/false\\ncolord:x:106:116:colord colour management daemon,,,:/var/lib/colord:/bin/false\\npostgres:x:107:117:PostgreSQL administrator,,,:/var/lib/postgresql:/bin/bash\\ndovecot:x:108:119:Dovecot mail server,,,:/usr/lib/dovecot:/bin/false\\ndovenull:x:109:120:Dovecot login user,,,:/nonexistent:/bin/false\\npostgrey:x:110:121::/var/lib/postgrey:/bin/false\\ndebian-spamd:x:111:122::/var/lib/spamassassin:/bin/sh\\nmemcache:x:113:124:Memcached,,,:/nonexistent:/bin/false\\ngenadi:x:1002:1003:Genadi Reznichenko,,,:/home/genadi:/bin/bash\\nshira:x:1003:1004:Shira Friedman,,,:/home/shira:/bin/bash\\natara:x:1004:1005:Atara Lerner-Friedman,,,:/home/atara:/bin/bash\\nshikma:x:1005:1006:Shikma Lerner-Friedman,,,:/home/shikma:'"
      ]
     },
     "execution_count": 44,
     "metadata": {},
     "output_type": "execute_result"
    }
   ],
   "source": [
    "f = open(r'C:\\Users\\dqthi\\OneDrive\\Coding_Journey\\CodeBreakThrough\\Beginner_Python_Programming_All-in-One_Tutorial_Series\\intro_files\\linux-etc-passwd.txt')\n",
    " \n",
    "f.read(2000)  # read up to 1000 characters, then return them "
   ]
  },
  {
   "cell_type": "code",
   "execution_count": 45,
   "metadata": {},
   "outputs": [
    {
     "data": {
      "text/plain": [
       "'/bin/bash\\namotz:x:1006:1007:Amotz Lerner-Friedman,,,:/home/amotz:/bin/bash\\nmysql:x:114:125:MySQL Server,,,:/nonexistent:/bin/false\\nclamav:x:115:126::/var/lib/clamav:/bin/false\\namavis:x:116:127:AMaViS system user,,,:/var/lib/amavis:/bin/sh\\nopendkim:x:117:128::/var/run/opendkim:/bin/false\\ngitlab-redis:x:999:1009::/var/opt/gitlab/redis:/bin/nologin\\ngitlab-psql:x:998:1010::/var/opt/gitlab/postgresql:/bin/sh\\ngit:x:1007:1008:GitLab,,,:/home/git:/bin/bash\\nopendmarc:x:118:129::/var/run/opendmarc:/bin/false\\ndkim-milter-python:x:119:130::/var/run/dkim-milter-python:/bin/false\\ndeploy:x:1008:1011:Deploy,,,:/home/deploy:/bin/bash\\nredis:x:112:123:redis server,,,:/var/lib/redis:/bin/false\\n'"
      ]
     },
     "execution_count": 45,
     "metadata": {},
     "output_type": "execute_result"
    }
   ],
   "source": [
    "f.read(2000)       "
   ]
  },
  {
   "cell_type": "code",
   "execution_count": 46,
   "metadata": {},
   "outputs": [
    {
     "data": {
      "text/plain": [
       "''"
      ]
     },
     "execution_count": 46,
     "metadata": {},
     "output_type": "execute_result"
    }
   ],
   "source": [
    "f.read(2000)\n"
   ]
  },
  {
   "cell_type": "code",
   "execution_count": null,
   "metadata": {},
   "outputs": [],
   "source": [
    "f = open(r'C:\\Users\\dqthi\\OneDrive\\Coding_Journey\\CodeBreakThrough\\Beginner_Python_Programming_All-in-One_Tutorial_Series\\intro_files\\linux-etc-passwd.txt')\n",
    " \n",
    "while True: \n",
    "    if s:\n",
    "        s =  f.read(500)\n",
    "    else: \n",
    "        print(s, end='#######')\n",
    "    # read up to 1000 characters, then return them "
   ]
  },
  {
   "cell_type": "code",
   "execution_count": 51,
   "metadata": {},
   "outputs": [
    {
     "name": "stdout",
     "output_type": "stream",
     "text": [
      "# This is a comment\n",
      "# You should ignore me\n",
      "root:x:0:0:root:/root:/bin/bash\n",
      "daemon:x:1:1:daemon:/usr/sbin:/usr/sbin/nologin\n",
      "bin:x:2:2:bin:/bin:/usr/sbin/nologin\n",
      "sys:x:3:3:sys:/dev:/usr/sbin/nologin\n",
      "sync:x:4:65534:sync:/bin:/bin/sync\n",
      "games:x:5:60:games:/usr/games:/usr/sbin/nologin\n",
      "man:x:6:12:man:/var/cache/man:/usr/sbin/nologin\n",
      "lp:x:7:7:lp:/var/spool/lpd:/usr/sbin/nologin\n",
      "mail:x:8:8:mail:/var/mail:/usr/sbin/nologin\n",
      "\n",
      "\n",
      "\n",
      "news:x:9:9:news:/var/spool/news:/usr/sbin/nologin\n",
      "uucp:x:10:10:uucp:/var/spool/u#######ucp:/usr/sbin/nologin\n",
      "proxy:x:13:13:proxy:/bin:/usr/sbin/nologin\n",
      "www-data:x:33:33:www-data:/var/www:/usr/sbin/nologin\n",
      "backup:x:34:34:backup:/var/backups:/usr/sbin/nologin\n",
      "list:x:38:38:Mailing List Manager:/var/list:/usr/sbin/nologin\n",
      "irc:x:39:39:ircd:/var/run/ircd:/usr/sbin/nologin\n",
      "gnats:x:41:41:Gnats Bug-Reporting System (admin):/var/lib/gnats:/usr/sbin/nologin\n",
      "\n",
      "nobody:x:65534:65534:nobody:/nonexistent:/usr/sbin/nologin\n",
      "syslog:x:101:104::/home/syslog:/bin/false\n",
      "messagebus:x:102:106::/var/run/dbu#######s:/bin/false\n",
      "landscape:x:103:109::/var/lib/landscape:/bin/false\n",
      "jci:x:955:955::/home/jci:/bin/bash\n",
      "sshd:x:104:65534::/var/run/sshd:/usr/sbin/nologin\n",
      "user:x:1000:1000:user,,,:/home/user:/bin/bash\n",
      "reuven:x:1001:1001:Reuven M. Lerner,,,:/home/reuven:/bin/bash\n",
      "postfix:x:105:113::/var/spool/postfix:/bin/false\n",
      "colord:x:106:116:colord colour management daemon,,,:/var/lib/colord:/bin/false\n",
      "postgres:x:107:117:PostgreSQL administrator,,,:/var/lib/postgresql:/bin/bash\n",
      "dovecot:x:108:119:Dovecot mail server,#######,,:/usr/lib/dovecot:/bin/false\n",
      "dovenull:x:109:120:Dovecot login user,,,:/nonexistent:/bin/false\n",
      "postgrey:x:110:121::/var/lib/postgrey:/bin/false\n",
      "debian-spamd:x:111:122::/var/lib/spamassassin:/bin/sh\n",
      "memcache:x:113:124:Memcached,,,:/nonexistent:/bin/false\n",
      "genadi:x:1002:1003:Genadi Reznichenko,,,:/home/genadi:/bin/bash\n",
      "shira:x:1003:1004:Shira Friedman,,,:/home/shira:/bin/bash\n",
      "atara:x:1004:1005:Atara Lerner-Friedman,,,:/home/atara:/bin/bash\n",
      "shikma:x:1005:1006:Shikma Lerner-Friedman,,,:/home/shikma:#######/bin/bash\n",
      "amotz:x:1006:1007:Amotz Lerner-Friedman,,,:/home/amotz:/bin/bash\n",
      "mysql:x:114:125:MySQL Server,,,:/nonexistent:/bin/false\n",
      "clamav:x:115:126::/var/lib/clamav:/bin/false\n",
      "amavis:x:116:127:AMaViS system user,,,:/var/lib/amavis:/bin/sh\n",
      "opendkim:x:117:128::/var/run/opendkim:/bin/false\n",
      "gitlab-redis:x:999:1009::/var/opt/gitlab/redis:/bin/nologin\n",
      "gitlab-psql:x:998:1010::/var/opt/gitlab/postgresql:/bin/sh\n",
      "git:x:1007:1008:GitLab,,,:/home/git:/bin/bash\n",
      "opendmarc:x:118:129::/var/run/opendmarc:/bin/fa#######lse\n",
      "dkim-milter-python:x:119:130::/var/run/dkim-milter-python:/bin/false\n",
      "deploy:x:1008:1011:Deploy,,,:/home/deploy:/bin/bash\n",
      "redis:x:112:123:redis server,,,:/var/lib/redis:/bin/false\n",
      "#######"
     ]
    }
   ],
   "source": [
    "# the code line below is shorter and more mordern with avaialble from python 3.8 \n",
    "\n",
    "f = open(r'C:\\Users\\dqthi\\OneDrive\\Coding_Journey\\CodeBreakThrough\\Beginner_Python_Programming_All-in-One_Tutorial_Series\\intro_files\\linux-etc-passwd.txt')\n",
    " \n",
    "while s :=  f.read(500):\n",
    "        print(s, end='#######')\n",
    "    # read up to 1000 characters, then return them "
   ]
  },
  {
   "cell_type": "markdown",
   "metadata": {},
   "source": [
    "#### Iterating over files"
   ]
  },
  {
   "cell_type": "code",
   "execution_count": 53,
   "metadata": {},
   "outputs": [
    {
     "data": {
      "text/plain": [
       "'# This is a comment\\n'"
      ]
     },
     "execution_count": 53,
     "metadata": {},
     "output_type": "execute_result"
    }
   ],
   "source": [
    "f = open(r'C:\\Users\\dqthi\\OneDrive\\Coding_Journey\\CodeBreakThrough\\Beginner_Python_Programming_All-in-One_Tutorial_Series\\intro_files\\linux-etc-passwd.txt')\n",
    " \n",
    "f.readline()"
   ]
  },
  {
   "cell_type": "code",
   "execution_count": 54,
   "metadata": {},
   "outputs": [
    {
     "data": {
      "text/plain": [
       "'# You should ignore me\\n'"
      ]
     },
     "execution_count": 54,
     "metadata": {},
     "output_type": "execute_result"
    }
   ],
   "source": [
    "f.readline()"
   ]
  },
  {
   "cell_type": "code",
   "execution_count": 55,
   "metadata": {},
   "outputs": [
    {
     "data": {
      "text/plain": [
       "'root:x:0:0:root:/root:/bin/bash\\n'"
      ]
     },
     "execution_count": 55,
     "metadata": {},
     "output_type": "execute_result"
    }
   ],
   "source": [
    "f.readline()"
   ]
  },
  {
   "cell_type": "code",
   "execution_count": 57,
   "metadata": {},
   "outputs": [
    {
     "name": "stdout",
     "output_type": "stream",
     "text": [
      "<class 'builtin_function_or_method'>\n"
     ]
    }
   ],
   "source": [
    "print(type(f.readline))"
   ]
  },
  {
   "cell_type": "code",
   "execution_count": 58,
   "metadata": {},
   "outputs": [
    {
     "name": "stdout",
     "output_type": "stream",
     "text": [
      "# This is a comment\n",
      "\n",
      "# You should ignore me\n",
      "\n",
      "root:x:0:0:root:/root:/bin/bash\n",
      "\n",
      "daemon:x:1:1:daemon:/usr/sbin:/usr/sbin/nologin\n",
      "\n",
      "bin:x:2:2:bin:/bin:/usr/sbin/nologin\n",
      "\n",
      "sys:x:3:3:sys:/dev:/usr/sbin/nologin\n",
      "\n",
      "sync:x:4:65534:sync:/bin:/bin/sync\n",
      "\n",
      "games:x:5:60:games:/usr/games:/usr/sbin/nologin\n",
      "\n",
      "man:x:6:12:man:/var/cache/man:/usr/sbin/nologin\n",
      "\n",
      "lp:x:7:7:lp:/var/spool/lpd:/usr/sbin/nologin\n",
      "\n",
      "mail:x:8:8:mail:/var/mail:/usr/sbin/nologin\n",
      "\n",
      "\n",
      "\n",
      "\n",
      "\n",
      "\n",
      "\n",
      "news:x:9:9:news:/var/spool/news:/usr/sbin/nologin\n",
      "\n",
      "uucp:x:10:10:uucp:/var/spool/uucp:/usr/sbin/nologin\n",
      "\n",
      "proxy:x:13:13:proxy:/bin:/usr/sbin/nologin\n",
      "\n",
      "www-data:x:33:33:www-data:/var/www:/usr/sbin/nologin\n",
      "\n",
      "backup:x:34:34:backup:/var/backups:/usr/sbin/nologin\n",
      "\n",
      "list:x:38:38:Mailing List Manager:/var/list:/usr/sbin/nologin\n",
      "\n",
      "irc:x:39:39:ircd:/var/run/ircd:/usr/sbin/nologin\n",
      "\n",
      "gnats:x:41:41:Gnats Bug-Reporting System (admin):/var/lib/gnats:/usr/sbin/nologin\n",
      "\n",
      "\n",
      "\n",
      "nobody:x:65534:65534:nobody:/nonexistent:/usr/sbin/nologin\n",
      "\n",
      "syslog:x:101:104::/home/syslog:/bin/false\n",
      "\n",
      "messagebus:x:102:106::/var/run/dbus:/bin/false\n",
      "\n",
      "landscape:x:103:109::/var/lib/landscape:/bin/false\n",
      "\n",
      "jci:x:955:955::/home/jci:/bin/bash\n",
      "\n",
      "sshd:x:104:65534::/var/run/sshd:/usr/sbin/nologin\n",
      "\n",
      "user:x:1000:1000:user,,,:/home/user:/bin/bash\n",
      "\n",
      "reuven:x:1001:1001:Reuven M. Lerner,,,:/home/reuven:/bin/bash\n",
      "\n",
      "postfix:x:105:113::/var/spool/postfix:/bin/false\n",
      "\n",
      "colord:x:106:116:colord colour management daemon,,,:/var/lib/colord:/bin/false\n",
      "\n",
      "postgres:x:107:117:PostgreSQL administrator,,,:/var/lib/postgresql:/bin/bash\n",
      "\n",
      "dovecot:x:108:119:Dovecot mail server,,,:/usr/lib/dovecot:/bin/false\n",
      "\n",
      "dovenull:x:109:120:Dovecot login user,,,:/nonexistent:/bin/false\n",
      "\n",
      "postgrey:x:110:121::/var/lib/postgrey:/bin/false\n",
      "\n",
      "debian-spamd:x:111:122::/var/lib/spamassassin:/bin/sh\n",
      "\n",
      "memcache:x:113:124:Memcached,,,:/nonexistent:/bin/false\n",
      "\n",
      "genadi:x:1002:1003:Genadi Reznichenko,,,:/home/genadi:/bin/bash\n",
      "\n",
      "shira:x:1003:1004:Shira Friedman,,,:/home/shira:/bin/bash\n",
      "\n",
      "atara:x:1004:1005:Atara Lerner-Friedman,,,:/home/atara:/bin/bash\n",
      "\n",
      "shikma:x:1005:1006:Shikma Lerner-Friedman,,,:/home/shikma:/bin/bash\n",
      "\n",
      "amotz:x:1006:1007:Amotz Lerner-Friedman,,,:/home/amotz:/bin/bash\n",
      "\n",
      "mysql:x:114:125:MySQL Server,,,:/nonexistent:/bin/false\n",
      "\n",
      "clamav:x:115:126::/var/lib/clamav:/bin/false\n",
      "\n",
      "amavis:x:116:127:AMaViS system user,,,:/var/lib/amavis:/bin/sh\n",
      "\n",
      "opendkim:x:117:128::/var/run/opendkim:/bin/false\n",
      "\n",
      "gitlab-redis:x:999:1009::/var/opt/gitlab/redis:/bin/nologin\n",
      "\n",
      "gitlab-psql:x:998:1010::/var/opt/gitlab/postgresql:/bin/sh\n",
      "\n",
      "git:x:1007:1008:GitLab,,,:/home/git:/bin/bash\n",
      "\n",
      "opendmarc:x:118:129::/var/run/opendmarc:/bin/false\n",
      "\n",
      "dkim-milter-python:x:119:130::/var/run/dkim-milter-python:/bin/false\n",
      "\n",
      "deploy:x:1008:1011:Deploy,,,:/home/deploy:/bin/bash\n",
      "\n",
      "redis:x:112:123:redis server,,,:/var/lib/redis:/bin/false\n",
      "\n"
     ]
    }
   ],
   "source": [
    "f = open(r'C:\\Users\\dqthi\\OneDrive\\Coding_Journey\\CodeBreakThrough\\Beginner_Python_Programming_All-in-One_Tutorial_Series\\intro_files\\linux-etc-passwd.txt')\n",
    "\n",
    "while True:\n",
    "    s = f.readline()\n",
    "    if s:\n",
    "        print (s)\n",
    "    else: \n",
    "        break"
   ]
  },
  {
   "cell_type": "code",
   "execution_count": 59,
   "metadata": {},
   "outputs": [
    {
     "name": "stdout",
     "output_type": "stream",
     "text": [
      "# This is a comment\n",
      "# You should ignore me\n",
      "root:x:0:0:root:/root:/bin/bash\n",
      "daemon:x:1:1:daemon:/usr/sbin:/usr/sbin/nologin\n",
      "bin:x:2:2:bin:/bin:/usr/sbin/nologin\n",
      "sys:x:3:3:sys:/dev:/usr/sbin/nologin\n",
      "sync:x:4:65534:sync:/bin:/bin/sync\n",
      "games:x:5:60:games:/usr/games:/usr/sbin/nologin\n",
      "man:x:6:12:man:/var/cache/man:/usr/sbin/nologin\n",
      "lp:x:7:7:lp:/var/spool/lpd:/usr/sbin/nologin\n",
      "mail:x:8:8:mail:/var/mail:/usr/sbin/nologin\n",
      "\n",
      "\n",
      "\n",
      "news:x:9:9:news:/var/spool/news:/usr/sbin/nologin\n",
      "uucp:x:10:10:uucp:/var/spool/uucp:/usr/sbin/nologin\n",
      "proxy:x:13:13:proxy:/bin:/usr/sbin/nologin\n",
      "www-data:x:33:33:www-data:/var/www:/usr/sbin/nologin\n",
      "backup:x:34:34:backup:/var/backups:/usr/sbin/nologin\n",
      "list:x:38:38:Mailing List Manager:/var/list:/usr/sbin/nologin\n",
      "irc:x:39:39:ircd:/var/run/ircd:/usr/sbin/nologin\n",
      "gnats:x:41:41:Gnats Bug-Reporting System (admin):/var/lib/gnats:/usr/sbin/nologin\n",
      "\n",
      "nobody:x:65534:65534:nobody:/nonexistent:/usr/sbin/nologin\n",
      "syslog:x:101:104::/home/syslog:/bin/false\n",
      "messagebus:x:102:106::/var/run/dbus:/bin/false\n",
      "landscape:x:103:109::/var/lib/landscape:/bin/false\n",
      "jci:x:955:955::/home/jci:/bin/bash\n",
      "sshd:x:104:65534::/var/run/sshd:/usr/sbin/nologin\n",
      "user:x:1000:1000:user,,,:/home/user:/bin/bash\n",
      "reuven:x:1001:1001:Reuven M. Lerner,,,:/home/reuven:/bin/bash\n",
      "postfix:x:105:113::/var/spool/postfix:/bin/false\n",
      "colord:x:106:116:colord colour management daemon,,,:/var/lib/colord:/bin/false\n",
      "postgres:x:107:117:PostgreSQL administrator,,,:/var/lib/postgresql:/bin/bash\n",
      "dovecot:x:108:119:Dovecot mail server,,,:/usr/lib/dovecot:/bin/false\n",
      "dovenull:x:109:120:Dovecot login user,,,:/nonexistent:/bin/false\n",
      "postgrey:x:110:121::/var/lib/postgrey:/bin/false\n",
      "debian-spamd:x:111:122::/var/lib/spamassassin:/bin/sh\n",
      "memcache:x:113:124:Memcached,,,:/nonexistent:/bin/false\n",
      "genadi:x:1002:1003:Genadi Reznichenko,,,:/home/genadi:/bin/bash\n",
      "shira:x:1003:1004:Shira Friedman,,,:/home/shira:/bin/bash\n",
      "atara:x:1004:1005:Atara Lerner-Friedman,,,:/home/atara:/bin/bash\n",
      "shikma:x:1005:1006:Shikma Lerner-Friedman,,,:/home/shikma:/bin/bash\n",
      "amotz:x:1006:1007:Amotz Lerner-Friedman,,,:/home/amotz:/bin/bash\n",
      "mysql:x:114:125:MySQL Server,,,:/nonexistent:/bin/false\n",
      "clamav:x:115:126::/var/lib/clamav:/bin/false\n",
      "amavis:x:116:127:AMaViS system user,,,:/var/lib/amavis:/bin/sh\n",
      "opendkim:x:117:128::/var/run/opendkim:/bin/false\n",
      "gitlab-redis:x:999:1009::/var/opt/gitlab/redis:/bin/nologin\n",
      "gitlab-psql:x:998:1010::/var/opt/gitlab/postgresql:/bin/sh\n",
      "git:x:1007:1008:GitLab,,,:/home/git:/bin/bash\n",
      "opendmarc:x:118:129::/var/run/opendmarc:/bin/false\n",
      "dkim-milter-python:x:119:130::/var/run/dkim-milter-python:/bin/false\n",
      "deploy:x:1008:1011:Deploy,,,:/home/deploy:/bin/bash\n",
      "redis:x:112:123:redis server,,,:/var/lib/redis:/bin/false\n"
     ]
    }
   ],
   "source": [
    "f = open(r'C:\\Users\\dqthi\\OneDrive\\Coding_Journey\\CodeBreakThrough\\Beginner_Python_Programming_All-in-One_Tutorial_Series\\intro_files\\linux-etc-passwd.txt')\n",
    "\n",
    "while s :=  f.readline():\n",
    "    print (s, end = \"\") "
   ]
  },
  {
   "cell_type": "code",
   "execution_count": 60,
   "metadata": {},
   "outputs": [
    {
     "data": {
      "text/plain": [
       "['# This is a comment\\n',\n",
       " '# You should ignore me\\n',\n",
       " 'root:x:0:0:root:/root:/bin/bash\\n',\n",
       " 'daemon:x:1:1:daemon:/usr/sbin:/usr/sbin/nologin\\n',\n",
       " 'bin:x:2:2:bin:/bin:/usr/sbin/nologin\\n',\n",
       " 'sys:x:3:3:sys:/dev:/usr/sbin/nologin\\n',\n",
       " 'sync:x:4:65534:sync:/bin:/bin/sync\\n',\n",
       " 'games:x:5:60:games:/usr/games:/usr/sbin/nologin\\n',\n",
       " 'man:x:6:12:man:/var/cache/man:/usr/sbin/nologin\\n',\n",
       " 'lp:x:7:7:lp:/var/spool/lpd:/usr/sbin/nologin\\n',\n",
       " 'mail:x:8:8:mail:/var/mail:/usr/sbin/nologin\\n',\n",
       " '\\n',\n",
       " '\\n',\n",
       " '\\n',\n",
       " 'news:x:9:9:news:/var/spool/news:/usr/sbin/nologin\\n',\n",
       " 'uucp:x:10:10:uucp:/var/spool/uucp:/usr/sbin/nologin\\n',\n",
       " 'proxy:x:13:13:proxy:/bin:/usr/sbin/nologin\\n',\n",
       " 'www-data:x:33:33:www-data:/var/www:/usr/sbin/nologin\\n',\n",
       " 'backup:x:34:34:backup:/var/backups:/usr/sbin/nologin\\n',\n",
       " 'list:x:38:38:Mailing List Manager:/var/list:/usr/sbin/nologin\\n',\n",
       " 'irc:x:39:39:ircd:/var/run/ircd:/usr/sbin/nologin\\n',\n",
       " 'gnats:x:41:41:Gnats Bug-Reporting System (admin):/var/lib/gnats:/usr/sbin/nologin\\n',\n",
       " '\\n',\n",
       " 'nobody:x:65534:65534:nobody:/nonexistent:/usr/sbin/nologin\\n',\n",
       " 'syslog:x:101:104::/home/syslog:/bin/false\\n',\n",
       " 'messagebus:x:102:106::/var/run/dbus:/bin/false\\n',\n",
       " 'landscape:x:103:109::/var/lib/landscape:/bin/false\\n',\n",
       " 'jci:x:955:955::/home/jci:/bin/bash\\n',\n",
       " 'sshd:x:104:65534::/var/run/sshd:/usr/sbin/nologin\\n',\n",
       " 'user:x:1000:1000:user,,,:/home/user:/bin/bash\\n',\n",
       " 'reuven:x:1001:1001:Reuven M. Lerner,,,:/home/reuven:/bin/bash\\n',\n",
       " 'postfix:x:105:113::/var/spool/postfix:/bin/false\\n',\n",
       " 'colord:x:106:116:colord colour management daemon,,,:/var/lib/colord:/bin/false\\n',\n",
       " 'postgres:x:107:117:PostgreSQL administrator,,,:/var/lib/postgresql:/bin/bash\\n',\n",
       " 'dovecot:x:108:119:Dovecot mail server,,,:/usr/lib/dovecot:/bin/false\\n',\n",
       " 'dovenull:x:109:120:Dovecot login user,,,:/nonexistent:/bin/false\\n',\n",
       " 'postgrey:x:110:121::/var/lib/postgrey:/bin/false\\n',\n",
       " 'debian-spamd:x:111:122::/var/lib/spamassassin:/bin/sh\\n',\n",
       " 'memcache:x:113:124:Memcached,,,:/nonexistent:/bin/false\\n',\n",
       " 'genadi:x:1002:1003:Genadi Reznichenko,,,:/home/genadi:/bin/bash\\n',\n",
       " 'shira:x:1003:1004:Shira Friedman,,,:/home/shira:/bin/bash\\n',\n",
       " 'atara:x:1004:1005:Atara Lerner-Friedman,,,:/home/atara:/bin/bash\\n',\n",
       " 'shikma:x:1005:1006:Shikma Lerner-Friedman,,,:/home/shikma:/bin/bash\\n',\n",
       " 'amotz:x:1006:1007:Amotz Lerner-Friedman,,,:/home/amotz:/bin/bash\\n',\n",
       " 'mysql:x:114:125:MySQL Server,,,:/nonexistent:/bin/false\\n',\n",
       " 'clamav:x:115:126::/var/lib/clamav:/bin/false\\n',\n",
       " 'amavis:x:116:127:AMaViS system user,,,:/var/lib/amavis:/bin/sh\\n',\n",
       " 'opendkim:x:117:128::/var/run/opendkim:/bin/false\\n',\n",
       " 'gitlab-redis:x:999:1009::/var/opt/gitlab/redis:/bin/nologin\\n',\n",
       " 'gitlab-psql:x:998:1010::/var/opt/gitlab/postgresql:/bin/sh\\n',\n",
       " 'git:x:1007:1008:GitLab,,,:/home/git:/bin/bash\\n',\n",
       " 'opendmarc:x:118:129::/var/run/opendmarc:/bin/false\\n',\n",
       " 'dkim-milter-python:x:119:130::/var/run/dkim-milter-python:/bin/false\\n',\n",
       " 'deploy:x:1008:1011:Deploy,,,:/home/deploy:/bin/bash\\n',\n",
       " 'redis:x:112:123:redis server,,,:/var/lib/redis:/bin/false\\n']"
      ]
     },
     "execution_count": 60,
     "metadata": {},
     "output_type": "execute_result"
    }
   ],
   "source": [
    "f = open(r'C:\\Users\\dqthi\\OneDrive\\Coding_Journey\\CodeBreakThrough\\Beginner_Python_Programming_All-in-One_Tutorial_Series\\intro_files\\linux-etc-passwd.txt')\n",
    "\n",
    "f.readlines()\n",
    " \n",
    "# notes: this file will cost a lot of memory of your device. Why? because this will load every row into a list, each row is a list of string itself, then appended into a large list   "
   ]
  },
  {
   "cell_type": "code",
   "execution_count": 63,
   "metadata": {},
   "outputs": [
    {
     "name": "stdout",
     "output_type": "stream",
     "text": [
      "# This is a comment\n",
      "**# You should ignore me\n",
      "**root:x:0:0:root:/root:/bin/bash\n",
      "**daemon:x:1:1:daemon:/usr/sbin:/usr/sbin/nologin\n",
      "**bin:x:2:2:bin:/bin:/usr/sbin/nologin\n",
      "**sys:x:3:3:sys:/dev:/usr/sbin/nologin\n",
      "**sync:x:4:65534:sync:/bin:/bin/sync\n",
      "**games:x:5:60:games:/usr/games:/usr/sbin/nologin\n",
      "**man:x:6:12:man:/var/cache/man:/usr/sbin/nologin\n",
      "**lp:x:7:7:lp:/var/spool/lpd:/usr/sbin/nologin\n",
      "**mail:x:8:8:mail:/var/mail:/usr/sbin/nologin\n",
      "**\n",
      "**\n",
      "**\n",
      "**news:x:9:9:news:/var/spool/news:/usr/sbin/nologin\n",
      "**uucp:x:10:10:uucp:/var/spool/uucp:/usr/sbin/nologin\n",
      "**proxy:x:13:13:proxy:/bin:/usr/sbin/nologin\n",
      "**www-data:x:33:33:www-data:/var/www:/usr/sbin/nologin\n",
      "**backup:x:34:34:backup:/var/backups:/usr/sbin/nologin\n",
      "**list:x:38:38:Mailing List Manager:/var/list:/usr/sbin/nologin\n",
      "**irc:x:39:39:ircd:/var/run/ircd:/usr/sbin/nologin\n",
      "**gnats:x:41:41:Gnats Bug-Reporting System (admin):/var/lib/gnats:/usr/sbin/nologin\n",
      "**\n",
      "**nobody:x:65534:65534:nobody:/nonexistent:/usr/sbin/nologin\n",
      "**syslog:x:101:104::/home/syslog:/bin/false\n",
      "**messagebus:x:102:106::/var/run/dbus:/bin/false\n",
      "**landscape:x:103:109::/var/lib/landscape:/bin/false\n",
      "**jci:x:955:955::/home/jci:/bin/bash\n",
      "**sshd:x:104:65534::/var/run/sshd:/usr/sbin/nologin\n",
      "**user:x:1000:1000:user,,,:/home/user:/bin/bash\n",
      "**reuven:x:1001:1001:Reuven M. Lerner,,,:/home/reuven:/bin/bash\n",
      "**postfix:x:105:113::/var/spool/postfix:/bin/false\n",
      "**colord:x:106:116:colord colour management daemon,,,:/var/lib/colord:/bin/false\n",
      "**postgres:x:107:117:PostgreSQL administrator,,,:/var/lib/postgresql:/bin/bash\n",
      "**dovecot:x:108:119:Dovecot mail server,,,:/usr/lib/dovecot:/bin/false\n",
      "**dovenull:x:109:120:Dovecot login user,,,:/nonexistent:/bin/false\n",
      "**postgrey:x:110:121::/var/lib/postgrey:/bin/false\n",
      "**debian-spamd:x:111:122::/var/lib/spamassassin:/bin/sh\n",
      "**memcache:x:113:124:Memcached,,,:/nonexistent:/bin/false\n",
      "**genadi:x:1002:1003:Genadi Reznichenko,,,:/home/genadi:/bin/bash\n",
      "**shira:x:1003:1004:Shira Friedman,,,:/home/shira:/bin/bash\n",
      "**atara:x:1004:1005:Atara Lerner-Friedman,,,:/home/atara:/bin/bash\n",
      "**shikma:x:1005:1006:Shikma Lerner-Friedman,,,:/home/shikma:/bin/bash\n",
      "**amotz:x:1006:1007:Amotz Lerner-Friedman,,,:/home/amotz:/bin/bash\n",
      "**mysql:x:114:125:MySQL Server,,,:/nonexistent:/bin/false\n",
      "**clamav:x:115:126::/var/lib/clamav:/bin/false\n",
      "**amavis:x:116:127:AMaViS system user,,,:/var/lib/amavis:/bin/sh\n",
      "**opendkim:x:117:128::/var/run/opendkim:/bin/false\n",
      "**gitlab-redis:x:999:1009::/var/opt/gitlab/redis:/bin/nologin\n",
      "**gitlab-psql:x:998:1010::/var/opt/gitlab/postgresql:/bin/sh\n",
      "**git:x:1007:1008:GitLab,,,:/home/git:/bin/bash\n",
      "**opendmarc:x:118:129::/var/run/opendmarc:/bin/false\n",
      "**dkim-milter-python:x:119:130::/var/run/dkim-milter-python:/bin/false\n",
      "**deploy:x:1008:1011:Deploy,,,:/home/deploy:/bin/bash\n",
      "**redis:x:112:123:redis server,,,:/var/lib/redis:/bin/false\n",
      "**"
     ]
    }
   ],
   "source": [
    "# iterate over a file object, getting one line at a time  \n",
    "\n",
    "f = open(r'C:\\Users\\dqthi\\OneDrive\\Coding_Journey\\CodeBreakThrough\\Beginner_Python_Programming_All-in-One_Tutorial_Series\\intro_files\\linux-etc-passwd.txt')\n",
    "\n",
    "for one_line in f:  # when I run a for loop on f, the system with return one line at a time\n",
    "    print (one_line, end='**')"
   ]
  },
  {
   "cell_type": "code",
   "execution_count": null,
   "metadata": {},
   "outputs": [],
   "source": [
    "# iterate over a file object, getting one line at a time  \n",
    "\n",
    "for one_line in open(r'C:\\Users\\dqthi\\OneDrive\\Coding_Journey\\CodeBreakThrough\\Beginner_Python_Programming_All-in-One_Tutorial_Series\\intro_files\\linux-etc-passwd.txt'): \n",
    "    print (one_line, end='**')"
   ]
  }
 ],
 "metadata": {
  "kernelspec": {
   "display_name": "Python 3",
   "language": "python",
   "name": "python3"
  },
  "language_info": {
   "codemirror_mode": {
    "name": "ipython",
    "version": 3
   },
   "file_extension": ".py",
   "mimetype": "text/x-python",
   "name": "python",
   "nbconvert_exporter": "python",
   "pygments_lexer": "ipython3",
   "version": "3.11.9"
  }
 },
 "nbformat": 4,
 "nbformat_minor": 2
}
