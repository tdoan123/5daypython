{
 "cells": [
  {
   "cell_type": "code",
   "execution_count": 1,
   "metadata": {},
   "outputs": [],
   "source": [
    "f = open('mynewfile.txt', 'w')  "
   ]
  },
  {
   "cell_type": "code",
   "execution_count": 2,
   "metadata": {},
   "outputs": [
    {
     "data": {
      "text/plain": [
       "'w'"
      ]
     },
     "execution_count": 2,
     "metadata": {},
     "output_type": "execute_result"
    }
   ],
   "source": [
    "f.mode\n"
   ]
  },
  {
   "cell_type": "code",
   "execution_count": 3,
   "metadata": {},
   "outputs": [
    {
     "data": {
      "text/plain": [
       "<_io.TextIOWrapper name='mynewfile.txt' mode='w' encoding='cp1252'>"
      ]
     },
     "execution_count": 3,
     "metadata": {},
     "output_type": "execute_result"
    }
   ],
   "source": [
    "f"
   ]
  },
  {
   "cell_type": "code",
   "execution_count": 4,
   "metadata": {},
   "outputs": [
    {
     "ename": "UnsupportedOperation",
     "evalue": "not readable",
     "output_type": "error",
     "traceback": [
      "\u001b[1;31m---------------------------------------------------------------------------\u001b[0m",
      "\u001b[1;31mUnsupportedOperation\u001b[0m                      Traceback (most recent call last)",
      "Cell \u001b[1;32mIn[4], line 1\u001b[0m\n\u001b[1;32m----> 1\u001b[0m \u001b[43mf\u001b[49m\u001b[38;5;241;43m.\u001b[39;49m\u001b[43mread\u001b[49m\u001b[43m(\u001b[49m\u001b[43m)\u001b[49m\n",
      "\u001b[1;31mUnsupportedOperation\u001b[0m: not readable"
     ]
    }
   ],
   "source": [
    "f.read()"
   ]
  },
  {
   "cell_type": "code",
   "execution_count": 20,
   "metadata": {},
   "outputs": [
    {
     "data": {
      "text/plain": [
       "21"
      ]
     },
     "execution_count": 20,
     "metadata": {},
     "output_type": "execute_result"
    }
   ],
   "source": [
    "f.write(f' hello out there!\\n')\n",
    "f.write(f' I am very happy today\\n')\n",
    "f.write('One last line! try 2\\n')\n"
   ]
  },
  {
   "cell_type": "code",
   "execution_count": 8,
   "metadata": {},
   "outputs": [
    {
     "data": {
      "text/plain": [
       "15"
      ]
     },
     "execution_count": 8,
     "metadata": {},
     "output_type": "execute_result"
    }
   ],
   "source": [
    "len('One last line.\\n')"
   ]
  },
  {
   "cell_type": "code",
   "execution_count": 21,
   "metadata": {},
   "outputs": [
    {
     "name": "stderr",
     "output_type": "stream",
     "text": [
      "'cat' is not recognized as an internal or external command,\n",
      "operable program or batch file.\n"
     ]
    }
   ],
   "source": [
    "!cat mynewfile.txt"
   ]
  },
  {
   "cell_type": "code",
   "execution_count": 22,
   "metadata": {},
   "outputs": [
    {
     "name": "stdout",
     "output_type": "stream",
     "text": [
      " hello out there! hello out there!\n",
      " I am very happy today\n",
      " One last line!\n",
      " hello out there!\n",
      " I am very happy today\n",
      "One last line!\n"
     ]
    }
   ],
   "source": [
    "!type mynewfile.txt"
   ]
  },
  {
   "cell_type": "code",
   "execution_count": 23,
   "metadata": {},
   "outputs": [
    {
     "name": "stdout",
     "output_type": "stream",
     "text": [
      " Volume in drive C is OS\n",
      " Volume Serial Number is 7C87-B153\n",
      "\n",
      " Directory of c:\\Users\\dqthi\\OneDrive\\Coding_Journey\\CodeBreakThrough\\Beginner_Python_Programming_All-in-One_Tutorial_Series\\intro_files\n",
      "\n",
      "\n",
      " Directory of c:\\Users\\dqthi\\OneDrive\\Coding_Journey\\CodeBreakThrough\\Beginner_Python_Programming_All-in-One_Tutorial_Series\\intro_files\n",
      "\n",
      "08/28/2024  11:15 AM                 9 evens.txt\n",
      "08/28/2024  11:15 AM                 5 hello.txt\n",
      "08/28/2024  11:15 AM             2,683 linux-etc-passwd.txt\n",
      "08/28/2024  11:15 AM            36,562 mini-access-log.txt\n",
      "08/28/2024  11:15 AM                44 myconfig.txt\n",
      "08/28/2024  11:15 AM                16 myfile.txt\n",
      "08/28/2024  11:15 AM                75 mylog.txt\n",
      "09/02/2024  10:06 PM               136 mynewfile.txt\n",
      "08/28/2024  11:15 AM                16 myoutput.txt\n",
      "08/28/2024  11:15 AM                46 newhebrew.txt\n",
      "08/28/2024  11:15 AM                42 nums.txt\n",
      "08/28/2024  11:15 AM                 9 odds.txt\n",
      "08/28/2024  11:15 AM             6,945 outfile.txt\n",
      "08/28/2024  11:15 AM               145 randomtxt.txt\n",
      "08/28/2024  11:15 AM                 4 shalom.txt\n",
      "08/28/2024  11:15 AM                 0 shanghai.txt\n",
      "08/28/2024  11:15 AM             1,676 shoe-data.txt\n",
      "08/28/2024  11:15 AM               165 wcfile.txt\n",
      "08/28/2024  11:15 AM         2,493,109 words.txt\n",
      "              19 File(s)      2,541,687 bytes\n",
      "               0 Dir(s)  42,019,385,344 bytes free\n"
     ]
    }
   ],
   "source": [
    "%ls -l *.txt"
   ]
  },
  {
   "cell_type": "code",
   "execution_count": 29,
   "metadata": {},
   "outputs": [],
   "source": [
    "f.flush()"
   ]
  },
  {
   "cell_type": "code",
   "execution_count": 30,
   "metadata": {},
   "outputs": [
    {
     "name": "stdout",
     "output_type": "stream",
     "text": [
      " hello out there! hello out there!\n",
      " I am very happy today\n",
      " One last line!\n",
      " hello out there!\n",
      " I am very happy today\n",
      "One last line!\n",
      " hello out there!\n",
      " I am very happy today\n",
      "One last line! try 2\n"
     ]
    }
   ],
   "source": [
    "!type mynewfile.txt"
   ]
  },
  {
   "cell_type": "code",
   "execution_count": 19,
   "metadata": {},
   "outputs": [
    {
     "name": "stdout",
     "output_type": "stream",
     "text": [
      " hello out there! hello out there!\n",
      " I am very happy today\n",
      " One last line!\n",
      " hello out there!\n",
      " I am very happy today\n",
      "One last line!\n"
     ]
    }
   ],
   "source": [
    "!type mynewfile.txt"
   ]
  },
  {
   "cell_type": "code",
   "execution_count": 31,
   "metadata": {},
   "outputs": [],
   "source": [
    "f.close() "
   ]
  },
  {
   "cell_type": "code",
   "execution_count": 32,
   "metadata": {},
   "outputs": [
    {
     "name": "stdout",
     "output_type": "stream",
     "text": [
      " hello out there! hello out there!\n",
      " I am very happy today\n",
      " One last line!\n",
      " hello out there!\n",
      " I am very happy today\n",
      "One last line!\n",
      " hello out there!\n",
      " I am very happy today\n",
      "One last line! try 2\n"
     ]
    }
   ],
   "source": [
    "!type mynewfile.txt "
   ]
  },
  {
   "cell_type": "code",
   "execution_count": null,
   "metadata": {},
   "outputs": [],
   "source": [
    "# wonder why my file have multiple line written in it "
   ]
  },
  {
   "cell_type": "code",
   "execution_count": 33,
   "metadata": {},
   "outputs": [],
   "source": [
    "with open ('mytesting.txt', 'w') as f: \n",
    "    f.write('abcd\\n')\n",
    "    f.write('cdef\\n')\n",
    "    f.write('edfg\\n')\n"
   ]
  },
  {
   "cell_type": "code",
   "execution_count": 34,
   "metadata": {},
   "outputs": [
    {
     "data": {
      "text/plain": [
       "'w'"
      ]
     },
     "execution_count": 34,
     "metadata": {},
     "output_type": "execute_result"
    }
   ],
   "source": [
    "f.mode"
   ]
  },
  {
   "cell_type": "code",
   "execution_count": 35,
   "metadata": {},
   "outputs": [
    {
     "data": {
      "text/plain": [
       "'mytesting.txt'"
      ]
     },
     "execution_count": 35,
     "metadata": {},
     "output_type": "execute_result"
    }
   ],
   "source": [
    "f.name"
   ]
  },
  {
   "cell_type": "code",
   "execution_count": 36,
   "metadata": {},
   "outputs": [
    {
     "data": {
      "text/plain": [
       "True"
      ]
     },
     "execution_count": 36,
     "metadata": {},
     "output_type": "execute_result"
    }
   ],
   "source": [
    "f.closed"
   ]
  },
  {
   "cell_type": "code",
   "execution_count": 37,
   "metadata": {},
   "outputs": [
    {
     "name": "stdout",
     "output_type": "stream",
     "text": [
      "abcd\n",
      "cdef\n",
      "edfg\n"
     ]
    }
   ],
   "source": [
    "!type mytesting.txt"
   ]
  },
  {
   "cell_type": "markdown",
   "metadata": {},
   "source": [
    "#### appending with 'a'"
   ]
  },
  {
   "cell_type": "code",
   "execution_count": 38,
   "metadata": {},
   "outputs": [],
   "source": [
    "with open('mylog.txt', 'a') as f: \n",
    "    f.write('first log\\n')\n",
    "    f.write('second log\\n')\n",
    "    f.write('third log\\n')"
   ]
  },
  {
   "cell_type": "code",
   "execution_count": 39,
   "metadata": {},
   "outputs": [
    {
     "name": "stdout",
     "output_type": "stream",
     "text": [
      "first log\n",
      "second log\n",
      "third log\n",
      "fourth log\n",
      "fifth log\n",
      "sixth log\n",
      "another line!first log\n",
      "second log\n",
      "third log\n"
     ]
    }
   ],
   "source": [
    "!type mylog.txt"
   ]
  },
  {
   "cell_type": "code",
   "execution_count": 40,
   "metadata": {},
   "outputs": [],
   "source": [
    "with open('mylog.txt', 'a') as f: \n",
    "    f.write('1 log\\n')\n",
    "    f.write('2 log\\n')\n",
    "    f.write('3 log\\n')"
   ]
  },
  {
   "cell_type": "code",
   "execution_count": 41,
   "metadata": {},
   "outputs": [
    {
     "name": "stdout",
     "output_type": "stream",
     "text": [
      "first log\n",
      "second log\n",
      "third log\n",
      "fourth log\n",
      "fifth log\n",
      "sixth log\n",
      "another line!first log\n",
      "second log\n",
      "third log\n",
      "1 log\n",
      "2 log\n",
      "3 log\n"
     ]
    }
   ],
   "source": [
    "!type mylog.txt"
   ]
  },
  {
   "cell_type": "markdown",
   "metadata": {},
   "source": [
    "#### line-buffered output "
   ]
  },
  {
   "cell_type": "code",
   "execution_count": 42,
   "metadata": {},
   "outputs": [],
   "source": [
    "with open('mylog.txt', 'a', buffering = 1) as f: \n",
    "    f.write('1 log\\n')\n",
    "    f.write('2 log\\n')\n",
    "    f.write('2 log')\n",
    "    f.write('3 log\\n')"
   ]
  },
  {
   "cell_type": "code",
   "execution_count": 43,
   "metadata": {},
   "outputs": [
    {
     "name": "stdout",
     "output_type": "stream",
     "text": [
      "first log\n",
      "second log\n",
      "third log\n",
      "fourth log\n",
      "fifth log\n",
      "sixth log\n",
      "another line!first log\n",
      "second log\n",
      "third log\n",
      "1 log\n",
      "2 log\n",
      "3 log\n",
      "1 log\n",
      "2 log\n",
      "2 log3 log\n"
     ]
    }
   ],
   "source": [
    "!type mylog.txt"
   ]
  },
  {
   "cell_type": "code",
   "execution_count": 44,
   "metadata": {},
   "outputs": [],
   "source": [
    "with open('mylog.txt', 'a') as f: \n",
    "    f.write('4 log')"
   ]
  },
  {
   "cell_type": "code",
   "execution_count": 45,
   "metadata": {},
   "outputs": [
    {
     "name": "stdout",
     "output_type": "stream",
     "text": [
      "first log\n",
      "second log\n",
      "third log\n",
      "fourth log\n",
      "fifth log\n",
      "sixth log\n",
      "another line!first log\n",
      "second log\n",
      "third log\n",
      "1 log\n",
      "2 log\n",
      "3 log\n",
      "1 log\n",
      "2 log\n",
      "2 log3 log\n",
      "4 log\n"
     ]
    }
   ],
   "source": [
    "!type mylog.txt"
   ]
  },
  {
   "cell_type": "code",
   "execution_count": 46,
   "metadata": {},
   "outputs": [],
   "source": [
    "with open('mylog.txt', 'a') as f: \n",
    "    f.write('5')"
   ]
  },
  {
   "cell_type": "code",
   "execution_count": 47,
   "metadata": {},
   "outputs": [
    {
     "name": "stdout",
     "output_type": "stream",
     "text": [
      "first log\n",
      "second log\n",
      "third log\n",
      "fourth log\n",
      "fifth log\n",
      "sixth log\n",
      "another line!first log\n",
      "second log\n",
      "third log\n",
      "1 log\n",
      "2 log\n",
      "3 log\n",
      "1 log\n",
      "2 log\n",
      "2 log3 log\n",
      "4 log5\n"
     ]
    }
   ],
   "source": [
    "!type mylog.txt"
   ]
  },
  {
   "cell_type": "markdown",
   "metadata": {},
   "source": [
    "#### print and sys.stdout "
   ]
  },
  {
   "cell_type": "code",
   "execution_count": 50,
   "metadata": {},
   "outputs": [],
   "source": [
    "with open('mylog.txt', 'a') as f: \n",
    "    print ('testing using print to write\\n', file=f)"
   ]
  },
  {
   "cell_type": "code",
   "execution_count": 51,
   "metadata": {},
   "outputs": [
    {
     "name": "stdout",
     "output_type": "stream",
     "text": [
      "first log\n",
      "second log\n",
      "third log\n",
      "fourth log\n",
      "fifth log\n",
      "sixth log\n",
      "another line!first log\n",
      "second log\n",
      "third log\n",
      "1 log\n",
      "2 log\n",
      "3 log\n",
      "1 log\n",
      "2 log\n",
      "2 log3 log\n",
      "4 log5testing using print to write\n",
      "testing using print to write\n",
      "\n"
     ]
    }
   ],
   "source": [
    "!type mylog.txt"
   ]
  },
  {
   "cell_type": "markdown",
   "metadata": {},
   "source": [
    "#### sys.stderr and redefining sys.stdout "
   ]
  },
  {
   "cell_type": "code",
   "execution_count": null,
   "metadata": {},
   "outputs": [],
   "source": [
    "# using sys.stderr a way to output warning message out to users? \n",
    "# assign sys.stdout to a variable  \n",
    "# then assign sys.stdout to a writing mode file thus everytime you type 'print', the content will auto input into the file instead of printing out as an output "
   ]
  },
  {
   "cell_type": "markdown",
   "metadata": {},
   "source": [
    "#### 'with' and multiple files \n",
    "\n"
   ]
  },
  {
   "cell_type": "code",
   "execution_count": 55,
   "metadata": {},
   "outputs": [],
   "source": [
    "with open ('mynewfile.txt') as infile, open ('outfile.txt', 'w') as outfile :\n",
    "    for one_line in infile:\n",
    "        print (one_line.rstrip()[::-1] + '\\n', file = outfile) \n"
   ]
  },
  {
   "cell_type": "code",
   "execution_count": 56,
   "metadata": {},
   "outputs": [
    {
     "name": "stdout",
     "output_type": "stream",
     "text": [
      "!ereht tuo olleh !ereht tuo olleh \n",
      "\n",
      "yadot yppah yrev ma I \n",
      "\n",
      "!enil tsal enO \n",
      "\n",
      "!ereht tuo olleh \n",
      "\n",
      "yadot yppah yrev ma I \n",
      "\n",
      "!enil tsal enO\n",
      "\n",
      "!ereht tuo olleh \n",
      "\n",
      "yadot yppah yrev ma I \n",
      "\n",
      "2 yrt !enil tsal enO\n",
      "\n"
     ]
    }
   ],
   "source": [
    "!type outfile.txt"
   ]
  },
  {
   "cell_type": "code",
   "execution_count": null,
   "metadata": {},
   "outputs": [],
   "source": []
  }
 ],
 "metadata": {
  "kernelspec": {
   "display_name": "Python 3",
   "language": "python",
   "name": "python3"
  },
  "language_info": {
   "codemirror_mode": {
    "name": "ipython",
    "version": 3
   },
   "file_extension": ".py",
   "mimetype": "text/x-python",
   "name": "python",
   "nbconvert_exporter": "python",
   "pygments_lexer": "ipython3",
   "version": "3.11.9"
  }
 },
 "nbformat": 4,
 "nbformat_minor": 2
}
